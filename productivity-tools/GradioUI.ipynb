{
 "cells": [
  {
   "cell_type": "code",
   "execution_count": 19,
   "id": "81222a8e-f7e7-470d-b4e6-bd61094b11fb",
   "metadata": {},
   "outputs": [],
   "source": [
    "import random\n",
    "\n",
    "import gradio as gr\n",
    "import ollama\n",
    "import requests"
   ]
  },
  {
   "cell_type": "code",
   "execution_count": 36,
   "id": "e18a77a3-5903-4776-a5e7-bdd30941b400",
   "metadata": {},
   "outputs": [
    {
     "name": "stdout",
     "output_type": "stream",
     "text": [
      "* Running on local URL:  http://127.0.0.1:7863\n",
      "\n",
      "To create a public link, set `share=True` in `launch()`.\n"
     ]
    },
    {
     "data": {
      "text/html": [
       "<div><iframe src=\"http://127.0.0.1:7863/\" width=\"100%\" height=\"500\" allow=\"autoplay; camera; microphone; clipboard-read; clipboard-write;\" frameborder=\"0\" allowfullscreen></iframe></div>"
      ],
      "text/plain": [
       "<IPython.core.display.HTML object>"
      ]
     },
     "metadata": {},
     "output_type": "display_data"
    },
    {
     "data": {
      "text/plain": []
     },
     "execution_count": 36,
     "metadata": {},
     "output_type": "execute_result"
    }
   ],
   "source": [
    "MAX_HISTORY = 10\n",
    "\n",
    "MODEL = \"llama3:8b\"\n",
    "SYSTEM_PROMPT = (\n",
    "    \"You are a knowledgeable and helpful AI assistant. Provide accurate, concise, and \"\n",
    "    \"context-aware responses tailored to the user's needs. Maintain a professional, neutral tone, \"\n",
    "    \"ask clarifying questions if needed, and avoid speculation or harmful content. \"\n",
    "    \"Prioritize factual accuracy, explain concepts when necessary, and adapt to the user's \"\n",
    "    \"familiarity with the topic. Return responses in the markdown format.\"\n",
    ")\n",
    "conversation = [{\"role\": \"system\", \"content\": SYSTEM_PROMPT}]\n",
    "\n",
    "\n",
    "def llm(MODEL, input_text):\n",
    "    # Initialize the conversation if it's the first message\n",
    "    global conversation\n",
    "\n",
    "    # Append user input to the conversation\n",
    "    conversation.append({\"role\": \"user\", \"content\": input_text})\n",
    "\n",
    "    # Get the response from the LLM\n",
    "    stream_out = ollama.chat(model=MODEL, messages=conversation, stream=True)\n",
    "\n",
    "    # Collect the assistant's response\n",
    "    output = \"\"\n",
    "    for stream in stream_out:\n",
    "        output += stream[\"message\"][\"content\"]\n",
    "        yield output\n",
    "\n",
    "    # Append the assistant's response to the conversation\n",
    "    conversation.append({\"role\": \"assistant\", \"content\": output})\n",
    "    # Trim the message history if it exceeds the limit\n",
    "    if len(conversation) > MAX_HISTORY:\n",
    "        messages = conversation[-MAX_HISTORY:]\n",
    "\n",
    "\n",
    "model_list = requests.get(\"http://localhost:11434/api/tags\").json()[\"models\"]\n",
    "# Define the Gradio interface\n",
    "interface = gr.Interface(\n",
    "    fn=llm,\n",
    "    inputs=[\n",
    "        gr.Radio(\n",
    "            choices=[(d.get(\"name\"), d.get(\"model\")) for d in model_list],\n",
    "            value=random.choices([d.get(\"name\") for d in model_list])[0],\n",
    "            type=\"value\",\n",
    "        ),\n",
    "        gr.Textbox(label=\"Your message:\", lines=6),  # Input: User message\n",
    "    ],\n",
    "    outputs=[\n",
    "        gr.Markdown(label=\"Response:\", show_copy_button=True),  # Output: Assistant's response\n",
    "    ],\n",
    "    flagging_mode=\"never\",\n",
    "    theme=gr.Theme.from_hub(\"gstaff/sketch\"),\n",
    "    fill_width=True,\n",
    ")\n",
    "\n",
    "\n",
    "# Launch the Gradio interface\n",
    "interface.launch(share=False)  # ,server_port=7861)"
   ]
  },
  {
   "cell_type": "code",
   "execution_count": null,
   "id": "daf1cba8-c0b7-48b0-90e6-ae989f4c3a06",
   "metadata": {},
   "outputs": [],
   "source": [
    "# TODO : Multi-user friendly"
   ]
  }
 ],
 "metadata": {
  "kernelspec": {
   "display_name": "Python 3 (ipykernel)",
   "language": "python",
   "name": "python3"
  },
  "language_info": {
   "codemirror_mode": {
    "name": "ipython",
    "version": 3
   },
   "file_extension": ".py",
   "mimetype": "text/x-python",
   "name": "python",
   "nbconvert_exporter": "python",
   "pygments_lexer": "ipython3",
   "version": "3.12.2"
  }
 },
 "nbformat": 4,
 "nbformat_minor": 5
}
