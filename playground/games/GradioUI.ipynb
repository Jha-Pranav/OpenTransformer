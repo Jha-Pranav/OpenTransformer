{
 "cells": [
  {
   "cell_type": "code",
   "execution_count": 19,
   "id": "e18a77a3-5903-4776-a5e7-bdd30941b400",
   "metadata": {},
   "outputs": [
    {
     "name": "stdout",
     "output_type": "stream",
     "text": [
      "* Running on local URL:  http://127.0.0.1:7876\n",
      "* Running on public URL: https://5bbabb882f02cc23c6.gradio.live\n",
      "\n",
      "This share link expires in 72 hours. For free permanent hosting and GPU upgrades, run `gradio deploy` from the terminal in the working directory to deploy to Hugging Face Spaces (https://huggingface.co/spaces)\n"
     ]
    },
    {
     "data": {
      "text/html": [
       "<div><iframe src=\"https://5bbabb882f02cc23c6.gradio.live\" width=\"100%\" height=\"500\" allow=\"autoplay; camera; microphone; clipboard-read; clipboard-write;\" frameborder=\"0\" allowfullscreen></iframe></div>"
      ],
      "text/plain": [
       "<IPython.core.display.HTML object>"
      ]
     },
     "metadata": {},
     "output_type": "display_data"
    },
    {
     "data": {
      "text/plain": []
     },
     "execution_count": 19,
     "metadata": {},
     "output_type": "execute_result"
    }
   ],
   "source": [
    "import gradio as gr\n",
    "import ollama\n",
    "\n",
    "MAX_HISTORY = 10\n",
    "\n",
    "MODEL = \"llama3:8b\"\n",
    "SYSTEM_PROMPT = (\n",
    "    \"You are a knowledgeable and helpful AI assistant. Provide accurate, concise, and \"\n",
    "    \"context-aware responses tailored to the user's needs. Maintain a professional, neutral tone, \"\n",
    "    \"ask clarifying questions if needed, and avoid speculation or harmful content. \"\n",
    "    \"Prioritize factual accuracy, explain concepts when necessary, and adapt to the user's \"\n",
    "    \"familiarity with the topic. Return responses in the markdown format.\"\n",
    ")\n",
    "conversation = [{\"role\": \"system\", \"content\": SYSTEM_PROMPT}]\n",
    "\n",
    "\n",
    "def llm(input_text):\n",
    "    # Initialize the conversation if it's the first message\n",
    "    global conversation\n",
    "\n",
    "    # Append user input to the conversation\n",
    "    conversation.append({\"role\": \"user\", \"content\": input_text})\n",
    "\n",
    "    # Get the response from the LLM\n",
    "    stream_out = ollama.chat(model=MODEL, messages=conversation, stream=True)\n",
    "\n",
    "    # Collect the assistant's response\n",
    "    output = \"\"\n",
    "    for stream in stream_out:\n",
    "        output += stream[\"message\"][\"content\"]\n",
    "        yield output\n",
    "\n",
    "    # Append the assistant's response to the conversation\n",
    "    conversation.append({\"role\": \"assistant\", \"content\": output})\n",
    "    # Trim the message history if it exceeds the limit\n",
    "    if len(conversation) > MAX_HISTORY:\n",
    "        messages = conversation[-MAX_HISTORY:]\n",
    "\n",
    "\n",
    "# Define the Gradio interface\n",
    "interface = gr.Interface(\n",
    "    fn=llm,\n",
    "    inputs=[\n",
    "        gr.Textbox(label=\"Your message:\", lines=6),  # Input: User message\n",
    "    ],\n",
    "    outputs=[\n",
    "        gr.Markdown(label=\"Response:\"),  # Output: Assistant's response\n",
    "    ],\n",
    "    flagging_mode=\"never\",\n",
    "    theme=gr.Theme.from_hub(\"gstaff/sketch\"),\n",
    "    fill_width=True,\n",
    ")\n",
    "\n",
    "\n",
    "# Launch the Gradio interface\n",
    "interface.launch(share=True)"
   ]
  },
  {
   "cell_type": "code",
   "execution_count": null,
   "id": "daf1cba8-c0b7-48b0-90e6-ae989f4c3a06",
   "metadata": {},
   "outputs": [],
   "source": [
    "# TODO : Multi-user friendly"
   ]
  }
 ],
 "metadata": {
  "kernelspec": {
   "display_name": "llms",
   "language": "python",
   "name": "llms"
  },
  "language_info": {
   "codemirror_mode": {
    "name": "ipython",
    "version": 3
   },
   "file_extension": ".py",
   "mimetype": "text/x-python",
   "name": "python",
   "nbconvert_exporter": "python",
   "pygments_lexer": "ipython3",
   "version": "3.12.3"
  }
 },
 "nbformat": 4,
 "nbformat_minor": 5
}
