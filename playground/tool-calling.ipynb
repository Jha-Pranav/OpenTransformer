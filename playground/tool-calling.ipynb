{
 "cells": [
  {
   "cell_type": "code",
   "execution_count": 11,
   "id": "b26ea96a-7a76-40a0-b920-564724d772cb",
   "metadata": {},
   "outputs": [],
   "source": [
    "import gradio as gr\n",
    "import ollama"
   ]
  },
  {
   "cell_type": "code",
   "execution_count": 12,
   "id": "d6a2a1ed-a655-4e2c-b2e0-549a8d877ab2",
   "metadata": {},
   "outputs": [],
   "source": [
    "system_message = \"\"\"You are an AI focused on providing accurate, reliable information. Always base responses on verified facts and avoid hallucinations. Only invoke tools when the request specifically relates to the tool's functionality; otherwise, provide regular, factual responses.\n",
    "\n",
    "Key guidelines:\n",
    "\n",
    "1. Avoid hallucinations: Don’t generate unsupported or false information.\n",
    "2. Be accurate: Ensure all information is factual and up-to-date.\n",
    "3. Invoke tools only when necessary: Only use external tools or APIs when the request specifically requires them (e.g., for data retrieval, calculations, etc.). For all other queries, respond with regular information.\n",
    "4. Ask for clarification: If the user’s request is unclear, ask for more details.\n",
    "5. Maintain professionalism: Be polite, neutral, and respectful in all interactions.\n",
    "6. Warn when uncertain: If unsure about the information, clearly state uncertainty and recommend consulting an expert for critical or complex matters.\n",
    "\"\"\"\n",
    "\n",
    "MODEL = \"llama3.1:latest\""
   ]
  },
  {
   "cell_type": "code",
   "execution_count": 13,
   "id": "bfcfc374-bf96-4eb8-9d0d-615169cb87f2",
   "metadata": {},
   "outputs": [],
   "source": [
    "# response = \"\"\n",
    "# def chat(message, history):\n",
    "#     global response\n",
    "#     messages = [{\"role\": \"system\", \"content\": system_message}] + history + [{\"role\": \"user\", \"content\": message}]\n",
    "#     response = ollama.chat(model=MODEL, messages=messages)\n",
    "#     return response[\"message\"][\"content\"]\n",
    "\n",
    "# gr.ChatInterface(fn=chat, type=\"messages\"   ,theme=gr.Theme.from_hub(\"gstaff/sketch\"),fill_width=True).launch()"
   ]
  },
  {
   "cell_type": "code",
   "execution_count": 14,
   "id": "49e80225-eded-4177-bd3d-68543baf269e",
   "metadata": {},
   "outputs": [],
   "source": [
    "def do_math(a: int, op: str, b: int) -> str:\n",
    "    \"\"\"\n",
    "    Do basic math operations\n",
    "    a: The first operand\n",
    "    op: The operation to perform (one of '+', '-', '*', '/')\n",
    "    b: The second operand\n",
    "    \"\"\"\n",
    "    res = \"Nan\"\n",
    "    if op == \"+\":\n",
    "        res = str(int(a) + int(b))\n",
    "    elif op == \"-\":\n",
    "        res = str(int(a) - int(b))\n",
    "    elif op == \"*\":\n",
    "        res = str(int(a) * int(b))\n",
    "    elif op == \"/\":\n",
    "        if int(b) != 0:\n",
    "            res = str(int(a) / int(b))\n",
    "    return res"
   ]
  },
  {
   "cell_type": "code",
   "execution_count": 15,
   "id": "be61e361-266a-474d-bd29-d6d5c9bdea2f",
   "metadata": {},
   "outputs": [],
   "source": [
    "available_func = {\n",
    "    \"type\": \"function\",\n",
    "    \"function\": {\n",
    "        \"name\": \"do_math\",\n",
    "        \"description\": \"Do basic math operations\",\n",
    "        \"parameters\": {\n",
    "            \"type\": \"object\",\n",
    "            \"properties\": {\n",
    "                \"a\": {\"type\": \"int\", \"description\": \"The first operand\"},\n",
    "                \"op\": {\n",
    "                    \"type\": \"str\",\n",
    "                    \"description\": \"The operation to perform (one of '+', '-', '*', '/')\",\n",
    "                },\n",
    "                \"b\": {\"type\": \"int\", \"description\": \"The second operand\"},\n",
    "            },\n",
    "            \"required\": [\"a\", \"op\", \"b\"],\n",
    "        },\n",
    "    },\n",
    "}"
   ]
  },
  {
   "cell_type": "code",
   "execution_count": 16,
   "id": "774d55ca-a732-4c68-ae2b-eab284746bd6",
   "metadata": {},
   "outputs": [],
   "source": [
    "# And this is included in a list of tools:\n",
    "tools = [{\"type\": \"function\", \"function\": available_func}]"
   ]
  },
  {
   "cell_type": "code",
   "execution_count": 17,
   "id": "7ac22422-e4f7-43c0-b443-b5610cf6b973",
   "metadata": {},
   "outputs": [
    {
     "name": "stdout",
     "output_type": "stream",
     "text": [
      "* Running on local URL:  http://127.0.0.1:7862\n",
      "\n",
      "To create a public link, set `share=True` in `launch()`.\n"
     ]
    },
    {
     "data": {
      "text/html": [
       "<div><iframe src=\"http://127.0.0.1:7862/\" width=\"100%\" height=\"500\" allow=\"autoplay; camera; microphone; clipboard-read; clipboard-write;\" frameborder=\"0\" allowfullscreen></iframe></div>"
      ],
      "text/plain": [
       "<IPython.core.display.HTML object>"
      ]
     },
     "metadata": {},
     "output_type": "display_data"
    },
    {
     "data": {
      "text/plain": []
     },
     "execution_count": 17,
     "metadata": {},
     "output_type": "execute_result"
    }
   ],
   "source": [
    "response = \"\"\n",
    "\n",
    "\n",
    "def chat(message, history):\n",
    "    global response\n",
    "    messages = (\n",
    "        [{\"role\": \"system\", \"content\": system_message}]\n",
    "        + history\n",
    "        + [{\"role\": \"user\", \"content\": message}]\n",
    "    )\n",
    "    response = ollama.chat(model=MODEL, messages=messages, tools=tools)\n",
    "    return response[\"message\"][\"content\"]\n",
    "\n",
    "\n",
    "gr.ChatInterface(\n",
    "    fn=chat, type=\"messages\", theme=gr.Theme.from_hub(\"gstaff/sketch\"), fill_width=True\n",
    ").launch()"
   ]
  },
  {
   "cell_type": "code",
   "execution_count": 9,
   "id": "c9b1903f-2b99-4ad0-aeb2-80eaa1119384",
   "metadata": {},
   "outputs": [
    {
     "data": {
      "text/plain": [
       "{'model': 'llama3.1:latest',\n",
       " 'created_at': '2024-12-02T14:19:39.981383769Z',\n",
       " 'message': {'role': 'assistant',\n",
       "  'content': '',\n",
       "  'tool_calls': [{'function': {'name': 'hello', 'arguments': {}}}]},\n",
       " 'done_reason': 'stop',\n",
       " 'done': True,\n",
       " 'total_duration': 4104158511,\n",
       " 'load_duration': 3741140492,\n",
       " 'prompt_eval_count': 136,\n",
       " 'prompt_eval_duration': 52639000,\n",
       " 'eval_count': 18,\n",
       " 'eval_duration': 266883000}"
      ]
     },
     "execution_count": 9,
     "metadata": {},
     "output_type": "execute_result"
    }
   ],
   "source": [
    "response"
   ]
  },
  {
   "cell_type": "code",
   "execution_count": 47,
   "id": "d7549b76-457a-4592-8748-150948bcc189",
   "metadata": {},
   "outputs": [],
   "source": [
    "####"
   ]
  },
  {
   "cell_type": "code",
   "execution_count": null,
   "id": "a8419813-0532-4437-966b-08f988d3854e",
   "metadata": {},
   "outputs": [],
   "source": []
  }
 ],
 "metadata": {
  "kernelspec": {
   "display_name": "llms",
   "language": "python",
   "name": "llms"
  },
  "language_info": {
   "codemirror_mode": {
    "name": "ipython",
    "version": 3
   },
   "file_extension": ".py",
   "mimetype": "text/x-python",
   "name": "python",
   "nbconvert_exporter": "python",
   "pygments_lexer": "ipython3",
   "version": "3.12.3"
  }
 },
 "nbformat": 4,
 "nbformat_minor": 5
}
