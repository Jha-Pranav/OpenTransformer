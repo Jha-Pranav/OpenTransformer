{
 "cells": [
  {
   "cell_type": "code",
   "execution_count": 1,
   "id": "aa007655-48f5-4f7d-9d94-03bdc4777756",
   "metadata": {},
   "outputs": [],
   "source": [
    "import lightning.pytorch as pl\n",
    "import torch\n",
    "import torch.nn as nn\n",
    "from bs4 import BeautifulSoup\n",
    "from omegaconf import OmegaConf\n",
    "from src.cells.utils.compile_utils import torch_compile\n",
    "from torch.nn.utils.rnn import pad_sequence\n",
    "from torch.optim.lr_scheduler import CosineAnnealingLR\n",
    "from torch.utils.data import DataLoader\n",
    "\n",
    "torch.set_float32_matmul_precision(\"medium\")\n",
    "torch._dynamo.config.suppress_errors = True\n",
    "# Silence all warnings\n",
    "import warnings\n",
    "\n",
    "import torch.nn.functional as F\n",
    "from lightning.pytorch.callbacks import (\n",
    "    EarlyStopping,\n",
    "    GradientAccumulationScheduler,\n",
    "    LearningRateFinder,\n",
    "    LearningRateMonitor,\n",
    "    ModelCheckpoint,\n",
    "    StochasticWeightAveraging,\n",
    ")\n",
    "from lightning.pytorch.loggers import TensorBoardLogger, WandbLogger\n",
    "\n",
    "warnings.filterwarnings(\"ignore\")"
   ]
  },
  {
   "cell_type": "code",
   "execution_count": 2,
   "id": "aaae4244-6d3f-497e-a58e-821e6ae121a7",
   "metadata": {},
   "outputs": [],
   "source": [
    "class IMDBDataLoader(pl.LightningDataModule):\n",
    "    def __init__(self, dataset_path, tokenizer_path, batch_size, num_workers, max_len):\n",
    "        super().__init__()\n",
    "        self.dataset_path = dataset_path\n",
    "\n",
    "        self.batch_size = batch_size\n",
    "        self.num_workers = num_workers\n",
    "        self.max_len = max_len\n",
    "\n",
    "        self.tokenizer = self._load_tokenizer(tokenizer_path)\n",
    "\n",
    "    def prepare_data(self):\n",
    "        from datasets import load_dataset\n",
    "\n",
    "        self.ds = load_dataset(self.dataset_path)\n",
    "        # self.ds = self.ds.map(lambda example : {'text':self._remove_html_tags(example['text'])},num_proc=self.num_workers,)\n",
    "        self.label_map = {0: \"neg\", 1: \"pos\"}\n",
    "\n",
    "    @staticmethod\n",
    "    def _load_tokenizer(tokenizer_path):\n",
    "        from src.tokenize.tokenizer import Tokenizer\n",
    "\n",
    "        return Tokenizer(tokenizer_path)\n",
    "\n",
    "    @staticmethod\n",
    "    def _remove_html_tags(text):\n",
    "        soup = BeautifulSoup(text, \"html.parser\")\n",
    "        # Get the text without HTML tags\n",
    "        clean_text = soup.get_text()\n",
    "        return clean_text\n",
    "\n",
    "    def _collate_fn(self, batch):\n",
    "        x, y = [self._remove_html_tags(en[\"text\"]) for en in batch], [en[\"label\"] for en in batch]\n",
    "        x = [torch.tensor(tokens[: self.max_len]) for tokens in self.tokenizer.encode_as_ids(x)]\n",
    "        x = pad_sequence(\n",
    "            x,\n",
    "            batch_first=True,\n",
    "            padding_value=self.tokenizer.eos_id(),\n",
    "        )\n",
    "        y = torch.tensor(y)\n",
    "        return x, y\n",
    "\n",
    "    def setup(self, stage):\n",
    "\n",
    "        self.train_data = self.ds[\"train\"]\n",
    "        self.val_data = self.ds[\"test\"]\n",
    "        self.test_data = self.ds[\"unsupervised\"]\n",
    "\n",
    "    def train_dataloader(self):\n",
    "        return DataLoader(\n",
    "            self.train_data,\n",
    "            batch_size=self.batch_size,\n",
    "            shuffle=True,\n",
    "            num_workers=self.num_workers,\n",
    "            pin_memory=True,\n",
    "            collate_fn=self._collate_fn,\n",
    "        )\n",
    "\n",
    "    def val_dataloader(self):\n",
    "        return DataLoader(\n",
    "            self.val_data,\n",
    "            batch_size=self.batch_size,\n",
    "            shuffle=True,\n",
    "            num_workers=self.num_workers,\n",
    "            pin_memory=True,\n",
    "            collate_fn=self._collate_fn,\n",
    "        )\n",
    "\n",
    "    def test_dataloader(self):\n",
    "        return DataLoader(\n",
    "            self.val_data,\n",
    "            batch_size=self.batch_size,\n",
    "            shuffle=True,\n",
    "            num_workers=self.num_workers,\n",
    "            pin_memory=True,\n",
    "            collate_fn=self._collate_fn,\n",
    "        )"
   ]
  },
  {
   "cell_type": "code",
   "execution_count": 3,
   "id": "51885fe5-99df-411f-98ad-2183453f08f5",
   "metadata": {},
   "outputs": [],
   "source": [
    "ds = IMDBDataLoader(\n",
    "    \"stanfordnlp/imdb\",\n",
    "    \"/home/pranav-pc/projects/OpenTransformer/multiformer/tokenizer_checkpoints/\",\n",
    "    16,\n",
    "    25,\n",
    "    1024,\n",
    ")"
   ]
  },
  {
   "cell_type": "code",
   "execution_count": 4,
   "id": "713a0454-7028-47ec-b7d2-0963b6eb5e82",
   "metadata": {},
   "outputs": [],
   "source": [
    "# Sanity\n",
    "# ds.prepare_data()\n",
    "# ds.setup('train')\n",
    "# for idx,label in ds.train_dataloader():\n",
    "#     print(idx.shape,label)\n",
    "#     break"
   ]
  },
  {
   "cell_type": "code",
   "execution_count": 5,
   "id": "55d3a5bb-9f5e-46cf-a7a0-fbdd479f2c54",
   "metadata": {},
   "outputs": [],
   "source": [
    "import torchmetrics"
   ]
  },
  {
   "cell_type": "code",
   "execution_count": 6,
   "id": "5998b56c-c688-40f8-98d0-748ae563465b",
   "metadata": {},
   "outputs": [],
   "source": [
    "class BLMClassifierModel(pl.LightningModule):\n",
    "    def __init__(self, model, learning_rate=5e-5, num_classes=2, embedding_dim=768):\n",
    "        super().__init__()\n",
    "        self.learning_rate = learning_rate\n",
    "        self.model = model\n",
    "\n",
    "        self.val_acc = torchmetrics.Accuracy(task=\"multiclass\", num_classes=2)\n",
    "        self.train_acc = torchmetrics.Accuracy(task=\"multiclass\", num_classes=2)\n",
    "\n",
    "        self.val_f1_sccore = torchmetrics.F1Score(task=\"multiclass\", num_classes=2)\n",
    "        self.train_f1_sccore = torchmetrics.F1Score(task=\"multiclass\", num_classes=2)\n",
    "\n",
    "        self.classifer = nn.Sequential(\n",
    "            nn.Linear(embedding_dim, embedding_dim),\n",
    "            nn.ReLU(),\n",
    "            nn.Dropout(0.1),\n",
    "            nn.Linear(embedding_dim, num_classes),\n",
    "        )\n",
    "\n",
    "    def forward(self, input_ids):\n",
    "        return self.model(input_ids)\n",
    "\n",
    "    def _common_step(self, batch):\n",
    "        x, label = batch\n",
    "        hidden_state = self.forward(x)\n",
    "        logits = self.classifer(hidden_state[:, -1, :])\n",
    "\n",
    "        return logits\n",
    "\n",
    "    def training_step(self, batch, batch_idx):\n",
    "        x, targets = batch\n",
    "        logits = self._common_step(batch)\n",
    "        loss = F.cross_entropy(logits, targets)\n",
    "        preds = torch.argmax(logits, dim=1)\n",
    "        val_acc = self.train_acc(preds, targets)\n",
    "        val_f1score = self.train_f1_sccore(preds, targets)\n",
    "        self.log_dict(\n",
    "            {\"train_loss\": loss, \"train_acc\": val_acc, \"train_f1score\": val_f1score},\n",
    "            prog_bar=False,\n",
    "        )\n",
    "        return loss\n",
    "\n",
    "    def validation_step(self, batch, batch_idx):\n",
    "        x, targets = batch\n",
    "        logits = self._common_step(batch)\n",
    "\n",
    "        loss = F.cross_entropy(logits, targets)\n",
    "        preds = torch.argmax(logits, dim=1)\n",
    "        val_acc = self.val_acc(preds, targets)\n",
    "        val_f1score = self.val_f1_sccore(preds, targets)\n",
    "        self.log_dict(\n",
    "            {\"val_loss\": loss, \"val_acc\": val_acc, \"val_f1score\": val_f1score}, prog_bar=True\n",
    "        )\n",
    "        return loss\n",
    "\n",
    "    def predict_step(self, idx):\n",
    "        batch = idx, None\n",
    "        logits = self._common_step(batch)\n",
    "        preds = torch.argmax(logits, dim=1)\n",
    "        return preds\n",
    "\n",
    "    def configure_optimizers(self):\n",
    "        param_dict = {pn: p for pn, p in self.named_parameters()}\n",
    "        param_dict = {pn: p for pn, p in param_dict.items() if p.requires_grad}\n",
    "        decay_params = [p for n, p in param_dict.items() if p.dim() >= 2]\n",
    "        nodecay_params = [p for n, p in param_dict.items() if p.dim() < 2]\n",
    "        optim_groups = [\n",
    "            {\"params\": decay_params, \"weight_decay\": 1e-2},\n",
    "            {\"params\": nodecay_params, \"weight_decay\": 0.0},\n",
    "        ]\n",
    "        lr_scheduler_init = {\"T_max\": 1e04, \"eta_min\": 1e-04}\n",
    "        optimizer = torch.optim.AdamW(\n",
    "            optim_groups, lr=self.learning_rate, betas=(0.9, 0.95), fused=False\n",
    "        )\n",
    "        scheduler = {\n",
    "            \"scheduler\": CosineAnnealingLR(optimizer, **lr_scheduler_init),\n",
    "            \"interval\": \"step\",\n",
    "            \"frequency\": 10,\n",
    "        }\n",
    "        return [optimizer], [scheduler]"
   ]
  },
  {
   "cell_type": "code",
   "execution_count": 7,
   "id": "09000264-cdd9-4eab-adb5-b89c68530689",
   "metadata": {},
   "outputs": [
    {
     "name": "stderr",
     "output_type": "stream",
     "text": [
      "Seed set to 123\n",
      "Seed set to 123\n",
      "Using bfloat16 Automatic Mixed Precision (AMP)\n",
      "GPU available: True (cuda), used: True\n",
      "TPU available: False, using: 0 TPU cores\n",
      "HPU available: False, using: 0 HPUs\n",
      "LOCAL_RANK: 0 - CUDA_VISIBLE_DEVICES: [0]\n",
      "\n",
      "  | Name            | Type               | Params | Mode \n",
      "---------------------------------------------------------------\n",
      "0 | model           | Transformer        | 43.2 M | train\n",
      "1 | val_acc         | MulticlassAccuracy | 0      | train\n",
      "2 | train_acc       | MulticlassAccuracy | 0      | train\n",
      "3 | val_f1_sccore   | MulticlassF1Score  | 0      | train\n",
      "4 | train_f1_sccore | MulticlassF1Score  | 0      | train\n",
      "5 | classifer       | Sequential         | 592 K  | train\n",
      "---------------------------------------------------------------\n",
      "592 K     Trainable params\n",
      "43.2 M    Non-trainable params\n",
      "43.8 M    Total params\n",
      "175.227   Total estimated model params size (MB)\n"
     ]
    },
    {
     "data": {
      "application/vnd.jupyter.widget-view+json": {
       "model_id": "",
       "version_major": 2,
       "version_minor": 0
      },
      "text/plain": [
       "Sanity Checking: |                                        | 0/? [00:00<?, ?it/s]"
      ]
     },
     "metadata": {},
     "output_type": "display_data"
    },
    {
     "data": {
      "application/vnd.jupyter.widget-view+json": {
       "model_id": "5dfbd6238cf94f92aa1d3768dfd08d68",
       "version_major": 2,
       "version_minor": 0
      },
      "text/plain": [
       "Training: |                                               | 0/? [00:00<?, ?it/s]"
      ]
     },
     "metadata": {},
     "output_type": "display_data"
    },
    {
     "data": {
      "application/vnd.jupyter.widget-view+json": {
       "model_id": "",
       "version_major": 2,
       "version_minor": 0
      },
      "text/plain": [
       "Validation: |                                             | 0/? [00:00<?, ?it/s]"
      ]
     },
     "metadata": {},
     "output_type": "display_data"
    },
    {
     "name": "stderr",
     "output_type": "stream",
     "text": [
      "Metric val_f1score improved. New best score: 0.607\n"
     ]
    },
    {
     "data": {
      "application/vnd.jupyter.widget-view+json": {
       "model_id": "",
       "version_major": 2,
       "version_minor": 0
      },
      "text/plain": [
       "Validation: |                                             | 0/? [00:00<?, ?it/s]"
      ]
     },
     "metadata": {},
     "output_type": "display_data"
    },
    {
     "data": {
      "application/vnd.jupyter.widget-view+json": {
       "model_id": "",
       "version_major": 2,
       "version_minor": 0
      },
      "text/plain": [
       "Validation: |                                             | 0/? [00:00<?, ?it/s]"
      ]
     },
     "metadata": {},
     "output_type": "display_data"
    },
    {
     "data": {
      "application/vnd.jupyter.widget-view+json": {
       "model_id": "",
       "version_major": 2,
       "version_minor": 0
      },
      "text/plain": [
       "Validation: |                                             | 0/? [00:00<?, ?it/s]"
      ]
     },
     "metadata": {},
     "output_type": "display_data"
    },
    {
     "data": {
      "application/vnd.jupyter.widget-view+json": {
       "model_id": "",
       "version_major": 2,
       "version_minor": 0
      },
      "text/plain": [
       "Validation: |                                             | 0/? [00:00<?, ?it/s]"
      ]
     },
     "metadata": {},
     "output_type": "display_data"
    },
    {
     "data": {
      "application/vnd.jupyter.widget-view+json": {
       "model_id": "",
       "version_major": 2,
       "version_minor": 0
      },
      "text/plain": [
       "Validation: |                                             | 0/? [00:00<?, ?it/s]"
      ]
     },
     "metadata": {},
     "output_type": "display_data"
    },
    {
     "data": {
      "application/vnd.jupyter.widget-view+json": {
       "model_id": "",
       "version_major": 2,
       "version_minor": 0
      },
      "text/plain": [
       "Validation: |                                             | 0/? [00:00<?, ?it/s]"
      ]
     },
     "metadata": {},
     "output_type": "display_data"
    },
    {
     "data": {
      "application/vnd.jupyter.widget-view+json": {
       "model_id": "",
       "version_major": 2,
       "version_minor": 0
      },
      "text/plain": [
       "Validation: |                                             | 0/? [00:00<?, ?it/s]"
      ]
     },
     "metadata": {},
     "output_type": "display_data"
    },
    {
     "data": {
      "application/vnd.jupyter.widget-view+json": {
       "model_id": "",
       "version_major": 2,
       "version_minor": 0
      },
      "text/plain": [
       "Validation: |                                             | 0/? [00:00<?, ?it/s]"
      ]
     },
     "metadata": {},
     "output_type": "display_data"
    },
    {
     "data": {
      "application/vnd.jupyter.widget-view+json": {
       "model_id": "",
       "version_major": 2,
       "version_minor": 0
      },
      "text/plain": [
       "Validation: |                                             | 0/? [00:00<?, ?it/s]"
      ]
     },
     "metadata": {},
     "output_type": "display_data"
    },
    {
     "data": {
      "application/vnd.jupyter.widget-view+json": {
       "model_id": "",
       "version_major": 2,
       "version_minor": 0
      },
      "text/plain": [
       "Validation: |                                             | 0/? [00:00<?, ?it/s]"
      ]
     },
     "metadata": {},
     "output_type": "display_data"
    },
    {
     "name": "stderr",
     "output_type": "stream",
     "text": [
      "Monitored metric val_f1score did not improve in the last 10 records. Best score: 0.607. Signaling Trainer to stop.\n"
     ]
    }
   ],
   "source": [
    "def main(args):\n",
    "\n",
    "    ds = IMDBDataLoader(\n",
    "        args.files.data_path,\n",
    "        args.files.tokenizer_path,\n",
    "        args.trainer_params.batch_size,\n",
    "        args.trainer_params.num_workers,\n",
    "        1024,\n",
    "    )\n",
    "\n",
    "    from src.models.blm.pl_training import Transformer\n",
    "\n",
    "    MODEL_CHECKPOINT = args.paths.base_model_checkpoint\n",
    "    base_model = Transformer.load_from_checkpoint(MODEL_CHECKPOINT)\n",
    "\n",
    "    for param in base_model.parameters():\n",
    "        param.requires_grad = False\n",
    "\n",
    "    model = BLMClassifierModel(base_model)\n",
    "    if args.trainer_params.resume_training:\n",
    "        model.load_state_dict(torch.load(args.paths.resume_from_checkpoint)[\"state_dict\"])\n",
    "    # model = torch_compile(model, dynamic=True, TORCH_COMPILE_BACKEND=\"inductor\")\n",
    "    accumulator = GradientAccumulationScheduler(\n",
    "        scheduling=args.trainer_params.gradient_accumulation_scheduler\n",
    "    )\n",
    "\n",
    "    logger = TensorBoardLogger(save_dir=\"./lightning-log-ft-imdb/\", name=\"IMDB\", version=0.3)\n",
    "\n",
    "    if args.trainer_params.wandb_enabled:\n",
    "        import wandb\n",
    "\n",
    "        print(\"W&B\")\n",
    "        wandb.login()\n",
    "        logger = WandbLogger(**args.trainer_params.wandb)\n",
    "\n",
    "    checkpoint_callback = ModelCheckpoint(**args.trainer_params.checkpoint)\n",
    "    early_stop = EarlyStopping(**args.trainer_params.earlystopping)\n",
    "    stochastic_weight_avg = StochasticWeightAveraging(swa_lrs=1e-6)\n",
    "\n",
    "    trainer = pl.Trainer(\n",
    "        logger=logger,\n",
    "        **args.trainer_params.trainer,\n",
    "        callbacks=[\n",
    "            early_stop,\n",
    "            checkpoint_callback,\n",
    "            accumulator,\n",
    "            LearningRateMonitor(logging_interval=\"step\"),\n",
    "            stochastic_weight_avg,\n",
    "            # DeviceStatsMonitor()\n",
    "        ],\n",
    "    )\n",
    "    model.train()\n",
    "    trainer.fit(model, ds)\n",
    "\n",
    "    return model, trainer\n",
    "\n",
    "\n",
    "config_path = \"/home/pranav-pc/projects/OpenTransformer/multiformer/src/models/blm/conf/finetune-imdb-classifier.yaml\"\n",
    "args = OmegaConf.load(config_path)\n",
    "model, trainer = main(args)"
   ]
  },
  {
   "cell_type": "code",
   "execution_count": 8,
   "id": "ef777291-a7f4-42b7-8954-8b725f7151aa",
   "metadata": {},
   "outputs": [
    {
     "name": "stderr",
     "output_type": "stream",
     "text": [
      "LOCAL_RANK: 0 - CUDA_VISIBLE_DEVICES: [0]\n"
     ]
    },
    {
     "data": {
      "application/vnd.jupyter.widget-view+json": {
       "model_id": "d6ab8e95efcf427490d86f32331120e8",
       "version_major": 2,
       "version_minor": 0
      },
      "text/plain": [
       "Validation: |                                             | 0/? [00:00<?, ?it/s]"
      ]
     },
     "metadata": {},
     "output_type": "display_data"
    },
    {
     "data": {
      "text/html": [
       "<pre style=\"white-space:pre;overflow-x:auto;line-height:normal;font-family:Menlo,'DejaVu Sans Mono',consolas,'Courier New',monospace\">┏━━━━━━━━━━━━━━━━━━━━━━━━━━━┳━━━━━━━━━━━━━━━━━━━━━━━━━━━┓\n",
       "┃<span style=\"font-weight: bold\">      Validate metric      </span>┃<span style=\"font-weight: bold\">       DataLoader 0        </span>┃\n",
       "┡━━━━━━━━━━━━━━━━━━━━━━━━━━━╇━━━━━━━━━━━━━━━━━━━━━━━━━━━┩\n",
       "│<span style=\"color: #008080; text-decoration-color: #008080\">          val_acc          </span>│<span style=\"color: #800080; text-decoration-color: #800080\">    0.6981199979782104     </span>│\n",
       "│<span style=\"color: #008080; text-decoration-color: #008080\">        val_f1score        </span>│<span style=\"color: #800080; text-decoration-color: #800080\">    0.6981199979782104     </span>│\n",
       "│<span style=\"color: #008080; text-decoration-color: #008080\">         val_loss          </span>│<span style=\"color: #800080; text-decoration-color: #800080\">    0.5857179164886475     </span>│\n",
       "└───────────────────────────┴───────────────────────────┘\n",
       "</pre>\n"
      ],
      "text/plain": [
       "┏━━━━━━━━━━━━━━━━━━━━━━━━━━━┳━━━━━━━━━━━━━━━━━━━━━━━━━━━┓\n",
       "┃\u001b[1m \u001b[0m\u001b[1m     Validate metric     \u001b[0m\u001b[1m \u001b[0m┃\u001b[1m \u001b[0m\u001b[1m      DataLoader 0       \u001b[0m\u001b[1m \u001b[0m┃\n",
       "┡━━━━━━━━━━━━━━━━━━━━━━━━━━━╇━━━━━━━━━━━━━━━━━━━━━━━━━━━┩\n",
       "│\u001b[36m \u001b[0m\u001b[36m         val_acc         \u001b[0m\u001b[36m \u001b[0m│\u001b[35m \u001b[0m\u001b[35m   0.6981199979782104    \u001b[0m\u001b[35m \u001b[0m│\n",
       "│\u001b[36m \u001b[0m\u001b[36m       val_f1score       \u001b[0m\u001b[36m \u001b[0m│\u001b[35m \u001b[0m\u001b[35m   0.6981199979782104    \u001b[0m\u001b[35m \u001b[0m│\n",
       "│\u001b[36m \u001b[0m\u001b[36m        val_loss         \u001b[0m\u001b[36m \u001b[0m│\u001b[35m \u001b[0m\u001b[35m   0.5857179164886475    \u001b[0m\u001b[35m \u001b[0m│\n",
       "└───────────────────────────┴───────────────────────────┘\n"
      ]
     },
     "metadata": {},
     "output_type": "display_data"
    },
    {
     "data": {
      "text/plain": [
       "[{'val_loss': 0.5857179164886475,\n",
       "  'val_acc': 0.6981199979782104,\n",
       "  'val_f1score': 0.6981199979782104}]"
      ]
     },
     "execution_count": 8,
     "metadata": {},
     "output_type": "execute_result"
    }
   ],
   "source": [
    "trainer.validate(model, ds)"
   ]
  },
  {
   "cell_type": "code",
   "execution_count": 9,
   "id": "2c473bec-4059-46e0-8be4-f8f1f1293d36",
   "metadata": {},
   "outputs": [],
   "source": [
    "## Why acc and f1 score always return same value? There seems something wrong"
   ]
  },
  {
   "cell_type": "code",
   "execution_count": 15,
   "id": "be89c370-ce35-4ca0-9e3a-1da3cb00498d",
   "metadata": {},
   "outputs": [
    {
     "name": "stdout",
     "output_type": "stream",
     "text": [
      "Jack was hungry, so he went looking for something to eat. He went to the kitchen and saw a plate on the table. He picked it up and looked around. Suddenly, he saw a big bowl of food. Jack was so excited that he started jumping up and down. He grabbed the plate and ran to the living room.\n",
      "\n",
      "\n",
      "========================================\n",
      "Jack was hungry, so he went looking for something to eat. He looked in the kitchen, but he couldn't find anything. Then he heard a noise coming from the living room. He went to investigate and saw a big box on the floor. He opened the box and found a delicious looking cake. He was so excited that he started to eat it right away. \n",
      "\n",
      "\n",
      "========================================\n",
      "Jack was hungry, so he went looking for something to eat. He went to the kitchen and opened the cupboard. He looked around and saw a big bowl of food. He was so happy! He took the bowl and started to eat it.\n",
      "\n",
      "\n",
      "========================================\n",
      "============================================================\n",
      "Once upon a time there was a pumpkin. It was a very special pumpkin, it could speak. It was sad because it couldn’t move. Every day, it would say \"hello\" and \"goodbye\" to everyone.\n",
      "\n",
      "\n",
      "========================================\n",
      "Once upon a time there was a pumpkin. It was a very special pumpkin, it could speak. It was sad because it couldn’t move. Every day, it would say \"hello\" and \"hello\" to everyone.\n",
      "\n",
      "\n",
      "========================================\n",
      "Once upon a time there was a pumpkin. It was a very special pumpkin, it could speak. It was sad because it couldn’t move. Every day, it would say, \"I wish I could move!\"\n",
      "\n",
      "\n",
      "========================================\n",
      "============================================================\n"
     ]
    }
   ],
   "source": [
    "model.model.eval()\n",
    "model.model.cuda()\n",
    "\n",
    "corpus = [\n",
    "    \"Jack was hungry, so he went looking for\",\n",
    "    \"Once upon a time there was a pumpkin. It was a very special pumpkin, it could speak. It was sad because it couldn’t move. Every day, it would say\",\n",
    "]\n",
    "\n",
    "# print(tokens)\n",
    "for text in corpus:\n",
    "    tokens = torch.LongTensor(ds.tokenizer.encode(text)).to(\"cuda:0\").view(1, -1)[:, :-1]\n",
    "    for _ in range(3):\n",
    "        print(\n",
    "            ds.tokenizer.decode_ids(\n",
    "                model.model.predict_step(\n",
    "                    tokens,\n",
    "                    None,\n",
    "                    max_new_tokens=1000,\n",
    "                    temperature=1.1,\n",
    "                    top_k=2,\n",
    "                    conditional_break=[13, 13],\n",
    "                )[0].tolist()\n",
    "            )\n",
    "        )\n",
    "        print(\"==\" * 20)\n",
    "    print(\"==\" * 30)"
   ]
  },
  {
   "cell_type": "code",
   "execution_count": null,
   "id": "d9b2a7ec-bbca-4b19-a4e6-1b647d366498",
   "metadata": {},
   "outputs": [],
   "source": []
  }
 ],
 "metadata": {
  "kernelspec": {
   "display_name": "Python 3 (ipykernel)",
   "language": "python",
   "name": "python3"
  },
  "language_info": {
   "codemirror_mode": {
    "name": "ipython",
    "version": 3
   },
   "file_extension": ".py",
   "mimetype": "text/x-python",
   "name": "python",
   "nbconvert_exporter": "python",
   "pygments_lexer": "ipython3",
   "version": "3.11.6"
  }
 },
 "nbformat": 4,
 "nbformat_minor": 5
}
