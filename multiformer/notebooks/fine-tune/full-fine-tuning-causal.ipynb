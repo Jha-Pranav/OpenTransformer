{
 "cells": [
  {
   "cell_type": "code",
   "execution_count": 10,
   "id": "c9eb0fda-3f8c-4a88-bae0-de4736addee1",
   "metadata": {},
   "outputs": [],
   "source": [
    "import torch\n",
    "import torch.nn as nn\n",
    "from datasets import load_dataset, load_from_disk\n",
    "from src.models.blm.finetune.chat_format import convert_stories_to_chat_format"
   ]
  },
  {
   "cell_type": "code",
   "execution_count": 2,
   "id": "b53ca85c-2b14-40b3-bd4d-121856bfb0e1",
   "metadata": {},
   "outputs": [
    {
     "data": {
      "text/plain": [
       "DatasetDict({\n",
       "    train: Dataset({\n",
       "        features: ['text'],\n",
       "        num_rows: 2476533\n",
       "    })\n",
       "    validation: Dataset({\n",
       "        features: ['text'],\n",
       "        num_rows: 25028\n",
       "    })\n",
       "})"
      ]
     },
     "execution_count": 2,
     "metadata": {},
     "output_type": "execute_result"
    }
   ],
   "source": [
    "ds = load_dataset(\n",
    "    \"skeskinen/TinyStories-Instruct-hf\",\n",
    "    cache_dir=\"/home/pranav-pc/projects/OpenTransformer/multiformer/data/downloads\",\n",
    ")\n",
    "ds"
   ]
  },
  {
   "cell_type": "code",
   "execution_count": 3,
   "id": "eec3a323-253d-4deb-90f9-7c3ec2a1afb0",
   "metadata": {},
   "outputs": [],
   "source": [
    "ds = ds.map(lambda example: {\"is_present\": \"Story:\" in example[\"text\"]}, num_proc=28)"
   ]
  },
  {
   "cell_type": "code",
   "execution_count": 4,
   "id": "1df3bb32-bd33-4a41-9e50-7a9d09ebbc15",
   "metadata": {},
   "outputs": [],
   "source": [
    "assert sum(ds[\"train\"][\"is_present\"]) == len(ds[\"train\"])"
   ]
  },
  {
   "cell_type": "code",
   "execution_count": 5,
   "id": "4442918a-d0de-489c-8794-dbd9ecf13858",
   "metadata": {},
   "outputs": [
    {
     "data": {
      "text/plain": [
       "DatasetDict({\n",
       "    train: Dataset({\n",
       "        features: ['text', 'is_present'],\n",
       "        num_rows: 2476533\n",
       "    })\n",
       "    validation: Dataset({\n",
       "        features: ['text', 'is_present'],\n",
       "        num_rows: 25026\n",
       "    })\n",
       "})"
      ]
     },
     "execution_count": 5,
     "metadata": {},
     "output_type": "execute_result"
    }
   ],
   "source": [
    "ds = ds.filter(lambda example: example[\"is_present\"], num_proc=30)\n",
    "ds"
   ]
  },
  {
   "cell_type": "code",
   "execution_count": 6,
   "id": "cc2a1c15-16f9-48fd-bbe7-d4bc1e476d6a",
   "metadata": {},
   "outputs": [],
   "source": [
    "ds = ds.map(\n",
    "    lambda example: {\n",
    "        \"text\": convert_stories_to_chat_format(example[\"text\"]).replace(\"\\n\\n\\n\", \"\")\n",
    "    },\n",
    "    batched=False,\n",
    "    num_proc=30,\n",
    "    remove_columns=ds.column_names[\"train\"],\n",
    ")"
   ]
  },
  {
   "cell_type": "code",
   "execution_count": 7,
   "id": "eb3e8b0c-6a9b-425d-9e82-ee19174644f9",
   "metadata": {},
   "outputs": [],
   "source": [
    "train, validation = ds[\"train\"], ds[\"validation\"]"
   ]
  },
  {
   "cell_type": "code",
   "execution_count": 13,
   "id": "37655d64-a284-45f8-8b9f-5bd529024407",
   "metadata": {},
   "outputs": [
    {
     "data": {
      "application/vnd.jupyter.widget-view+json": {
       "model_id": "59173bc381984dd0a08e532503cd0896",
       "version_major": 2,
       "version_minor": 0
      },
      "text/plain": [
       "Map:   0%|          | 0/2476533 [00:00<?, ? examples/s]"
      ]
     },
     "metadata": {},
     "output_type": "display_data"
    },
    {
     "data": {
      "application/vnd.jupyter.widget-view+json": {
       "model_id": "d1ee5c107ebd49289c21bf381e9c23cc",
       "version_major": 2,
       "version_minor": 0
      },
      "text/plain": [
       "Map:   0%|          | 0/25026 [00:00<?, ? examples/s]"
      ]
     },
     "metadata": {},
     "output_type": "display_data"
    }
   ],
   "source": [
    "ds = ds.map(lambda example: {\"len\": len(example[\"text\"])})"
   ]
  },
  {
   "cell_type": "code",
   "execution_count": 14,
   "id": "0de40e5e-6244-4346-ae30-63dd15b66010",
   "metadata": {},
   "outputs": [
    {
     "data": {
      "text/plain": [
       "<Axes: ylabel='Count'>"
      ]
     },
     "execution_count": 14,
     "metadata": {},
     "output_type": "execute_result"
    },
    {
     "data": {
      "image/png": "[encoded data removed]",
      "text/plain": [
       "<Figure size 640x480 with 1 Axes>"
      ]
     },
     "metadata": {},
     "output_type": "display_data"
    }
   ],
   "source": [
    "import seaborn as sns\n",
    "\n",
    "sns.histplot(ds[\"train\"][\"len\"])"
   ]
  },
  {
   "cell_type": "code",
   "execution_count": 26,
   "id": "03f27bbc-1d7e-4be6-b736-dcd87c0a9a92",
   "metadata": {},
   "outputs": [
    {
     "data": {
      "text/plain": [
       "0"
      ]
     },
     "execution_count": 26,
     "metadata": {},
     "output_type": "execute_result"
    }
   ],
   "source": [
    "sum([i < 65 for i in ds[\"train\"][\"len\"]])"
   ]
  },
  {
   "cell_type": "code",
   "execution_count": 22,
   "id": "790797c2-0700-4d3d-89bd-b8cc0ff68266",
   "metadata": {},
   "outputs": [
    {
     "data": {
      "text/plain": [
       "'User:\\nFeatures: Dialogue\\nWords: quit, oak, gloomy\\nSummary: Sara and Ben were playing in the park, but Sara wanted to go home because it was cold and dark. Ben convinced her to stay and play, but eventually agreed to go home and have hot cocoa.\\nAssistant: \\nSara and Ben were playing in the park. They liked to climb the big oak tree and pretend they were birds. They made nests with leaves and twigs and sang songs.\\n\\nBut today, the sky was gloomy and the wind was cold. Sara felt sad and cold. She wanted to go home and have some hot cocoa.\\n\\n\"Ben, I want to quit,\" she said. \"It\\'s too cold and dark. Let\\'s go home.\"\\n\\nBen looked at Sara and frowned. He liked the oak tree and the park. He wanted to stay and play.\\n\\n\"No, Sara, don\\'t quit,\" he said. \"It\\'s fun here. Look, there\\'s a squirrel. Let\\'s chase it.\"\\n\\nSara shook her head. She didn\\'t want to chase the squirrel. She wanted to go home and have some hot cocoa.\\n\\n\"Please, Ben, let\\'s go home,\" she said. \"We can play here another day. I\\'m cold and hungry.\"\\n\\nBen saw that Sara was shivering and looked unhappy. He loved his sister and didn\\'t want her to be sad. He nodded and smiled.\\n\\n\"Okay, Sara, let\\'s go home,\" he said. \"We can have some hot cocoa and cookies. And we can play with our toys.\"\\n\\nSara hugged Ben and thanked him. They climbed down the oak tree and ran to their mom, who was waiting for them. They told her about their adventure and asked for some hot cocoa and cookies. Mom smiled and agreed. She was proud of her children for being brave and kind. They went home and had a cozy and happy time.'"
      ]
     },
     "execution_count": 22,
     "metadata": {},
     "output_type": "execute_result"
    }
   ],
   "source": [
    "ds[\"train\"][0][\"text\"]"
   ]
  },
  {
   "cell_type": "code",
   "execution_count": null,
   "id": "4d7c2035-04fd-4ab6-97bd-406c69e67c2e",
   "metadata": {},
   "outputs": [],
   "source": []
  }
 ],
 "metadata": {
  "kernelspec": {
   "display_name": "Python 3 (ipykernel)",
   "language": "python",
   "name": "python3"
  },
  "language_info": {
   "codemirror_mode": {
    "name": "ipython",
    "version": 3
   },
   "file_extension": ".py",
   "mimetype": "text/x-python",
   "name": "python",
   "nbconvert_exporter": "python",
   "pygments_lexer": "ipython3",
   "version": "3.11.6"
  }
 },
 "nbformat": 4,
 "nbformat_minor": 5
}
