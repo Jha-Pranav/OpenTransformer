{
 "cells": [
  {
   "cell_type": "code",
   "execution_count": 1,
   "id": "c687192f-23de-473a-ae81-67dfa6d1fecd",
   "metadata": {},
   "outputs": [],
   "source": [
    "# Ref : https://huggingface.co/blog/chat-templates"
   ]
  },
  {
   "cell_type": "raw",
   "id": "c6bf5f83-a4ce-4017-942a-8b392991beb0",
   "metadata": {},
   "source": [
    "We need to define a chat template, which formats the instructions and responses in a way that is suitable for the model. Here's an example of raw instructions and responses from a Hugging Face blog post:\n",
    "\n",
    "[\n",
    "    {\"role\": \"user\", \"content\": \"Hi there!\"},\n",
    "    {\"role\": \"assistant\", \"content\": \"Nice to meet you!\"}\n",
    "]\n",
    "There are different ways to format it. The most straightforward one would be:\n",
    "\n",
    "User: Hey there!\n",
    "Assistant: Nice to meet you!\n",
    "\n",
    "\n",
    "In the case of Llama 2, the authors used the following template for the chat models:\n",
    "\n",
    "<s>[INST] <<SYS>>\n",
    "System prompt\n",
    "<</SYS>>\n",
    "User prompt [/INST] Model answer </s>\n",
    "\n",
    "\n",
    "Currently, the most popular and standardized chat template is ChatML from OpenAI, which looks like this:\n",
    "\n",
    "<|im_start|>user\n",
    "Hey there!<|im_end|>\n",
    "<|im_start|>assistant\n",
    "Nice to meet you!<|im_end|>\n",
    "The impact of chat templates on the performance of the model is unclear. In most cases, we fine-tune base models that have not been trained with a particular template, which is also why there's no clear standard. However, they are important as they can cause many issues and limit the compatibility of your models."
   ]
  },
  {
   "cell_type": "code",
   "execution_count": 4,
   "id": "0776434a-5fd1-4191-adfd-424e74455f4a",
   "metadata": {},
   "outputs": [],
   "source": [
    "import lightning.pytorch as pl\n",
    "import torch\n",
    "import torch.nn as nn\n",
    "from datasets import load_dataset"
   ]
  },
  {
   "cell_type": "code",
   "execution_count": 5,
   "id": "72ac580f-f19c-490f-a93f-a50e3cbffb27",
   "metadata": {},
   "outputs": [],
   "source": [
    "ds = load_dataset(\n",
    "    \"skeskinen/TinyStories-Instruct-hf\",\n",
    "    cache_dir=\"/home/pranav-pc/projects/OpenTransformer/multiformer/data/downloads\",\n",
    ")"
   ]
  },
  {
   "cell_type": "code",
   "execution_count": 7,
   "id": "23767292-4120-43ed-b589-9918080d7fd2",
   "metadata": {},
   "outputs": [
    {
     "name": "stdout",
     "output_type": "stream",
     "text": [
      "Summary: Two dogs, Tom and Sam, fight over a bone and end up losing it when a man throws a stick at them. Sam takes the bone and runs away, leaving Tom sad and alone.\n",
      "Features: Dialogue, BadEnding\n",
      "Words: send, bone, fair\n",
      "Story: \n",
      "\n",
      "Tom and Sam are dogs. They are friends. They like to play and run in the park. One day, they find a big bone. It smells good. They both want the bone.\n",
      "\n",
      "\"Let me have the bone!\" Tom says. \"I saw it first!\"\n",
      "\n",
      "\"No, I want the bone!\" Sam says. \"I am bigger and stronger!\"\n",
      "\n",
      "They start to fight. They bark and bite. They do not share. They are not fair.\n",
      "\n",
      "A man sees them. He is angry. He does not like noisy dogs. He picks up a stick. He throws the stick at them. He says, \"Go away, you bad dogs!\"\n",
      "\n",
      "The stick hits Tom. It hurts. He drops the bone. Sam sees the bone. He grabs it. He runs away. He is happy.\n",
      "\n",
      "Tom is sad. He is hurt. He has no bone. He has no friend. He wishes he was fair. He wishes he could send the bone to Sam and say sorry. But it is too late. Sam is gone. Tom is alone. The end.\n"
     ]
    }
   ],
   "source": [
    "print(ds[\"train\"][20][\"text\"])"
   ]
  },
  {
   "cell_type": "code",
   "execution_count": 9,
   "id": "d45e047f-8f41-4e6a-baa2-9847689af92d",
   "metadata": {},
   "outputs": [],
   "source": [
    "def convert_to_llama_chat_format(dataset):\n",
    "    # Split the dataset into individual sections based on 'Features:'\n",
    "    sections = dataset.split(\"Features:\")\n",
    "    conversation = \"\"\n",
    "\n",
    "    for section in sections:\n",
    "        if section.strip():\n",
    "            # Extracting the relevant information from each section\n",
    "            parts = section.split(\"\\n\")\n",
    "            dialogue = parts[1].replace(\"Summary:\", \"\").strip()\n",
    "            story = \"\\n\".join(parts[4:])\n",
    "\n",
    "            # Constructing the LLAMA chat format\n",
    "            conversation += f\"<s>[INST] <<SYS>>\\nSystem prompt: {dialogue}\\n<</SYS>>\\n\"\n",
    "            conversation += f\"User prompt [/INST] {story}\\nModel answer: {story}\\n</s>\\n\"\n",
    "\n",
    "    return conversation"
   ]
  },
  {
   "cell_type": "code",
   "execution_count": 10,
   "id": "aab50245-b549-42d3-b9f0-b1c9af6cce06",
   "metadata": {},
   "outputs": [
    {
     "name": "stdout",
     "output_type": "stream",
     "text": [
      "<s>[INST] <<SYS>>\n",
      "System prompt: \n",
      "<</SYS>>\n",
      "User prompt [/INST] \n",
      "Model answer: \n",
      "</s>\n",
      "<s>[INST] <<SYS>>\n",
      "System prompt: Words: send, bone, fair\n",
      "<</SYS>>\n",
      "User prompt [/INST] Tom and Sam are dogs. They are friends. They like to play and run in the park. One day, they find a big bone. It smells good. They both want the bone.\n",
      "\n",
      "\"Let me have the bone!\" Tom says. \"I saw it first!\"\n",
      "\n",
      "\"No, I want the bone!\" Sam says. \"I am bigger and stronger!\"\n",
      "\n",
      "They start to fight. They bark and bite. They do not share. They are not fair.\n",
      "\n",
      "A man sees them. He is angry. He does not like noisy dogs. He picks up a stick. He throws the stick at them. He says, \"Go away, you bad dogs!\"\n",
      "\n",
      "The stick hits Tom. It hurts. He drops the bone. Sam sees the bone. He grabs it. He runs away. He is happy.\n",
      "\n",
      "Tom is sad. He is hurt. He has no bone. He has no friend. He wishes he was fair. He wishes he could send the bone to Sam and say sorry. But it is too late. Sam is gone. Tom is alone. The end.\n",
      "Model answer: Tom and Sam are dogs. They are friends. They like to play and run in the park. One day, they find a big bone. It smells good. They both want the bone.\n",
      "\n",
      "\"Let me have the bone!\" Tom says. \"I saw it first!\"\n",
      "\n",
      "\"No, I want the bone!\" Sam says. \"I am bigger and stronger!\"\n",
      "\n",
      "They start to fight. They bark and bite. They do not share. They are not fair.\n",
      "\n",
      "A man sees them. He is angry. He does not like noisy dogs. He picks up a stick. He throws the stick at them. He says, \"Go away, you bad dogs!\"\n",
      "\n",
      "The stick hits Tom. It hurts. He drops the bone. Sam sees the bone. He grabs it. He runs away. He is happy.\n",
      "\n",
      "Tom is sad. He is hurt. He has no bone. He has no friend. He wishes he was fair. He wishes he could send the bone to Sam and say sorry. But it is too late. Sam is gone. Tom is alone. The end.\n",
      "</s>\n",
      "\n"
     ]
    }
   ],
   "source": [
    "print(convert_to_llama_chat_format(ds[\"train\"][20][\"text\"]))"
   ]
  },
  {
   "cell_type": "code",
   "execution_count": 15,
   "id": "63d8a7de-68c4-49a3-aadd-52468923106c",
   "metadata": {},
   "outputs": [
    {
     "name": "stdout",
     "output_type": "stream",
     "text": [
      "User:Summary: Two dogs, Tom and Sam, fight over a bone and end up losing it when a man throws a stick at them. Sam takes the bone and runs away, leaving Tom sad and alone.\n",
      "Features: Dialogue, BadEnding\n",
      "Words: send, bone, fair\n",
      "Assistant: \n",
      "\n",
      "Tom and Sam are dogs. They are friends. They like to play and run in the park. One day, they find a big bone. It smells good. They both want the bone.\n",
      "\n",
      "\"Let me have the bone!\" Tom says. \"I saw it first!\"\n",
      "\n",
      "\"No, I want the bone!\" Sam says. \"I am bigger and stronger!\"\n",
      "\n",
      "They start to fight. They bark and bite. They do not share. They are not fair.\n",
      "\n",
      "A man sees them. He is angry. He does not like noisy dogs. He picks up a stick. He throws the stick at them. He says, \"Go away, you bad dogs!\"\n",
      "\n",
      "The stick hits Tom. It hurts. He drops the bone. Sam sees the bone. He grabs it. He runs away. He is happy.\n",
      "\n",
      "Tom is sad. He is hurt. He has no bone. He has no friend. He wishes he was fair. He wishes he could send the bone to Sam and say sorry. But it is too late. Sam is gone. Tom is alone. The end.\n"
     ]
    }
   ],
   "source": [
    "def convert_to_chat_format(text):\n",
    "    text = \"User:\" + text\n",
    "    text = text.replace(\"Story:\", \"Assistant:\")\n",
    "    return text\n",
    "\n",
    "\n",
    "print(convert_to_chat_format(ds[\"train\"][20][\"text\"]))"
   ]
  },
  {
   "cell_type": "code",
   "execution_count": null,
   "id": "aec6f2c8-399b-4037-9d55-6ae82f44ef6e",
   "metadata": {},
   "outputs": [],
   "source": []
  }
 ],
 "metadata": {
  "kernelspec": {
   "display_name": "Python 3 (ipykernel)",
   "language": "python",
   "name": "python3"
  },
  "language_info": {
   "codemirror_mode": {
    "name": "ipython",
    "version": 3
   },
   "file_extension": ".py",
   "mimetype": "text/x-python",
   "name": "python",
   "nbconvert_exporter": "python",
   "pygments_lexer": "ipython3",
   "version": "3.11.6"
  }
 },
 "nbformat": 4,
 "nbformat_minor": 5
}
