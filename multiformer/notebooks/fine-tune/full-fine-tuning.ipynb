{
 "cells": [
  {
   "cell_type": "code",
   "execution_count": 1,
   "id": "8c545004-18d9-4c27-8c3f-42d5fea31a4f",
   "metadata": {},
   "outputs": [],
   "source": [
    "import lightning.pytorch as pl\n",
    "import torch\n",
    "import torch.nn as nn\n",
    "from datasets import load_dataset, load_from_disk\n",
    "from torch.nn.utils.rnn import pad_sequence\n",
    "from torch.utils.data import DataLoader"
   ]
  },
  {
   "cell_type": "code",
   "execution_count": 2,
   "id": "bfb48d50-ee76-404d-9a70-391192192d63",
   "metadata": {},
   "outputs": [],
   "source": [
    "### Load Dataset"
   ]
  },
  {
   "cell_type": "code",
   "execution_count": 3,
   "id": "e8efc5e5-be23-4050-a578-99b0a9d3948a",
   "metadata": {},
   "outputs": [],
   "source": [
    "ds = load_dataset(\"stanfordnlp/imdb\")\n",
    "labels = {\"0\": \"neg\", \"1\": \"pos\"}"
   ]
  },
  {
   "cell_type": "code",
   "execution_count": 4,
   "id": "b8b8abb9-9c9f-43c2-8085-9ecb17393e50",
   "metadata": {},
   "outputs": [],
   "source": [
    "### Tokenize\n",
    "from src.tokenize.tokenizer import Tokenizer\n",
    "\n",
    "TOKENIZER_CHECKPOINT = (\n",
    "    \"/home/pranav-pc/projects/OpenTransformer/multiformer/tokenizer_checkpoints/\"\n",
    ")\n",
    "tokenizer = Tokenizer(TOKENIZER_CHECKPOINT)"
   ]
  },
  {
   "cell_type": "code",
   "execution_count": 5,
   "id": "6fe94d7d-cfee-43e3-a7bd-049b8f3a2395",
   "metadata": {},
   "outputs": [
    {
     "data": {
      "text/plain": [
       "DatasetDict({\n",
       "    train: Dataset({\n",
       "        features: ['text', 'label'],\n",
       "        num_rows: 25000\n",
       "    })\n",
       "    test: Dataset({\n",
       "        features: ['text', 'label'],\n",
       "        num_rows: 25000\n",
       "    })\n",
       "    unsupervised: Dataset({\n",
       "        features: ['text', 'label'],\n",
       "        num_rows: 50000\n",
       "    })\n",
       "})"
      ]
     },
     "execution_count": 5,
     "metadata": {},
     "output_type": "execute_result"
    }
   ],
   "source": [
    "ds"
   ]
  },
  {
   "cell_type": "code",
   "execution_count": 6,
   "id": "48810c8e-5fbe-45e3-987b-75c480664a0b",
   "metadata": {},
   "outputs": [
    {
     "data": {
      "application/vnd.jupyter.widget-view+json": {
       "model_id": "e02423ea2479404e9502435b031e92a0",
       "version_major": 2,
       "version_minor": 0
      },
      "text/plain": [
       "Map (num_proc=25):   0%|          | 0/25000 [00:00<?, ? examples/s]"
      ]
     },
     "metadata": {},
     "output_type": "display_data"
    },
    {
     "data": {
      "application/vnd.jupyter.widget-view+json": {
       "model_id": "3f334056296543689932f4baf901897c",
       "version_major": 2,
       "version_minor": 0
      },
      "text/plain": [
       "Map (num_proc=25):   0%|          | 0/25000 [00:00<?, ? examples/s]"
      ]
     },
     "metadata": {},
     "output_type": "display_data"
    },
    {
     "data": {
      "application/vnd.jupyter.widget-view+json": {
       "model_id": "f3c16628b81c4347ba723ad77cebf88a",
       "version_major": 2,
       "version_minor": 0
      },
      "text/plain": [
       "Map (num_proc=25):   0%|          | 0/50000 [00:00<?, ? examples/s]"
      ]
     },
     "metadata": {},
     "output_type": "display_data"
    }
   ],
   "source": [
    "ds = ds.map(\n",
    "    lambda example: {\"token_ids\": tokenizer.encode_as_ids(example[\"text\"])},\n",
    "    batch_size=int(5e3),\n",
    "    batched=True,\n",
    "    num_proc=25,\n",
    "    remove_columns=[\"text\"],\n",
    ")"
   ]
  },
  {
   "cell_type": "code",
   "execution_count": 7,
   "id": "2b3346d0-cc39-47e4-b0bd-36fb93d93727",
   "metadata": {},
   "outputs": [
    {
     "data": {
      "application/vnd.jupyter.widget-view+json": {
       "model_id": "64357af83f6b4ea3a5cf89a1d18077e3",
       "version_major": 2,
       "version_minor": 0
      },
      "text/plain": [
       "Map:   0%|          | 0/25000 [00:00<?, ? examples/s]"
      ]
     },
     "metadata": {},
     "output_type": "display_data"
    },
    {
     "data": {
      "application/vnd.jupyter.widget-view+json": {
       "model_id": "8956ba55e26f44da84792c1c80185555",
       "version_major": 2,
       "version_minor": 0
      },
      "text/plain": [
       "Map:   0%|          | 0/25000 [00:00<?, ? examples/s]"
      ]
     },
     "metadata": {},
     "output_type": "display_data"
    },
    {
     "data": {
      "application/vnd.jupyter.widget-view+json": {
       "model_id": "6e4c899444484c08bc4db2104d31443b",
       "version_major": 2,
       "version_minor": 0
      },
      "text/plain": [
       "Map:   0%|          | 0/50000 [00:00<?, ? examples/s]"
      ]
     },
     "metadata": {},
     "output_type": "display_data"
    }
   ],
   "source": [
    "ds = ds.map(lambda example: {\"len\": len(example[\"token_ids\"])})"
   ]
  },
  {
   "cell_type": "code",
   "execution_count": 8,
   "id": "6ae8fef2-ffa9-4a7f-9c53-36b0110bc360",
   "metadata": {},
   "outputs": [
    {
     "data": {
      "text/plain": [
       "<Axes: ylabel='Density'>"
      ]
     },
     "execution_count": 8,
     "metadata": {},
     "output_type": "execute_result"
    },
    {
     "data": {
      "image/png": "[encoded data removed]",
      "text/plain": [
       "<Figure size 640x480 with 1 Axes>"
      ]
     },
     "metadata": {},
     "output_type": "display_data"
    }
   ],
   "source": [
    "import seaborn as sns\n",
    "\n",
    "sns.kdeplot(ds[\"test\"][\"len\"])"
   ]
  },
  {
   "cell_type": "code",
   "execution_count": 10,
   "id": "caf09a63-f423-471a-a1c4-da53b8bdd25a",
   "metadata": {},
   "outputs": [
    {
     "data": {
      "application/vnd.jupyter.widget-view+json": {
       "model_id": "15691573e79a4d0e86e4fe3a545ccb3b",
       "version_major": 2,
       "version_minor": 0
      },
      "text/plain": [
       "Map:   0%|          | 0/25000 [00:00<?, ? examples/s]"
      ]
     },
     "metadata": {},
     "output_type": "display_data"
    },
    {
     "data": {
      "application/vnd.jupyter.widget-view+json": {
       "model_id": "3bbd32a1978a42bd9d73824b3ac6ad49",
       "version_major": 2,
       "version_minor": 0
      },
      "text/plain": [
       "Map:   0%|          | 0/25000 [00:00<?, ? examples/s]"
      ]
     },
     "metadata": {},
     "output_type": "display_data"
    },
    {
     "data": {
      "application/vnd.jupyter.widget-view+json": {
       "model_id": "032c14f1cf224a60984ad7250dd38497",
       "version_major": 2,
       "version_minor": 0
      },
      "text/plain": [
       "Map:   0%|          | 0/50000 [00:00<?, ? examples/s]"
      ]
     },
     "metadata": {},
     "output_type": "display_data"
    }
   ],
   "source": [
    "ds = ds.map(lambda example: {\"idx\": example[\"token_ids\"][:512]})"
   ]
  },
  {
   "cell_type": "code",
   "execution_count": 13,
   "id": "b3c07fcf-469b-4301-85f7-b45a93904da1",
   "metadata": {},
   "outputs": [
    {
     "data": {
      "application/vnd.jupyter.widget-view+json": {
       "model_id": "e1271d0020e449d4a3a24f3574aeee9e",
       "version_major": 2,
       "version_minor": 0
      },
      "text/plain": [
       "Map:   0%|          | 0/25000 [00:00<?, ? examples/s]"
      ]
     },
     "metadata": {},
     "output_type": "display_data"
    },
    {
     "data": {
      "application/vnd.jupyter.widget-view+json": {
       "model_id": "5e46e3d2bc3040cea22e4012e006e81d",
       "version_major": 2,
       "version_minor": 0
      },
      "text/plain": [
       "Map:   0%|          | 0/25000 [00:00<?, ? examples/s]"
      ]
     },
     "metadata": {},
     "output_type": "display_data"
    },
    {
     "data": {
      "application/vnd.jupyter.widget-view+json": {
       "model_id": "a27e483037a242f5810110b51a092767",
       "version_major": 2,
       "version_minor": 0
      },
      "text/plain": [
       "Map:   0%|          | 0/50000 [00:00<?, ? examples/s]"
      ]
     },
     "metadata": {},
     "output_type": "display_data"
    },
    {
     "data": {
      "text/plain": [
       "<Axes: ylabel='Density'>"
      ]
     },
     "execution_count": 13,
     "metadata": {},
     "output_type": "execute_result"
    },
    {
     "data": {
      "image/png": "[encoded data removed]",
      "text/plain": [
       "<Figure size 640x480 with 1 Axes>"
      ]
     },
     "metadata": {},
     "output_type": "display_data"
    }
   ],
   "source": [
    "ds = ds.map(lambda example: {\"len\": len(example[\"idx\"])})\n",
    "import seaborn as sns\n",
    "\n",
    "sns.kdeplot(ds[\"test\"][\"len\"])"
   ]
  },
  {
   "cell_type": "code",
   "execution_count": null,
   "id": "00bc9752-18d1-4e8e-8050-37dc5067228a",
   "metadata": {},
   "outputs": [],
   "source": [
    "class IMDBDataLoader(pl.LightningDataModule):\n",
    "    def __init__(self, dataset_path, tokenizer_path, batch_size, num_workers):\n",
    "        super().__init__()\n",
    "        self.dataset_path = dataset_path\n",
    "\n",
    "        self.batch_size = batch_size\n",
    "        self.num_workers = num_workers\n",
    "\n",
    "        self.tokenizer = self._load_tokenizer(tokenizer_path)\n",
    "\n",
    "    def prepare_data(self):\n",
    "        self.ds = load_dataset(self.dataset_path)\n",
    "\n",
    "    @staticmethod\n",
    "    def _load_tokenizer(tokenizer_path):\n",
    "        from src.tokenize.tokenizer import Tokenizer\n",
    "\n",
    "        return Tokenizer(tokenizer_path)\n",
    "\n",
    "    def _collate_fn(self, batch: int, padding_id: int):\n",
    "        x, y = batch\n",
    "        x = pad_sequence(\n",
    "            x,\n",
    "            batch_first=True,\n",
    "            padding_value=padding_id,\n",
    "        )\n",
    "        x = torch.tensor(x, dtype=torch.LongTensor)\n",
    "        y = torch.tensor(y)\n",
    "        return x, y\n",
    "\n",
    "    def setup(self, stage):\n",
    "\n",
    "        self.train_data = self.ds[\"train\"]\n",
    "        self.val_data = self.ds[\"unsupervised\"]\n",
    "        self.test_data = self.ds[\"test\"]\n",
    "\n",
    "    def train_dataloader(self):\n",
    "        return DataLoader(\n",
    "            self.train_data,\n",
    "            batch_size=self.batch_size,\n",
    "            shuffle=True,\n",
    "            num_workers=self.num_workers,\n",
    "            pin_memory=True,\n",
    "            collate_fn=self._collate_fn,\n",
    "        )\n",
    "\n",
    "    def val_dataloader(self):\n",
    "        return DataLoader(\n",
    "            self.val_data,\n",
    "            batch_size=self.batch_size,\n",
    "            shuffle=True,\n",
    "            num_workers=self.num_workers,\n",
    "            pin_memory=True,\n",
    "            collate_fn=self._collate_fn,\n",
    "        )\n",
    "\n",
    "    def test_dataloader(self):\n",
    "        return DataLoader(\n",
    "            self.val_data,\n",
    "            batch_size=self.batch_size,\n",
    "            shuffle=True,\n",
    "            num_workers=self.num_workers,\n",
    "            pin_memory=True,\n",
    "            collate_fn=self._collate_fn,\n",
    "        )"
   ]
  },
  {
   "cell_type": "code",
   "execution_count": 1,
   "id": "4d505e2e-f3ba-4493-ab46-e630130ed976",
   "metadata": {},
   "outputs": [],
   "source": [
    "# https://huggingface.co/datasets/berkeley-nest/Nectar\n",
    "\n",
    "# https://huggingface.co/datasets/allenai/ultrafeedback_binarized_cleaned\n",
    "\n",
    "# https://huggingface.co/datasets/Open-Orca/SlimOrca\n",
    "\n",
    "# https://huggingface.co/datasets/Intel/orca_dpo_pairs\n",
    "\n",
    "# https://huggingface.co/datasets/teknium/openhermes\n",
    "\n",
    "# https://huggingface.co/datasets/athirdpath/DPO_Pairs-Roleplay-Alpaca-NSFW\n",
    "\n",
    "# https://huggingface.co/datasets/meta-math/MetaMathQA\n",
    "\n",
    "\n",
    "# # Alpaca, Slim Orca, OASST, Platypus, Norobots"
   ]
  },
  {
   "cell_type": "code",
   "execution_count": null,
   "id": "3da2769c-8698-4b65-912c-63fe831a71a9",
   "metadata": {},
   "outputs": [],
   "source": [
    "dataset_path = \"stanfordnlp/imdb\""
   ]
  }
 ],
 "metadata": {
  "kernelspec": {
   "display_name": "Python 3 (ipykernel)",
   "language": "python",
   "name": "python3"
  },
  "language_info": {
   "codemirror_mode": {
    "name": "ipython",
    "version": 3
   },
   "file_extension": ".py",
   "mimetype": "text/x-python",
   "name": "python",
   "nbconvert_exporter": "python",
   "pygments_lexer": "ipython3",
   "version": "3.11.6"
  }
 },
 "nbformat": 4,
 "nbformat_minor": 5
}
