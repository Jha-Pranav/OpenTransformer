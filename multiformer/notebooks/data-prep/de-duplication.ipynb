{
 "cells": [
  {
   "cell_type": "code",
   "execution_count": 1,
   "id": "1a7ec145-ded3-4cc4-9004-4a873dc7fd01",
   "metadata": {},
   "outputs": [],
   "source": [
    "import faiss\n",
    "import torch\n",
    "from datasets import Dataset, DatasetDict, load_dataset\n",
    "from sentence_transformers import SentenceTransformer\n",
    "from tqdm.autonotebook import tqdm"
   ]
  },
  {
   "cell_type": "code",
   "execution_count": 2,
   "id": "25c3acd3-6240-48f4-a30a-5f42e0898e9b",
   "metadata": {},
   "outputs": [],
   "source": [
    "ds = load_dataset(\n",
    "    \"/home/pranav-pc/projects/OpenTransformer/multiformer/data/downloads/TinyStories\",\n",
    "    split=\"validation\",\n",
    ")"
   ]
  },
  {
   "cell_type": "code",
   "execution_count": 4,
   "id": "201e7e42-dab3-4ae6-8f1e-a421ba3d32bf",
   "metadata": {},
   "outputs": [
    {
     "data": {
      "application/vnd.jupyter.widget-view+json": {
       "model_id": "f5ca344f40d346209bbbe488b6341403",
       "version_major": 2,
       "version_minor": 0
      },
      "text/plain": [
       "README.md:   0%|          | 0.00/113k [00:00<?, ?B/s]"
      ]
     },
     "metadata": {},
     "output_type": "display_data"
    }
   ],
   "source": [
    "# https://huggingface.co/spaces/mteb/leaderboard\n",
    "model = \"mixedbread-ai/mxbai-embed-large-v1\"\n",
    "sentence_model = SentenceTransformer(model)"
   ]
  },
  {
   "cell_type": "code",
   "execution_count": 5,
   "id": "48919657-73c4-4db3-b86d-74548cd9a35c",
   "metadata": {},
   "outputs": [
    {
     "data": {
      "application/vnd.jupyter.widget-view+json": {
       "model_id": "ee725fdc1b7d4d6fb4ccb044714bb46c",
       "version_major": 2,
       "version_minor": 0
      },
      "text/plain": [
       "Map:   0%|          | 0/21990 [00:00<?, ? examples/s]"
      ]
     },
     "metadata": {},
     "output_type": "display_data"
    }
   ],
   "source": [
    "ds = ds.map(\n",
    "    lambda example: {\"embedding\": sentence_model.encode(example[\"text\"])},\n",
    "    batched=True,\n",
    ")\n",
    "ds.set_format(\"pt\")"
   ]
  },
  {
   "cell_type": "code",
   "execution_count": 6,
   "id": "5235c765-ee5a-4d63-aa15-5e033e38b686",
   "metadata": {},
   "outputs": [
    {
     "data": {
      "application/vnd.jupyter.widget-view+json": {
       "model_id": "6451a5fc246146e6ae62c12791911488",
       "version_major": 2,
       "version_minor": 0
      },
      "text/plain": [
       "Map:   0%|          | 0/21990 [00:00<?, ? examples/s]"
      ]
     },
     "metadata": {},
     "output_type": "display_data"
    }
   ],
   "source": [
    "def normalize_embedding(example):\n",
    "    embedding = example[\"embedding\"]\n",
    "    norm = torch.norm(embedding, dim=1, keepdim=True)\n",
    "    normalized_embedding = embedding / norm\n",
    "    return {\"embedding\": normalized_embedding}\n",
    "\n",
    "\n",
    "ds = ds.map(normalize_embedding, batched=True, batch_size=int(1e4))"
   ]
  },
  {
   "cell_type": "code",
   "execution_count": 7,
   "id": "1a5780ac-eec8-4639-bfb3-f3b7daf35a3f",
   "metadata": {},
   "outputs": [],
   "source": [
    "dim = ds[0][\"embedding\"].shape[0]\n",
    "index = faiss.IndexFlatIP(dim)\n",
    "index.add(ds[\"embedding\"])"
   ]
  },
  {
   "cell_type": "code",
   "execution_count": 8,
   "id": "6b4a5186-574b-4ee6-9df6-38fb5d4c3607",
   "metadata": {},
   "outputs": [],
   "source": [
    "D, I = index.search(\n",
    "    ds[:10][\"embedding\"],\n",
    "    k=2,\n",
    ")"
   ]
  },
  {
   "cell_type": "code",
   "execution_count": 19,
   "id": "6ba4e8c0-e424-4c28-a6cf-9e022367e927",
   "metadata": {},
   "outputs": [
    {
     "name": "stdout",
     "output_type": "stream",
     "text": [
      "Filtering out near-duplicates...\n"
     ]
    }
   ],
   "source": [
    "print(\"Filtering out near-duplicates...\")\n",
    "D, I = index.search(ds[\"embedding\"], k=2)\n",
    "\n",
    "threshold = 0.975"
   ]
  },
  {
   "cell_type": "code",
   "execution_count": 11,
   "id": "3ce6d1d1-d1dd-4a58-b5e7-79f8865b022c",
   "metadata": {},
   "outputs": [],
   "source": [
    "import pandas as pd\n",
    "\n",
    "df = pd.DataFrame(D)"
   ]
  },
  {
   "cell_type": "code",
   "execution_count": 20,
   "id": "64ebddcb-f1ef-487b-b15e-5319931b6fec",
   "metadata": {},
   "outputs": [
    {
     "data": {
      "text/plain": [
       "array([[13492, 18007],\n",
       "       [18007, 13492]])"
      ]
     },
     "execution_count": 20,
     "metadata": {},
     "output_type": "execute_result"
    }
   ],
   "source": [
    "I[df[(df > threshold).sum(axis=1) == 2].index]"
   ]
  },
  {
   "cell_type": "code",
   "execution_count": 15,
   "id": "fd84e645-a63b-47db-b46f-0d9329088f49",
   "metadata": {},
   "outputs": [
    {
     "name": "stdout",
     "output_type": "stream",
     "text": [
      "Once upon a time, there was a little boy named Timmy. Timmy liked to climb trees. One day, he saw a big green tree and wanted to climb it. He said to his mom, \"Mommy, can I climb that big green tree?\" His mom said, \"No Timmy, that tree is too high and it's bad for you to climb it.\" Timmy was sad but he listened to his mom.\n",
      "\n",
      "The next day, Timmy saw a smaller tree that was also green. He asked his mom, \"Mommy, can I climb that small green tree?\" His mom said, \"Yes Timmy, that tree is not too high and it's safe for you to climb it.\" Timmy was happy and climbed the tree. He felt like a big adventurer.\n",
      "\n",
      "When Timmy got to the top of the tree, he shouted down to his mom, \"Mommy, I climbed the tree!\" His mom smiled and said, \"Good job Timmy, you are a great climber!\" Timmy felt proud of himself and couldn't wait to climb more trees.\n"
     ]
    }
   ],
   "source": [
    "print(ds[13492][\"text\"])"
   ]
  },
  {
   "cell_type": "code",
   "execution_count": 24,
   "id": "a0804206-714a-4c4f-86e3-6f5241330cf3",
   "metadata": {},
   "outputs": [
    {
     "name": "stdout",
     "output_type": "stream",
     "text": [
      "Once upon a time, there was a little boy named Timmy. Timmy loved to climb trees. One day, Timmy saw a really high tree and he wanted to climb it. \n",
      "\n",
      "Timmy's mom said, \"Be careful Timmy, that tree is really high.\" \n",
      "\n",
      "Timmy said, \"I can do it, Mommy!\" \n",
      "\n",
      "So, Timmy climbed and climbed until he reached the top of the tree. He looked down and saw his mom tapping her foot. \n",
      "\n",
      "\"Come down, Timmy,\" she said. \n",
      "\n",
      "Timmy climbed back down and said, \"That was so much fun! Can we climb another tree tomorrow?\" \n",
      "\n",
      "His mom smiled and said, \"Sure, Timmy. But let's find a shorter one next time.\"\n"
     ]
    }
   ],
   "source": [
    "print(ds[18007][\"text\"])"
   ]
  },
  {
   "cell_type": "code",
   "execution_count": 36,
   "id": "22ef3967-41b7-42b3-867a-7526738634f8",
   "metadata": {},
   "outputs": [
    {
     "data": {
      "application/vnd.jupyter.widget-view+json": {
       "model_id": "0524245ff1394703a784f0a94d2956cd",
       "version_major": 2,
       "version_minor": 0
      },
      "text/plain": [
       "Filtering:   0%|          | 0/21990 [00:00<?, ?it/s]"
      ]
     },
     "metadata": {},
     "output_type": "display_data"
    }
   ],
   "source": [
    "to_keep = []\n",
    "for i in tqdm(range(len(ds[\"embedding\"])), desc=\"Filtering\"):\n",
    "    # If the second closest vector (D[i, 1]) has cosine similarity above the threshold\n",
    "    if D[i, 1] >= threshold:\n",
    "        # Check if either the current item or its nearest neighbor is already in the to_keep list\n",
    "        nearest_neighbor = I[i, 1]\n",
    "        if i not in to_keep and nearest_neighbor not in to_keep:\n",
    "            # If not, add the current item to the list\n",
    "            to_keep.append(i)\n",
    "    else:\n",
    "        # If the similarity is below the threshold, always keep the current item\n",
    "        to_keep.append(i)"
   ]
  },
  {
   "cell_type": "code",
   "execution_count": 39,
   "id": "e8bd3082-2735-40d6-9f54-ea2fae51f1c7",
   "metadata": {},
   "outputs": [
    {
     "data": {
      "text/plain": [
       "1"
      ]
     },
     "execution_count": 39,
     "metadata": {},
     "output_type": "execute_result"
    }
   ],
   "source": [
    "len(I) - len(to_keep)"
   ]
  },
  {
   "cell_type": "code",
   "execution_count": 132,
   "id": "66fd60f0-57ca-4316-a248-533e1d0a83c6",
   "metadata": {},
   "outputs": [
    {
     "data": {
      "text/plain": [
       "Dataset({\n",
       "    features: ['text', 'embedding'],\n",
       "    num_rows: 21864\n",
       "})"
      ]
     },
     "execution_count": 132,
     "metadata": {},
     "output_type": "execute_result"
    }
   ],
   "source": [
    "ds.select(to_keep)"
   ]
  }
 ],
 "metadata": {
  "kernelspec": {
   "display_name": "Python 3 (ipykernel)",
   "language": "python",
   "name": "python3"
  },
  "language_info": {
   "codemirror_mode": {
    "name": "ipython",
    "version": 3
   },
   "file_extension": ".py",
   "mimetype": "text/x-python",
   "name": "python",
   "nbconvert_exporter": "python",
   "pygments_lexer": "ipython3",
   "version": "3.11.6"
  }
 },
 "nbformat": 4,
 "nbformat_minor": 5
}
