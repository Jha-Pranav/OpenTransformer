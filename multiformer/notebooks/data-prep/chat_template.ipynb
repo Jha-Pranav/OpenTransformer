{
 "cells": [
  {
   "cell_type": "code",
   "execution_count": 1,
   "id": "c687192f-23de-473a-ae81-67dfa6d1fecd",
   "metadata": {},
   "outputs": [],
   "source": [
    "# Ref : https://huggingface.co/blog/chat-templates"
   ]
  },
  {
   "cell_type": "raw",
   "id": "126c6f3c-2051-477c-a867-61fd4bc28d2c",
   "metadata": {},
   "source": [
    "We need to define a chat template, which formats the instructions and responses in a way that is suitable for the model. Here's an example of raw instructions and responses from a Hugging Face blog post:\n",
    "\n",
    "[\n",
    "    {\"role\": \"user\", \"content\": \"Hi there!\"},\n",
    "    {\"role\": \"assistant\", \"content\": \"Nice to meet you!\"}\n",
    "]\n",
    "There are different ways to format it. The most straightforward one would be:\n",
    "\n",
    "User: Hey there!\n",
    "Assistant: Nice to meet you!\n",
    "\n",
    "\n",
    "In the case of Llama 2, the authors used the following template for the chat models:\n",
    "\n",
    "<s>[INST] <<SYS>>\n",
    "System prompt\n",
    "<</SYS>>\n",
    "User prompt [/INST] Model answer </s>\n",
    "\n",
    "\n",
    "Currently, the most popular and standardized chat template is ChatML from OpenAI, which looks like this:\n",
    "\n",
    "<|im_start|>user\n",
    "Hey there!<|im_end|>\n",
    "<|im_start|>assistant\n",
    "Nice to meet you!<|im_end|>\n",
    "The impact of chat templates on the performance of the model is unclear. In most cases, we fine-tune base models that have not been trained with a particular template, which is also why there's no clear standard. However, they are important as they can cause many issues and limit the compatibility of your models."
   ]
  },
  {
   "cell_type": "code",
   "execution_count": 2,
   "id": "0776434a-5fd1-4191-adfd-424e74455f4a",
   "metadata": {},
   "outputs": [],
   "source": [
    "import lightning.pytorch as pl\n",
    "import torch\n",
    "import torch.nn as nn\n",
    "from datasets import load_dataset"
   ]
  },
  {
   "cell_type": "code",
   "execution_count": 3,
   "id": "72ac580f-f19c-490f-a93f-a50e3cbffb27",
   "metadata": {},
   "outputs": [],
   "source": [
    "ds = load_dataset(\n",
    "    \"skeskinen/TinyStories-Instruct-hf\",\n",
    "    cache_dir=\"/home/pranav-pc/projects/OpenTransformer/multiformer/data/downloads\",\n",
    ")"
   ]
  },
  {
   "cell_type": "code",
   "execution_count": 7,
   "id": "23767292-4120-43ed-b589-9918080d7fd2",
   "metadata": {},
   "outputs": [
    {
     "data": {
      "text/plain": [
       "'Features: Dialogue\\nWords: quit, oak, gloomy\\nSummary: Sara and Ben were playing in the park, but Sara wanted to go home because it was cold and dark. Ben convinced her to stay and play, but eventually agreed to go home and have hot cocoa.\\nStory: \\n\\n\\n\\nSara and Ben were playing in the park. They liked to climb the big oak tree and pretend they were birds. They made nests with leaves and twigs and sang songs.\\n\\nBut today, the sky was gloomy and the wind was cold. Sara felt sad and cold. She wanted to go home and have some hot cocoa.\\n\\n\"Ben, I want to quit,\" she said. \"It\\'s too cold and dark. Let\\'s go home.\"\\n\\nBen looked at Sara and frowned. He liked the oak tree and the park. He wanted to stay and play.\\n\\n\"No, Sara, don\\'t quit,\" he said. \"It\\'s fun here. Look, there\\'s a squirrel. Let\\'s chase it.\"\\n\\nSara shook her head. She didn\\'t want to chase the squirrel. She wanted to go home and have some hot cocoa.\\n\\n\"Please, Ben, let\\'s go home,\" she said. \"We can play here another day. I\\'m cold and hungry.\"\\n\\nBen saw that Sara was shivering and looked unhappy. He loved his sister and didn\\'t want her to be sad. He nodded and smiled.\\n\\n\"Okay, Sara, let\\'s go home,\" he said. \"We can have some hot cocoa and cookies. And we can play with our toys.\"\\n\\nSara hugged Ben and thanked him. They climbed down the oak tree and ran to their mom, who was waiting for them. They told her about their adventure and asked for some hot cocoa and cookies. Mom smiled and agreed. She was proud of her children for being brave and kind. They went home and had a cozy and happy time.'"
      ]
     },
     "execution_count": 7,
     "metadata": {},
     "output_type": "execute_result"
    }
   ],
   "source": [
    "ds[\"train\"][0][\"text\"]"
   ]
  },
  {
   "cell_type": "code",
   "execution_count": 8,
   "id": "d45e047f-8f41-4e6a-baa2-9847689af92d",
   "metadata": {},
   "outputs": [],
   "source": [
    "def convert_to_llama_chat_format(dataset):\n",
    "    # Split the dataset into individual sections based on 'Features:'\n",
    "    sections = dataset.split(\"Features:\")\n",
    "    conversation = \"\"\n",
    "\n",
    "    for section in sections:\n",
    "        if section.strip():\n",
    "            # Extracting the relevant information from each section\n",
    "            parts = section.split(\"\\n\")\n",
    "            dialogue = parts[1].replace(\"Summary:\", \"\").strip()\n",
    "            story = \"\\n\".join(parts[4:])\n",
    "\n",
    "            # Constructing the LLAMA chat format\n",
    "            conversation += f\"<s>[INST] <<SYS>>\\nSystem prompt: {dialogue}\\n<</SYS>>\\n\"\n",
    "            conversation += (\n",
    "                f\"User prompt [/INST] {story}\\nModel answer: {story}\\n</s>\\n\"\n",
    "            )\n",
    "\n",
    "    return conversation"
   ]
  },
  {
   "cell_type": "code",
   "execution_count": 10,
   "id": "aab50245-b549-42d3-b9f0-b1c9af6cce06",
   "metadata": {},
   "outputs": [
    {
     "name": "stdout",
     "output_type": "stream",
     "text": [
      "<s>[INST] <<SYS>>\n",
      "System prompt: Words: quit, oak, gloomy\n",
      "<</SYS>>\n",
      "User prompt [/INST] \n",
      "\n",
      "\n",
      "Sara and Ben were playing in the park. They liked to climb the big oak tree and pretend they were birds. They made nests with leaves and twigs and sang songs.\n",
      "\n",
      "But today, the sky was gloomy and the wind was cold. Sara felt sad and cold. She wanted to go home and have some hot cocoa.\n",
      "\n",
      "\"Ben, I want to quit,\" she said. \"It's too cold and dark. Let's go home.\"\n",
      "\n",
      "Ben looked at Sara and frowned. He liked the oak tree and the park. He wanted to stay and play.\n",
      "\n",
      "\"No, Sara, don't quit,\" he said. \"It's fun here. Look, there's a squirrel. Let's chase it.\"\n",
      "\n",
      "Sara shook her head. She didn't want to chase the squirrel. She wanted to go home and have some hot cocoa.\n",
      "\n",
      "\"Please, Ben, let's go home,\" she said. \"We can play here another day. I'm cold and hungry.\"\n",
      "\n",
      "Ben saw that Sara was shivering and looked unhappy. He loved his sister and didn't want her to be sad. He nodded and smiled.\n",
      "\n",
      "\"Okay, Sara, let's go home,\" he said. \"We can have some hot cocoa and cookies. And we can play with our toys.\"\n",
      "\n",
      "Sara hugged Ben and thanked him. They climbed down the oak tree and ran to their mom, who was waiting for them. They told her about their adventure and asked for some hot cocoa and cookies. Mom smiled and agreed. She was proud of her children for being brave and kind. They went home and had a cozy and happy time.\n",
      "Model answer: \n",
      "\n",
      "\n",
      "Sara and Ben were playing in the park. They liked to climb the big oak tree and pretend they were birds. They made nests with leaves and twigs and sang songs.\n",
      "\n",
      "But today, the sky was gloomy and the wind was cold. Sara felt sad and cold. She wanted to go home and have some hot cocoa.\n",
      "\n",
      "\"Ben, I want to quit,\" she said. \"It's too cold and dark. Let's go home.\"\n",
      "\n",
      "Ben looked at Sara and frowned. He liked the oak tree and the park. He wanted to stay and play.\n",
      "\n",
      "\"No, Sara, don't quit,\" he said. \"It's fun here. Look, there's a squirrel. Let's chase it.\"\n",
      "\n",
      "Sara shook her head. She didn't want to chase the squirrel. She wanted to go home and have some hot cocoa.\n",
      "\n",
      "\"Please, Ben, let's go home,\" she said. \"We can play here another day. I'm cold and hungry.\"\n",
      "\n",
      "Ben saw that Sara was shivering and looked unhappy. He loved his sister and didn't want her to be sad. He nodded and smiled.\n",
      "\n",
      "\"Okay, Sara, let's go home,\" he said. \"We can have some hot cocoa and cookies. And we can play with our toys.\"\n",
      "\n",
      "Sara hugged Ben and thanked him. They climbed down the oak tree and ran to their mom, who was waiting for them. They told her about their adventure and asked for some hot cocoa and cookies. Mom smiled and agreed. She was proud of her children for being brave and kind. They went home and had a cozy and happy time.\n",
      "</s>\n",
      "\n"
     ]
    }
   ],
   "source": [
    "print(convert_to_llama_chat_format(ds[\"train\"][0][\"text\"]))"
   ]
  },
  {
   "cell_type": "code",
   "execution_count": null,
   "id": "63d8a7de-68c4-49a3-aadd-52468923106c",
   "metadata": {},
   "outputs": [],
   "source": []
  }
 ],
 "metadata": {
  "kernelspec": {
   "display_name": "Python 3 (ipykernel)",
   "language": "python",
   "name": "python3"
  },
  "language_info": {
   "codemirror_mode": {
    "name": "ipython",
    "version": 3
   },
   "file_extension": ".py",
   "mimetype": "text/x-python",
   "name": "python",
   "nbconvert_exporter": "python",
   "pygments_lexer": "ipython3",
   "version": "3.11.6"
  }
 },
 "nbformat": 4,
 "nbformat_minor": 5
}
