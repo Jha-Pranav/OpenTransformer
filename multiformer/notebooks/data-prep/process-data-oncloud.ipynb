{
 "metadata": {
  "kernelspec": {
   "language": "python",
   "display_name": "Python 3",
   "name": "python3"
  },
  "language_info": {
   "name": "python",
   "version": "3.10.13",
   "mimetype": "text/x-python",
   "codemirror_mode": {
    "name": "ipython",
    "version": 3
   },
   "pygments_lexer": "ipython3",
   "nbconvert_exporter": "python",
   "file_extension": ".py"
  },
  "kaggle": {
   "accelerator": "none",
   "dataSources": [],
   "dockerImageVersionId": 30698,
   "isInternetEnabled": true,
   "language": "python",
   "sourceType": "notebook",
   "isGpuEnabled": false
  }
 },
 "nbformat_minor": 4,
 "nbformat": 4,
 "cells": [
  {
   "cell_type": "code",
   "source": [
    "from datasets import load_dataset\n",
    "\n",
    "source = [\n",
    "    \"meta-math/MetaMathQA-40K\",\n",
    "    \"meta-math/MetaMathQA_GSM8K_zh\",\n",
    "    \"meta-math/GSM8K_Backward\",\n",
    "    \"meta-math/GSM8K_zh\",\n",
    "    \"meta-math/MetaMathQA\",\n",
    "]\n",
    "cache_dir = \"/kaggle/working/\"\n",
    "for en in source:\n",
    "    dataset = load_dataset(en, cache_dir=cache_dir)"
   ],
   "metadata": {
    "execution": {
     "iopub.status.busy": "2024-04-22T09:22:04.186281Z",
     "iopub.execute_input": "2024-04-22T09:22:04.186663Z",
     "iopub.status.idle": "2024-04-22T09:23:57.424082Z",
     "shell.execute_reply.started": "2024-04-22T09:22:04.186634Z",
     "shell.execute_reply": "2024-04-22T09:23:57.423047Z"
    },
    "trusted": true
   },
   "execution_count": 1,
   "outputs": [
    {
     "output_type": "display_data",
     "data": {
      "text/plain": "Downloading readme:   0%|          | 0.00/99.0 [00:00<?, ?B/s]",
      "application/vnd.jupyter.widget-view+json": {
       "version_major": 2,
       "version_minor": 0,
       "model_id": "00249b9d0b114b3aac34b2e1584919d7"
      }
     },
     "metadata": {}
    },
    {
     "name": "stderr",
     "text": "Downloading data: 100%|██████████| 31.1M/31.1M [00:15<00:00, 2.02MB/s]\n",
     "output_type": "stream"
    },
    {
     "output_type": "display_data",
     "data": {
      "text/plain": "Generating train split: 0 examples [00:00, ? examples/s]",
      "application/vnd.jupyter.widget-view+json": {
       "version_major": 2,
       "version_minor": 0,
       "model_id": "9a531f1e68874bd4a558eee43f2c3aef"
      }
     },
     "metadata": {}
    },
    {
     "output_type": "display_data",
     "data": {
      "text/plain": "Downloading readme:   0%|          | 0.00/885 [00:00<?, ?B/s]",
      "application/vnd.jupyter.widget-view+json": {
       "version_major": 2,
       "version_minor": 0,
       "model_id": "f48adf440352465e9c33232b38504abe"
      }
     },
     "metadata": {}
    },
    {
     "name": "stderr",
     "text": "Downloading data: 100%|██████████| 365M/365M [00:15<00:00, 24.3MB/s] \n",
     "output_type": "stream"
    },
    {
     "output_type": "display_data",
     "data": {
      "text/plain": "Generating train split: 0 examples [00:00, ? examples/s]",
      "application/vnd.jupyter.widget-view+json": {
       "version_major": 2,
       "version_minor": 0,
       "model_id": "e3d4465e831f40b1a5bbf5f67544b316"
      }
     },
     "metadata": {}
    },
    {
     "output_type": "display_data",
     "data": {
      "text/plain": "Downloading readme:   0%|          | 0.00/193 [00:00<?, ?B/s]",
      "application/vnd.jupyter.widget-view+json": {
       "version_major": 2,
       "version_minor": 0,
       "model_id": "8f110af6af984bbea82b771e05280281"
      }
     },
     "metadata": {}
    },
    {
     "name": "stderr",
     "text": "Downloading data: 100%|██████████| 811k/811k [00:01<00:00, 619kB/s]\n",
     "output_type": "stream"
    },
    {
     "output_type": "display_data",
     "data": {
      "text/plain": "Generating test split: 0 examples [00:00, ? examples/s]",
      "application/vnd.jupyter.widget-view+json": {
       "version_major": 2,
       "version_minor": 0,
       "model_id": "29f847eb4c3a4041960000fa38c54642"
      }
     },
     "metadata": {}
    },
    {
     "output_type": "display_data",
     "data": {
      "text/plain": "Downloading readme:   0%|          | 0.00/1.19k [00:00<?, ?B/s]",
      "application/vnd.jupyter.widget-view+json": {
       "version_major": 2,
       "version_minor": 0,
       "model_id": "57822f4fb4b64234ad81dd4168855118"
      }
     },
     "metadata": {}
    },
    {
     "name": "stderr",
     "text": "Downloading data: 100%|██████████| 9.81M/9.81M [00:01<00:00, 5.37MB/s]\n",
     "output_type": "stream"
    },
    {
     "output_type": "display_data",
     "data": {
      "text/plain": "Generating train split: 0 examples [00:00, ? examples/s]",
      "application/vnd.jupyter.widget-view+json": {
       "version_major": 2,
       "version_minor": 0,
       "model_id": "32a79765b47c448aa929c9f0c58e2210"
      }
     },
     "metadata": {}
    },
    {
     "output_type": "display_data",
     "data": {
      "text/plain": "Downloading readme:   0%|          | 0.00/4.45k [00:00<?, ?B/s]",
      "application/vnd.jupyter.widget-view+json": {
       "version_major": 2,
       "version_minor": 0,
       "model_id": "5311e93a56b74190bc6270c404b8ebfb"
      }
     },
     "metadata": {}
    },
    {
     "name": "stderr",
     "text": "Downloading data: 100%|██████████| 396M/396M [00:23<00:00, 17.1MB/s] \n",
     "output_type": "stream"
    },
    {
     "output_type": "display_data",
     "data": {
      "text/plain": "Generating train split: 0 examples [00:00, ? examples/s]",
      "application/vnd.jupyter.widget-view+json": {
       "version_major": 2,
       "version_minor": 0,
       "model_id": "f672680a6c214482ab74cf96ea0ccd7d"
      }
     },
     "metadata": {}
    }
   ]
  },
  {
   "cell_type": "code",
   "source": [
    "ds1 = load_dataset(\"meta-math/MetaMathQA-40K\", cache_dir=cache_dir)\n",
    "ds1 = ds1.remove_columns([\"type\"])\n",
    "ds1 = ds1.rename_columns({\"query\": \"User\", \"response\": \"Assistant\"})\n",
    "ds1"
   ],
   "metadata": {
    "execution": {
     "iopub.status.busy": "2024-04-22T09:23:57.426171Z",
     "iopub.execute_input": "2024-04-22T09:23:57.426935Z",
     "iopub.status.idle": "2024-04-22T09:24:00.114686Z",
     "shell.execute_reply.started": "2024-04-22T09:23:57.426892Z",
     "shell.execute_reply": "2024-04-22T09:24:00.113592Z"
    },
    "trusted": true
   },
   "execution_count": 2,
   "outputs": [
    {
     "execution_count": 2,
     "output_type": "execute_result",
     "data": {
      "text/plain": "DatasetDict({\n    train: Dataset({\n        features: ['Assistant', 'User'],\n        num_rows: 40000\n    })\n})"
     },
     "metadata": {}
    }
   ]
  },
  {
   "cell_type": "code",
   "source": [
    "ds2 = load_dataset(\"meta-math/MetaMathQA_GSM8K_zh\", cache_dir=cache_dir)\n",
    "ds2 = ds2.remove_columns([\"query_zh\", \"response_zh\", \"type\"])\n",
    "ds2 = ds2.rename_columns({\"query\": \"User\", \"response\": \"Assistant\"})\n",
    "ds2"
   ],
   "metadata": {
    "execution": {
     "iopub.status.busy": "2024-04-22T09:24:00.115889Z",
     "iopub.execute_input": "2024-04-22T09:24:00.116234Z",
     "iopub.status.idle": "2024-04-22T09:24:02.514900Z",
     "shell.execute_reply.started": "2024-04-22T09:24:00.116207Z",
     "shell.execute_reply": "2024-04-22T09:24:02.513726Z"
    },
    "trusted": true
   },
   "execution_count": 3,
   "outputs": [
    {
     "execution_count": 3,
     "output_type": "execute_result",
     "data": {
      "text/plain": "DatasetDict({\n    train: Dataset({\n        features: ['User', 'Assistant'],\n        num_rows: 231685\n    })\n})"
     },
     "metadata": {}
    }
   ]
  },
  {
   "cell_type": "code",
   "source": [
    "ds3 = load_dataset(\"meta-math/GSM8K_Backward\", cache_dir=cache_dir)\n",
    "ds3 = ds3.remove_columns([\"question\", \"answer\"])\n",
    "ds3 = ds3.rename_columns({\"original_question\": \"User\", \"original_answer\": \"Assistant\"})\n",
    "ds3"
   ],
   "metadata": {
    "execution": {
     "iopub.status.busy": "2024-04-22T09:24:02.517104Z",
     "iopub.execute_input": "2024-04-22T09:24:02.517495Z",
     "iopub.status.idle": "2024-04-22T09:24:05.255144Z",
     "shell.execute_reply.started": "2024-04-22T09:24:02.517465Z",
     "shell.execute_reply": "2024-04-22T09:24:05.254081Z"
    },
    "trusted": true
   },
   "execution_count": 4,
   "outputs": [
    {
     "execution_count": 4,
     "output_type": "execute_result",
     "data": {
      "text/plain": "DatasetDict({\n    test: Dataset({\n        features: ['User', 'Assistant'],\n        num_rows: 1270\n    })\n})"
     },
     "metadata": {}
    }
   ]
  },
  {
   "cell_type": "code",
   "source": [
    "ds4 = load_dataset(\"meta-math/GSM8K_zh\", cache_dir=cache_dir)\n",
    "ds4 = ds4.remove_columns([\"question_zh\", \"answer_zh\", \"split\", \"answer_only\"])\n",
    "ds4 = ds4.rename_columns({\"question\": \"User\", \"answer\": \"Assistant\"})\n",
    "ds4"
   ],
   "metadata": {
    "execution": {
     "iopub.status.busy": "2024-04-22T09:24:05.256226Z",
     "iopub.execute_input": "2024-04-22T09:24:05.256514Z",
     "iopub.status.idle": "2024-04-22T09:24:07.648819Z",
     "shell.execute_reply.started": "2024-04-22T09:24:05.256491Z",
     "shell.execute_reply": "2024-04-22T09:24:07.647767Z"
    },
    "trusted": true
   },
   "execution_count": 5,
   "outputs": [
    {
     "execution_count": 5,
     "output_type": "execute_result",
     "data": {
      "text/plain": "DatasetDict({\n    train: Dataset({\n        features: ['User', 'Assistant'],\n        num_rows: 8792\n    })\n})"
     },
     "metadata": {}
    }
   ]
  },
  {
   "cell_type": "code",
   "source": [
    "ds5 = load_dataset(\"meta-math/GSM8K_zh\", cache_dir=cache_dir)\n",
    "ds5 = ds5.remove_columns([\"question_zh\", \"answer_zh\", \"split\", \"answer_only\"])\n",
    "ds5 = ds5.rename_columns({\"question\": \"User\", \"answer\": \"Assistant\"})\n",
    "ds5"
   ],
   "metadata": {
    "execution": {
     "iopub.status.busy": "2024-04-22T09:24:07.650113Z",
     "iopub.execute_input": "2024-04-22T09:24:07.650537Z",
     "iopub.status.idle": "2024-04-22T09:24:10.279190Z",
     "shell.execute_reply.started": "2024-04-22T09:24:07.650501Z",
     "shell.execute_reply": "2024-04-22T09:24:10.278053Z"
    },
    "trusted": true
   },
   "execution_count": 6,
   "outputs": [
    {
     "execution_count": 6,
     "output_type": "execute_result",
     "data": {
      "text/plain": "DatasetDict({\n    train: Dataset({\n        features: ['User', 'Assistant'],\n        num_rows: 8792\n    })\n})"
     },
     "metadata": {}
    }
   ]
  },
  {
   "cell_type": "code",
   "source": [
    "from datasets import concatenate_datasets\n",
    "\n",
    "ds = concatenate_datasets([ds1[\"train\"], ds2[\"train\"], ds3[\"test\"], ds4[\"train\"], ds5[\"train\"]])"
   ],
   "metadata": {
    "execution": {
     "iopub.status.busy": "2024-04-22T09:24:10.280563Z",
     "iopub.execute_input": "2024-04-22T09:24:10.280916Z",
     "iopub.status.idle": "2024-04-22T09:24:10.293971Z",
     "shell.execute_reply.started": "2024-04-22T09:24:10.280890Z",
     "shell.execute_reply": "2024-04-22T09:24:10.292936Z"
    },
    "trusted": true
   },
   "execution_count": 7,
   "outputs": []
  },
  {
   "cell_type": "code",
   "source": [
    "ds = ds.map(\n",
    "    lambda example: {\"text\": example[\"User\"] + \"/n\" + example[\"Assistant\"]},\n",
    "    num_proc=30,\n",
    "    remove_columns=ds.column_names,\n",
    ")"
   ],
   "metadata": {
    "execution": {
     "iopub.status.busy": "2024-04-22T09:28:29.689421Z",
     "iopub.execute_input": "2024-04-22T09:28:29.690441Z",
     "iopub.status.idle": "2024-04-22T09:28:29.782945Z",
     "shell.execute_reply.started": "2024-04-22T09:28:29.690396Z",
     "shell.execute_reply": "2024-04-22T09:28:29.781998Z"
    },
    "trusted": true
   },
   "execution_count": 14,
   "outputs": []
  },
  {
   "cell_type": "code",
   "source": [
    "ds = ds.train_test_split(0.2)"
   ],
   "metadata": {
    "execution": {
     "iopub.status.busy": "2024-04-22T09:29:01.151928Z",
     "iopub.execute_input": "2024-04-22T09:29:01.152364Z",
     "iopub.status.idle": "2024-04-22T09:29:01.249883Z",
     "shell.execute_reply.started": "2024-04-22T09:29:01.152327Z",
     "shell.execute_reply": "2024-04-22T09:29:01.248883Z"
    },
    "trusted": true
   },
   "execution_count": 17,
   "outputs": []
  },
  {
   "cell_type": "code",
   "source": [
    "ds.save_to_disk(cache_dir + \"/maths-problem-hf\")"
   ],
   "metadata": {
    "execution": {
     "iopub.status.busy": "2024-04-22T09:29:11.889268Z",
     "iopub.execute_input": "2024-04-22T09:29:11.889704Z",
     "iopub.status.idle": "2024-04-22T09:29:13.271362Z",
     "shell.execute_reply.started": "2024-04-22T09:29:11.889670Z",
     "shell.execute_reply": "2024-04-22T09:29:13.270272Z"
    },
    "trusted": true
   },
   "execution_count": 18,
   "outputs": [
    {
     "output_type": "display_data",
     "data": {
      "text/plain": "Saving the dataset (0/1 shards):   0%|          | 0/232431 [00:00<?, ? examples/s]",
      "application/vnd.jupyter.widget-view+json": {
       "version_major": 2,
       "version_minor": 0,
       "model_id": "c645772b4412428c92d91732001d2696"
      }
     },
     "metadata": {}
    },
    {
     "output_type": "display_data",
     "data": {
      "text/plain": "Saving the dataset (0/1 shards):   0%|          | 0/58108 [00:00<?, ? examples/s]",
      "application/vnd.jupyter.widget-view+json": {
       "version_major": 2,
       "version_minor": 0,
       "model_id": "a9c4855b78d54d1ca8d412ebc46b1aec"
      }
     },
     "metadata": {}
    }
   ]
  },
  {
   "cell_type": "code",
   "source": [
    "from datasets import load_from_disk\n",
    "\n",
    "load_from_disk(\"/kaggle/working/maths-problem-hf\")"
   ],
   "metadata": {
    "execution": {
     "iopub.status.busy": "2024-04-22T09:31:59.600557Z",
     "iopub.execute_input": "2024-04-22T09:31:59.600966Z",
     "iopub.status.idle": "2024-04-22T09:31:59.621667Z",
     "shell.execute_reply.started": "2024-04-22T09:31:59.600934Z",
     "shell.execute_reply": "2024-04-22T09:31:59.620580Z"
    },
    "trusted": true
   },
   "execution_count": 20,
   "outputs": [
    {
     "execution_count": 20,
     "output_type": "execute_result",
     "data": {
      "text/plain": "DatasetDict({\n    train: Dataset({\n        features: ['text'],\n        num_rows: 232431\n    })\n    test: Dataset({\n        features: ['text'],\n        num_rows: 58108\n    })\n})"
     },
     "metadata": {}
    }
   ]
  },
  {
   "cell_type": "code",
   "source": [
    "!zip -r file.zip '/kaggle/working/maths-problem-hf/'\n",
    "from IPython.display import FileLink\n",
    "\n",
    "FileLink(r\"file.zip\")"
   ],
   "metadata": {
    "execution": {
     "iopub.status.busy": "2024-04-22T09:35:02.853233Z",
     "iopub.execute_input": "2024-04-22T09:35:02.855028Z",
     "iopub.status.idle": "2024-04-22T09:35:17.437982Z",
     "shell.execute_reply.started": "2024-04-22T09:35:02.854922Z",
     "shell.execute_reply": "2024-04-22T09:35:17.436466Z"
    },
    "trusted": true
   },
   "execution_count": 26,
   "outputs": [
    {
     "name": "stdout",
     "text": "  adding: kaggle/working/maths-problem-hf/ (stored 0%)\n  adding: kaggle/working/maths-problem-hf/train/ (stored 0%)\n  adding: kaggle/working/maths-problem-hf/train/dataset_info.json (deflated 38%)\n  adding: kaggle/working/maths-problem-hf/train/data-00000-of-00001.arrow (deflated 73%)\n  adding: kaggle/working/maths-problem-hf/train/state.json (deflated 39%)\n  adding: kaggle/working/maths-problem-hf/test/ (stored 0%)\n  adding: kaggle/working/maths-problem-hf/test/dataset_info.json (deflated 38%)\n  adding: kaggle/working/maths-problem-hf/test/data-00000-of-00001.arrow (deflated 73%)\n  adding: kaggle/working/maths-problem-hf/test/state.json (deflated 38%)\n  adding: kaggle/working/maths-problem-hf/dataset_dict.json (stored 0%)\n",
     "output_type": "stream"
    },
    {
     "execution_count": 26,
     "output_type": "execute_result",
     "data": {
      "text/plain": "/kaggle/working/file.zip",
      "text/html": "<a href='file.zip' target='_blank'>file.zip</a><br>"
     },
     "metadata": {}
    }
   ]
  },
  {
   "cell_type": "code",
   "source": "",
   "metadata": {},
   "execution_count": null,
   "outputs": []
  }
 ]
}
