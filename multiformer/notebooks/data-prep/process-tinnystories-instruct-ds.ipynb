{
 "cells": [
  {
   "cell_type": "code",
   "execution_count": 18,
   "id": "c9eb0fda-3f8c-4a88-bae0-de4736addee1",
   "metadata": {},
   "outputs": [],
   "source": [
    "import torch\n",
    "import torch.nn as nn\n",
    "from datasets import load_dataset, load_from_disk\n",
    "from src.models.blm.finetune.chat_format import convert_stories_to_chat_format"
   ]
  },
  {
   "cell_type": "code",
   "execution_count": 19,
   "id": "b53ca85c-2b14-40b3-bd4d-121856bfb0e1",
   "metadata": {},
   "outputs": [
    {
     "data": {
      "text/plain": [
       "DatasetDict({\n",
       "    train: Dataset({\n",
       "        features: ['text'],\n",
       "        num_rows: 2476533\n",
       "    })\n",
       "    validation: Dataset({\n",
       "        features: ['text'],\n",
       "        num_rows: 25028\n",
       "    })\n",
       "})"
      ]
     },
     "execution_count": 19,
     "metadata": {},
     "output_type": "execute_result"
    }
   ],
   "source": [
    "ds = load_dataset(\n",
    "    \"skeskinen/TinyStories-Instruct-hf\",\n",
    "    cache_dir=\"/home/pranav-pc/projects/OpenTransformer/multiformer/data/downloads\",\n",
    ")\n",
    "ds"
   ]
  },
  {
   "cell_type": "code",
   "execution_count": 20,
   "id": "eec3a323-253d-4deb-90f9-7c3ec2a1afb0",
   "metadata": {},
   "outputs": [],
   "source": [
    "ds = ds.map(lambda example: {\"is_present\": \"Story:\" in example[\"text\"]}, num_proc=28)"
   ]
  },
  {
   "cell_type": "code",
   "execution_count": 21,
   "id": "1df3bb32-bd33-4a41-9e50-7a9d09ebbc15",
   "metadata": {},
   "outputs": [],
   "source": [
    "assert sum(ds[\"train\"][\"is_present\"]) == len(ds[\"train\"])"
   ]
  },
  {
   "cell_type": "code",
   "execution_count": 22,
   "id": "4442918a-d0de-489c-8794-dbd9ecf13858",
   "metadata": {},
   "outputs": [
    {
     "data": {
      "text/plain": [
       "DatasetDict({\n",
       "    train: Dataset({\n",
       "        features: ['text', 'is_present'],\n",
       "        num_rows: 2476533\n",
       "    })\n",
       "    validation: Dataset({\n",
       "        features: ['text', 'is_present'],\n",
       "        num_rows: 25026\n",
       "    })\n",
       "})"
      ]
     },
     "execution_count": 22,
     "metadata": {},
     "output_type": "execute_result"
    }
   ],
   "source": [
    "ds = ds.filter(lambda example: example[\"is_present\"], num_proc=30)\n",
    "ds"
   ]
  },
  {
   "cell_type": "code",
   "execution_count": 31,
   "id": "c7af9137-4e50-44a0-a668-6b641f9e2051",
   "metadata": {},
   "outputs": [],
   "source": [
    "example = ds[\"train\"][0][\"text\"]"
   ]
  },
  {
   "cell_type": "code",
   "execution_count": 35,
   "id": "d97a5767-be40-4989-a731-ab703fc2edc7",
   "metadata": {},
   "outputs": [
    {
     "data": {
      "text/plain": [
       "['Features: Dialogue\\nWords: quit, oak, gloomy\\nSummary: Sara and Ben were playing in the park, but Sara wanted to go home because it was cold and dark. Ben convinced her to stay and play, but eventually agreed to go home and have hot cocoa.\\n',\n",
       " ' \\n\\n\\n\\nSara and Ben were playing in the park. They liked to climb the big oak tree and pretend they were birds. They made nests with leaves and twigs and sang songs.\\n\\nBut today, the sky was gloomy and the wind was cold. Sara felt sad and cold. She wanted to go home and have some hot cocoa.\\n\\n\"Ben, I want to quit,\" she said. \"It\\'s too cold and dark. Let\\'s go home.\"\\n\\nBen looked at Sara and frowned. He liked the oak tree and the park. He wanted to stay and play.\\n\\n\"No, Sara, don\\'t quit,\" he said. \"It\\'s fun here. Look, there\\'s a squirrel. Let\\'s chase it.\"\\n\\nSara shook her head. She didn\\'t want to chase the squirrel. She wanted to go home and have some hot cocoa.\\n\\n\"Please, Ben, let\\'s go home,\" she said. \"We can play here another day. I\\'m cold and hungry.\"\\n\\nBen saw that Sara was shivering and looked unhappy. He loved his sister and didn\\'t want her to be sad. He nodded and smiled.\\n\\n\"Okay, Sara, let\\'s go home,\" he said. \"We can have some hot cocoa and cookies. And we can play with our toys.\"\\n\\nSara hugged Ben and thanked him. They climbed down the oak tree and ran to their mom, who was waiting for them. They told her about their adventure and asked for some hot cocoa and cookies. Mom smiled and agreed. She was proud of her children for being brave and kind. They went home and had a cozy and happy time.']"
      ]
     },
     "execution_count": 35,
     "metadata": {},
     "output_type": "execute_result"
    }
   ],
   "source": [
    "example.split(\"Story:\")"
   ]
  },
  {
   "cell_type": "code",
   "execution_count": 38,
   "id": "1a4d1e01-171d-43a9-855c-809f8ef61228",
   "metadata": {},
   "outputs": [
    {
     "name": "stdout",
     "output_type": "stream",
     "text": [
      "{'Features': 'Dialogue', 'Words': 'quit, oak, gloomy', 'Summary': 'Sara and Ben were playing in the park, but Sara wanted to go home because it was cold and dark. Ben convinced her to stay and play, but eventually agreed to go home and have hot cocoa.', 'Story': 'Sara and Ben were playing in the park. They liked to climb the big oak tree and pretend they were birds. They made nests with leaves and twigs and sang songs.\\n\\nBut today, the sky was gloomy and the wind was cold. Sara felt sad and cold. She wanted to go home and have some hot cocoa.\\n\\n\"Ben, I want to quit,\" she said. \"It\\'s too cold and dark. Let\\'s go home.\"\\n\\nBen looked at Sara and frowned. He liked the oak tree and the park. He wanted to stay and play.\\n\\n\"No, Sara, don\\'t quit,\" he said. \"It\\'s fun here. Look, there\\'s a squirrel. Let\\'s chase it.\"\\n\\nSara shook her head. She didn\\'t want to chase the squirrel. She wanted to go home and have some hot cocoa.\\n\\n\"Please, Ben, let\\'s go home,\" she said. \"We can play here another day. I\\'m cold and hungry.\"\\n\\nBen saw that Sara was shivering and looked unhappy. He loved his sister and didn\\'t want her to be sad. He nodded and smiled.\\n\\n\"Okay, Sara, let\\'s go home,\" he said. \"We can have some hot cocoa and cookies. And we can play with our toys.\"\\n\\nSara hugged Ben and thanked him. They climbed down the oak tree and ran to their mom, who was waiting for them. They told her about their adventure and asked for some hot cocoa and cookies. Mom smiled and agreed. She was proud of her children for being brave and kind. They went home and had a cozy and happy time.'}\n"
     ]
    }
   ],
   "source": [
    "def text_to_dict(text):\n",
    "    example_dict = {}\n",
    "\n",
    "    sections = text.split(\"Story:\")\n",
    "\n",
    "    for section in sections[:-1]:\n",
    "        lines = section.split(\"\\n\")\n",
    "        for line in lines:\n",
    "            if line.startswith(\"Features:\"):\n",
    "                example_dict[\"Features\"] = line.replace(\"Features: \", \"\")\n",
    "            elif line.startswith(\"Words:\"):\n",
    "                example_dict[\"Words\"] = line.replace(\"Words: \", \"\")\n",
    "            elif line.startswith(\"Summary:\"):\n",
    "                example_dict[\"Summary\"] = line.replace(\"Summary: \", \"\")\n",
    "\n",
    "    example_dict[\"Story\"] = sections[-1].strip()\n",
    "    return example_dict\n",
    "\n",
    "\n",
    "# Example text\n",
    "example_text = ds[\"train\"][0][\"text\"]\n",
    "\n",
    "# Convert text to dictionary\n",
    "example_dict = text_to_dict(example_text)\n",
    "print(example_dict)"
   ]
  },
  {
   "cell_type": "code",
   "execution_count": 39,
   "id": "d8376b6a-a165-4b00-812d-40a95438a7bc",
   "metadata": {},
   "outputs": [
    {
     "name": "stdout",
     "output_type": "stream",
     "text": [
      "{'Features': 'Dialogue',\n",
      " 'Story': 'Sara and Ben were playing in the park. They liked to climb the big '\n",
      "          'oak tree and pretend they were birds. They made nests with leaves '\n",
      "          'and twigs and sang songs.\\n'\n",
      "          '\\n'\n",
      "          'But today, the sky was gloomy and the wind was cold. Sara felt sad '\n",
      "          'and cold. She wanted to go home and have some hot cocoa.\\n'\n",
      "          '\\n'\n",
      "          '\"Ben, I want to quit,\" she said. \"It\\'s too cold and dark. Let\\'s '\n",
      "          'go home.\"\\n'\n",
      "          '\\n'\n",
      "          'Ben looked at Sara and frowned. He liked the oak tree and the park. '\n",
      "          'He wanted to stay and play.\\n'\n",
      "          '\\n'\n",
      "          '\"No, Sara, don\\'t quit,\" he said. \"It\\'s fun here. Look, there\\'s a '\n",
      "          'squirrel. Let\\'s chase it.\"\\n'\n",
      "          '\\n'\n",
      "          \"Sara shook her head. She didn't want to chase the squirrel. She \"\n",
      "          'wanted to go home and have some hot cocoa.\\n'\n",
      "          '\\n'\n",
      "          '\"Please, Ben, let\\'s go home,\" she said. \"We can play here another '\n",
      "          'day. I\\'m cold and hungry.\"\\n'\n",
      "          '\\n'\n",
      "          'Ben saw that Sara was shivering and looked unhappy. He loved his '\n",
      "          \"sister and didn't want her to be sad. He nodded and smiled.\\n\"\n",
      "          '\\n'\n",
      "          '\"Okay, Sara, let\\'s go home,\" he said. \"We can have some hot cocoa '\n",
      "          'and cookies. And we can play with our toys.\"\\n'\n",
      "          '\\n'\n",
      "          'Sara hugged Ben and thanked him. They climbed down the oak tree and '\n",
      "          'ran to their mom, who was waiting for them. They told her about '\n",
      "          'their adventure and asked for some hot cocoa and cookies. Mom '\n",
      "          'smiled and agreed. She was proud of her children for being brave '\n",
      "          'and kind. They went home and had a cozy and happy time.',\n",
      " 'Summary': 'Sara and Ben were playing in the park, but Sara wanted to go home '\n",
      "            'because it was cold and dark. Ben convinced her to stay and play, '\n",
      "            'but eventually agreed to go home and have hot cocoa.',\n",
      " 'Words': 'quit, oak, gloomy'}\n"
     ]
    }
   ],
   "source": [
    "from pprint import pprint\n",
    "\n",
    "pprint(example_dict)"
   ]
  },
  {
   "cell_type": "code",
   "execution_count": 7,
   "id": "cc2a1c15-16f9-48fd-bbe7-d4bc1e476d6a",
   "metadata": {},
   "outputs": [],
   "source": [
    "ds = ds.map(\n",
    "    lambda example: {\n",
    "        \"text\": convert_stories_to_chat_format(example[\"text\"]).replace(\"\\n\\n\\n\", \"\")\n",
    "    },\n",
    "    batched=False,\n",
    "    num_proc=30,\n",
    "    remove_columns=ds.column_names[\"train\"],\n",
    ")"
   ]
  },
  {
   "cell_type": "code",
   "execution_count": 8,
   "id": "eb3e8b0c-6a9b-425d-9e82-ee19174644f9",
   "metadata": {},
   "outputs": [],
   "source": [
    "train, validation = ds[\"train\"], ds[\"validation\"]"
   ]
  },
  {
   "cell_type": "code",
   "execution_count": 9,
   "id": "37655d64-a284-45f8-8b9f-5bd529024407",
   "metadata": {},
   "outputs": [],
   "source": [
    "ds = ds.map(lambda example: {\"len\": len(example[\"text\"])})"
   ]
  },
  {
   "cell_type": "code",
   "execution_count": 10,
   "id": "0de40e5e-6244-4346-ae30-63dd15b66010",
   "metadata": {},
   "outputs": [
    {
     "data": {
      "text/plain": [
       "<Axes: ylabel='Count'>"
      ]
     },
     "execution_count": 10,
     "metadata": {},
     "output_type": "execute_result"
    },
    {
     "data": {
      "image/png": "[encoded data removed]",
      "text/plain": [
       "<Figure size 640x480 with 1 Axes>"
      ]
     },
     "metadata": {},
     "output_type": "display_data"
    }
   ],
   "source": [
    "import seaborn as sns\n",
    "\n",
    "sns.histplot(ds[\"train\"][\"len\"])"
   ]
  },
  {
   "cell_type": "code",
   "execution_count": 11,
   "id": "03f27bbc-1d7e-4be6-b736-dcd87c0a9a92",
   "metadata": {},
   "outputs": [
    {
     "data": {
      "text/plain": [
       "0"
      ]
     },
     "execution_count": 11,
     "metadata": {},
     "output_type": "execute_result"
    }
   ],
   "source": [
    "sum([i < 65 for i in ds[\"train\"][\"len\"]])"
   ]
  },
  {
   "cell_type": "code",
   "execution_count": 17,
   "id": "790797c2-0700-4d3d-89bd-b8cc0ff68266",
   "metadata": {},
   "outputs": [
    {
     "name": "stdout",
     "output_type": "stream",
     "text": [
      "User:\n",
      "Summary: Lily and Tom help their mom make a cake by stirring the ingredients, getting milk, and finding a clean pan. They enjoy licking the spoon and can't wait to eat the cake.\n",
      "Features: Dialogue\n",
      "Words: stir, jug, clean\n",
      "Assistant: \n",
      "\n",
      "Lily and Tom were helping Mom make a cake. Mom gave them a big bowl with flour, sugar, eggs and butter. She said, \"You can stir this with a spoon. Be careful not to spill it.\"\n",
      "\n",
      "Lily and Tom took turns to stir the bowl. They liked to see how the ingredients mixed together. They made funny noises as they stirred. \"Swish, swish, swish,\" said Lily. \"Squish, squish, squish,\" said Tom.\n",
      "\n",
      "Mom smiled and said, \"You are doing a great job. Now we need some milk. Can you get the jug from the fridge?\" Lily and Tom ran to the fridge and opened the door. They saw a big jug with a picture of a cow on it. They grabbed the jug and brought it to Mom.\n",
      "\n",
      "Mom poured some milk into the bowl and said, \"Now we need to stir it some more. Can you help me?\" Lily and Tom nodded and held the spoon with Mom. They stirred the bowl until the batter was smooth and creamy.\n",
      "\n",
      "Mom said, \"The cake is ready to bake. We need to put it in a clean pan. Can you find one in the cupboard?\" Lily and Tom looked in the cupboard and found a round pan with a hole in the middle. They said, \"This one is clean, Mom.\" They gave the pan to Mom and she poured the batter into it.\n",
      "\n",
      "Mom said, \"Thank you, Lily and Tom. You are very good helpers. Now we need to wait for the cake to bake. Do you want to lick the spoon?\" Lily and Tom said, \"Yes, please!\" They licked the spoon and smiled. They liked the taste of the batter. They said, \"We can't wait to eat the cake, Mom.\" Mom said, \"Me too. It will be yummy.\"\n"
     ]
    }
   ],
   "source": [
    "print(ds[\"train\"][91][\"text\"])"
   ]
  },
  {
   "cell_type": "code",
   "execution_count": 43,
   "id": "58600b28-f784-4196-86b6-14fe951b6f7b",
   "metadata": {},
   "outputs": [],
   "source": [
    "import json\n",
    "\n",
    "\n",
    "# Function to process a single example and generate prompts\n",
    "def process_example(example):\n",
    "    prompts = []\n",
    "\n",
    "    # Summary prompt\n",
    "    summary = example.get(\"Summary\", \"\")\n",
    "    if summary:\n",
    "        prompts.append({\"prompt\": \"Summary Prompt\", \"text\": f\"Summary: {summary}\"})\n",
    "\n",
    "    # Features prompt\n",
    "    features = example.get(\"Features\", \"\")\n",
    "    if features:\n",
    "        prompts.append({\"prompt\": \"Features Prompt\", \"text\": f\"Features: {features}\"})\n",
    "\n",
    "    # Words prompt\n",
    "    words = example.get(\"Words\", \"\")\n",
    "    if words:\n",
    "        words_list = words.split(\", \")\n",
    "        words_text = \", \".join([f'\"{word}\"' for word in words_list])\n",
    "        prompts.append({\"prompt\": \"Words Prompt\", \"text\": f\"Words: {words_text}\"})\n",
    "\n",
    "    # Combined prompts\n",
    "    combined_text = f\"Summary: {summary}\\nFeatures: {features}\\nWords: {words}\"\n",
    "    if combined_text:\n",
    "        prompts.append({\"prompt\": \"Combined Prompts\", \"text\": combined_text})\n",
    "\n",
    "    return prompts\n",
    "\n",
    "\n",
    "# Function to process the entire dataset\n",
    "def process_dataset(dataset):\n",
    "    processed_data = []\n",
    "    for example in dataset:\n",
    "        prompts = process_example(example)\n",
    "        processed_data.extend(prompts)\n",
    "    return processed_data\n",
    "\n",
    "\n",
    "# # Sample dataset (replace this with your actual dataset loading code)\n",
    "# with open(\"your_dataset.json\", \"r\") as file:\n",
    "#     dataset = json.load(file)\n",
    "\n",
    "# Process the dataset\n",
    "# processed_data = process_dataset(dataset)\n",
    "\n",
    "# Write the prompts to a file\n",
    "# with open(\"prompts.txt\", \"w\") as file:\n",
    "#     for item in processed_data:\n",
    "#         file.write(f\"{item['prompt']}:\\n{item['text']}\\n\\n\")"
   ]
  },
  {
   "cell_type": "code",
   "execution_count": 44,
   "id": "76a8f365-423b-4799-ac63-d221c4422333",
   "metadata": {},
   "outputs": [
    {
     "data": {
      "text/plain": [
       "[{'prompt': 'Summary Prompt',\n",
       "  'text': 'Summary: Sara and Ben were playing in the park, but Sara wanted to go home because it was cold and dark. Ben convinced her to stay and play, but eventually agreed to go home and have hot cocoa.'},\n",
       " {'prompt': 'Features Prompt', 'text': 'Features: Dialogue'},\n",
       " {'prompt': 'Words Prompt', 'text': 'Words: \"quit\", \"oak\", \"gloomy\"'},\n",
       " {'prompt': 'Combined Prompts',\n",
       "  'text': 'Summary: Sara and Ben were playing in the park, but Sara wanted to go home because it was cold and dark. Ben convinced her to stay and play, but eventually agreed to go home and have hot cocoa.\\nFeatures: Dialogue\\nWords: quit, oak, gloomy'}]"
      ]
     },
     "execution_count": 44,
     "metadata": {},
     "output_type": "execute_result"
    }
   ],
   "source": [
    "process_example(example_dict)"
   ]
  },
  {
   "cell_type": "code",
   "execution_count": 13,
   "id": "ab028dc4-45f9-4bbd-b7f1-80818ac24b08",
   "metadata": {},
   "outputs": [],
   "source": [
    "ds = load_from_disk(\n",
    "    \"/home/pranav-pc/projects/OpenTransformer/multiformer/data/processed/TinyStories-Instruct-hf\"\n",
    ")"
   ]
  },
  {
   "cell_type": "code",
   "execution_count": 14,
   "id": "79754de3-c727-45eb-bf85-92837c728591",
   "metadata": {},
   "outputs": [
    {
     "data": {
      "text/plain": [
       "{'text': 'User:\\nFeatures: Dialogue\\nWords: quit, oak, gloomy\\nSummary: Sara and Ben were playing in the park, but Sara wanted to go home because it was cold and dark. Ben convinced her to stay and play, but eventually agreed to go home and have hot cocoa.\\nAssistant: \\nSara and Ben were playing in the park. They liked to climb the big oak tree and pretend they were birds. They made nests with leaves and twigs and sang songs.\\n\\nBut today, the sky was gloomy and the wind was cold. Sara felt sad and cold. She wanted to go home and have some hot cocoa.\\n\\n\"Ben, I want to quit,\" she said. \"It\\'s too cold and dark. Let\\'s go home.\"\\n\\nBen looked at Sara and frowned. He liked the oak tree and the park. He wanted to stay and play.\\n\\n\"No, Sara, don\\'t quit,\" he said. \"It\\'s fun here. Look, there\\'s a squirrel. Let\\'s chase it.\"\\n\\nSara shook her head. She didn\\'t want to chase the squirrel. She wanted to go home and have some hot cocoa.\\n\\n\"Please, Ben, let\\'s go home,\" she said. \"We can play here another day. I\\'m cold and hungry.\"\\n\\nBen saw that Sara was shivering and looked unhappy. He loved his sister and didn\\'t want her to be sad. He nodded and smiled.\\n\\n\"Okay, Sara, let\\'s go home,\" he said. \"We can have some hot cocoa and cookies. And we can play with our toys.\"\\n\\nSara hugged Ben and thanked him. They climbed down the oak tree and ran to their mom, who was waiting for them. They told her about their adventure and asked for some hot cocoa and cookies. Mom smiled and agreed. She was proud of her children for being brave and kind. They went home and had a cozy and happy time.'}"
      ]
     },
     "execution_count": 14,
     "metadata": {},
     "output_type": "execute_result"
    }
   ],
   "source": [
    "ds[\"train\"][0]"
   ]
  },
  {
   "cell_type": "code",
   "execution_count": 3,
   "id": "189418fc-26d3-4ed0-9ad6-bb8333b69b20",
   "metadata": {},
   "outputs": [],
   "source": [
    "from datasets import load_from_disk\n",
    "\n",
    "ds = load_from_disk(\n",
    "    \"/home/pranav-pc/projects/OpenTransformer/multiformer/data/interim/TinyStories-Instruct-hf_train_65>tk>1024.hf\"\n",
    ")"
   ]
  },
  {
   "cell_type": "code",
   "execution_count": 6,
   "id": "5f4cb3b2-1575-40c0-80b8-7e016f2c996a",
   "metadata": {},
   "outputs": [
    {
     "data": {
      "application/vnd.jupyter.widget-view+json": {
       "model_id": "94acc6153e8041debbbb4e431bbcf842",
       "version_major": 2,
       "version_minor": 0
      },
      "text/plain": [
       "Map:   0%|          | 0/2473061 [00:00<?, ? examples/s]"
      ]
     },
     "metadata": {},
     "output_type": "display_data"
    }
   ],
   "source": [
    "ds = ds.map(lambda example: {\"len\": len(example[\"idx\"])})"
   ]
  },
  {
   "cell_type": "code",
   "execution_count": 8,
   "id": "12a5960d-f891-40e3-ab9b-d61520a9f27b",
   "metadata": {},
   "outputs": [
    {
     "data": {
      "text/plain": [
       "<Axes: ylabel='Count'>"
      ]
     },
     "execution_count": 8,
     "metadata": {},
     "output_type": "execute_result"
    },
    {
     "data": {
      "image/png": "[encoded data removed]",
      "text/plain": [
       "<Figure size 640x480 with 1 Axes>"
      ]
     },
     "metadata": {},
     "output_type": "display_data"
    }
   ],
   "source": [
    "import seaborn as sns\n",
    "\n",
    "sns.histplot(ds[\"len\"])"
   ]
  },
  {
   "cell_type": "code",
   "execution_count": null,
   "id": "160f7724-babb-411c-9648-608bcb49ce34",
   "metadata": {},
   "outputs": [],
   "source": []
  }
 ],
 "metadata": {
  "kernelspec": {
   "display_name": "Python 3 (ipykernel)",
   "language": "python",
   "name": "python3"
  },
  "language_info": {
   "codemirror_mode": {
    "name": "ipython",
    "version": 3
   },
   "file_extension": ".py",
   "mimetype": "text/x-python",
   "name": "python",
   "nbconvert_exporter": "python",
   "pygments_lexer": "ipython3",
   "version": "3.11.6"
  }
 },
 "nbformat": 4,
 "nbformat_minor": 5
}
