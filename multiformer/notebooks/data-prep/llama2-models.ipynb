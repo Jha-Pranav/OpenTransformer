{
 "cells": [
  {
   "cell_type": "code",
   "execution_count": 1,
   "id": "90fced85-277f-4f3d-bbd0-4e054a23beb9",
   "metadata": {},
   "outputs": [],
   "source": [
    "from transformers import LlamaConfig,LlamaModel"
   ]
  },
  {
   "cell_type": "code",
   "execution_count": 2,
   "id": "0992df9b-315d-432e-b114-23f34106e6fa",
   "metadata": {},
   "outputs": [],
   "source": [
    "config = LlamaModel()"
   ]
  },
  {
   "cell_type": "code",
   "execution_count": null,
   "id": "4f19f275-6c9d-431f-bcae-3d0d9dece2f7",
   "metadata": {},
   "outputs": [],
   "source": []
  }
 ],
 "metadata": {
  "kernelspec": {
   "display_name": "Python 3 (ipykernel)",
   "language": "python",
   "name": "python3"
  },
  "language_info": {
   "codemirror_mode": {
    "name": "ipython",
    "version": 3
   },
   "file_extension": ".py",
   "mimetype": "text/x-python",
   "name": "python",
   "nbconvert_exporter": "python",
   "pygments_lexer": "ipython3",
   "version": "3.11.6"
  }
 },
 "nbformat": 4,
 "nbformat_minor": 5
}
