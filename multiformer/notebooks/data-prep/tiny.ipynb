{
 "cells": [
  {
   "cell_type": "code",
   "execution_count": 21,
   "id": "b9e3528c-3e5a-40c2-8293-7b3e5795c708",
   "metadata": {},
   "outputs": [
    {
     "data": {
      "application/vnd.jupyter.widget-view+json": {
       "model_id": "ca594e963b3e4953b93363ed1d3d6026",
       "version_major": 2,
       "version_minor": 0
      },
      "text/plain": [
       "Generating train split: 0 examples [00:00, ? examples/s]"
      ]
     },
     "metadata": {},
     "output_type": "display_data"
    },
    {
     "data": {
      "application/vnd.jupyter.widget-view+json": {
       "model_id": "f3822f901338489897aee7450ab815d6",
       "version_major": 2,
       "version_minor": 0
      },
      "text/plain": [
       "Generating validation split: 0 examples [00:00, ? examples/s]"
      ]
     },
     "metadata": {},
     "output_type": "display_data"
    }
   ],
   "source": [
    "from datasets import load_dataset\n",
    "source = [\"SciPhi/textbooks-are-all-you-need-lite\",\n",
    "\"nampdn-ai/tiny-codes\",\n",
    "\"nampdn-ai/tiny-textbooks\",\n",
    "\"nampdn-ai/tiny-strange-textbooks\",\n",
    "\"nampdn-ai/tiny-code-textbooks\",\n",
    "\"nampdn-ai/tiny-orca-textbooks\",\n",
    "\"nampdn-ai/tiny-webtext\"\n",
    "]\n",
    "en = \"nampdn-ai/tiny-code-textbooks\"\n",
    "cache_dir=f\"/home/pranav-pc/projects/OpenTransformer/multiformer/data/downloads/TinyStories\"\n",
    "dataset = load_dataset(path=cache_dir)"
   ]
  },
  {
   "cell_type": "code",
   "execution_count": 27,
   "id": "34ec9771-a65d-4d5f-998f-6141e9388af7",
   "metadata": {},
   "outputs": [
    {
     "name": "stdout",
     "output_type": "stream",
     "text": [
      "Once upon a time, there was a queen. She was a very nice queen. She had a big, pretty castle. The queen had a lot of work to do every day. But today, she wanted to relax.\n",
      "\n",
      "The queen went to the park to relax. She sat on a soft, green grass. The queen saw a bug. The bug was disgusting. The queen did not like the disgusting bug.\n",
      "\n",
      "The queen went back to her castle. She was happy to be away from the disgusting bug. Now, the queen could relax in her big, pretty castle. The queen smiled and had a good day.\n"
     ]
    }
   ],
   "source": [
    "data = dataset['train'][15]\n",
    "print(data['text'])"
   ]
  },
  {
   "cell_type": "code",
   "execution_count": null,
   "id": "c8391015-12a5-4697-90b6-10c30910b28f",
   "metadata": {},
   "outputs": [],
   "source": []
  }
 ],
 "metadata": {
  "kernelspec": {
   "display_name": "Python 3 (ipykernel)",
   "language": "python",
   "name": "python3"
  },
  "language_info": {
   "codemirror_mode": {
    "name": "ipython",
    "version": 3
   },
   "file_extension": ".py",
   "mimetype": "text/x-python",
   "name": "python",
   "nbconvert_exporter": "python",
   "pygments_lexer": "ipython3",
   "version": "3.11.6"
  }
 },
 "nbformat": 4,
 "nbformat_minor": 5
}
