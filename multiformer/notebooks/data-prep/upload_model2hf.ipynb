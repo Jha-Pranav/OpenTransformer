{
 "cells": [
  {
   "cell_type": "code",
   "execution_count": 1,
   "id": "f0c47259-c3fb-4f0c-bb29-c8b24021d900",
   "metadata": {},
   "outputs": [],
   "source": [
    "import torch\n",
    "import torch.nn as nn\n",
    "from huggingface_hub import PyTorchModelHubMixin"
   ]
  },
  {
   "cell_type": "code",
   "execution_count": 13,
   "id": "9e7d64f6-168d-48fb-ac90-77213493c0d8",
   "metadata": {},
   "outputs": [],
   "source": [
    "model_path = \"/home/pranav-pc/projects/OpenTransformer/multiformer/model_checkpoints/blm/blm-epoch-07-ctx-512-emd-768-loss-1.2033.ckpt\""
   ]
  },
  {
   "cell_type": "code",
   "execution_count": 14,
   "id": "16e09888-a3ee-4e45-b23f-0634b14f2975",
   "metadata": {},
   "outputs": [],
   "source": [
    "checkpoint = torch.load(model_path)"
   ]
  },
  {
   "cell_type": "code",
   "execution_count": 15,
   "id": "6409c3b7-c603-424e-917a-5479f59a4a69",
   "metadata": {},
   "outputs": [
    {
     "data": {
      "text/plain": [
       "dict_keys(['epoch', 'global_step', 'pytorch-lightning_version', 'state_dict', 'loops', 'callbacks', 'optimizer_states', 'lr_schedulers', 'hparams_name', 'hyper_parameters'])"
      ]
     },
     "execution_count": 15,
     "metadata": {},
     "output_type": "execute_result"
    }
   ],
   "source": [
    "checkpoint.keys()"
   ]
  },
  {
   "cell_type": "code",
   "execution_count": 16,
   "id": "61cd8b43-84c2-4231-9e10-340f2b92dc57",
   "metadata": {},
   "outputs": [
    {
     "data": {
      "text/plain": [
       "{'args': ModelArgs(vocab_size=32000, embedding_dim=768, max_seq_len=512, embedding_dropout=0.0, rms_norm_eps=1e-05, rope_scaling=1.0, rope_theta=10000.0, attention_bias=False, attention_dropout=0.0, num_attention_heads=12, num_key_value_heads=12, use_cache=True, use_sliding_window=True, residual_dropout=0.1, mlp_hidden_size=998, mlp_dropout=0.0, num_layers=4, device='cuda', padding_idx=2)}"
      ]
     },
     "execution_count": 16,
     "metadata": {},
     "output_type": "execute_result"
    }
   ],
   "source": [
    "checkpoint[\"hyper_parameters\"]"
   ]
  },
  {
   "cell_type": "code",
   "execution_count": null,
   "id": "bb833885-c0af-423e-87d6-6753844411bf",
   "metadata": {},
   "outputs": [],
   "source": []
  }
 ],
 "metadata": {
  "kernelspec": {
   "display_name": "Python 3 (ipykernel)",
   "language": "python",
   "name": "python3"
  },
  "language_info": {
   "codemirror_mode": {
    "name": "ipython",
    "version": 3
   },
   "file_extension": ".py",
   "mimetype": "text/x-python",
   "name": "python",
   "nbconvert_exporter": "python",
   "pygments_lexer": "ipython3",
   "version": "3.11.6"
  }
 },
 "nbformat": 4,
 "nbformat_minor": 5
}
