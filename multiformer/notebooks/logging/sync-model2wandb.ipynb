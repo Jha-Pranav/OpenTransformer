{
 "cells": [
  {
   "cell_type": "code",
   "execution_count": 1,
   "id": "8807d2af-cbb3-4b16-8115-af4263caaabb",
   "metadata": {},
   "outputs": [
    {
     "name": "stderr",
     "output_type": "stream",
     "text": [
      "\u001b[34m\u001b[1mwandb\u001b[0m: Currently logged in as: \u001b[33mpranav_jha\u001b[0m. Use \u001b[1m`wandb login --relogin`\u001b[0m to force relogin\n"
     ]
    },
    {
     "data": {
      "text/html": [
       "Tracking run with wandb version 0.16.6"
      ],
      "text/plain": [
       "<IPython.core.display.HTML object>"
      ]
     },
     "metadata": {},
     "output_type": "display_data"
    },
    {
     "data": {
      "text/html": [
       "Run data is saved locally in <code>/home/pranav-pc/projects/OpenTransformer/multiformer/notebooks/logging/wandb/run-20240422_233132-8ofuuh3y</code>"
      ],
      "text/plain": [
       "<IPython.core.display.HTML object>"
      ]
     },
     "metadata": {},
     "output_type": "display_data"
    },
    {
     "data": {
      "text/html": [
       "Syncing run <strong><a href='https://wandb.ai/pranav_jha/baby-language-model/runs/8ofuuh3y' target=\"_blank\">blm-instruct-maths</a></strong> to <a href='https://wandb.ai/pranav_jha/baby-language-model' target=\"_blank\">Weights & Biases</a> (<a href='https://wandb.me/run' target=\"_blank\">docs</a>)<br/>"
      ],
      "text/plain": [
       "<IPython.core.display.HTML object>"
      ]
     },
     "metadata": {},
     "output_type": "display_data"
    },
    {
     "data": {
      "text/html": [
       " View project at <a href='https://wandb.ai/pranav_jha/baby-language-model' target=\"_blank\">https://wandb.ai/pranav_jha/baby-language-model</a>"
      ],
      "text/plain": [
       "<IPython.core.display.HTML object>"
      ]
     },
     "metadata": {},
     "output_type": "display_data"
    },
    {
     "data": {
      "text/html": [
       " View run at <a href='https://wandb.ai/pranav_jha/baby-language-model/runs/8ofuuh3y' target=\"_blank\">https://wandb.ai/pranav_jha/baby-language-model/runs/8ofuuh3y</a>"
      ],
      "text/plain": [
       "<IPython.core.display.HTML object>"
      ]
     },
     "metadata": {},
     "output_type": "display_data"
    },
    {
     "data": {
      "text/html": [
       "<button onClick=\"this.nextSibling.style.display='block';this.style.display='none';\">Display W&B run</button><iframe src='https://wandb.ai/pranav_jha/baby-language-model/runs/8ofuuh3y?jupyter=true' style='border:none;width:100%;height:420px;display:none;'></iframe>"
      ],
      "text/plain": [
       "<wandb.sdk.wandb_run.Run at 0x7d4050e0e9d0>"
      ]
     },
     "execution_count": 1,
     "metadata": {},
     "output_type": "execute_result"
    }
   ],
   "source": [
    "import wandb\n",
    "\n",
    "wandb.init(project=\"baby-language-model\", name=\"blm-instruct-maths\")\n",
    "# artifact = wandb.Artifact(\"blm-instruct-maths\", type='model')\n",
    "\n",
    "# artifact.add(\"/home/pranav-pc/projects/OpenTransformer/multiformer/blm-fine-tuned-maths/blm-instruct-maths-epoch=11-train_loss=1.282.ckpt\")"
   ]
  },
  {
   "cell_type": "code",
   "execution_count": 2,
   "id": "ca8e2f43-b904-4e16-9e9c-156d0ab56623",
   "metadata": {},
   "outputs": [],
   "source": [
    "wandb.log_model(\n",
    "    \"/home/pranav-pc/projects/OpenTransformer/multiformer/blm-fine-tuned-maths/blm-instruct-maths-epoch=11-train_loss=1.282.ckpt\",\n",
    "    name=\"blm-instruct-maths\",\n",
    ")"
   ]
  },
  {
   "cell_type": "code",
   "execution_count": 3,
   "id": "60c0c6af-c6fb-450e-956f-cac84388bc56",
   "metadata": {},
   "outputs": [
    {
     "data": {
      "application/vnd.jupyter.widget-view+json": {
       "model_id": "5425a984ff4243459869d86d29a1240b",
       "version_major": 2,
       "version_minor": 0
      },
      "text/plain": [
       "VBox(children=(Label(value='0.011 MB of 0.011 MB uploaded (0.001 MB deduped)\\r'), FloatProgress(value=1.0, max…"
      ]
     },
     "metadata": {},
     "output_type": "display_data"
    },
    {
     "data": {
      "text/html": [
       "W&B sync reduced upload amount by 3.7%             "
      ],
      "text/plain": [
       "<IPython.core.display.HTML object>"
      ]
     },
     "metadata": {},
     "output_type": "display_data"
    },
    {
     "data": {
      "text/html": [
       " View run <strong style=\"color:#cdcd00\">blm-instruct-maths</strong> at: <a href='https://wandb.ai/pranav_jha/baby-language-model/runs/8ofuuh3y' target=\"_blank\">https://wandb.ai/pranav_jha/baby-language-model/runs/8ofuuh3y</a><br/> View project at: <a href='https://wandb.ai/pranav_jha/baby-language-model' target=\"_blank\">https://wandb.ai/pranav_jha/baby-language-model</a><br/>Synced 4 W&B file(s), 0 media file(s), 2 artifact file(s) and 0 other file(s)"
      ],
      "text/plain": [
       "<IPython.core.display.HTML object>"
      ]
     },
     "metadata": {},
     "output_type": "display_data"
    },
    {
     "data": {
      "text/html": [
       "Find logs at: <code>./wandb/run-20240422_233132-8ofuuh3y/logs</code>"
      ],
      "text/plain": [
       "<IPython.core.display.HTML object>"
      ]
     },
     "metadata": {},
     "output_type": "display_data"
    }
   ],
   "source": [
    "wandb.finish()"
   ]
  },
  {
   "cell_type": "code",
   "execution_count": null,
   "id": "7a714040-0c3b-41a5-91b6-81bd669e8355",
   "metadata": {},
   "outputs": [],
   "source": []
  }
 ],
 "metadata": {
  "kernelspec": {
   "display_name": "Python 3 (ipykernel)",
   "language": "python",
   "name": "python3"
  },
  "language_info": {
   "codemirror_mode": {
    "name": "ipython",
    "version": 3
   },
   "file_extension": ".py",
   "mimetype": "text/x-python",
   "name": "python",
   "nbconvert_exporter": "python",
   "pygments_lexer": "ipython3",
   "version": "3.11.6"
  }
 },
 "nbformat": 4,
 "nbformat_minor": 5
}
