{
 "cells": [
  {
   "cell_type": "code",
   "execution_count": 2,
   "id": "7e4f8463-1491-4d9d-8ee3-23066bf2b7ba",
   "metadata": {},
   "outputs": [],
   "source": [
    "# The Annotated Transformer - Attention is All You Need\n",
    "\n"
   ]
  },
  {
   "cell_type": "code",
   "execution_count": null,
   "id": "5ae6de4e-b4b2-4638-9e2b-7a91796862cb",
   "metadata": {},
   "outputs": [],
   "source": []
  }
 ],
 "metadata": {
  "kernelspec": {
   "display_name": "Python 3 (ipykernel)",
   "language": "python",
   "name": "python3"
  },
  "language_info": {
   "codemirror_mode": {
    "name": "ipython",
    "version": 3
   },
   "file_extension": ".py",
   "mimetype": "text/x-python",
   "name": "python",
   "nbconvert_exporter": "python",
   "pygments_lexer": "ipython3",
   "version": "3.11.6"
  }
 },
 "nbformat": 4,
 "nbformat_minor": 5
}
