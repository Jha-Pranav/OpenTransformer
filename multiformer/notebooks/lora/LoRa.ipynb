{
 "cells": [
  {
   "cell_type": "code",
   "execution_count": 38,
   "id": "1061dcfe-f138-4c8f-94c9-02eea8152700",
   "metadata": {},
   "outputs": [],
   "source": [
    "from importlib.metadata import version\n",
    "\n",
    "import torch\n",
    "import torch.nn as nn"
   ]
  },
  {
   "cell_type": "markdown",
   "id": "ef6fadf2-157e-43a1-9b5a-47fd36b4202f",
   "metadata": {},
   "source": [
    "#### The rank of a matrix is the maximum number of linearly independent rows or columns in the matrix."
   ]
  },
  {
   "cell_type": "code",
   "execution_count": 39,
   "id": "c68a561b-f7aa-49c0-a2f2-c87d597d1eeb",
   "metadata": {},
   "outputs": [
    {
     "data": {
      "text/plain": [
       "torch.Size([15, 15])"
      ]
     },
     "execution_count": 39,
     "metadata": {},
     "output_type": "execute_result"
    }
   ],
   "source": [
    "w = torch.rand((15, 4)) @ torch.rand((4, 15))\n",
    "w.shape"
   ]
  },
  {
   "cell_type": "code",
   "execution_count": 40,
   "id": "ad47dd8f-319c-4507-947a-52749c729206",
   "metadata": {},
   "outputs": [
    {
     "data": {
      "text/plain": [
       "tensor(4)"
      ]
     },
     "execution_count": 40,
     "metadata": {},
     "output_type": "execute_result"
    }
   ],
   "source": [
    "w_rank = torch.linalg.matrix_rank(w)\n",
    "w_rank"
   ]
  },
  {
   "cell_type": "markdown",
   "id": "562d9209-95a2-45db-9bb4-a79dbd3b763f",
   "metadata": {},
   "source": [
    "#### To determine the rank of a matrix, you can use various methods such as row reduction (Gaussian elimination), singular value decomposition (SVD), or eigenvalue decomposition.\n",
    "\n",
    "- U: The left singular vectors matrix U has dimensions m × m, where m is the number of rows in the original matrix w. The columns of U are orthogonal unit vectors that represent the directions of maximum variance in the input space.\n",
    "- S: The singular values S is a 1-D tensor of length k, where k is the minimum of the number of rows and columns of w. The singular values represent the amount of variance captured by each singular vector.\n",
    "- V: The right singular vectors matrix V has dimensions n × n, where n is the number of columns in the original matrix w. The rows of V are orthogonal unit vectors that represent the directions of maximum variance in the output space.\n",
    "Together, these matrices satisfy the equation:\n",
    "\n",
    "\n",
    "w = U * diag(S) * V^T\n"
   ]
  },
  {
   "cell_type": "code",
   "execution_count": 68,
   "id": "f6eadc19-0d51-4986-a80b-2d19041c168d",
   "metadata": {},
   "outputs": [
    {
     "name": "stderr",
     "output_type": "stream",
     "text": [
      "/tmp/ipykernel_987139/966920188.py:2: UserWarning: To copy construct from a tensor, it is recommended to use sourceTensor.clone().detach() or sourceTensor.clone().detach().requires_grad_(True), rather than torch.tensor(sourceTensor).\n",
      "  w = torch.tensor(w,dtype=torch.float)\n"
     ]
    },
    {
     "data": {
      "text/plain": [
       "tensor([[2., 0., 0.],\n",
       "        [1., 2., 3.]])"
      ]
     },
     "execution_count": 68,
     "metadata": {},
     "output_type": "execute_result"
    }
   ],
   "source": [
    "w = torch.randint(0, 4, (2, 3))\n",
    "w = torch.tensor(w, dtype=torch.float)\n",
    "w"
   ]
  },
  {
   "cell_type": "code",
   "execution_count": 41,
   "id": "8442a05e-98e2-4bd0-9898-117a4cf96caf",
   "metadata": {},
   "outputs": [
    {
     "name": "stdout",
     "output_type": "stream",
     "text": [
      "torch.Size([15, 15]) torch.Size([15]) torch.Size([15, 15])\n"
     ]
    }
   ],
   "source": [
    "U, S, V = torch.svd(w)\n",
    "print(U.shape, S.shape, V.shape)"
   ]
  },
  {
   "cell_type": "code",
   "execution_count": 42,
   "id": "a9cd191f-ef03-4af0-a5cf-3b4b43b9578f",
   "metadata": {},
   "outputs": [],
   "source": [
    "a = U[:, :w_rank] @ torch.diag(S[:w_rank])\n",
    "b = V[:, :w_rank].T\n",
    "w_lr = a @ b"
   ]
  },
  {
   "cell_type": "code",
   "execution_count": 43,
   "id": "a62ba8df-4523-4373-a24e-0c57f5970555",
   "metadata": {},
   "outputs": [
    {
     "data": {
      "text/plain": [
       "225"
      ]
     },
     "execution_count": 43,
     "metadata": {},
     "output_type": "execute_result"
    }
   ],
   "source": [
    "w.nelement()"
   ]
  },
  {
   "cell_type": "code",
   "execution_count": 44,
   "id": "dc6daf42-c7a6-426f-a329-d136c436a040",
   "metadata": {},
   "outputs": [
    {
     "data": {
      "text/plain": [
       "120"
      ]
     },
     "execution_count": 44,
     "metadata": {},
     "output_type": "execute_result"
    }
   ],
   "source": [
    "a.nelement() + b.nelement()"
   ]
  },
  {
   "cell_type": "code",
   "execution_count": 54,
   "id": "17646241-d988-4ccc-92df-369378a7c501",
   "metadata": {},
   "outputs": [
    {
     "name": "stdout",
     "output_type": "stream",
     "text": [
      "tensor([ 7.8744,  5.7316,  9.0137,  5.0998,  9.1993, 13.8932,  9.4766, 12.2242,\n",
      "        13.1615,  5.5654,  9.5690,  8.8458, 13.6005,  7.6197,  7.7441])\n",
      "tensor([ 7.8744,  5.7316,  9.0137,  5.0998,  9.1993, 13.8932,  9.4766, 12.2242,\n",
      "        13.1615,  5.5654,  9.5690,  8.8458, 13.6005,  7.6197,  7.7441])\n"
     ]
    }
   ],
   "source": [
    "# z = w @ x + b\n",
    "x = torch.rand(15)\n",
    "b = torch.rand(15)\n",
    "\n",
    "print(w @ x + b)\n",
    "print(w_lr @ x + b)"
   ]
  },
  {
   "cell_type": "code",
   "execution_count": null,
   "id": "0049875c-cdc1-4baf-a297-ece751994eff",
   "metadata": {},
   "outputs": [],
   "source": []
  }
 ],
 "metadata": {
  "kernelspec": {
   "display_name": "Python 3 (ipykernel)",
   "language": "python",
   "name": "python3"
  },
  "language_info": {
   "codemirror_mode": {
    "name": "ipython",
    "version": 3
   },
   "file_extension": ".py",
   "mimetype": "text/x-python",
   "name": "python",
   "nbconvert_exporter": "python",
   "pygments_lexer": "ipython3",
   "version": "3.11.6"
  }
 },
 "nbformat": 4,
 "nbformat_minor": 5
}
