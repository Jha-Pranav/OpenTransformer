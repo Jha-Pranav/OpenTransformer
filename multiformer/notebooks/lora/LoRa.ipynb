{
 "cells": [
  {
   "cell_type": "code",
   "execution_count": 38,
   "id": "1061dcfe-f138-4c8f-94c9-02eea8152700",
   "metadata": {},
   "outputs": [
    {
     "name": "stdout",
     "output_type": "stream",
     "text": [
      "TORCH VERSION : 2.2.1\n",
      "GPU  :  cuda\n"
     ]
    }
   ],
   "source": [
    "from importlib.metadata import version\n",
    "import torch\n",
    "\n",
    "torch.manual_seed(123)\n",
    "print(\"TORCH VERSION :\", version(\"torch\"))\n",
    "device = (\n",
    "    \"cuda\"\n",
    "    if torch.cuda.is_available()\n",
    "    else \"mps\" if torch.backend.mps.is_available() else \"cpu\"\n",
    ")\n",
    "print(\"GPU  : \", device)\n",
    "torch.manual_seed(1234);"
   ]
  },
  {
   "cell_type": "code",
   "execution_count": 62,
   "id": "c68a561b-f7aa-49c0-a2f2-c87d597d1eeb",
   "metadata": {},
   "outputs": [],
   "source": [
    "w = torch.rand((15, 5)) @ torch.rand((5, 15))"
   ]
  },
  {
   "cell_type": "code",
   "execution_count": 63,
   "id": "ad47dd8f-319c-4507-947a-52749c729206",
   "metadata": {},
   "outputs": [],
   "source": [
    "w_rank = torch.linalg.matrix_rank(w)"
   ]
  },
  {
   "cell_type": "code",
   "execution_count": 64,
   "id": "8442a05e-98e2-4bd0-9898-117a4cf96caf",
   "metadata": {},
   "outputs": [
    {
     "name": "stdout",
     "output_type": "stream",
     "text": [
      "torch.Size([15, 15]) torch.Size([15]) torch.Size([15, 15])\n"
     ]
    }
   ],
   "source": [
    "U, S, V = torch.svd(w)\n",
    "print(U.shape, S.shape, V.shape)"
   ]
  },
  {
   "cell_type": "code",
   "execution_count": 65,
   "id": "ae929963-ee0e-41ee-aa59-bbda2ee59c86",
   "metadata": {},
   "outputs": [
    {
     "name": "stdout",
     "output_type": "stream",
     "text": [
      "torch.Size([15, 5]) torch.Size([5, 5]) torch.Size([5, 15])\n"
     ]
    }
   ],
   "source": [
    "# For rank-r factorization, keep only the first r singular values (and corresponding columns of U and V)\n",
    "U = U[:, :w_rank]\n",
    "S = torch.diag(S[:w_rank])\n",
    "V = V[:, :w_rank].T\n",
    "print(U.shape, S.shape, V.shape)"
   ]
  },
  {
   "cell_type": "code",
   "execution_count": 66,
   "id": "023f101d-e429-41f0-9772-bf1bf5badfd3",
   "metadata": {},
   "outputs": [
    {
     "name": "stdout",
     "output_type": "stream",
     "text": [
      "torch.Size([5, 15]) torch.Size([15, 5]) torch.Size([15, 15])\n"
     ]
    }
   ],
   "source": [
    "a = V\n",
    "b = U @ S\n",
    "w_lr = b @ a\n",
    "print(a.shape, b.shape, w_lr.shape)"
   ]
  },
  {
   "cell_type": "code",
   "execution_count": 71,
   "id": "9eb1016d-6907-4767-bebc-74fc34aa06b1",
   "metadata": {},
   "outputs": [
    {
     "data": {
      "text/plain": [
       "torch.Size([15, 15])"
      ]
     },
     "execution_count": 71,
     "metadata": {},
     "output_type": "execute_result"
    }
   ],
   "source": [
    "w.shape"
   ]
  },
  {
   "cell_type": "code",
   "execution_count": 72,
   "id": "75e8e802-b313-4c6f-889c-2b4a2a80269d",
   "metadata": {},
   "outputs": [
    {
     "data": {
      "text/plain": [
       "torch.Size([15, 15])"
      ]
     },
     "execution_count": 72,
     "metadata": {},
     "output_type": "execute_result"
    }
   ],
   "source": [
    "w_lr.shape"
   ]
  },
  {
   "cell_type": "code",
   "execution_count": 76,
   "id": "76ef48d9-e1c4-4a61-acc2-b136464d2552",
   "metadata": {},
   "outputs": [
    {
     "name": "stdout",
     "output_type": "stream",
     "text": [
      "tensor([ 7.1737, 13.7999, 10.5154, 10.0361,  7.3455, 16.0521, 13.2524, 10.2384,\n",
      "        14.4008, 10.4069, 14.1082, 13.2909, 14.0743, 10.5662, 13.9130])\n",
      "tensor([ 7.1737, 13.7999, 10.5154, 10.0361,  7.3455, 16.0521, 13.2524, 10.2384,\n",
      "        14.4008, 10.4069, 14.1082, 13.2909, 14.0743, 10.5662, 13.9130])\n"
     ]
    }
   ],
   "source": [
    "# z = w @ x + b\n",
    "x = torch.rand(15)\n",
    "b = torch.rand(15)\n",
    "\n",
    "print(w @ x + b)\n",
    "print(w_lr @ x + b)"
   ]
  },
  {
   "cell_type": "code",
   "execution_count": 77,
   "id": "6aec90fe-a61b-4519-a9bb-f15be5f92cd9",
   "metadata": {},
   "outputs": [],
   "source": [
    "# TODO : revist SVD to get the better understanding of the above magic"
   ]
  },
  {
   "cell_type": "code",
   "execution_count": 83,
   "id": "d2e30fc3-6100-44dd-88f4-36d64139d80c",
   "metadata": {},
   "outputs": [
    {
     "data": {
      "text/plain": [
       "(15, 75)"
      ]
     },
     "execution_count": 83,
     "metadata": {},
     "output_type": "execute_result"
    }
   ],
   "source": [
    "b.nelement(), a.nelement()"
   ]
  },
  {
   "cell_type": "code",
   "execution_count": 80,
   "id": "3440bdad-ac9e-4604-8c91-3d4a52e20459",
   "metadata": {},
   "outputs": [
    {
     "data": {
      "text/plain": [
       "225"
      ]
     },
     "execution_count": 80,
     "metadata": {},
     "output_type": "execute_result"
    }
   ],
   "source": [
    "w.nelement()"
   ]
  },
  {
   "cell_type": "code",
   "execution_count": 82,
   "id": "27eaef77-80f3-48c0-9131-c722c7b93606",
   "metadata": {},
   "outputs": [
    {
     "data": {
      "text/plain": [
       "90"
      ]
     },
     "execution_count": 82,
     "metadata": {},
     "output_type": "execute_result"
    }
   ],
   "source": [
    "75 + 15"
   ]
  },
  {
   "cell_type": "code",
   "execution_count": null,
   "id": "1cbef7bb-d1d9-4026-a72d-13f9b5590612",
   "metadata": {},
   "outputs": [],
   "source": []
  }
 ],
 "metadata": {
  "kernelspec": {
   "display_name": "Python 3 (ipykernel)",
   "language": "python",
   "name": "python3"
  },
  "language_info": {
   "codemirror_mode": {
    "name": "ipython",
    "version": 3
   },
   "file_extension": ".py",
   "mimetype": "text/x-python",
   "name": "python",
   "nbconvert_exporter": "python",
   "pygments_lexer": "ipython3",
   "version": "3.11.6"
  }
 },
 "nbformat": 4,
 "nbformat_minor": 5
}
