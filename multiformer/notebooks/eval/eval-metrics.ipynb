{
 "cells": [
  {
   "cell_type": "code",
   "execution_count": 1,
   "id": "4928c83a-0997-4573-b7b9-851a76b8f088",
   "metadata": {},
   "outputs": [
    {
     "name": "stderr",
     "output_type": "stream",
     "text": [
      "Seed set to 123\n",
      "Seed set to 123\n"
     ]
    }
   ],
   "source": [
    "import torch\n",
    "from src.models.blm.pl_dataloader import TinyStoriesDataloader\n",
    "from src.models.blm.pl_training import Transformer"
   ]
  },
  {
   "cell_type": "code",
   "execution_count": 2,
   "id": "5dfc453b-fd26-4d2a-a1df-bd4689062ed7",
   "metadata": {},
   "outputs": [],
   "source": [
    "BASE_URL = \"/home/pranav-pc/projects/OpenTransformer/multiformer\"\n",
    "MODEL_CHECKPOINT_PATH = BASE_URL + \"/model_checkpoints/blm/last-v3.ckpt\"\n",
    "data_path_train = BASE_URL + \"/data/interim/TinyStories_train_65>tk>512.hf\"\n",
    "data_path_val = BASE_URL + \"/data/interim/TinyStories_val_65>tk>512.hf\"\n",
    "tokenizer_path = BASE_URL + \"/tokenizer_checkpoints\"\n",
    "\n",
    "\n",
    "batch_size = 32\n",
    "num_workers = 26\n",
    "ds = TinyStoriesDataloader(data_path_train, data_path_val, tokenizer_path, batch_size, num_workers)"
   ]
  },
  {
   "cell_type": "code",
   "execution_count": 3,
   "id": "abdd87d3-39bf-40f2-acc2-14bc5a454d89",
   "metadata": {},
   "outputs": [],
   "source": [
    "model = Transformer.load_from_checkpoint(MODEL_CHECKPOINT_PATH)\n",
    "model = torch.compile(model, dynamic=True)\n",
    "\n",
    "#### Inference\n",
    "model.eval()\n",
    "model = model.cuda()\n",
    "\n",
    "import os\n",
    "\n",
    "os.environ[\"WANDB_DISABLED\"] = \"true\""
   ]
  },
  {
   "cell_type": "code",
   "execution_count": 4,
   "id": "f18e9cc1-e273-4960-8878-fec3748d167f",
   "metadata": {},
   "outputs": [
    {
     "name": "stdout",
     "output_type": "stream",
     "text": [
      "Lili wanted to watch either a movie or a cartoon. Her mother didn’t let her watch a cartoon so instead she gave her a ticket for the movies and told her to be careful. Lili was happy, but she also felt a bit embarrassed when her mother did not let her watch the show. She wished her mother would forgive her and let her watch the movie. So, she decided that she was sorry and that she would never be so embarrassed.\n",
      "\n",
      "\n"
     ]
    }
   ],
   "source": [
    "text = \"Lili wanted to watch either a movie or a cartoon. Her mother didn’t let her watch a cartoon so instead she\"\n",
    "\n",
    "\n",
    "# text = (\n",
    "#     \"Lili is a good boy. one day his father called and asked for the school exam result\"\n",
    "# )\n",
    "def predict(text, max_new_tokens=450, temperature=1.1, top_k=5, conditional_break=[13, 13, 1]):\n",
    "    tokens = torch.LongTensor(ds.tokenizer.encode_as_ids(text))[:-1].to(\"cuda:0\").view(1, -1)\n",
    "    # print('tokens',ds.tokenizer.encode(text,out_type=str)[:-1])\n",
    "    print(\n",
    "        ds.tokenizer.decode_ids(\n",
    "            model.predict_step(\n",
    "                tokens,\n",
    "                None,\n",
    "                max_new_tokens=max_new_tokens,\n",
    "                temperature=temperature,\n",
    "                top_k=top_k,\n",
    "                conditional_break=conditional_break,\n",
    "            )[0].tolist()\n",
    "        )\n",
    "    )\n",
    "\n",
    "\n",
    "predict(text)"
   ]
  },
  {
   "cell_type": "code",
   "execution_count": 5,
   "id": "d97a7219-f899-4a9d-a2f9-33314d7e451f",
   "metadata": {},
   "outputs": [
    {
     "name": "stdout",
     "output_type": "stream",
     "text": [
      "Once upon a time, Sammy was in the kitchen. He was very hungry and wanted to get something. He looked around and saw some food on the table. He was so excited that he ran over and grabbed some food. But then he realized he had taken a long time to get it.\n",
      "\n",
      "Sammy was feeling very guilty. He knew he shouldn't have taken the food without paying. So he quickly took a nap and when he woke up, he was feeling much better.\n",
      "\n",
      "The moral of the story is that it's important to be careful and not take things without paying attention.\n",
      "\n",
      "\n"
     ]
    }
   ],
   "source": [
    "predict(\"Once upon a time, Sam\")"
   ]
  },
  {
   "cell_type": "markdown",
   "id": "0e1fbd58-9f10-4d65-a3e9-d5ae44f19ee2",
   "metadata": {},
   "source": [
    "1. Perplexity\n",
    "Perplexity is a commonly used measure to evaluate the performance of language models. It quantifies how well the model predicts a sample of text. Lower perplexity 2 values indicate better performance "
   ]
  },
  {
   "cell_type": "code",
   "execution_count": null,
   "id": "4bfc6e1b-dc46-4fd8-8669-a1195724522b",
   "metadata": {},
   "outputs": [],
   "source": []
  }
 ],
 "metadata": {
  "kernelspec": {
   "display_name": "Python 3 (ipykernel)",
   "language": "python",
   "name": "python3"
  },
  "language_info": {
   "codemirror_mode": {
    "name": "ipython",
    "version": 3
   },
   "file_extension": ".py",
   "mimetype": "text/x-python",
   "name": "python",
   "nbconvert_exporter": "python",
   "pygments_lexer": "ipython3",
   "version": "3.11.6"
  }
 },
 "nbformat": 4,
 "nbformat_minor": 5
}
