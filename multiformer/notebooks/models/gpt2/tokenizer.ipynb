{
 "cells": [
  {
   "cell_type": "code",
   "execution_count": 1,
   "id": "26c5fb91-5d37-4774-971b-78285e7d3cc5",
   "metadata": {},
   "outputs": [
    {
     "name": "stdout",
     "output_type": "stream",
     "text": [
      "TORCH VERSION : 2.2.2\n",
      "GPU  :  CUDA\n"
     ]
    }
   ],
   "source": [
    "from importlib.metadata import version\n",
    "import torch\n",
    "\n",
    "print(\"TORCH VERSION :\", version(\"torch\"))\n",
    "device = \"cuda\" if torch.cuda.is_available() else 'mps' if torch.backend.mps.is_available() else 'cpu'\n",
    "print('GPU  : ', device.upper())\n",
    "\n",
    "torch.manual_seed(123)\n",
    "torch.cuda.manual_seed(123)\n",
    "\n",
    "dtype = 'bfloat16' if torch.cuda.is_available() and torch.cuda.is_bf16_supported() else 'float16'\n",
    "compile = True\n",
    "torch.backends.cuda.matmul.allow_tf32 = True\n",
    "torch.backends.cudnn.allow_tf32 = True"
   ]
  },
  {
   "cell_type": "code",
   "execution_count": 20,
   "id": "e48c0ad0-dcc4-4703-b518-c2375081d68e",
   "metadata": {},
   "outputs": [],
   "source": [
    "import tiktoken\n",
    "\n",
    "tik_tokenizer = tiktoken.get_encoding(\"gpt2\")\n",
    "\n",
    "from transformers import GPT2Tokenizer\n",
    "\n",
    "hf_tokenizer = GPT2Tokenizer.from_pretrained(\"gpt2\")\n",
    "\n",
    "from transformers import GPT2TokenizerFast\n",
    "\n",
    "hf_tokenizer_fast = GPT2TokenizerFast.from_pretrained(\"gpt2\")"
   ]
  },
  {
   "cell_type": "code",
   "execution_count": 21,
   "id": "5ed52030-b891-41b4-afab-659304517787",
   "metadata": {},
   "outputs": [],
   "source": [
    "# Load dataset from Hugging Face datasets library\n",
    "from datasets import load_dataset\n",
    "dataset = load_dataset(\"imdb\")"
   ]
  },
  {
   "cell_type": "code",
   "execution_count": 30,
   "id": "ebdf9de7-2140-4f5f-a3a4-f496f8d16cfb",
   "metadata": {},
   "outputs": [
    {
     "name": "stdout",
     "output_type": "stream",
     "text": [
      "1.57 s ± 13 ms per loop (mean ± std. dev. of 7 runs, 1 loop each)\n"
     ]
    }
   ],
   "source": [
    "%timeit [tik_tokenizer.encode(text, allowed_special={\"<|endoftext|>\"}) for text in  dataset['test']['text']]"
   ]
  },
  {
   "cell_type": "code",
   "execution_count": 31,
   "id": "5bb05786-289b-4b01-b9b3-72d4bfd8dcfc",
   "metadata": {},
   "outputs": [
    {
     "name": "stderr",
     "output_type": "stream",
     "text": [
      "Token indices sequence length is longer than the specified maximum sequence length for this model (1300 > 1024). Running this sequence through the model will result in indexing errors\n"
     ]
    },
    {
     "name": "stdout",
     "output_type": "stream",
     "text": [
      "9.91 s ± 236 ms per loop (mean ± std. dev. of 7 runs, 1 loop each)\n"
     ]
    }
   ],
   "source": [
    "%timeit hf_tokenizer(dataset['test']['text'],)[\"input_ids\"]"
   ]
  },
  {
   "cell_type": "code",
   "execution_count": 35,
   "id": "00bdbd5a-b00e-4707-ad2c-3176de30459b",
   "metadata": {},
   "outputs": [
    {
     "name": "stdout",
     "output_type": "stream",
     "text": [
      "1.63 s ± 70 ms per loop (mean ± std. dev. of 7 runs, 1 loop each)\n"
     ]
    }
   ],
   "source": [
    "%timeit hf_tokenizer_fast(dataset['test']['text'])[\"input_ids\"]"
   ]
  },
  {
   "cell_type": "markdown",
   "id": "3f268636-9dda-4881-acb9-83fe28ee5801",
   "metadata": {},
   "source": [
    "tiktoken is a clear winner. However , hf tokenizer fast speed is comparable. I will go ahead with hf fast tokenizer as it offers bunch of addition options."
   ]
  },
  {
   "cell_type": "code",
   "execution_count": 51,
   "id": "49e39959-5cdc-454e-9297-66ede0b8ea61",
   "metadata": {},
   "outputs": [
    {
     "data": {
      "text/plain": [
       "'cuda'"
      ]
     },
     "execution_count": 51,
     "metadata": {},
     "output_type": "execute_result"
    }
   ],
   "source": [
    "device"
   ]
  },
  {
   "cell_type": "code",
   "execution_count": 54,
   "id": "9d3717e1-f3c1-44e9-8633-27e57d1eb920",
   "metadata": {},
   "outputs": [],
   "source": [
    "import torch\n",
    "\n",
    "model = torch.nn.Linear(10, 10)\n",
    "\n",
    "# Create an Adam optimizer with fused=True\n",
    "optimizer = torch.optim.Adam(model.parameters(), fused=False,)\n",
    "if hasattr(optimizer, \"_use_fp16_precision\") and optimizer._use_fp16_precision:\n",
    "    print(\"Using fused AdamW optimizer.\")"
   ]
  },
  {
   "cell_type": "code",
   "execution_count": null,
   "id": "a7435758-1d86-448b-a0d6-7f8c6aa215c7",
   "metadata": {},
   "outputs": [],
   "source": []
  }
 ],
 "metadata": {
  "kernelspec": {
   "display_name": "Python 3 (ipykernel)",
   "language": "python",
   "name": "python3"
  },
  "language_info": {
   "codemirror_mode": {
    "name": "ipython",
    "version": 3
   },
   "file_extension": ".py",
   "mimetype": "text/x-python",
   "name": "python",
   "nbconvert_exporter": "python",
   "pygments_lexer": "ipython3",
   "version": "3.11.6"
  }
 },
 "nbformat": 4,
 "nbformat_minor": 5
}
