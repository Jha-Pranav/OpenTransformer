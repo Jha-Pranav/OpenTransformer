{
 "cells": [
  {
   "cell_type": "code",
   "execution_count": 52,
   "id": "96131a00-b819-467f-9bd5-328ebea1ca70",
   "metadata": {},
   "outputs": [
    {
     "name": "stdout",
     "output_type": "stream",
     "text": [
      "TORCH VERSION : 2.2.1\n",
      "GPU  :  CUDA\n"
     ]
    }
   ],
   "source": [
    "from importlib.metadata import version\n",
    "import torch\n",
    "\n",
    "print(\"TORCH VERSION :\", version(\"torch\"))\n",
    "device = \"cuda\" if torch.cuda.is_available() else 'mps' if torch.backend.mps.is_available() else 'cpu'\n",
    "print('GPU  : ', device.upper())"
   ]
  },
  {
   "cell_type": "code",
   "execution_count": 53,
   "id": "408ffe96-5828-4c84-a02b-db1b22a9a7d3",
   "metadata": {},
   "outputs": [],
   "source": [
    "torch.manual_seed(123)\n",
    "torch.cuda.manual_seed(123)\n",
    "\n",
    "dtype = 'bfloat16' if torch.cuda.is_available() and torch.cuda.is_bf16_supported() else 'float16'\n",
    "compile = True\n",
    "torch.backends.cuda.matmul.allow_tf32 = True\n",
    "torch.backends.cudnn.allow_tf32 = True"
   ]
  },
  {
   "cell_type": "code",
   "execution_count": 22,
   "id": "214e4cc3-a5bd-4529-bfb5-4c44af886aae",
   "metadata": {},
   "outputs": [],
   "source": [
    "from torch import  nn\n",
    "import torch.nn.functional as F\n",
    "import math\n",
    "from dataclasses import dataclass"
   ]
  },
  {
   "cell_type": "code",
   "execution_count": 23,
   "id": "338de3e7-f128-4724-a3ba-e297a3491814",
   "metadata": {},
   "outputs": [],
   "source": [
    "@dataclass\n",
    "class GPTConfig:\n",
    "    block_size: int = 1024\n",
    "    vocab_size: int = 50304 # GPT-2 vocab_size of 50257, padded up to nearest multiple of 64 for efficiency\n",
    "    n_layer: int = 12\n",
    "    n_head: int = 12\n",
    "    n_embd: int = 768\n",
    "    dropout: float = 0.0\n",
    "    bias: bool = True # True: bias in Linears and LayerNorms, like GPT-2. False: a bit better and faster\n",
    "    device : str = device"
   ]
  },
  {
   "cell_type": "code",
   "execution_count": 24,
   "id": "e9dd1c8f-affe-4a4a-a5f2-510251d3933a",
   "metadata": {},
   "outputs": [],
   "source": [
    "class Block(nn.Module):\n",
    "    def __init__(self,config):\n",
    "        super().__init__()\n",
    "        \n",
    "        self.config = config\n",
    "        self.ln_1 = LayerNorm(config.n_embd,bias=config.bias)\n",
    "        self.attn = CausalSelfAttention(config)\n",
    "        self.ln_2 = LayerNorm(config.n_embd,bias=config.bias)\n",
    "        self.mlp = MLP(config)\n",
    "\n",
    "    def forward(self,x):\n",
    "        x = x + self.attn(self.ln_1(x))\n",
    "        x = x + self.mlp(self.ln_2(x))\n",
    "        return x"
   ]
  },
  {
   "cell_type": "code",
   "execution_count": 25,
   "id": "04f8892f-9b78-456c-bd3a-e62360ab4f56",
   "metadata": {},
   "outputs": [],
   "source": [
    "class LayerNorm(nn.Module):\n",
    "    \"\"\" LayerNorm with bias=False\"\"\"\n",
    "    def __init__(self,ndim,bias):\n",
    "        super().__init__()\n",
    "        self.weight = nn.Parameter(torch.ones(ndim)) # Multiplicative\n",
    "        self.bias = nn.Parameter(torch.zeros(ndim)) if bias else None # Additive\n",
    "\n",
    "    def forward(self,x):\n",
    "        device = x.device\n",
    "        \n",
    "        return F.layer_norm(x,self.weight.shape,self.weight.to(device),self.bias.to(device),1e-5)\n"
   ]
  },
  {
   "cell_type": "code",
   "execution_count": 26,
   "id": "a589e306-c65b-4b26-90d6-462ea43b0b5a",
   "metadata": {},
   "outputs": [],
   "source": [
    "class CausalSelfAttention(nn.Module):\n",
    "    def __init__(self,config):\n",
    "        super().__init__()\n",
    "\n",
    "        assert config.n_embd % config.n_head == 0, \"embedding dim should be divisible by head dim\"\n",
    "        self.c_attn = nn.Linear(config.n_embd,3*config.n_embd,bias=config.bias,device=config.device)\n",
    "\n",
    "        self.c_proj = nn.Linear(config.n_embd, config.n_embd, bias=config.bias,device=config.device)\n",
    "\n",
    "        self.dropout = config.dropout\n",
    "        self.n_head = config.n_head\n",
    "        self.n_embd = config.n_embd\n",
    "        self.resid_dropout = nn.Dropout(config.dropout)\n",
    "\n",
    "        self.flash = hasattr(torch.nn.functional, 'scaled_dot_product_attention')\n",
    "        \n",
    "    def forward(self,x):\n",
    "        B, T, C = x.size()\n",
    "        q,k,v = self.c_attn(x).split(self.n_embd,dim=2)\n",
    "\n",
    "        k = k.view(B, T, self.n_head, C // self.n_head).transpose(1, 2) # (B, nh, T, hs)\n",
    "        q = q.view(B, T, self.n_head, C // self.n_head).transpose(1, 2) # (B, nh, T, hs)\n",
    "        v = v.view(B, T, self.n_head, C // self.n_head).transpose(1, 2) # (B, nh, T, hs)\n",
    "\n",
    "        if self.flash:\n",
    "            y = F.scaled_dot_product_attention(q, k, v, attn_mask=None, dropout_p=self.dropout if self.training else 0., is_causal=True)\n",
    "        else:\n",
    "            # In case of pytorch < 2.0\n",
    "            NotImplementedError\n",
    "        y = y.transpose(1, 2).contiguous().view(B, T, C) # re-assemble all head outputs side by side\n",
    "        return self.resid_dropout(self.c_proj(y))"
   ]
  },
  {
   "cell_type": "code",
   "execution_count": 27,
   "id": "feeea700-d2dc-45d0-8a6c-e758a1f6b194",
   "metadata": {},
   "outputs": [],
   "source": [
    "class MLP(nn.Module):\n",
    "\n",
    "    def __init__(self,config):\n",
    "        super().__init__()\n",
    "        self.c_fc    = nn.Linear(config.n_embd, 4 * config.n_embd, bias=config.bias,device=config.device)\n",
    "        self.gelu    = nn.GELU()\n",
    "        self.c_proj  = nn.Linear(4 * config.n_embd, config.n_embd, bias=config.bias,device=config.device)\n",
    "        self.dropout = nn.Dropout(config.dropout)\n",
    "\n",
    "    def forward(self, x):\n",
    "        x = self.c_fc(x)\n",
    "        x = self.gelu(x)\n",
    "        x = self.c_proj(x)\n",
    "        x = self.dropout(x)\n",
    "        return x\n",
    "        "
   ]
  },
  {
   "cell_type": "code",
   "execution_count": 28,
   "id": "ee748830-6fad-4098-9f64-9f83a817d9d6",
   "metadata": {},
   "outputs": [],
   "source": [
    "class GPT(nn.Module):\n",
    "    def __init__(self,config):\n",
    "        super().__init__()\n",
    "        assert config.vocab_size is not None\n",
    "        assert config.block_size is not None\n",
    "\n",
    "        self.config = config\n",
    "\n",
    "        self.transformer = nn.ModuleDict(dict(\n",
    "            wte = nn.Embedding(config.vocab_size,config.n_embd,device=config.device),\n",
    "            wpe = nn.Embedding(config.block_size,config.n_embd,device=config.device),\n",
    "            drop = nn.Dropout(config.dropout),\n",
    "            h = nn.ModuleList([Block(config) for _ in range(config.n_layer)]),\n",
    "            ln_f = LayerNorm(config.n_embd,bias=config.bias)\n",
    "        ))\n",
    "        \n",
    "        self.lm_head = nn.Linear(config.n_embd,config.vocab_size,bias=False,device=config.device)\n",
    "        # weight sharing https://paperswithcode.com/method/weight-tying\n",
    "        self.transformer.wte.weight = self.lm_head.weight\n",
    "        # init all weights\n",
    "        self.apply(self._init_weights)\n",
    "        # apply special scaled init to the residual projections, per GPT-2 paper\n",
    "        for pn, p in self.named_parameters():\n",
    "            if pn.endswith('c_proj.weight'):\n",
    "                torch.nn.init.normal_(p, mean=0.0,std=0.02/math.sqrt(2*config.n_layer))\n",
    "        # report number of parameters\n",
    "        print(\"number of parameters: %.2fM\" % (self.get_num_params()/1e6))\n",
    "        \n",
    "    def get_num_params(self, non_embedding=True):\n",
    "        \"\"\"\n",
    "        Return the number of parameters in the model.\n",
    "        For non-embedding count (default), the position embeddings get subtracted.\n",
    "        The token embeddings would too, except due to the parameter sharing these\n",
    "        params are actually used as weights in the final layer, so we include them.\n",
    "        \"\"\"\n",
    "        n_params = sum(p.numel() for p in self.parameters())\n",
    "        if non_embedding:\n",
    "            n_params -= self.transformer.wpe.weight.numel()\n",
    "        return n_params\n",
    "\n",
    "    def _init_weights(self, module):\n",
    "        if isinstance(module, nn.Linear):\n",
    "            torch.nn.init.normal_(module.weight, mean=0.0, std=0.02)\n",
    "            if module.bias is not None:\n",
    "                torch.nn.init.zeros_(module.bias)\n",
    "        elif isinstance(module, nn.Embedding):\n",
    "            torch.nn.init.normal_(module.weight, mean=0.0, std=0.02)\n",
    "\n",
    "    def forward(self,idx,targets=None):\n",
    "        device = idx.device\n",
    "        b,t = idx.size()\n",
    "        assert t <= self.config.block_size, f\"Cannot forward sequence of length {t}, block size is only {self.config.block_size}\"\n",
    "        pos = torch.arange(0, t, dtype=torch.long, device=device)\n",
    "        \n",
    "        tok_emb = self.transformer.wte(idx) # b,t,n_embd\n",
    "        pos_emb = self.transformer.wpe(pos) # b,t,n_embd\n",
    "\n",
    "        x = self.transformer.drop(tok_emb + pos_emb)\n",
    "        for block in self.transformer.h:\n",
    "            x = block(x)\n",
    "        x = self.transformer.ln_f(x)\n",
    "        if targets is not None:\n",
    "        # if we are given some desired targets also calculate the loss\n",
    "            logits = self.lm_head(x)\n",
    "            loss = F.cross_entropy(logits.view(-1, logits.size(-1)), targets.view(-1), ignore_index=-1)\n",
    "        else:\n",
    "            # inference-time mini-optimization: only forward the lm_head on the very last position\n",
    "            logits = self.lm_head(x[:, [-1], :]) # note: using list [-1] to preserve the time dim\n",
    "            loss = None\n",
    "\n",
    "        return logits, loss\n",
    "\n",
    "    def crop_block_size(self, block_size):\n",
    "        # model surgery to decrease the block size if necessary\n",
    "        # e.g. we may load the GPT2 pretrained model checkpoint (block size 1024)\n",
    "        # but want to use a smaller block size for some smaller, simpler model\n",
    "        assert block_size <= self.config.block_size\n",
    "        self.config.block_size = block_size\n",
    "        self.transformer.wpe.weight = nn.Parameter(self.transformer.wpe.weight[:block_size])\n",
    "        for block in self.transformer.h:\n",
    "            if hasattr(block.attn, 'bias'):\n",
    "                block.attn.bias = block.attn.bias[:,:,:block_size,:block_size]\n",
    "\n",
    "\n",
    "    @classmethod\n",
    "    def from_pretrained(cls,model_type,override_args=None):\n",
    "        assert model_type in {'gpt2', 'gpt2-medium', 'gpt2-large', 'gpt2-xl'}\n",
    "        override_args = override_args or {}\n",
    "\n",
    "        assert all(k == 'dropout' for k in override_args)\n",
    "        from transformers import GPT2LMHeadModel\n",
    "        print(\"loading weights from pretrained gpt: %s\" % model_type)\n",
    "\n",
    "        # n_layer, n_head and n_embd are determined from model_type\n",
    "        config_args = {\n",
    "            'gpt2':         dict(n_layer=12, n_head=12, n_embd=768),  # 124M params\n",
    "            'gpt2-medium':  dict(n_layer=24, n_head=16, n_embd=1024), # 350M params\n",
    "            'gpt2-large':   dict(n_layer=36, n_head=20, n_embd=1280), # 774M params\n",
    "            'gpt2-xl':      dict(n_layer=48, n_head=25, n_embd=1600), # 1558M params\n",
    "        }[model_type]\n",
    "        print(\"forcing vocab_size=50257, block_size=1024, bias=True\")\n",
    "        config_args['vocab_size'] = 50257 # always 50257 for GPT model checkpoints\n",
    "        config_args['block_size'] = 1024 # always 1024 for GPT model checkpoints\n",
    "        config_args['bias'] = True # always True for GPT model checkpoints\n",
    "        # we can override the dropout rate, if desired\n",
    "        if 'dropout' in override_args:\n",
    "            print(f\"overriding dropout rate to {override_args['dropout']}\")\n",
    "            config_args['dropout'] = override_args['dropout']\n",
    "            \n",
    "        config = GPTConfig(**config_args)\n",
    "        model = GPT(config)\n",
    "        sd = model.state_dict()\n",
    "        sd_keys = sd.keys()\n",
    "\n",
    "        # init a huggingface/transformers model\n",
    "        model_hf = GPT2LMHeadModel.from_pretrained(model_type,cache_dir='.')\n",
    "        sd_hf = model_hf.state_dict()\n",
    "\n",
    "        # copy while ensuring all of the parameters are aligned and match in names and shapes\n",
    "        sd_keys_hf = sd_hf.keys()\n",
    "        transposed = ['attn.c_attn.weight', 'attn.c_proj.weight', 'mlp.c_fc.weight', 'mlp.c_proj.weight']\n",
    "        # basically the openai checkpoints use a \"Conv1D\" module, but we only want to use a vanilla Linear\n",
    "        # this means that we have to transpose these weights when we import them\n",
    "        assert len(sd_keys_hf) == len(sd_keys), f\"mismatched keys: {len(sd_keys_hf)} != {len(sd_keys)}\"\n",
    "        for k in sd_keys_hf:\n",
    "            if any(k.endswith(w) for w in transposed):\n",
    "                # special treatment for the Conv1D weights we need to transpose\n",
    "                assert sd_hf[k].shape[::-1] == sd[k].shape\n",
    "                with torch.no_grad():\n",
    "                    sd[k].copy_(sd_hf[k].t())\n",
    "            else:\n",
    "                # vanilla copy over the other parameters\n",
    "                assert sd_hf[k].shape == sd[k].shape\n",
    "                with torch.no_grad():\n",
    "                    sd[k].copy_(sd_hf[k])\n",
    "\n",
    "        return model\n",
    "    @torch.no_grad()\n",
    "    def generate(self, idx, max_new_tokens, temperature=1.0, top_k=None):\n",
    "        \"\"\"\n",
    "        Take a conditioning sequence of indices idx (LongTensor of shape (b,t)) and complete\n",
    "        the sequence max_new_tokens times, feeding the predictions back into the model each time.\n",
    "        Most likely you'll want to make sure to be in model.eval() mode of operation for this.\n",
    "        \"\"\"\n",
    "        for _ in range(max_new_tokens):\n",
    "            # if the sequence context is growing too long we must crop it at block_size\n",
    "            idx_cond = idx if idx.size(1) <= self.config.block_size else idx[:, -self.config.block_size:]\n",
    "            # forward the model to get the logits for the index in the sequence\n",
    "            logits, _ = self(idx_cond)\n",
    "            # pluck the logits at the final step and scale by desired temperature\n",
    "            logits = logits[:, -1, :] / temperature\n",
    "            # optionally crop the logits to only the top k options\n",
    "            if top_k is not None:\n",
    "                v, _ = torch.topk(logits, min(top_k, logits.size(-1)))\n",
    "                logits[logits < v[:, [-1]]] = -float('Inf')\n",
    "            # apply softmax to convert logits to (normalized) probabilities\n",
    "            probs = F.softmax(logits, dim=-1)\n",
    "            # sample from the distribution\n",
    "            idx_next = torch.multinomial(probs, num_samples=1)\n",
    "            # append sampled index to the running sequence and continue\n",
    "            idx = torch.cat((idx, idx_next), dim=1)\n",
    "\n",
    "        return idx\n"
   ]
  },
  {
   "cell_type": "code",
   "execution_count": 29,
   "id": "ee603885-0fa9-4b74-97e1-aa02286cf298",
   "metadata": {},
   "outputs": [],
   "source": [
    "# config = GPTConfig()\n",
    "# model = GPT(config)\n",
    "\n",
    "# idx = torch.randint(low=1,high=1024,size=(2,1024),device='cpu')\n",
    "\n",
    "# idx_next = model.generate(idx,15,top_k=10).shape"
   ]
  },
  {
   "cell_type": "code",
   "execution_count": 44,
   "id": "26684625-6187-47ee-87b5-597465d715d0",
   "metadata": {},
   "outputs": [],
   "source": [
    "# Inference"
   ]
  },
  {
   "cell_type": "code",
   "execution_count": 31,
   "id": "95689606-91ab-4e7c-be87-d73aeed31531",
   "metadata": {},
   "outputs": [],
   "source": [
    "num_sample = 2\n",
    "max_new_tokens = 500\n",
    "temprature = 0.8\n",
    "top_k = 200\n"
   ]
  },
  {
   "cell_type": "code",
   "execution_count": 32,
   "id": "b1c284f2-ed63-4920-ad5e-141e1a994f7c",
   "metadata": {},
   "outputs": [],
   "source": [
    "from contextlib import nullcontext\n",
    "ctx = nullcontext() if device=='cpu' else torch.amp.autocast(device_type=device,dtype=torch.bfloat16)"
   ]
  },
  {
   "cell_type": "code",
   "execution_count": 33,
   "id": "c891a5e2-b130-49d4-9997-25c05920f000",
   "metadata": {},
   "outputs": [
    {
     "name": "stdout",
     "output_type": "stream",
     "text": [
      "loading weights from pretrained gpt: gpt2\n",
      "forcing vocab_size=50257, block_size=1024, bias=True\n",
      "overriding dropout rate to 0.0\n",
      "number of parameters: 123.65M\n"
     ]
    }
   ],
   "source": [
    "model = GPT.from_pretrained('gpt2',dict(dropout=0.0))"
   ]
  },
  {
   "cell_type": "code",
   "execution_count": 34,
   "id": "4051160f-0e41-4d7c-8f7d-97e25d0f23c9",
   "metadata": {},
   "outputs": [
    {
     "data": {
      "text/plain": [
       "GPT(\n",
       "  (transformer): ModuleDict(\n",
       "    (wte): Embedding(50257, 768)\n",
       "    (wpe): Embedding(1024, 768)\n",
       "    (drop): Dropout(p=0.0, inplace=False)\n",
       "    (h): ModuleList(\n",
       "      (0-11): 12 x Block(\n",
       "        (ln_1): LayerNorm()\n",
       "        (attn): CausalSelfAttention(\n",
       "          (c_attn): Linear(in_features=768, out_features=2304, bias=True)\n",
       "          (c_proj): Linear(in_features=768, out_features=768, bias=True)\n",
       "          (resid_dropout): Dropout(p=0.0, inplace=False)\n",
       "        )\n",
       "        (ln_2): LayerNorm()\n",
       "        (mlp): MLP(\n",
       "          (c_fc): Linear(in_features=768, out_features=3072, bias=True)\n",
       "          (gelu): GELU(approximate='none')\n",
       "          (c_proj): Linear(in_features=3072, out_features=768, bias=True)\n",
       "          (dropout): Dropout(p=0.0, inplace=False)\n",
       "        )\n",
       "      )\n",
       "    )\n",
       "    (ln_f): LayerNorm()\n",
       "  )\n",
       "  (lm_head): Linear(in_features=768, out_features=50257, bias=False)\n",
       ")"
      ]
     },
     "execution_count": 34,
     "metadata": {},
     "output_type": "execute_result"
    }
   ],
   "source": [
    "model.eval()\n",
    "model.to(device)\n",
    "if compile:\n",
    "    model = torch.compile(model)"
   ]
  },
  {
   "cell_type": "code",
   "execution_count": 35,
   "id": "a76e16c8-138c-45ed-9eb8-92978a517d1f",
   "metadata": {},
   "outputs": [],
   "source": [
    "import tiktoken"
   ]
  },
  {
   "cell_type": "code",
   "execution_count": 36,
   "id": "1b7d756c-8996-4891-9bad-63cea6e68557",
   "metadata": {},
   "outputs": [],
   "source": [
    "enc = tiktoken.get_encoding('gpt2')\n",
    "encode = lambda s: enc.encode(s, allowed_special={\"<|endoftext|>\"})\n",
    "decode = lambda l: enc.decode(l)\n"
   ]
  },
  {
   "cell_type": "code",
   "execution_count": 49,
   "id": "71ee0a03-27b8-4a11-9b9e-24e44c933caa",
   "metadata": {},
   "outputs": [],
   "source": [
    "s = \"What is the meaning of name 'Pranav'\"\n",
    "idx = encode(s)"
   ]
  },
  {
   "cell_type": "code",
   "execution_count": 50,
   "id": "252b9c50-cfef-4b63-98bf-d207e7746edc",
   "metadata": {},
   "outputs": [
    {
     "data": {
      "text/plain": [
       "tensor([[2061,  318,  262, 3616,  286, 1438,  705,   47, 2596,  615,    6]],\n",
       "       device='cuda:0')"
      ]
     },
     "execution_count": 50,
     "metadata": {},
     "output_type": "execute_result"
    }
   ],
   "source": [
    "x = torch.tensor(idx, dtype=torch.long, device=device)[None, ...]\n",
    "x"
   ]
  },
  {
   "cell_type": "code",
   "execution_count": 51,
   "id": "ce73e1f6-b5f8-482e-9dec-1d8e8e6e0c24",
   "metadata": {},
   "outputs": [
    {
     "name": "stdout",
     "output_type": "stream",
     "text": [
      "What is the meaning of name 'Pranav' in Sanskrit?\n",
      "\n",
      "Pranav is a Sanskrit word for 'body', which refers to the body and the senses of the body. According to the first verse of the Vedanta, Pranav is a word of honor for a god or goddess.\n",
      "\n",
      "What is the meaning of the name of 'Pravell' in Sanskrit?\n",
      "\n",
      "Pravell is a term of honor or honor due to the creation of a temple, royal family and royal sisters.\n",
      "\n",
      "What is the meaning of the names or names of the temple houses, families, royal families and royal sisters in Sanskrit?\n",
      "\n",
      "A term of honor or honor due to the creation of a temple, royal family or royal sisters. The old Shravanapatnam speaks of the idea that each name of the family is the sacred name of its royal lineage, which means the lineage from which the name came. This kind of honor and honor is seen both as a name and a fact of history as well as a form of worship.\n",
      "\n",
      "What are the names or names of the temples in Sanskrit?\n",
      "\n",
      "A term of honor or honor because of the two worlds of the king, god and goddess.\n",
      "\n",
      "What is the name of the city or city-state in Sanskrit?\n",
      "\n",
      "The city is a broad term that are used to signify the village of a town, sometimes called Indian way or 'Indian town' or town.\n",
      "\n",
      "What is the name of the tribe in the Indian language of India?\n",
      "\n",
      "The tribe of the Indians of India encompasses most of the four regions of India.\n",
      "\n",
      "What is the name of the other three main aspects of Jainism in Sanskrit?\n",
      "\n",
      "Jainism is a belief in the existence of the Supreme Being of the universe; for that is the supreme being which is the supreme Being.\n",
      "\n",
      "What is the name of the word 'came' in Sanskrit?\n",
      "\n",
      "Came is a name derived from the word 'came' and the Indian word 'came'.\n",
      "\n",
      "What is the name of the word 'Khar' in Sanskrit?\n",
      "\n",
      "Khar, or 'khar', is a Sanskrit word meaning 'black man' or 'black man' or something similar to that.\n",
      "\n",
      "What is the name of the word 'Kap' in Sanskrit?\n",
      "\n",
      "Kap, or 'kap' is a Sanskrit word meaning 'black man' or 'black man' or something similar\n",
      "---------------\n",
      "What is the meaning of name 'Pranav' ('Pranaji'), or 'Pranaji'?\n",
      "\n",
      "Pranav's name is used in Sikhism because it is the only Sikh name that is known as 'Pranaji'. It is the only name that is known as 'Pranaji'.\n",
      "\n",
      "Sikh man knows the name Pranaji but is not a Sikh citizen. He is a non- Sikh. He is a non- Sikh citizen. He can speak about the name of Pranav and if he can speak about the name of Pranaji, he can speak about the name of Pranaji or its very name.\n",
      "\n",
      "In the state of Kerala, the name 'Pranaji' is only used in Kerala. In the state of Kerala, the name 'Pranaji' is only used in Kerala.\n",
      "\n",
      "The principal Sikh names in this country are:\n",
      "\n",
      "Pranaji (Mohan Singh) Phanu Pranav Pranav Narni Praja Singh\n",
      "\n",
      "Pathan Singh Pathan Pathan Pati Chit Thak Palu Patha Singh\n",
      "\n",
      "Chitavrva Pathan Pathan Pati Chitavrva Pati Charh Singh Wala Pathan\n",
      "\n",
      "Chitav of the Chitavras of the Sangh are Narni and Chitava Pranav.\n",
      "\n",
      "Pranaji is Sikh's way of naming, but it is Sanskrit and not Hindu.\n",
      "\n",
      "On any other sacred name, in Sanskrit meaning 'name' or 'person' and in Sanskrit meaning 'name' or 'individual' or 'all that is'.\n",
      "\n",
      "Some place as well, is Sorapur-ul-Korhat, or Tora-ul-Sheeser.\n",
      "\n",
      "When can temples be built?\n",
      "\n",
      "It is not known yet if temples are built in an orderly way.\n",
      "\n",
      "What is the difference between a temple and a secular temple?\n",
      "\n",
      "Unofficially, the idea is that the temple of the temple of the temple is the temple of the Hindu god, the temple of God, the temple of the Hindu identity and so on.\n",
      "\n",
      "In an example, it is believed to have been built in Shastri Bhutta.\n",
      "\n",
      "What is the reason behind a temple?\n",
      "\n",
      "There is a reason for the design of buildings.\n",
      "\n",
      "In the early days, Hindu temples were constructed with the purpose of learning. This was done by\n",
      "---------------\n"
     ]
    }
   ],
   "source": [
    "# run generation\n",
    "with torch.no_grad():\n",
    "    with ctx:\n",
    "        for k in range(num_sample):\n",
    "            y = model.generate(x, max_new_tokens, temperature=temprature, top_k=top_k)\n",
    "            print(decode(y[0].tolist()))\n",
    "            print('---------------')"
   ]
  },
  {
   "cell_type": "code",
   "execution_count": 45,
   "id": "290e0e10-a88f-4d79-ae78-3d72c0ab9f3b",
   "metadata": {},
   "outputs": [],
   "source": [
    "# Training"
   ]
  },
  {
   "cell_type": "code",
   "execution_count": 68,
   "id": "67e73281-3fb5-420e-90c2-a83fed0b38cc",
   "metadata": {},
   "outputs": [],
   "source": [
    "from datasets import load_dataset\n",
    "from transformers import AutoTokenizer\n",
    "from torch.utils.data import DataLoader\n"
   ]
  },
  {
   "cell_type": "code",
   "execution_count": 67,
   "id": "bc290110-7d4d-4566-808b-93113dbebf6c",
   "metadata": {},
   "outputs": [
    {
     "name": "stderr",
     "output_type": "stream",
     "text": [
      "Downloading data: 100%|███████████████████████████| 722k/722k [00:01<00:00, 436kB/s]\n",
      "Downloading data: 100%|██████████████████████████| 156M/156M [01:54<00:00, 1.36MB/s]\n",
      "Downloading data: 100%|██████████████████████████| 156M/156M [01:55<00:00, 1.35MB/s]\n",
      "Downloading data: 100%|███████████████████████████| 655k/655k [00:01<00:00, 436kB/s]\n"
     ]
    },
    {
     "data": {
      "application/vnd.jupyter.widget-view+json": {
       "model_id": "af4d62cbb2c64da8b1a08157385a2de9",
       "version_major": 2,
       "version_minor": 0
      },
      "text/plain": [
       "Generating test split:   0%|          | 0/4358 [00:00<?, ? examples/s]"
      ]
     },
     "metadata": {},
     "output_type": "display_data"
    },
    {
     "data": {
      "application/vnd.jupyter.widget-view+json": {
       "model_id": "45d62c39ee9248a4ab644bdd223d3ca6",
       "version_major": 2,
       "version_minor": 0
      },
      "text/plain": [
       "Generating train split:   0%|          | 0/1801350 [00:00<?, ? examples/s]"
      ]
     },
     "metadata": {},
     "output_type": "display_data"
    },
    {
     "data": {
      "application/vnd.jupyter.widget-view+json": {
       "model_id": "ed5dfab6eb754be9b9a6679af9845472",
       "version_major": 2,
       "version_minor": 0
      },
      "text/plain": [
       "Generating validation split:   0%|          | 0/3760 [00:00<?, ? examples/s]"
      ]
     },
     "metadata": {},
     "output_type": "display_data"
    }
   ],
   "source": [
    "dataset = load_dataset('wikitext','wikitext-103-v1',cache_dir='/home/pranav-pc/projects/OpenTransformer/multiformer/data/external/')"
   ]
  },
  {
   "cell_type": "code",
   "execution_count": 70,
   "id": "4b60fd9c-4329-4f67-bcca-9f28118d0578",
   "metadata": {},
   "outputs": [
    {
     "data": {
      "application/vnd.jupyter.widget-view+json": {
       "model_id": "c6743138a61a4b1c922eff85f49363f5",
       "version_major": 2,
       "version_minor": 0
      },
      "text/plain": [
       "Map:   0%|          | 0/4358 [00:00<?, ? examples/s]"
      ]
     },
     "metadata": {},
     "output_type": "display_data"
    },
    {
     "data": {
      "application/vnd.jupyter.widget-view+json": {
       "model_id": "9c2d8d398d254c4a8b105ddd173d1ec1",
       "version_major": 2,
       "version_minor": 0
      },
      "text/plain": [
       "Map:   0%|          | 0/1801350 [00:00<?, ? examples/s]"
      ]
     },
     "metadata": {},
     "output_type": "display_data"
    },
    {
     "data": {
      "application/vnd.jupyter.widget-view+json": {
       "model_id": "68549d3fba264a07ae42c5238773b7ec",
       "version_major": 2,
       "version_minor": 0
      },
      "text/plain": [
       "Map:   0%|          | 0/3760 [00:00<?, ? examples/s]"
      ]
     },
     "metadata": {},
     "output_type": "display_data"
    }
   ],
   "source": [
    "\n",
    "# Load tokenizer\n",
    "tokenizer = AutoTokenizer.from_pretrained(\"bert-base-uncased\")\n",
    "# Tokenize dataset\n",
    "def tokenize_function(example):\n",
    "    return tokenizer(example[\"text\"], padding=\"max_length\", truncation=True)\n",
    "tokenized_dataset = dataset.map(tokenize_function, batched=True)"
   ]
  },
  {
   "cell_type": "code",
   "execution_count": 82,
   "id": "242e8ada-53ed-41f2-a041-424a2613f11e",
   "metadata": {},
   "outputs": [
    {
     "data": {
      "text/plain": [
       "{'text': ' Robert Boulter is an English film , television and theatre actor . He had a guest @-@ starring role on the television series The Bill in 2000 . This was followed by a starring role in the play Herons written by Simon Stephens , which was performed in 2001 at the Royal Court Theatre . He had a guest role in the television series Judge John Deed in 2002 . In 2004 Boulter landed a role as \" Craig \" in the episode \" Teddy \\'s Story \" of the television series The Long Firm ; he starred alongside actors Mark Strong and Derek Jacobi . He was cast in the 2005 theatre productions of the Philip Ridley play Mercury Fur , which was performed at the Drum Theatre in Plymouth and the <unk> Chocolate Factory in London . He was directed by John Tiffany and starred alongside Ben Whishaw , Shane Zaza , Harry Kent , Fraser Ayres , Sophie Stanton and Dominic Hall . \\n'}"
      ]
     },
     "execution_count": 82,
     "metadata": {},
     "output_type": "execute_result"
    }
   ],
   "source": [
    "dataset['test'][3]"
   ]
  },
  {
   "cell_type": "code",
   "execution_count": null,
   "id": "adc4242e-9d7d-4b60-b361-7700e7ad8b79",
   "metadata": {},
   "outputs": [],
   "source": []
  }
 ],
 "metadata": {
  "kernelspec": {
   "display_name": "Python 3 (ipykernel)",
   "language": "python",
   "name": "python3"
  },
  "language_info": {
   "codemirror_mode": {
    "name": "ipython",
    "version": 3
   },
   "file_extension": ".py",
   "mimetype": "text/x-python",
   "name": "python",
   "nbconvert_exporter": "python",
   "pygments_lexer": "ipython3",
   "version": "3.11.6"
  }
 },
 "nbformat": 4,
 "nbformat_minor": 5
}
