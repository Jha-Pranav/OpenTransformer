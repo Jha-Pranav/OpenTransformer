{
 "cells": [
  {
   "cell_type": "code",
   "execution_count": null,
   "id": "03f75498-78a8-411e-9eab-b1e10ac3b6fe",
   "metadata": {},
   "outputs": [],
   "source": [
    "# Credit : https://github.com/meta-llama/llama/blob/main/llama/model.py"
   ]
  },
  {
   "cell_type": "code",
   "execution_count": 1,
   "id": "43c62a88-0ba9-47b6-980e-ef1408f06a3f",
   "metadata": {},
   "outputs": [
    {
     "name": "stdout",
     "output_type": "stream",
     "text": [
      "TORCH VERSION : 2.2.1\n",
      "GPU  :  cuda\n"
     ]
    }
   ],
   "source": [
    "from importlib.metadata import version\n",
    "import torch\n",
    "\n",
    "print(\"TORCH VERSION :\", version(\"torch\"))\n",
    "device = \"cuda\" if torch.cuda.is_available() else 'mps' if torch.backend.mps.is_available() else 'cpu'\n",
    "print('GPU  : ', device)"
   ]
  },
  {
   "cell_type": "code",
   "execution_count": 5,
   "id": "80db382b-659b-44e3-ac77-361ea4b0d889",
   "metadata": {},
   "outputs": [],
   "source": [
    "import torch.nn as nn\n",
    "import torch.nn.functional as F\n",
    "\n",
    "from dataclasses import dataclass\n",
    "import sentencepiece\n",
    "\n",
    "from typing import Union\n",
    "import tqdm\n"
   ]
  },
  {
   "cell_type": "code",
   "execution_count": 8,
   "id": "31377f34-58a7-4c1d-99c4-f05313a0eb7b",
   "metadata": {},
   "outputs": [],
   "source": [
    "@dataclass\n",
    "class ModelArgs:\n",
    "    dim: int = 4096\n",
    "    # n_layers: int = 32\n",
    "    # n_heads: int = 32\n",
    "    # n_kv_heads: Optional[int] = None\n",
    "    # vocab_size: int = -1  # defined later by tokenizer\n",
    "    # multiple_of: int = 256  # make SwiGLU hidden layer size multiple of large power of 2\n",
    "    # ffn_dim_multiplier: Optional[float] = None\n",
    "    # norm_eps: float = 1e-5\n",
    "\n",
    "    # max_batch_size: int = 32\n",
    "    # max_seq_len: int = 2048\n"
   ]
  },
  {
   "cell_type": "code",
   "execution_count": 9,
   "id": "046ce812-4657-49d0-9d68-47903db1bfd1",
   "metadata": {},
   "outputs": [
    {
     "ename": "NameError",
     "evalue": "name 'args' is not defined",
     "output_type": "error",
     "traceback": [
      "\u001b[0;31m---------------------------------------------------------------------------\u001b[0m",
      "\u001b[0;31mNameError\u001b[0m                                 Traceback (most recent call last)",
      "Cell \u001b[0;32mIn[9], line 1\u001b[0m\n\u001b[0;32m----> 1\u001b[0m \u001b[43margs\u001b[49m\n",
      "\u001b[0;31mNameError\u001b[0m: name 'args' is not defined"
     ]
    }
   ],
   "source": [
    "args"
   ]
  },
  {
   "cell_type": "code",
   "execution_count": null,
   "id": "22a93b92-b872-4b6e-a64f-f22d28396e3d",
   "metadata": {},
   "outputs": [],
   "source": []
  }
 ],
 "metadata": {
  "kernelspec": {
   "display_name": "Python 3 (ipykernel)",
   "language": "python",
   "name": "python3"
  },
  "language_info": {
   "codemirror_mode": {
    "name": "ipython",
    "version": 3
   },
   "file_extension": ".py",
   "mimetype": "text/x-python",
   "name": "python",
   "nbconvert_exporter": "python",
   "pygments_lexer": "ipython3",
   "version": "3.11.6"
  }
 },
 "nbformat": 4,
 "nbformat_minor": 5
}
