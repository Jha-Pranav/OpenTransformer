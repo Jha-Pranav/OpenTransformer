{
 "cells": [
  {
   "cell_type": "code",
   "execution_count": 1,
   "id": "b6f25c75-ab12-452c-8e60-a8169478a3eb",
   "metadata": {},
   "outputs": [],
   "source": [
    "# import torch\n",
    "# from transformers import AutoTokenizer\n",
    "\n",
    "# model_id=\"meta-llama/Llama-2-7b-hf\"\n",
    "\n",
    "# hf_tokenizer = AutoTokenizer.from_pretrained(model_id,\n",
    "#                                          cache_dir=\"/home/pranav-pc/projects/OpenTransformer/multiformer/tokenizer_checkpoints/external\",\n",
    "#                                          use_fast=True)\n",
    "# hf_tokenizer.save_pretrained('/home/pranav-pc/projects/OpenTransformer/multiformer/tokenizer_checkpoints/')"
   ]
  },
  {
   "cell_type": "code",
   "execution_count": 2,
   "id": "3f3f41c2-8cf0-4ae3-b2e5-441a501ac6fb",
   "metadata": {},
   "outputs": [],
   "source": [
    "from tokenizers import Tokenizer as HFTokenizer\n",
    "hf_tokenizer = HFTokenizer.from_file(\"/home/pranav-pc/projects/OpenTransformer/multiformer/tokenizer_checkpoints/tokenizer.json\")"
   ]
  },
  {
   "cell_type": "code",
   "execution_count": 3,
   "id": "b7a5d1a1-e4d2-4be7-b28a-15a304ae23bf",
   "metadata": {},
   "outputs": [],
   "source": [
    "from sentencepiece import SentencePieceProcessor"
   ]
  },
  {
   "cell_type": "code",
   "execution_count": 23,
   "id": "964d87e2-ead8-48fa-9c6f-eb9ede3dd687",
   "metadata": {},
   "outputs": [],
   "source": [
    "sp_tokenizer = SentencePieceProcessor(\"/home/pranav-pc/projects/OpenTransformer/multiformer/tokenizer_checkpoints/tokenizer.model\",add_bos=True,add_eos=True)"
   ]
  },
  {
   "cell_type": "markdown",
   "id": "ed36733a-307c-4a7a-95fe-6b03e57b617a",
   "metadata": {},
   "source": [
    "## Benchmark"
   ]
  },
  {
   "cell_type": "code",
   "execution_count": 5,
   "id": "031013b2-4918-449e-a34d-d337729345e1",
   "metadata": {},
   "outputs": [],
   "source": [
    "#Dummy text\n",
    "# Load dataset from Hugging Face datasets library\n",
    "from datasets import load_dataset\n",
    "\n",
    "dataset = load_dataset(\"imdb\")\n",
    "raw_text = dataset['test']['text']\n"
   ]
  },
  {
   "cell_type": "code",
   "execution_count": 6,
   "id": "89c9b844-66b4-4987-b001-f517c315d273",
   "metadata": {},
   "outputs": [
    {
     "name": "stdout",
     "output_type": "stream",
     "text": [
      "6.25 s ± 44.5 ms per loop (mean ± std. dev. of 7 runs, 1 loop each)\n"
     ]
    }
   ],
   "source": [
    "%timeit [hf_tokenizer.encode(text).ids for text in raw_text]"
   ]
  },
  {
   "cell_type": "code",
   "execution_count": 7,
   "id": "30c6d3e4-945d-48c0-8f6d-4f4a48d9eeaf",
   "metadata": {},
   "outputs": [
    {
     "name": "stdout",
     "output_type": "stream",
     "text": [
      "546 ms ± 4.55 ms per loop (mean ± std. dev. of 7 runs, 1 loop each)\n"
     ]
    }
   ],
   "source": [
    "%timeit sp_tokenizer.encode(raw_text)"
   ]
  },
  {
   "cell_type": "code",
   "execution_count": 8,
   "id": "c044ed42-acba-4a11-8d55-e0e03b422d49",
   "metadata": {},
   "outputs": [
    {
     "name": "stdout",
     "output_type": "stream",
     "text": [
      "8.9 s ± 175 ms per loop (mean ± std. dev. of 7 runs, 1 loop each)\n"
     ]
    }
   ],
   "source": [
    "%timeit [hf_tokenizer.decode(hf_tokenizer.encode(text).ids) for text in raw_text]"
   ]
  },
  {
   "cell_type": "code",
   "execution_count": 9,
   "id": "9f61ff0d-46a2-4474-b641-3f276921778c",
   "metadata": {},
   "outputs": [
    {
     "name": "stdout",
     "output_type": "stream",
     "text": [
      "769 ms ± 24.5 ms per loop (mean ± std. dev. of 7 runs, 1 loop each)\n"
     ]
    }
   ],
   "source": [
    "%timeit sp_tokenizer.decode(sp_tokenizer.encode(raw_text))"
   ]
  },
  {
   "cell_type": "markdown",
   "id": "c8b5ebce-edf7-4ea8-86c8-3e1fb9f33b9e",
   "metadata": {},
   "source": [
    "It's quite apparent that while Hugging Face may offer feature-rich functionality, SentencePieceTokenizer suffices for our use case and boasts significantly faster performance."
   ]
  },
  {
   "cell_type": "code",
   "execution_count": null,
   "id": "c3444cb7-1bf5-44ee-8d15-581d800262e3",
   "metadata": {},
   "outputs": [],
   "source": []
  }
 ],
 "metadata": {
  "kernelspec": {
   "display_name": "Python 3 (ipykernel)",
   "language": "python",
   "name": "python3"
  },
  "language_info": {
   "codemirror_mode": {
    "name": "ipython",
    "version": 3
   },
   "file_extension": ".py",
   "mimetype": "text/x-python",
   "name": "python",
   "nbconvert_exporter": "python",
   "pygments_lexer": "ipython3",
   "version": "3.11.6"
  }
 },
 "nbformat": 4,
 "nbformat_minor": 5
}
