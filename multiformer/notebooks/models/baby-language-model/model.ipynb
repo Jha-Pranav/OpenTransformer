{
 "cells": [
  {
   "cell_type": "code",
   "execution_count": 2,
   "id": "0d32caf4-5896-4322-87fc-004d0bdfbfa6",
   "metadata": {},
   "outputs": [
    {
     "name": "stdout",
     "output_type": "stream",
     "text": [
      "TORCH VERSION : 2.2.2\n",
      "Device  :  CUDA\n"
     ]
    }
   ],
   "source": [
    "from importlib.metadata import version\n",
    "import torch\n",
    "\n",
    "print(\"TORCH VERSION :\", version(\"torch\"))\n",
    "device = (\n",
    "    \"cuda\"\n",
    "    if torch.cuda.is_available()\n",
    "    else \"mps\" if torch.backend.mps.is_available() else \"cpu\"\n",
    ")\n",
    "print(\"Device  : \", device.upper())"
   ]
  },
  {
   "cell_type": "code",
   "execution_count": 3,
   "id": "392b2032-0d25-4e47-930b-3f2dc199c087",
   "metadata": {},
   "outputs": [],
   "source": [
    "torch.manual_seed(123)\n",
    "torch.cuda.manual_seed(123)\n",
    "\n",
    "dtype = (\n",
    "    \"bfloat16\"\n",
    "    if torch.cuda.is_available() and torch.cuda.is_bf16_supported()\n",
    "    else \"float16\"\n",
    ")\n",
    "\n",
    "torch.backends.cuda.matmul.allow_tf32 = True\n",
    "torch.backends.cudnn.allow_tf32 = True"
   ]
  },
  {
   "cell_type": "code",
   "execution_count": 4,
   "id": "cc7594d4-3558-4e8b-9a60-44dd1388495b",
   "metadata": {},
   "outputs": [],
   "source": [
    "from torch import nn\n",
    "import torch.nn.functional as F\n",
    "from dataclasses import dataclass"
   ]
  },
  {
   "cell_type": "code",
   "execution_count": 5,
   "id": "b44cf651-0ccc-4cf5-a567-7eaa487dea23",
   "metadata": {},
   "outputs": [],
   "source": [
    "# Default llama 2 params\n",
    "@dataclass\n",
    "class ModelArgs:\n",
    "    vocab_size: int = 32000  # llama2 tokenizer has 32k vocab size\n",
    "    emebdding_dim: int = 4096\n",
    "    max_seq_len = 2048\n",
    "\n",
    "    rms_norm_eps: float = (1e-05,)\n",
    "\n",
    "    rope_scaling: float = (1.0,)\n",
    "    rope_theta: float = (10000.0,)\n",
    "\n",
    "    attention_bias: bool = (False,)\n",
    "    attention_dropout: float = (0.0,)\n",
    "    num_attention_heads: int = (32,)\n",
    "    num_key_value_heads: int = (32,)\n",
    "    use_cache: bool = (True,)\n",
    "    use_sliding_window: bool = True\n",
    "\n",
    "    mlp_hidden_size = None  # set some lambda function or scaling factor\n",
    "    mlp_dropout: float = 0.0\n",
    "\n",
    "    num_layers: int = 32"
   ]
  },
  {
   "cell_type": "code",
   "execution_count": null,
   "id": "78f2a86e-d61d-4071-b660-d3ac869b599c",
   "metadata": {},
   "outputs": [],
   "source": []
  }
 ],
 "metadata": {
  "kernelspec": {
   "display_name": "Python 3 (ipykernel)",
   "language": "python",
   "name": "python3"
  },
  "language_info": {
   "codemirror_mode": {
    "name": "ipython",
    "version": 3
   },
   "file_extension": ".py",
   "mimetype": "text/x-python",
   "name": "python",
   "nbconvert_exporter": "python",
   "pygments_lexer": "ipython3",
   "version": "3.11.6"
  }
 },
 "nbformat": 4,
 "nbformat_minor": 5
}
