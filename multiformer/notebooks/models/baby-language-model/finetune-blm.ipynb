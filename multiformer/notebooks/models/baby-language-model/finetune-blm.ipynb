{
 "cells": [
  {
   "cell_type": "code",
   "execution_count": 1,
   "id": "99ecccba-994b-481a-9976-7e1ac6238a9f",
   "metadata": {},
   "outputs": [],
   "source": [
    "import lightning.pytorch as pl\n",
    "import torch\n",
    "import torch.nn as nn\n",
    "from datasets import load_dataset"
   ]
  },
  {
   "cell_type": "code",
   "execution_count": 2,
   "id": "a6bc73fd-dd78-4d8c-b7da-76f2ba768adf",
   "metadata": {},
   "outputs": [
    {
     "name": "stderr",
     "output_type": "stream",
     "text": [
      "Downloading data: 100%|██████████████████████| 219M/219M [02:36<00:00, 1.40MB/s]\n",
      "Downloading data: 100%|██████████████████████| 218M/218M [02:50<00:00, 1.28MB/s]\n",
      "Downloading data: 100%|██████████████████████| 217M/217M [02:20<00:00, 1.55MB/s]\n",
      "Downloading data: 100%|██████████████████████| 220M/220M [02:17<00:00, 1.60MB/s]\n",
      "Downloading data: 100%|██████████████████████| 220M/220M [02:08<00:00, 1.71MB/s]\n",
      "Downloading data: 100%|██████████████████████| 218M/218M [02:12<00:00, 1.65MB/s]\n",
      "Downloading data: 100%|████████████████████| 13.2M/13.2M [00:06<00:00, 1.92MB/s]\n"
     ]
    },
    {
     "data": {
      "application/vnd.jupyter.widget-view+json": {
       "model_id": "0b72aa42476a4569a17475d81ea44417",
       "version_major": 2,
       "version_minor": 0
      },
      "text/plain": [
       "Generating train split:   0%|          | 0/2476533 [00:00<?, ? examples/s]"
      ]
     },
     "metadata": {},
     "output_type": "display_data"
    },
    {
     "data": {
      "application/vnd.jupyter.widget-view+json": {
       "model_id": "6e9be532ea8749f48176d970e03b122f",
       "version_major": 2,
       "version_minor": 0
      },
      "text/plain": [
       "Generating validation split:   0%|          | 0/25028 [00:00<?, ? examples/s]"
      ]
     },
     "metadata": {},
     "output_type": "display_data"
    }
   ],
   "source": [
    "ds = load_dataset(\n",
    "    \"skeskinen/TinyStories-Instruct-hf\",\n",
    "    cache_dir=\"/home/pranav-pc/projects/OpenTransformer/multiformer/data/downloads\",\n",
    ")"
   ]
  },
  {
   "cell_type": "code",
   "execution_count": 7,
   "id": "09e21d40-c585-430a-8725-789394488f2f",
   "metadata": {},
   "outputs": [
    {
     "name": "stdout",
     "output_type": "stream",
     "text": [
      "Summary: Lily steals a new bike from a store and gets into an accident while riding it, resulting in her getting hurt and being sent to jail, losing her parents' trust and love. The moral of the story is not to steal.\n",
      "Words: ride, work, upset\n",
      "Features: Dialogue, BadEnding, MoralValue\n",
      "Story: \n",
      "\n",
      "\n",
      "\n",
      "Lily liked to ride her bike. She rode it every day after work. Work was a place where she helped her mom and dad with chores. She liked work, but she liked riding her bike more.\n",
      "\n",
      "One day, she saw a new bike in the store. It was shiny and red and had a bell. Lily wanted the new bike very much. She asked her mom and dad if they could buy it for her. They said no. They said the new bike was too expensive and that she already had a good bike.\n",
      "\n",
      "Lily was upset. She did not listen to her mom and dad. She thought they were mean and unfair. She decided to take the new bike without paying. She waited until the store was busy and then she sneaked out with the bike.\n",
      "\n",
      "She rode the new bike very fast. She felt happy and proud. She rang the bell and smiled. She did not see the car coming. The car hit her and the bike. Lily and the bike flew in the air and then crashed on the ground.\n",
      "\n",
      "Lily was hurt very badly. She cried and screamed. The store owner and her mom and dad came running. They saw what she had done. They were angry and sad. They called an ambulance and the police. Lily had to go to the hospital and then to jail. She lost her old bike and her new bike. She also lost her mom and dad's trust and love.\n",
      "\n",
      "The moral of the story is: do not steal. Stealing is wrong and dangerous. It can hurt you and others. Be happy with what you have and listen to your mom and dad. They know what is best for you.\n"
     ]
    }
   ],
   "source": [
    "print(ds[\"train\"][1][\"text\"])"
   ]
  },
  {
   "cell_type": "code",
   "execution_count": null,
   "id": "a1547c42-238d-413e-94e2-dd4b58ec5073",
   "metadata": {},
   "outputs": [],
   "source": []
  }
 ],
 "metadata": {
  "kernelspec": {
   "display_name": "Python 3 (ipykernel)",
   "language": "python",
   "name": "python3"
  },
  "language_info": {
   "codemirror_mode": {
    "name": "ipython",
    "version": 3
   },
   "file_extension": ".py",
   "mimetype": "text/x-python",
   "name": "python",
   "nbconvert_exporter": "python",
   "pygments_lexer": "ipython3",
   "version": "3.11.6"
  }
 },
 "nbformat": 4,
 "nbformat_minor": 5
}
