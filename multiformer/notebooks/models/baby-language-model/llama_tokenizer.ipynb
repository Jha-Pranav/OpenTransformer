{
 "cells": [
  {
   "cell_type": "code",
   "execution_count": 2,
   "id": "010208af-07b3-4a3b-82e9-d5dbe5e7f3b1",
   "metadata": {},
   "outputs": [],
   "source": [
    "import os"
   ]
  },
  {
   "cell_type": "code",
   "execution_count": 4,
   "id": "c5d01c63-8a04-4e62-8988-adb7dbce9c9e",
   "metadata": {},
   "outputs": [],
   "source": [
    "# Load dataset from Hugging Face datasets library\n",
    "from datasets import load_dataset, concatenate_datasets\n",
    "DATA_DIR =f\"/home/pranav-pc/projects/OpenTransformer/multiformer/data\"\n",
    "dataset_train = load_dataset(path=os.path.join(DATA_DIR,'downloads/TinyStories'),trust_remote_code=True,split='train')\n",
    "dataset_val = load_dataset(path=os.path.join(DATA_DIR,'downloads/TinyStories'),trust_remote_code=True,split='validation')\n",
    "\n",
    "dataset = concatenate_datasets([dataset_train,dataset_val])\n",
    "del dataset_train\n",
    "del dataset_val"
   ]
  },
  {
   "cell_type": "code",
   "execution_count": 12,
   "id": "6072e42b-6c03-4040-97ff-7e99647c3d91",
   "metadata": {},
   "outputs": [],
   "source": [
    "from src.tokenize.tokenizer import Tokenizer\n",
    "TOKENIZER_CHECKPOINT = (\n",
    "    \"/home/pranav-pc/projects/OpenTransformer/multiformer/tokenizer_checkpoints/\"\n",
    ")\n",
    "\n",
    "tokenizer = Tokenizer(TOKENIZER_CHECKPOINT)\n"
   ]
  },
  {
   "cell_type": "code",
   "execution_count": 13,
   "id": "e950ae5b-447e-47b2-8d86-7fa4357b8149",
   "metadata": {},
   "outputs": [
    {
     "data": {
      "text/plain": [
       "'One day, a little girl named Lily found a needle in her room. She knew it was difficult to play with it because it was sharp. Lily wanted to share the needle with her mom, so she could sew a button on her shirt.\\n\\nLily went to her mom and said, \"Mom, I found this needle. Can you share it with me and sew my shirt?\" Her mom smiled and said, \"Yes, Lily, we can share the needle and fix your shirt.\"\\n\\nTogether, they shared the needle and sewed the button on Lily\\'s shirt. It was not difficult for them because they were sharing and helping each other. After they finished, Lily thanked her mom for sharing the needle and fixing her shirt. They both felt happy because they had shared and worked together.'"
      ]
     },
     "execution_count": 13,
     "metadata": {},
     "output_type": "execute_result"
    }
   ],
   "source": [
    "text = dataset[0]['text']\n",
    "text"
   ]
  },
  {
   "cell_type": "code",
   "execution_count": 18,
   "id": "f86b91b4-10eb-4600-b175-12e1b31386fb",
   "metadata": {},
   "outputs": [
    {
     "name": "stdout",
     "output_type": "stream",
     "text": [
      "['<s>', '▁One', '▁day', ',', '▁a', '▁little', '▁girl', '▁named', '▁L', 'ily', '▁found', '▁a', '▁need', 'le', '▁in', '▁her', '▁room', '.', '▁She', '▁knew', '▁it', '▁was', '▁difficult', '▁to', '▁play', '▁with', '▁it', '▁because', '▁it', '▁was', '▁sharp', '.', '▁L', 'ily', '▁wanted', '▁to', '▁share', '▁the', '▁need', 'le', '▁with', '▁her', '▁mom', ',', '▁so', '▁she', '▁could', '▁se', 'w', '▁a', '▁button', '▁on', '▁her', '▁sh', 'irt', '.', '<0x0A>', '<0x0A>', 'L', 'ily', '▁went', '▁to', '▁her', '▁mom', '▁and', '▁said', ',', '▁\"', 'M', 'om', ',', '▁I', '▁found', '▁this', '▁need', 'le', '.', '▁Can', '▁you', '▁share', '▁it', '▁with', '▁me', '▁and', '▁se', 'w', '▁my', '▁sh', 'irt', '?\"', '▁Her', '▁mom', '▁smiled', '▁and', '▁said', ',', '▁\"', 'Yes', ',', '▁L', 'ily', ',', '▁we', '▁can', '▁share', '▁the', '▁need', 'le', '▁and', '▁fix', '▁your', '▁sh', 'irt', '.\"', '<0x0A>', '<0x0A>', 'T', 'ogether', ',', '▁they', '▁shared', '▁the', '▁need', 'le', '▁and', '▁se', 'wed', '▁the', '▁button', '▁on', '▁L', 'ily', \"'\", 's', '▁sh', 'irt', '.', '▁It', '▁was', '▁not', '▁difficult', '▁for', '▁them', '▁because', '▁they', '▁were', '▁sharing', '▁and', '▁helping', '▁each', '▁other', '.', '▁After', '▁they', '▁finished', ',', '▁L', 'ily', '▁thank', 'ed', '▁her', '▁mom', '▁for', '▁sharing', '▁the', '▁need', 'le', '▁and', '▁fixing', '▁her', '▁sh', 'irt', '.', '▁They', '▁both', '▁felt', '▁happy', '▁because', '▁they', '▁had', '▁shared', '▁and', '▁worked', '▁together', '.', '</s>']\n"
     ]
    }
   ],
   "source": [
    "print(tokenizer.encode(text,out_type=str))"
   ]
  },
  {
   "cell_type": "code",
   "execution_count": null,
   "id": "4a7c3c76-233a-4db1-9ccd-9748046bc821",
   "metadata": {},
   "outputs": [],
   "source": [
    "tokenizer."
   ]
  },
  {
   "cell_type": "code",
   "execution_count": null,
   "id": "7bf15580-4d1e-4897-a967-391767aea970",
   "metadata": {},
   "outputs": [],
   "source": [
    "\n",
    "data = dataset.map(\n",
    "    lambda example: {\"idx\": [en[:block_size] for en in tokenizer.encode(example[\"text\"])]},\n",
    "    batch_size=512,\n",
    "    batched=True,\n",
    "    remove_columns=dataset[\"train\"].column_names,\n",
    ")\n",
    "\n",
    "\n",
    "# Define collate function to handle padding\n",
    "def collate_fn(batch):\n",
    "    x_batch = [torch.tensor(en[:-1]) for en in batch]  # Extract x (remove last token)\n",
    "    y_batch = [torch.tensor(en[1:]) for en in batch]  # Extract y (remove first token)\n",
    "    x_padded = pad_sequence(\n",
    "        x_batch, batch_first=True, padding_value=tokenizer.eos_id()\n",
    "    )  # Pad x sequences\n",
    "    y_padded = pad_sequence(\n",
    "        y_batch, batch_first=True, padding_value=tokenizer.eos_id()\n",
    "    )  # Pad y sequences\n",
    "    return x_padded, y_padded\n",
    "\n",
    "\n",
    "# Sort the data and turn off shuffle - Simplest way of implementing Seq leng batch sampling\n",
    "train_data = sorted(data[\"train\"][\"idx\"], key=lambda x: len(x))\n",
    "\n",
    "# Create DataLoader with collate function\n",
    "train_loader = DataLoader(\n",
    "    train_data, batch_size=batch, collate_fn=collate_fn, shuffle=False\n",
    ")\n"
   ]
  }
 ],
 "metadata": {
  "kernelspec": {
   "display_name": "Python 3 (ipykernel)",
   "language": "python",
   "name": "python3"
  },
  "language_info": {
   "codemirror_mode": {
    "name": "ipython",
    "version": 3
   },
   "file_extension": ".py",
   "mimetype": "text/x-python",
   "name": "python",
   "nbconvert_exporter": "python",
   "pygments_lexer": "ipython3",
   "version": "3.11.6"
  }
 },
 "nbformat": 4,
 "nbformat_minor": 5
}
