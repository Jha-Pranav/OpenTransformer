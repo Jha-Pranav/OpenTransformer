{
 "cells": [
  {
   "cell_type": "code",
   "execution_count": 7,
   "id": "e83de153-7d4e-4e1a-9fd1-9bf5511d9af7",
   "metadata": {},
   "outputs": [],
   "source": [
    "import torch\n",
    "from omegaconf import OmegaConf\n",
    "from src.models.blm.config import ModelArgs\n",
    "from src.models.blm.pl_dataloader import TinyStoriesDataloader\n",
    "from src.models.blm.pl_training import Transformer\n",
    "from src.tokenize.tokenizer import Tokenizer"
   ]
  },
  {
   "cell_type": "code",
   "execution_count": 8,
   "id": "d45a4b6f-9cd3-4b29-a465-2d873061b493",
   "metadata": {},
   "outputs": [],
   "source": [
    "from src.models.blm.finetune.full_finetune import FineTuneBLM"
   ]
  },
  {
   "cell_type": "code",
   "execution_count": 9,
   "id": "de8fdf8c-c249-4e57-8d79-d1acb6a84380",
   "metadata": {},
   "outputs": [],
   "source": [
    "from datasets import load_dataset, load_from_disk\n",
    "\n",
    "ds = load_from_disk(\n",
    "    \"/home/pranav-pc/projects/OpenTransformer/multiformer/data/finetune/maths-problem\"\n",
    ")"
   ]
  },
  {
   "cell_type": "code",
   "execution_count": 10,
   "id": "d9b04013-6139-4df0-b91d-97d4a89bf84c",
   "metadata": {},
   "outputs": [],
   "source": [
    "BASE_URL = \"/home/pranav-pc/projects/OpenTransformer/multiformer\"\n",
    "tokenizer_path = BASE_URL + \"/tokenizer_checkpoints\"\n",
    "tokenizer = Tokenizer(tokenizer_path)"
   ]
  },
  {
   "cell_type": "code",
   "execution_count": 11,
   "id": "12d595d9-75ff-4d39-a929-51926900ed61",
   "metadata": {},
   "outputs": [],
   "source": [
    "MODEL_CONFIG_PATH = (\n",
    "    \"/home/pranav-pc/projects/OpenTransformer/multiformer/src/models/blm/conf/config.yaml\"\n",
    ")\n",
    "MODEL_CHECKPOINT_PATH = \"/home/pranav-pc/projects/OpenTransformer/multiformer/blm-1024/checkpoints/blm-fine-tuned-maths/blm-instruct-maths-epoch=11-train_loss=1.282.ckpt\"\n",
    "\n",
    "conf = OmegaConf.load(MODEL_CONFIG_PATH)"
   ]
  },
  {
   "cell_type": "code",
   "execution_count": 12,
   "id": "58531a40-8274-44dc-862d-4ec117fa9270",
   "metadata": {},
   "outputs": [],
   "source": [
    "state_dict = torch.load(MODEL_CHECKPOINT_PATH)[\"state_dict\"]\n",
    "# Pytorch by default add _orig_mod in the checkpoint keys.#TODO: Take care of this while model checkpointing\n",
    "state_dict = {k.replace(\"._orig_mod\", \"\"): v for k, v in state_dict.items()}"
   ]
  },
  {
   "cell_type": "code",
   "execution_count": 13,
   "id": "98e5af99-d5a7-497f-ab92-b23d19694e93",
   "metadata": {},
   "outputs": [
    {
     "data": {
      "text/plain": [
       "<All keys matched successfully>"
      ]
     },
     "execution_count": 13,
     "metadata": {},
     "output_type": "execute_result"
    }
   ],
   "source": [
    "config = ModelArgs(**conf[\"model\"])\n",
    "model = FineTuneBLM(Transformer(config))\n",
    "model.load_state_dict(state_dict)"
   ]
  },
  {
   "cell_type": "code",
   "execution_count": 14,
   "id": "b1ca7a96-e1a0-4ce2-b914-ada9d4d954c3",
   "metadata": {},
   "outputs": [],
   "source": [
    "#### Inference\n",
    "model.eval()\n",
    "model = model.cuda()"
   ]
  },
  {
   "cell_type": "code",
   "execution_count": 34,
   "id": "0a65b9b5-d33e-4abb-8430-fbdb8954c691",
   "metadata": {},
   "outputs": [
    {
     "data": {
      "text/plain": [
       "{'text': 'There are 200 more red apples than green apples in a grocery store. A truck arrives and delivers another 340 green apples. If there were originally 32 green apples, how many more green apples than red apples are there in the store now?/nThere are originally 32 green apples in the store.\\nThere are 200 more red apples than green apples, so there are 32 + 200 = 232 red apples.\\nA truck delivers 340 green apples, so now there are 32 + 340 = 372 green apples in the store.\\nThere are still 232 red apples in the store.\\nTherefore, there are 372 - 232 = 140 more green apples than red apples in the store now.\\n#### 140\\nThe answer is: 140'}"
      ]
     },
     "execution_count": 34,
     "metadata": {},
     "output_type": "execute_result"
    }
   ],
   "source": [
    "ds[\"validation\"][34]"
   ]
  },
  {
   "cell_type": "code",
   "execution_count": 40,
   "id": "f553fde3-67c2-43e4-a4e3-c5b3b4e0090d",
   "metadata": {},
   "outputs": [],
   "source": [
    "text = \"\"\"There are 200 more red apples than green apples in a grocery store. A truck arrives and delivers another 340 green apples. If there were originally 32 green apples, how many more green apples than red apples are there in the store now?\"\"\""
   ]
  },
  {
   "cell_type": "code",
   "execution_count": 42,
   "id": "982168ec-0920-45c2-a471-27b9091719ec",
   "metadata": {},
   "outputs": [
    {
     "name": "stdout",
     "output_type": "stream",
     "text": [
      "5\n",
      "1\n",
      "= 33$.  Find the sum of the numbers $x$ and $y = X$.\n",
      "If we know the answer to the above question is 32, what is the value of unknown variable X?/nWe are given that the sum of the numbers $x$ and $y = X$.\n",
      "To find the value of $X$, we need to determine the value of $X$.\n",
      "We know that the sum of the numbers is 9, so we can write:\n",
      "$9 + (9 - 33) = X$\n",
      "Simplifying, we get:\n",
      "$X + (9 - 33) = X$\n",
      "We are given that the sum of the numbers is 33, so we can substitute the values into the equation:\n",
      "$X + (9 - 33) = 33$\n",
      "To find the value of $X$, we can solve for $X$ by substituting it into the equation:\n",
      "$X + (9 - 33) = 33$\n",
      "$X + 9 = 33$\n",
      "Subtracting 9 from both sides of the equation, we get:\n",
      "$X = 33$\n",
      "Dividing both sides of the equation by 33, we find:\n",
      "$X = 3$\n",
      "The value of X is 3.\n",
      "The answer is: 3\n"
     ]
    }
   ],
   "source": [
    "# text = \"Once upon a time there was a pumpkin. It was a very special pumpkin, it could speak. It was sad because it couldn’t move. Every day, it would say\"\n",
    "# text = \"Jack was hungry, so he went looking for\"\n",
    "# text = \"Tim is a good boy. one day his father called and asked for the school exam result\"\n",
    "# text = \"Jack wanted to read a book,so he went to\"\n",
    "# text = \"who are you?\"\n",
    "# text = \"User: Words: come, road, sad Summary: A bus becomes jealous of a shiny new car and undergoes an operation to go faster, becoming good friends with the car and making everyone in the town happy. Assistant:\"\n",
    "text = \"9+9\"\n",
    "tokens = torch.LongTensor(tokenizer.encode(text)).to(\"cuda:0\").view(1, -1)[:, :-1]\n",
    "# print(tokens)\n",
    "predicted_tokens = model.predict_step(\n",
    "    tokens, None, max_new_tokens=1024, temperature=0.9, top_k=3, conditional_break=[2]\n",
    ")[0].tolist()\n",
    "# print(predicted_tokens)\n",
    "print(tokenizer.decode_ids(predicted_tokens))"
   ]
  },
  {
   "cell_type": "code",
   "execution_count": 73,
   "id": "f2794b1f-970c-445b-85f6-39aaf9e13006",
   "metadata": {},
   "outputs": [
    {
     "data": {
      "text/plain": [
       "'<0x0A>'"
      ]
     },
     "execution_count": 73,
     "metadata": {},
     "output_type": "execute_result"
    }
   ],
   "source": [
    "tokenizer.id_to_piece(13)"
   ]
  },
  {
   "cell_type": "code",
   "execution_count": null,
   "id": "2f1352ee-3fcb-404e-9137-59a955e5cf04",
   "metadata": {},
   "outputs": [],
   "source": []
  }
 ],
 "metadata": {
  "kernelspec": {
   "display_name": "Python 3 (ipykernel)",
   "language": "python",
   "name": "python3"
  },
  "language_info": {
   "codemirror_mode": {
    "name": "ipython",
    "version": 3
   },
   "file_extension": ".py",
   "mimetype": "text/x-python",
   "name": "python",
   "nbconvert_exporter": "python",
   "pygments_lexer": "ipython3",
   "version": "3.11.6"
  }
 },
 "nbformat": 4,
 "nbformat_minor": 5
}
