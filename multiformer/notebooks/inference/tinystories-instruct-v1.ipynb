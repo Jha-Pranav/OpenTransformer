{
 "cells": [
  {
   "cell_type": "code",
   "execution_count": 1,
   "id": "e83de153-7d4e-4e1a-9fd1-9bf5511d9af7",
   "metadata": {},
   "outputs": [
    {
     "name": "stderr",
     "output_type": "stream",
     "text": [
      "Seed set to 123\n",
      "Seed set to 123\n"
     ]
    }
   ],
   "source": [
    "import torch\n",
    "from omegaconf import OmegaConf\n",
    "from src.models.blm.config import ModelArgs\n",
    "from src.models.blm.pl_dataloader import TinyStoriesDataloader\n",
    "from src.models.blm.pl_training import Transformer\n",
    "from src.tokenize.tokenizer import Tokenizer"
   ]
  },
  {
   "cell_type": "code",
   "execution_count": 2,
   "id": "d45a4b6f-9cd3-4b29-a465-2d873061b493",
   "metadata": {},
   "outputs": [],
   "source": [
    "from src.models.blm.finetune.selected_layers_finetune_causal import FineTuneBLM"
   ]
  },
  {
   "cell_type": "code",
   "execution_count": 3,
   "id": "de8fdf8c-c249-4e57-8d79-d1acb6a84380",
   "metadata": {},
   "outputs": [],
   "source": [
    "from datasets import load_dataset, load_from_disk\n",
    "\n",
    "ds = load_from_disk(\n",
    "    \"/home/pranav-pc/projects/OpenTransformer/multiformer/data/finetune/instruct-dataset-v3\"\n",
    ")"
   ]
  },
  {
   "cell_type": "code",
   "execution_count": 4,
   "id": "d9b04013-6139-4df0-b91d-97d4a89bf84c",
   "metadata": {},
   "outputs": [],
   "source": [
    "BASE_URL = \"/home/pranav-pc/projects/OpenTransformer/multiformer\"\n",
    "tokenizer_path = BASE_URL + \"/tokenizer_checkpoints\"\n",
    "tokenizer = Tokenizer(tokenizer_path)"
   ]
  },
  {
   "cell_type": "code",
   "execution_count": 9,
   "id": "12d595d9-75ff-4d39-a929-51926900ed61",
   "metadata": {},
   "outputs": [],
   "source": [
    "MODEL_CONFIG_PATH = (\n",
    "    \"/home/pranav-pc/projects/OpenTransformer/multiformer/src/models/blm/conf/config.yaml\"\n",
    ")\n",
    "MODEL_CHECKPOINT_PATH = \"/home/pranav-pc/projects/model-registry/blm-instruct-v2/last.bin\"\n",
    "\n",
    "conf = OmegaConf.load(MODEL_CONFIG_PATH)"
   ]
  },
  {
   "cell_type": "code",
   "execution_count": 10,
   "id": "58531a40-8274-44dc-862d-4ec117fa9270",
   "metadata": {},
   "outputs": [],
   "source": [
    "state_dict = torch.load(MODEL_CHECKPOINT_PATH)[\"state_dict\"]\n",
    "# Pytorch by default add _orig_mod in the checkpoint keys.#TODO: Take care of this while model checkpointing\n",
    "state_dict = {k.replace(\"._orig_mod\", \"\"): v for k, v in state_dict.items()}"
   ]
  },
  {
   "cell_type": "code",
   "execution_count": 11,
   "id": "98e5af99-d5a7-497f-ab92-b23d19694e93",
   "metadata": {},
   "outputs": [
    {
     "data": {
      "text/plain": [
       "<All keys matched successfully>"
      ]
     },
     "execution_count": 11,
     "metadata": {},
     "output_type": "execute_result"
    }
   ],
   "source": [
    "config = ModelArgs(**conf[\"model\"])\n",
    "model = FineTuneBLM(Transformer(config))\n",
    "model.load_state_dict(state_dict)"
   ]
  },
  {
   "cell_type": "code",
   "execution_count": 12,
   "id": "b1ca7a96-e1a0-4ce2-b914-ada9d4d954c3",
   "metadata": {},
   "outputs": [],
   "source": [
    "#### Inference\n",
    "model.eval()\n",
    "model = model.cuda()"
   ]
  },
  {
   "cell_type": "code",
   "execution_count": 13,
   "id": "0a65b9b5-d33e-4abb-8430-fbdb8954c691",
   "metadata": {},
   "outputs": [
    {
     "data": {
      "application/vnd.jupyter.widget-view+json": {
       "model_id": "18b11aeb5a924c0da4e177be91ee7008",
       "version_major": 2,
       "version_minor": 0
      },
      "text/plain": [
       "Filter (num_proc=30):   0%|          | 0/4311905 [00:00<?, ? examples/s]"
      ]
     },
     "metadata": {},
     "output_type": "display_data"
    },
    {
     "data": {
      "application/vnd.jupyter.widget-view+json": {
       "model_id": "4d847c89670148da96ba588eb8d31249",
       "version_major": 2,
       "version_minor": 0
      },
      "text/plain": [
       "Filter (num_proc=30):   0%|          | 0/1077977 [00:00<?, ? examples/s]"
      ]
     },
     "metadata": {},
     "output_type": "display_data"
    }
   ],
   "source": [
    "ds = ds.filter(lambda example: example[\"source\"] == \"samsum\", num_proc=30)"
   ]
  },
  {
   "cell_type": "code",
   "execution_count": 202,
   "id": "d7111a00-2d0b-4635-b086-b87b98080d0e",
   "metadata": {},
   "outputs": [
    {
     "data": {
      "text/plain": [
       "{'prompt': \"Create a revised version of the following passage with improved structure and flow.### Instruction:\\nWilson: Ticket guy just nabbed me\\r\\nKaia: Damn..\\r\\nWilson: Even though I had a ticket. I am gonna go to report it\\r\\nKaia: So how come? Did u show him ur ticket and still he gave u a fine? Of course u need to report it\\r\\nWilson: We got in the same time and he turned of the machine before I could put my ticket\\r\\nKaia: Don't worry. There are cameras. They will check them and if it was as u say, u won't have to pay anything. Was there anyone who saw it that u tried to put ur ticket but it was too late?\\r\\nWilson: Huh this was the old tram\\r\\nKaia: Did u tell him u wanted to put ur ticket but he turned off the machine first?\\r\\nWilson: No english\\r\\nKaia: Stupid... I will go to the office with u if u want\\r\\nWilson: No need\\r\\nKaia: Ok. Better if u go to the office as fast as possible\\r\\nWilson: On my way there\\n\\n### Response:\\nWilson is going to the office to report an unjustified fine. A ticket inspector deactivated the machines at the tram so that Wilson was unable to validate his ticket. Wilson could not explain the situation because the ticket inspector spoke no English.\",\n",
       " 'source': 'samsum'}"
      ]
     },
     "execution_count": 202,
     "metadata": {},
     "output_type": "execute_result"
    }
   ],
   "source": [
    "ds[\"validation\"][7]"
   ]
  },
  {
   "cell_type": "code",
   "execution_count": 191,
   "id": "f553fde3-67c2-43e4-a4e3-c5b3b4e0090d",
   "metadata": {},
   "outputs": [],
   "source": [
    "text = \"\"\"Identify grammatical mistakes in the following passage and provide corrections.### Instruction:\\nLet us try to learn grammer.\\n\\n### Response:\\n\"\"\""
   ]
  },
  {
   "cell_type": "code",
   "execution_count": 192,
   "id": "d7da3e84-3549-4f5c-bb51-f99b438f7075",
   "metadata": {},
   "outputs": [
    {
     "name": "stdout",
     "output_type": "stream",
     "text": [
      "Identify grammatical mistakes in the following passage and provide corrections.### Instruction:\n",
      "Let us try to learn grammer.\n",
      "\n",
      "### Response:\n",
      "\n"
     ]
    }
   ],
   "source": [
    "print(text)"
   ]
  },
  {
   "cell_type": "code",
   "execution_count": 14,
   "id": "982168ec-0920-45c2-a471-27b9091719ec",
   "metadata": {},
   "outputs": [
    {
     "name": "stdout",
     "output_type": "stream",
     "text": [
      "gave him a treat. Lily loved the treat and thanked her mother, but then she got scared of the dark and the noise from the dog. The dog barked loudly and ran away, scared of the dog. Lily realized she had lost her pet and wanted to find the dog again. She asked her mother to help her. Her mother was kind and said they would find the dog together.  The next day, Lily saw the dog running towards the dog and scared him away. Her mother praised her for being brave and finding the dog again. Lily hugged her mother and thanked her for the treat. She also thanked the dog for being her friend. She learned that the dog was not scary at all and that she could ask for help when she needs it. She also learned to ask for help when she needs it.  Lily and her mother went to the store to buy a toy for her friend. They had a good time playing with the toy and looking out the window. Lily felt happy and proud that she helped the dog and the other animals in the neighborhood. She also learned that sometimes things that seem scary are just things you don't need. She hoped that the dog would be okay too and she could have another treat soon.\n",
      "============================================================\n",
      "gave her the cat. Lily was happy to see that her cat was not sad anymore because she had a pet. \n",
      "\n",
      "But then the next day, Lily saw that her cat was missing. She asked her mother if the cat was hiding under her bed. Her mother said no, but she found the cat. Lily was sad and angry. She thought her mother was mean.  Her mother said, \"Lily, don't let your cat go to the park. She might have gone to get a treat later.\"  Lily said, \"But her mother said she was not mean. She said she loved her cat.\"  Her mother said, \"Lily, you don't have to do things to be happy.\"  Lily did not listen to her mother. She went to the park to play with the ball. But then, something bad happened. The dog came back and chased the ball. Lily ran away and cried.  Her mother said, \"Lily, come back. The dog was mean to you. You should not run away from me.\"  Lily said, \"I'm sorry, my mother is mean. She didn't let the cat go.\"  Her mother said, \"Lily, if the dog was not nice to her, then you could have a dog. He might have been lost.\"\n",
      "============================================================\n",
      "went to the park with her brother. Lily played with the dog and they had a lot of fun. Lily saw a butterfly and wanted to catch it, but the dog ran away. Lily asked her brother if they could go back to the park, and he said yes. \n",
      "\n",
      "In the passage above, the pronoun \"he\" in the passage to the park. Lily wanted to catch a butterfly, but her mother said it was time to go home. Lily saw a dog and wanted to pet it, but her mother said no. Lily asked her brother if he would let her pet the dog, but he said no. He said the dog was friendly and they played together. \n",
      "\n",
      " louder than before. Lily wanted to be a good dog. She ran to the park and saw a butterfly. She forgot about her brother and caught the butterfly. She was happy and proud of herself.\n",
      "\n",
      "Lily ran to her mother and hugged her. Her mother was happy and proud of her too. She said they could go back to the park and see the butterfly more later. They went back to the park and saw a dog. Lily wanted to pet it, but her mother said no. She said the dog might bite her and she should be careful. Lily was sad and scared. She cried and screamed.  Her mother picked her up and gave her a hug. She told her she loved her, and she would be there for her. She said she was a good girl and she was grateful. Lily wiped her tears and smiled. Her mother smiled too. She said Lily was a good girl and she would be there for her when she came back.  Lily's mother explained that the dog was friendly and they could play together. She said Lily could pet it or play with it, but not touch it. She said Lily was a good girl and she understood. She said Lily was a good girl and she was grateful. She said she was grateful for her mother and her dog. She said she would let her play with the dog again soon. She said she would be a good girl and a good dog. \n",
      "\n",
      " louder than Lily and her mother went home. Lily felt happy and proud of herself for being a good girl. She asked her mother if they could go back to the park tomorrow. Her mother said yes, but only if she was gentle and gentle. They went back to the park and played with the dog. Lily was not scared of the dog and her mother was very gentle and gentle. She made her daughter laugh and smile. She felt grateful and happy.\n",
      "============================================================\n"
     ]
    }
   ],
   "source": [
    "# text = \"Once upon a time there was a pumpkin. It was a very special pumpkin, it could speak. It was sad because it couldn’t move. Every day, it would say\"\n",
    "# text = \"Jack was hungry, so he went looking for\"\n",
    "# text = \"Tim is a good boy. one day his father called and asked for the school exam result\"\n",
    "# text = \"Jack wanted to read a book,so he went to\"\n",
    "# text = \"My name is Mariama, my favorite\"\n",
    "# text = \"User: Words: come, road, sad Summary: A bus becomes jealous of a shiny new car and undergoes an operation to go faster, becoming good friends with the car and making everyone in the town happy. Assistant:\"\n",
    "# text = \"### Instruction:\\nHow can i motivate myself to go to gym?\\n\\n### Response:\\n\"\n",
    "text = (\n",
    "    \"Lily wanted to get either a cat or a dog. Her mother didn’t let her get a dog so instead she\"\n",
    ")\n",
    "for i in range(3):\n",
    "    tokens = torch.LongTensor(tokenizer.encode(text)).to(\"cuda:0\").view(1, -1)[:, :-1]\n",
    "    # print(tokens)\n",
    "    predicted_tokens = model.predict_step(\n",
    "        tokens, None, max_new_tokens=1024, temperature=0.9, top_k=5, conditional_break=[2]\n",
    "    )[0].tolist()\n",
    "    # print(predicted_tokens)\n",
    "    print(tokenizer.decode_ids(predicted_tokens))\n",
    "    print(\"==\" * 30)"
   ]
  },
  {
   "cell_type": "code",
   "execution_count": 73,
   "id": "f2794b1f-970c-445b-85f6-39aaf9e13006",
   "metadata": {},
   "outputs": [
    {
     "data": {
      "text/plain": [
       "'<0x0A>'"
      ]
     },
     "execution_count": 73,
     "metadata": {},
     "output_type": "execute_result"
    }
   ],
   "source": [
    "tokenizer.id_to_piece(13)"
   ]
  },
  {
   "cell_type": "code",
   "execution_count": null,
   "id": "2f1352ee-3fcb-404e-9137-59a955e5cf04",
   "metadata": {},
   "outputs": [],
   "source": []
  }
 ],
 "metadata": {
  "kernelspec": {
   "display_name": "Python 3 (ipykernel)",
   "language": "python",
   "name": "python3"
  },
  "language_info": {
   "codemirror_mode": {
    "name": "ipython",
    "version": 3
   },
   "file_extension": ".py",
   "mimetype": "text/x-python",
   "name": "python",
   "nbconvert_exporter": "python",
   "pygments_lexer": "ipython3",
   "version": "3.11.6"
  }
 },
 "nbformat": 4,
 "nbformat_minor": 5
}
