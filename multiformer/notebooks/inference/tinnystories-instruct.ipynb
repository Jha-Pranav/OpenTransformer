{
 "cells": [
  {
   "cell_type": "code",
   "execution_count": 1,
   "id": "e83de153-7d4e-4e1a-9fd1-9bf5511d9af7",
   "metadata": {},
   "outputs": [
    {
     "name": "stderr",
     "output_type": "stream",
     "text": [
      "Seed set to 123\n",
      "Seed set to 123\n"
     ]
    }
   ],
   "source": [
    "import torch\n",
    "from omegaconf import OmegaConf\n",
    "from src.models.blm.config import ModelArgs\n",
    "from src.models.blm.pl_dataloader import TinyStoriesDataloader\n",
    "from src.models.blm.pl_training import Transformer\n",
    "from src.tokenize.tokenizer import Tokenizer"
   ]
  },
  {
   "cell_type": "code",
   "execution_count": 2,
   "id": "d45a4b6f-9cd3-4b29-a465-2d873061b493",
   "metadata": {},
   "outputs": [],
   "source": [
    "from src.models.blm.finetune.full_finetune import FineTuneBLM"
   ]
  },
  {
   "cell_type": "code",
   "execution_count": 3,
   "id": "de8fdf8c-c249-4e57-8d79-d1acb6a84380",
   "metadata": {},
   "outputs": [],
   "source": [
    "from datasets import load_dataset, load_from_disk\n",
    "\n",
    "ds = load_from_disk(\n",
    "    \"/home/pranav-pc/projects/OpenTransformer/multiformer/data/processed/TinyStories-Instruct-hf\"\n",
    ")"
   ]
  },
  {
   "cell_type": "code",
   "execution_count": 4,
   "id": "d9b04013-6139-4df0-b91d-97d4a89bf84c",
   "metadata": {},
   "outputs": [],
   "source": [
    "BASE_URL = \"/home/pranav-pc/projects/OpenTransformer/multiformer\"\n",
    "tokenizer_path = BASE_URL + \"/tokenizer_checkpoints\"\n",
    "tokenizer = Tokenizer(tokenizer_path)"
   ]
  },
  {
   "cell_type": "code",
   "execution_count": 5,
   "id": "12d595d9-75ff-4d39-a929-51926900ed61",
   "metadata": {},
   "outputs": [],
   "source": [
    "MODEL_CONFIG_PATH = (\n",
    "    \"/home/pranav-pc/projects/OpenTransformer/multiformer/src/models/blm/conf/config.yaml\"\n",
    ")\n",
    "MODEL_CHECKPOINT_PATH = (\n",
    "    \"/home/pranav-pc/projects/OpenTransformer/multiformer/blm-finetuned-tinnystories/last-v1.ckpt\"\n",
    ")\n",
    "\n",
    "conf = OmegaConf.load(MODEL_CONFIG_PATH)"
   ]
  },
  {
   "cell_type": "code",
   "execution_count": 6,
   "id": "58531a40-8274-44dc-862d-4ec117fa9270",
   "metadata": {},
   "outputs": [],
   "source": [
    "state_dict = torch.load(MODEL_CHECKPOINT_PATH)[\"state_dict\"]\n",
    "# Pytorch by default add _orig_mod in the checkpoint keys.#TODO: Take care of this while model checkpointing\n",
    "state_dict = {k.replace(\"._orig_mod\", \"\"): v for k, v in state_dict.items()}"
   ]
  },
  {
   "cell_type": "code",
   "execution_count": 7,
   "id": "98e5af99-d5a7-497f-ab92-b23d19694e93",
   "metadata": {},
   "outputs": [
    {
     "data": {
      "text/plain": [
       "<All keys matched successfully>"
      ]
     },
     "execution_count": 7,
     "metadata": {},
     "output_type": "execute_result"
    }
   ],
   "source": [
    "config = ModelArgs(**conf[\"model\"])\n",
    "model = FineTuneBLM(Transformer(config))\n",
    "model.load_state_dict(state_dict)"
   ]
  },
  {
   "cell_type": "code",
   "execution_count": 8,
   "id": "b1ca7a96-e1a0-4ce2-b914-ada9d4d954c3",
   "metadata": {},
   "outputs": [],
   "source": [
    "#### Inference\n",
    "model.eval()\n",
    "model = model.cuda()"
   ]
  },
  {
   "cell_type": "code",
   "execution_count": 69,
   "id": "0a65b9b5-d33e-4abb-8430-fbdb8954c691",
   "metadata": {},
   "outputs": [
    {
     "data": {
      "text/plain": [
       "{'text': 'User:\\nWords: applaud, camp, lively\\nSummary: A little girl named Lily enjoys playing and making friends at a lively camp in the forest.\\nRandom sentence: She felt grateful for being at such a wonderful place.\\nAssistant: Once upon a time, there was a big camp in the forest. Many children went there to play and have fun. The camp was very lively, with music and games all day long.\\n\\nOne day, a little girl named Lily did a cartwheel and everyone applauded her. She felt very happy and proud of herself. Lily loved being at the camp because she could make new friends and learn new things.\\n\\nAt night, they all sat around the campfire and sang songs. Lily loved the sound of the guitar and the happy faces of her friends. She felt grateful for being at such a wonderful place. Finally, it was time to go to sleep and Lily dreamed of all the fun things she would do the next day at the lively camp.'}"
      ]
     },
     "execution_count": 69,
     "metadata": {},
     "output_type": "execute_result"
    }
   ],
   "source": [
    "ds[\"validation\"][604]"
   ]
  },
  {
   "cell_type": "code",
   "execution_count": 76,
   "id": "f553fde3-67c2-43e4-a4e3-c5b3b4e0090d",
   "metadata": {},
   "outputs": [],
   "source": [
    "text = \"\"\"User:\\nWords: applaud, tent, lively\\nSummary: A little girl named Lily enjoys playing and making friends at a lively camp in the forest.\\nAssistant:\"\"\""
   ]
  },
  {
   "cell_type": "code",
   "execution_count": 77,
   "id": "982168ec-0920-45c2-a471-27b9091719ec",
   "metadata": {},
   "outputs": [
    {
     "name": "stdout",
     "output_type": "stream",
     "text": [
      "43\n",
      "1\n",
      "Once upon a time, there was a big tent in the middle of the forest. Lots of animals would gather around the tent and sleep. It was a lively camp with lots of singing birds and animals.\n",
      "\n",
      "One day, a little girl named Lily went to the camp with her mom. They set up their camp and started to play. The animals would run and jump and make loud sounds. Lily loved the sound of them and clapped her hands.\n",
      "\n",
      "After playing for a while, Lily and her mom sat at camp for a while. They watched the sun set and saw a big fire truck drive by. Lily was amazed and couldn't stop looking at it. She loved going to camp and having fun.\n"
     ]
    }
   ],
   "source": [
    "# text = \"Once upon a time there was a pumpkin. It was a very special pumpkin, it could speak. It was sad because it couldn’t move. Every day, it would say\"\n",
    "# text = \"Jack was hungry, so he went looking for\"\n",
    "# text = \"Tim is a good boy. one day his father called and asked for the school exam result\"\n",
    "# text = \"Jack wanted to read a book,so he went to\"\n",
    "# text = \"My name is Mariama, my favorite\"\n",
    "# text = \"User: Words: come, road, sad Summary: A bus becomes jealous of a shiny new car and undergoes an operation to go faster, becoming good friends with the car and making everyone in the town happy. Assistant:\"\n",
    "tokens = torch.LongTensor(tokenizer.encode(text)).to(\"cuda:0\").view(1, -1)[:, :-1]\n",
    "# print(tokens)\n",
    "predicted_tokens = model.predict_step(\n",
    "    tokens, None, max_new_tokens=1024, temperature=1.1, top_k=5, conditional_break=[2]\n",
    ")[0].tolist()\n",
    "# print(predicted_tokens)\n",
    "print(tokenizer.decode_ids(predicted_tokens))"
   ]
  },
  {
   "cell_type": "code",
   "execution_count": 73,
   "id": "f2794b1f-970c-445b-85f6-39aaf9e13006",
   "metadata": {},
   "outputs": [
    {
     "data": {
      "text/plain": [
       "'<0x0A>'"
      ]
     },
     "execution_count": 73,
     "metadata": {},
     "output_type": "execute_result"
    }
   ],
   "source": [
    "tokenizer.id_to_piece(13)"
   ]
  },
  {
   "cell_type": "code",
   "execution_count": null,
   "id": "2f1352ee-3fcb-404e-9137-59a955e5cf04",
   "metadata": {},
   "outputs": [],
   "source": []
  }
 ],
 "metadata": {
  "kernelspec": {
   "display_name": "Python 3 (ipykernel)",
   "language": "python",
   "name": "python3"
  },
  "language_info": {
   "codemirror_mode": {
    "name": "ipython",
    "version": 3
   },
   "file_extension": ".py",
   "mimetype": "text/x-python",
   "name": "python",
   "nbconvert_exporter": "python",
   "pygments_lexer": "ipython3",
   "version": "3.11.6"
  }
 },
 "nbformat": 4,
 "nbformat_minor": 5
}
