{
 "cells": [
  {
   "cell_type": "code",
   "execution_count": 1,
   "id": "fe96b4ed-222c-4be0-8b08-e95134e0dd0f",
   "metadata": {},
   "outputs": [
    {
     "name": "stderr",
     "output_type": "stream",
     "text": [
      "Seed set to 123\n",
      "Seed set to 123\n"
     ]
    }
   ],
   "source": [
    "import torch\n",
    "from src.models.blm.config import ModelArgs\n",
    "from src.models.blm.pl_training import Transformer"
   ]
  },
  {
   "cell_type": "code",
   "execution_count": 2,
   "id": "a94f2aaa-1cf2-4244-9a14-102c0b17a771",
   "metadata": {},
   "outputs": [],
   "source": [
    "MODEL_CHECKPOINT_PATH = \"/home/pranav-pc/projects/OpenTransformer/multiformer/blm-1024/checkpoints/llama/blm-llama-7b.pth\""
   ]
  },
  {
   "cell_type": "code",
   "execution_count": 3,
   "id": "3867d15a-4397-42c1-b988-f8d0e98d0668",
   "metadata": {},
   "outputs": [],
   "source": [
    "# model = torch.load(MODEL_CHECKPOINT_PATH)"
   ]
  },
  {
   "cell_type": "code",
   "execution_count": 4,
   "id": "6d43143a-89e3-491c-b25c-31e0ae481b95",
   "metadata": {},
   "outputs": [],
   "source": [
    "# load_from_checkpoint = False\n",
    "conf = {\n",
    "    \"vocab_size\": 32000,\n",
    "    \"embedding_dim\": 4096,\n",
    "    \"max_seq_len\": 4096,\n",
    "    \"embedding_dropout\": 0.0,\n",
    "    \"rms_norm_eps\": 1e-05,\n",
    "    \"rope_scaling\": 1.0,\n",
    "    \"rope_theta\": 10000.0,\n",
    "    \"attention_bias\": False,\n",
    "    \"attention_dropout\": 0.0,\n",
    "    \"num_attention_heads\": 32,\n",
    "    \"num_key_value_heads\": 32,\n",
    "    \"use_cache\": True,\n",
    "    \"use_sliding_window\": True,\n",
    "    \"residual_dropout\": 0.1,\n",
    "    \"mlp_dropout\": 0.0,\n",
    "    \"mlp_hidden_size\": 11008,\n",
    "    \"num_layers\": 32,\n",
    "    \"device\": \"cpu\",\n",
    "    \"padding_idx\": 2,\n",
    "}\n",
    "# # if load_from_checkpoint:\n",
    "# #     model = Transformer.load_from_checkpoint(MODEL_CHECKPOINT_PATH)\n",
    "# #     model = torch.compile(model, dynamic=True)\n",
    "# # else:\n",
    "# #     config = ModelArgs(**conf)\n",
    "# #     model = Transformer(config)\n",
    "# #     model = torch.compile(model, dynamic=True)\n",
    "# config = ModelArgs(**conf)"
   ]
  },
  {
   "cell_type": "code",
   "execution_count": 6,
   "id": "0a35b0c9-8214-41c5-984c-ffd21a3181c3",
   "metadata": {},
   "outputs": [],
   "source": [
    "# config\n",
    "# config = ModelArgs(**conf)\n",
    "# model = Transformer(config)\n",
    "# model.load_state_dict(torch.load(MODEL_CHECKPOINT_PATH))\n",
    "# model.eval()"
   ]
  },
  {
   "cell_type": "code",
   "execution_count": null,
   "id": "5f048e2b-f2af-48a0-b1d5-7b58fab9e9e5",
   "metadata": {},
   "outputs": [],
   "source": [
    "model = Transformer.load_from_checkpoint(\n",
    "    MODEL_CHECKPOINT_PATH,\n",
    ")\n",
    "# model = torch.compile(model, dynamic=True)"
   ]
  },
  {
   "cell_type": "code",
   "execution_count": null,
   "id": "99383ac4-1a14-441d-8019-e2a5ca033654",
   "metadata": {},
   "outputs": [],
   "source": [
    "# This is giving OOM error. let's come back with the quantized version of the model"
   ]
  }
 ],
 "metadata": {
  "kernelspec": {
   "display_name": "Python 3 (ipykernel)",
   "language": "python",
   "name": "python3"
  },
  "language_info": {
   "codemirror_mode": {
    "name": "ipython",
    "version": 3
   },
   "file_extension": ".py",
   "mimetype": "text/x-python",
   "name": "python",
   "nbconvert_exporter": "python",
   "pygments_lexer": "ipython3",
   "version": "3.11.6"
  }
 },
 "nbformat": 4,
 "nbformat_minor": 5
}
