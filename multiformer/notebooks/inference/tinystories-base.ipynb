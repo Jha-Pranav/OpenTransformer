{
 "cells": [
  {
   "cell_type": "code",
   "execution_count": null,
   "id": "99383ac4-1a14-441d-8019-e2a5ca033654",
   "metadata": {},
   "outputs": [],
   "source": [
    "import torch\n",
    "from src.models.blm.pl_training import Transformer\n",
    "from src.tokenize.tokenizer import Tokenizer\n",
    "\n",
    "MODEL_CHECKPOINT_PATH = \"/home/pranav-pc/projects/model-registry/blm-medium/last.ckpt\"\n",
    "TOKENIZER_CHECKPOINT = (\n",
    "    \"/home/pranav-pc/projects/OpenTransformer/multiformer/tokenizer_checkpoints/\"\n",
    ")\n",
    "tokenizer = Tokenizer(TOKENIZER_CHECKPOINT)\n",
    "model = Transformer.load_from_checkpoint(MODEL_CHECKPOINT_PATH)\n",
    "model = torch.compile(model, dynamic=True)\n",
    "\n",
    "#### Inference\n",
    "model.eval()\n",
    "model = model.cuda()\n",
    "\n",
    "import os\n",
    "\n",
    "os.environ[\"WANDB_DISABLED\"] = \"true\"\n",
    "\n",
    "\n",
    "def predict(text, max_new_tokens=1024, temperature=0.8, top_k=3, conditional_break=[13, 13, 1]):\n",
    "    tokens = torch.LongTensor(tokenizer.encode_as_ids(text))[:-1].to(\"cuda:0\").view(1, -1)\n",
    "    # print('tokens',ds.tokenizer.encode(text,out_type=str)[:-1])\n",
    "    print(\n",
    "        tokenizer.decode_ids(\n",
    "            model.predict_step(\n",
    "                tokens,\n",
    "                None,\n",
    "                max_new_tokens=max_new_tokens,\n",
    "                temperature=temperature,\n",
    "                top_k=top_k,\n",
    "                conditional_break=conditional_break,\n",
    "            )[0].tolist()\n",
    "        )\n",
    "    )\n",
    "\n",
    "\n",
    "text = (\n",
    "    \"Lily wanted to get either a cat or a dog. Her mother didn’t let her get a dog so instead she\"\n",
    ")\n",
    "predict(text)"
   ]
  }
 ],
 "metadata": {
  "kernelspec": {
   "display_name": "Python 3 (ipykernel)",
   "language": "python",
   "name": "python3"
  },
  "language_info": {
   "codemirror_mode": {
    "name": "ipython",
    "version": 3
   },
   "file_extension": ".py",
   "mimetype": "text/x-python",
   "name": "python",
   "nbconvert_exporter": "python",
   "pygments_lexer": "ipython3",
   "version": "3.11.6"
  }
 },
 "nbformat": 4,
 "nbformat_minor": 5
}
