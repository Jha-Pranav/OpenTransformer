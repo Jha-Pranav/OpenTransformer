{
 "cells": [
  {
   "cell_type": "code",
   "execution_count": 1,
   "id": "e83de153-7d4e-4e1a-9fd1-9bf5511d9af7",
   "metadata": {},
   "outputs": [
    {
     "name": "stderr",
     "output_type": "stream",
     "text": [
      "Seed set to 123\n",
      "Seed set to 123\n"
     ]
    }
   ],
   "source": [
    "import torch\n",
    "from omegaconf import OmegaConf\n",
    "from src.models.blm.config import ModelArgs\n",
    "from src.models.blm.pl_dataloader import TinyStoriesDataloader\n",
    "from src.models.blm.pl_training import Transformer\n",
    "from src.tokenize.tokenizer import Tokenizer"
   ]
  },
  {
   "cell_type": "code",
   "execution_count": 57,
   "id": "d45a4b6f-9cd3-4b29-a465-2d873061b493",
   "metadata": {},
   "outputs": [],
   "source": [
    "from src.models.blm.finetune.selected_layers_finetune_causal import FineTuneBLM"
   ]
  },
  {
   "cell_type": "code",
   "execution_count": 199,
   "id": "de8fdf8c-c249-4e57-8d79-d1acb6a84380",
   "metadata": {},
   "outputs": [],
   "source": [
    "from datasets import load_dataset, load_from_disk\n",
    "\n",
    "ds = load_from_disk(\n",
    "    \"/home/pranav-pc/projects/OpenTransformer/multiformer/data/finetune/instruct-dataset-v3\"\n",
    ")"
   ]
  },
  {
   "cell_type": "code",
   "execution_count": 59,
   "id": "d9b04013-6139-4df0-b91d-97d4a89bf84c",
   "metadata": {},
   "outputs": [],
   "source": [
    "BASE_URL = \"/home/pranav-pc/projects/OpenTransformer/multiformer\"\n",
    "tokenizer_path = BASE_URL + \"/tokenizer_checkpoints\"\n",
    "tokenizer = Tokenizer(tokenizer_path)"
   ]
  },
  {
   "cell_type": "code",
   "execution_count": 60,
   "id": "12d595d9-75ff-4d39-a929-51926900ed61",
   "metadata": {},
   "outputs": [],
   "source": [
    "MODEL_CONFIG_PATH = (\n",
    "    \"/home/pranav-pc/projects/OpenTransformer/multiformer/src/models/blm/conf/config.yaml\"\n",
    ")\n",
    "MODEL_CHECKPOINT_PATH = (\n",
    "    \"/home/pranav-pc/projects/OpenTransformer/multiformer/blm-instruct/last-v2.ckpt\"\n",
    ")\n",
    "\n",
    "conf = OmegaConf.load(MODEL_CONFIG_PATH)"
   ]
  },
  {
   "cell_type": "code",
   "execution_count": 61,
   "id": "58531a40-8274-44dc-862d-4ec117fa9270",
   "metadata": {},
   "outputs": [],
   "source": [
    "state_dict = torch.load(MODEL_CHECKPOINT_PATH)[\"state_dict\"]\n",
    "# Pytorch by default add _orig_mod in the checkpoint keys.#TODO: Take care of this while model checkpointing\n",
    "state_dict = {k.replace(\"._orig_mod\", \"\"): v for k, v in state_dict.items()}"
   ]
  },
  {
   "cell_type": "code",
   "execution_count": 62,
   "id": "98e5af99-d5a7-497f-ab92-b23d19694e93",
   "metadata": {},
   "outputs": [
    {
     "data": {
      "text/plain": [
       "<All keys matched successfully>"
      ]
     },
     "execution_count": 62,
     "metadata": {},
     "output_type": "execute_result"
    }
   ],
   "source": [
    "config = ModelArgs(**conf[\"model\"])\n",
    "model = FineTuneBLM(Transformer(config))\n",
    "model.load_state_dict(state_dict)"
   ]
  },
  {
   "cell_type": "code",
   "execution_count": 63,
   "id": "b1ca7a96-e1a0-4ce2-b914-ada9d4d954c3",
   "metadata": {},
   "outputs": [],
   "source": [
    "#### Inference\n",
    "model.eval()\n",
    "model = model.cuda()"
   ]
  },
  {
   "cell_type": "code",
   "execution_count": 200,
   "id": "0a65b9b5-d33e-4abb-8430-fbdb8954c691",
   "metadata": {},
   "outputs": [
    {
     "data": {
      "application/vnd.jupyter.widget-view+json": {
       "model_id": "4ff81b3b5d524185b07b6b1bda33f2bc",
       "version_major": 2,
       "version_minor": 0
      },
      "text/plain": [
       "Filter (num_proc=30):   0%|          | 0/4311905 [00:00<?, ? examples/s]"
      ]
     },
     "metadata": {},
     "output_type": "display_data"
    },
    {
     "data": {
      "application/vnd.jupyter.widget-view+json": {
       "model_id": "ebb0b33d329b46d0a1e8306e26057d8e",
       "version_major": 2,
       "version_minor": 0
      },
      "text/plain": [
       "Filter (num_proc=30):   0%|          | 0/1077977 [00:00<?, ? examples/s]"
      ]
     },
     "metadata": {},
     "output_type": "display_data"
    }
   ],
   "source": [
    "ds = ds.filter(lambda example: example[\"source\"] == \"samsum\", num_proc=30)"
   ]
  },
  {
   "cell_type": "code",
   "execution_count": 202,
   "id": "d7111a00-2d0b-4635-b086-b87b98080d0e",
   "metadata": {},
   "outputs": [
    {
     "data": {
      "text/plain": [
       "{'prompt': \"Create a revised version of the following passage with improved structure and flow.### Instruction:\\nWilson: Ticket guy just nabbed me\\r\\nKaia: Damn..\\r\\nWilson: Even though I had a ticket. I am gonna go to report it\\r\\nKaia: So how come? Did u show him ur ticket and still he gave u a fine? Of course u need to report it\\r\\nWilson: We got in the same time and he turned of the machine before I could put my ticket\\r\\nKaia: Don't worry. There are cameras. They will check them and if it was as u say, u won't have to pay anything. Was there anyone who saw it that u tried to put ur ticket but it was too late?\\r\\nWilson: Huh this was the old tram\\r\\nKaia: Did u tell him u wanted to put ur ticket but he turned off the machine first?\\r\\nWilson: No english\\r\\nKaia: Stupid... I will go to the office with u if u want\\r\\nWilson: No need\\r\\nKaia: Ok. Better if u go to the office as fast as possible\\r\\nWilson: On my way there\\n\\n### Response:\\nWilson is going to the office to report an unjustified fine. A ticket inspector deactivated the machines at the tram so that Wilson was unable to validate his ticket. Wilson could not explain the situation because the ticket inspector spoke no English.\",\n",
       " 'source': 'samsum'}"
      ]
     },
     "execution_count": 202,
     "metadata": {},
     "output_type": "execute_result"
    }
   ],
   "source": [
    "ds[\"validation\"][7]"
   ]
  },
  {
   "cell_type": "code",
   "execution_count": 191,
   "id": "f553fde3-67c2-43e4-a4e3-c5b3b4e0090d",
   "metadata": {},
   "outputs": [],
   "source": [
    "text = \"\"\"Identify grammatical mistakes in the following passage and provide corrections.### Instruction:\\nLet us try to learn grammer.\\n\\n### Response:\\n\"\"\""
   ]
  },
  {
   "cell_type": "code",
   "execution_count": 192,
   "id": "d7da3e84-3549-4f5c-bb51-f99b438f7075",
   "metadata": {},
   "outputs": [
    {
     "name": "stdout",
     "output_type": "stream",
     "text": [
      "Identify grammatical mistakes in the following passage and provide corrections.### Instruction:\n",
      "Let us try to learn grammer.\n",
      "\n",
      "### Response:\n",
      "\n"
     ]
    }
   ],
   "source": [
    "print(text)"
   ]
  },
  {
   "cell_type": "code",
   "execution_count": 193,
   "id": "982168ec-0920-45c2-a471-27b9091719ec",
   "metadata": {},
   "outputs": [
    {
     "name": "stdout",
     "output_type": "stream",
     "text": [
      "To learn, let us learn the basics of learning.\n",
      "\n",
      "Let us try to learn, let us try to learn a lot, let us learn the basics of learning, let us learn the basics.\n",
      "============================================================\n",
      "Let we try to learn a new language and communicate with others.\n",
      "\n",
      "To learn a new language, let us try to learn how and communicate with others. Let us communicate with others to communicate with others and communicate.\n",
      "============================================================\n",
      "Let us try to learn how to be able.\n",
      "\n",
      "The following passage is a list of teaching the instructions that is a good way to learn how to be able to become a good student by learning about the process.\n",
      "============================================================\n"
     ]
    }
   ],
   "source": [
    "# text = \"Once upon a time there was a pumpkin. It was a very special pumpkin, it could speak. It was sad because it couldn’t move. Every day, it would say\"\n",
    "# text = \"Jack was hungry, so he went looking for\"\n",
    "# text = \"Tim is a good boy. one day his father called and asked for the school exam result\"\n",
    "# text = \"Jack wanted to read a book,so he went to\"\n",
    "# text = \"My name is Mariama, my favorite\"\n",
    "# text = \"User: Words: come, road, sad Summary: A bus becomes jealous of a shiny new car and undergoes an operation to go faster, becoming good friends with the car and making everyone in the town happy. Assistant:\"\n",
    "# text = \"### Instruction:\\nHow can i motivate myself to go to gym?\\n\\n### Response:\\n\"\n",
    "for i in range(3):\n",
    "    tokens = torch.LongTensor(tokenizer.encode(text)).to(\"cuda:0\").view(1, -1)[:, :-1]\n",
    "    # print(tokens)\n",
    "    predicted_tokens = model.predict_step(\n",
    "        tokens, None, max_new_tokens=1024, temperature=0.9, top_k=5, conditional_break=[2]\n",
    "    )[0].tolist()\n",
    "    # print(predicted_tokens)\n",
    "    print(tokenizer.decode_ids(predicted_tokens))\n",
    "    print(\"==\" * 30)"
   ]
  },
  {
   "cell_type": "code",
   "execution_count": 73,
   "id": "f2794b1f-970c-445b-85f6-39aaf9e13006",
   "metadata": {},
   "outputs": [
    {
     "data": {
      "text/plain": [
       "'<0x0A>'"
      ]
     },
     "execution_count": 73,
     "metadata": {},
     "output_type": "execute_result"
    }
   ],
   "source": [
    "tokenizer.id_to_piece(13)"
   ]
  },
  {
   "cell_type": "code",
   "execution_count": null,
   "id": "2f1352ee-3fcb-404e-9137-59a955e5cf04",
   "metadata": {},
   "outputs": [],
   "source": []
  }
 ],
 "metadata": {
  "kernelspec": {
   "display_name": "Python 3 (ipykernel)",
   "language": "python",
   "name": "python3"
  },
  "language_info": {
   "codemirror_mode": {
    "name": "ipython",
    "version": 3
   },
   "file_extension": ".py",
   "mimetype": "text/x-python",
   "name": "python",
   "nbconvert_exporter": "python",
   "pygments_lexer": "ipython3",
   "version": "3.11.6"
  }
 },
 "nbformat": 4,
 "nbformat_minor": 5
}
