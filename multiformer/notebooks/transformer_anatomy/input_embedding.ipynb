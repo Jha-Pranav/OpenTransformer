{
 "cells": [
  {
   "cell_type": "code",
   "execution_count": 81,
   "id": "5663f71d-36a7-4b01-a249-5063d1a3daf6",
   "metadata": {},
   "outputs": [
    {
     "name": "stdout",
     "output_type": "stream",
     "text": [
      "TORCH VERSION :  2.2.1+cu121\n",
      "GPU  :  cuda\n"
     ]
    }
   ],
   "source": [
    "import torch\n",
    "\n",
    "device = (\n",
    "    \"cuda\" if torch.cuda.is_available() else \"mps\" if torch.backend.mps.is_available() else \"cpu\"\n",
    ")\n",
    "print(\"TORCH VERSION : \", torch.__version__)\n",
    "print(\"GPU  : \", device)"
   ]
  },
  {
   "cell_type": "code",
   "execution_count": 82,
   "id": "4658c753-90cc-433e-bcf3-6c06c1529288",
   "metadata": {},
   "outputs": [],
   "source": [
    "import math\n",
    "\n",
    "import torch.nn as nn"
   ]
  },
  {
   "cell_type": "code",
   "execution_count": 96,
   "id": "99a17501-7733-4200-9961-7d68a52aa743",
   "metadata": {},
   "outputs": [],
   "source": [
    "class InputEmbedding(nn.Module):\n",
    "    def __init__(self,num_embeddings,embedding_dim):\n",
    "        super().__init__()\n",
    "\n",
    "        assert embedding_dim % 2 == 0 \"embedding dimension should be even number\"\n",
    "        self.embedding_dim = embedding_dim\n",
    "        self.embedding = nn.Embedding(num_embeddings, embedding_dim) \n",
    "\n",
    "    def forward(self,x):\n",
    "        # Why are word embeddings scaled before adding positional encodings?\n",
    "        # https://datascience.stackexchange.com/questions/87906/transformer-model-why-are-word-embeddings-scaled-before-adding-positional-encod\n",
    "        return self.embedding(x) * math.sqrt(self.embedding_dim)"
   ]
  },
  {
   "cell_type": "code",
   "execution_count": 100,
   "id": "ec98e43d-8399-4a3f-a4a6-2601f65b69b8",
   "metadata": {},
   "outputs": [
    {
     "data": {
      "text/plain": [
       "torch.Size([3, 4])"
      ]
     },
     "execution_count": 100,
     "metadata": {},
     "output_type": "execute_result"
    }
   ],
   "source": [
    "# eg:\n",
    "inp = torch.randint(0, 10, (3, 4))\n",
    "inp.shape"
   ]
  },
  {
   "cell_type": "code",
   "execution_count": 99,
   "id": "45470e10-e5bd-4c83-9714-15644b1e116a",
   "metadata": {},
   "outputs": [
    {
     "data": {
      "text/plain": [
       "torch.Size([3, 4, 5])"
      ]
     },
     "execution_count": 99,
     "metadata": {},
     "output_type": "execute_result"
    }
   ],
   "source": [
    "InputEmbedding(10, 5)(inp).shape"
   ]
  },
  {
   "cell_type": "code",
   "execution_count": 101,
   "id": "c2b1ee0f-6bea-499c-b2fc-59af8c6c6627",
   "metadata": {},
   "outputs": [
    {
     "data": {
      "text/plain": [
       "0"
      ]
     },
     "execution_count": 101,
     "metadata": {},
     "output_type": "execute_result"
    }
   ],
   "source": [
    "512 % 2"
   ]
  }
 ],
 "metadata": {
  "kernelspec": {
   "display_name": "Python 3 (ipykernel)",
   "language": "python",
   "name": "python3"
  },
  "language_info": {
   "codemirror_mode": {
    "name": "ipython",
    "version": 3
   },
   "file_extension": ".py",
   "mimetype": "text/x-python",
   "name": "python",
   "nbconvert_exporter": "python",
   "pygments_lexer": "ipython3",
   "version": "3.11.6"
  }
 },
 "nbformat": 4,
 "nbformat_minor": 5
}
