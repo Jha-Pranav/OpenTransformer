{
 "cells": [
  {
   "cell_type": "code",
   "execution_count": 1,
   "id": "ace37381-0d60-4a20-83a8-ee8767938b40",
   "metadata": {},
   "outputs": [
    {
     "name": "stdout",
     "output_type": "stream",
     "text": [
      "TORCH VERSION : 2.2.1\n",
      "GPU  :  cuda\n"
     ]
    }
   ],
   "source": [
    "from importlib.metadata import version\n",
    "import torch\n",
    "\n",
    "print(\"TORCH VERSION :\", version(\"torch\"))\n",
    "device = \"cuda\" if torch.cuda.is_available() else 'mps' if torch.backend.mps.is_available() else 'cpu'\n",
    "print('GPU  : ', device)"
   ]
  },
  {
   "cell_type": "code",
   "execution_count": 10,
   "id": "d520f7a7-c0c3-4a31-8334-8e53c10d71fb",
   "metadata": {},
   "outputs": [],
   "source": [
    "import torch.nn as nn\n"
   ]
  },
  {
   "cell_type": "code",
   "execution_count": 11,
   "id": "9e6c9eb1-6bd1-46db-aa13-8221df33d2b7",
   "metadata": {},
   "outputs": [],
   "source": [
    "class EncoderBlock(nn.Module):\n",
    "    # def __init__(self,attention: MultiHeadAttentionPyTorchSDP, feed_forward : FeedForward, dropout=0.1):\n",
    "    def __init__(self,attention, feed_forward , dropout=0.1):\n",
    "        super().__init__()\n",
    "\n",
    "        self.attention_block = attention\n",
    "        self.feed_forward = feed_forward\n",
    "        self.residual_connection = nn.ModuleList([ResidualConnectionLN(dropout) for _ in range(2)])\n",
    "\n",
    "    def forward(self,x):\n",
    "        x = self.residual_connection[0](x,lambda x: self.attention_block(x))\n",
    "        x = self.residual_connection[1](x,lambda x: feed_forward)"
   ]
  },
  {
   "cell_type": "code",
   "execution_count": null,
   "id": "7e6b29c8-01af-4f66-b65f-a1045d6f36f6",
   "metadata": {},
   "outputs": [],
   "source": [
    "class Encoder(nn.Module):\n",
    "    def __init__(self,layer:nn.ModuleList):\n",
    "        super().__init__()\n",
    "        self.layer = layer\n",
    "        self.norm = nn.LayerNorm()"
   ]
  }
 ],
 "metadata": {
  "kernelspec": {
   "display_name": "Python 3 (ipykernel)",
   "language": "python",
   "name": "python3"
  },
  "language_info": {
   "codemirror_mode": {
    "name": "ipython",
    "version": 3
   },
   "file_extension": ".py",
   "mimetype": "text/x-python",
   "name": "python",
   "nbconvert_exporter": "python",
   "pygments_lexer": "ipython3",
   "version": "3.11.6"
  }
 },
 "nbformat": 4,
 "nbformat_minor": 5
}
