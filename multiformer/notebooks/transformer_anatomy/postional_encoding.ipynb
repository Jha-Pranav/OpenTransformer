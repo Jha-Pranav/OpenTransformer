{
 "cells": [
  {
   "cell_type": "code",
   "execution_count": 3,
   "id": "d4ff4946-9d7d-4f70-8d2c-1015264200b9",
   "metadata": {},
   "outputs": [
    {
     "name": "stdout",
     "output_type": "stream",
     "text": [
      "TORCH VERSION : 2.2.0\n",
      "GPU  :  cuda\n"
     ]
    }
   ],
   "source": [
    "from importlib.metadata import version\n",
    "import torch\n",
    "\n",
    "print(\"TORCH VERSION :\", version(\"torch\"))\n",
    "device = (\n",
    "    \"cuda\"\n",
    "    if torch.cuda.is_available()\n",
    "    else \"mps\" if torch.backend.mps.is_available() else \"cpu\"\n",
    ")\n",
    "print(\"GPU  : \", device)"
   ]
  },
  {
   "cell_type": "code",
   "execution_count": 4,
   "id": "0e981951-f80b-4576-b107-7ac08cab2fd2",
   "metadata": {},
   "outputs": [],
   "source": [
    "import torch.nn as nn\n",
    "import math"
   ]
  },
  {
   "attachments": {
    "50729ec7-9d40-46aa-bbd4-ed024caad02a.png": {
     "image/png": "[encoded data removed]"
    }
   },
   "cell_type": "markdown",
   "id": "de45993c-b0b5-4492-b91f-ad32ba79779e",
   "metadata": {},
   "source": [
    "![Screenshot from 2024-03-12 21-57-39.png](attachment:50729ec7-9d40-46aa-bbd4-ed024caad02a.png)\n",
    "\n",
    "The exponential function of the natural logarithm of a number is just the number itself. \n",
    "\n",
    "\n",
    "x=exp(log(x))\n"
   ]
  },
  {
   "cell_type": "markdown",
   "id": "9dd2e67f-5cce-4ef2-ae5c-a53b8ef33314",
   "metadata": {},
   "source": [
    "exp(log(pos) - 2i/d_model.log(10000))\n",
    "=>\n",
    "exp(log(pos)) * exp(- 2i/d_model.log(10000))\n",
    "=>\n",
    "pos * exp(- 2i/d_model.log(10000)) # Ignore 2"
   ]
  },
  {
   "cell_type": "markdown",
   "id": "9373d595-354b-4235-8aec-6c31fbe57c97",
   "metadata": {},
   "source": [
    "where pos is the position and i is the dimension. That is, each dimension of the positional encoding corresponds to a sinusoid. The wavelengths form a geometric progression from 2π to 10000⋅2π. \n",
    "\n",
    "In addition, we apply dropout to the sums of the embeddings and the positional encodings in both the encoder and decoder stacks. For the base model, we use a rate of p_drop =0.1.\n",
    "\n"
   ]
  },
  {
   "cell_type": "code",
   "execution_count": 5,
   "id": "e1d9cfbf-ba34-4178-a239-5f24bc2460a9",
   "metadata": {},
   "outputs": [],
   "source": [
    "class PostionalEncoding(nn.Module):\n",
    "    \"\"\"\n",
    "    Implementation of PE\n",
    "    \"\"\"\n",
    "\n",
    "    def __init__(self, embedding_dim, max_len, dropout=0.1):\n",
    "        super().__init__()\n",
    "\n",
    "        self.dropout = nn.Dropout(dropout)\n",
    "\n",
    "        pe = torch.zeros(max_len, embedding_dim)  # (max_len,embedding_dim)\n",
    "        constant = math.log(10000)\n",
    "        pos = torch.arange(0, max_len).unsqueeze(1)  # (max_len,1)\n",
    "        # ignore multiplication with 2\n",
    "        inv_den = torch.exp(\n",
    "            (torch.arange(0, embedding_dim, 2, dtype=torch.float) / embedding_dim)\n",
    "            * -constant\n",
    "        )  # (embedding_dim/2)\n",
    "\n",
    "        pe[:, 0::2] = torch.sin(pos * inv_den)  # (max_len,embedding_dim/2)\n",
    "        pe[:, 1::2] = torch.cos(pos * inv_den)  # (max_len,embedding_dim/2)\n",
    "        pe = pe.unsqueeze(0)  # (1,max_len,embedding_dim)\n",
    "        self.register_buffer(\"pe\", pe)\n",
    "\n",
    "    def forward(self, x):\n",
    "        # here x will be the embedding vector    # (batch,seq_len,embedding_dim)\n",
    "        x = x + self.pe[:, : x.shape[1], :].requires_grad_(False)\n",
    "        return self.dropout(x)\n",
    "\n",
    "\n",
    "# NOTE :\n",
    "# register_buffer -\n",
    "#     If you have parameters in your model, which should be saved and restored in the state_dict, but not trained by the optimizer, you should register them as buffers.\n",
    "#     Buffers won’t be returned in model.parameters(), so that the optimizer won’t have a change to update them."
   ]
  },
  {
   "cell_type": "code",
   "execution_count": 6,
   "id": "29a3e5b2-4e68-4e92-af0f-032e421302e4",
   "metadata": {},
   "outputs": [],
   "source": [
    "# eg:\n",
    "embedding_dim, max_len = 16, 10\n",
    "pe = PostionalEncoding(embedding_dim, max_len)\n",
    "# inp = torch.randint(0,10,(1,max_len,embedding_dim))\n",
    "inp = torch.zeros(1, max_len, embedding_dim)\n",
    "result = pe(inp)"
   ]
  },
  {
   "cell_type": "code",
   "execution_count": 7,
   "id": "1bdb8884-1114-4e3c-b81d-ec6a0aec958d",
   "metadata": {},
   "outputs": [],
   "source": [
    "# import matplotlib.pyplot as plt\n",
    "\n",
    "# cax = plt.matshow(inp.squeeze(0))\n",
    "# plt.gcf().colorbar(cax)"
   ]
  },
  {
   "cell_type": "code",
   "execution_count": 8,
   "id": "89142af6-1bef-40d5-8bfd-5077d4023c48",
   "metadata": {},
   "outputs": [],
   "source": [
    "# import matplotlib.pyplot as plt\n",
    "\n",
    "# cax = plt.matshow(result.squeeze(0))\n",
    "# plt.gcf().colorbar(cax)"
   ]
  },
  {
   "cell_type": "code",
   "execution_count": 9,
   "id": "dd6730a6-88e1-4fad-8597-faec344dec1d",
   "metadata": {},
   "outputs": [],
   "source": [
    "# Rotary POstion Embedding\n",
    "# Ref : https://www.cuemath.com/algebra/rotation-matrix/\n",
    "# https://medium.com/@ngiengkianyew/understanding-rotary-positional-encoding-40635a4d078e"
   ]
  },
  {
   "cell_type": "code",
   "execution_count": 10,
   "id": "29cb45bf-f90f-4a45-84bd-ad32fbb9c9bb",
   "metadata": {},
   "outputs": [],
   "source": [
    "from typing import Union, Tuple\n",
    "\n",
    "\n",
    "class RotaryEmbedding(nn.Module):\n",
    "    \"\"\"\n",
    "    [Rotary positional embeddings (RoPE)](https://arxiv.org/abs/2104.09864).\n",
    "    \"\"\"\n",
    "\n",
    "    def __init__(\n",
    "        self,\n",
    "        h_dim: int,\n",
    "        seq_len: int,\n",
    "        base: Union[int, float] = 10000,\n",
    "        device: str = None,\n",
    "        scaling_factor: Union[int, float] = 1.0,\n",
    "    ):\n",
    "        super().__init__()\n",
    "\n",
    "        # Long-termdecay: θi=10000**−2i/d.\n",
    "        theta = 1.0 / base ** (\n",
    "            torch.arange(0, h_dim, 2, dtype=torch.int16, device=device) / h_dim\n",
    "        )  #  (h_dim/2)\n",
    "        m = torch.arange(seq_len, dtype=torch.int16, device=device).type_as(\n",
    "            theta\n",
    "        )  #  (seq_len)\n",
    "        m /= scaling_factor\n",
    "        m0 = torch.outer(m, theta)  # (seq_len,h_dim/2)\n",
    "        self.m0 = torch.polar(torch.ones_like(m0), m0)  # e^i0 = cos0 +isin0\n",
    "\n",
    "    def forward(self, x: torch.Tensor):\n",
    "\n",
    "        x_complex = torch.view_as_complex(\n",
    "            x.float().reshape(*x.shape[:-1], -1, 2)\n",
    "        )  # (b,seq_len,d_model,head,head_dim/2,2)\n",
    "        m0_transform = self.m0.unsqueeze(0).unsqueeze(\n",
    "            2\n",
    "        )  # (seq_len,h_dim/2) -> (1,seq_len,1,h_dim/2)\n",
    "        x_rotated = x_complex * m0_transform  # (b,seq_len,d_model,head,head_dim/2,2)\n",
    "        x_out = torch.view_as_real(x_rotated)\n",
    "        return x_out.reshape(*x.shape)"
   ]
  },
  {
   "cell_type": "code",
   "execution_count": 11,
   "id": "a51762e9-bc23-4fe7-bfb4-f19f7b5deb65",
   "metadata": {},
   "outputs": [],
   "source": [
    "# (batch_size, seq_len, h, d_k) -\n",
    "x = torch.rand(16, 1024, 8, 64)\n",
    "m = RotaryEmbedding(64, 1024)  # (x)"
   ]
  }
 ],
 "metadata": {
  "kernelspec": {
   "display_name": "Python 3 (ipykernel)",
   "language": "python",
   "name": "python3"
  },
  "language_info": {
   "codemirror_mode": {
    "name": "ipython",
    "version": 3
   },
   "file_extension": ".py",
   "mimetype": "text/x-python",
   "name": "python",
   "nbconvert_exporter": "python",
   "pygments_lexer": "ipython3",
   "version": "3.11.6"
  }
 },
 "nbformat": 4,
 "nbformat_minor": 5
}
