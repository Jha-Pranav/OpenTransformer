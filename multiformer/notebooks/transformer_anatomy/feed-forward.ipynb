{
 "cells": [
  {
   "cell_type": "code",
   "execution_count": 20,
   "id": "4deb677b-fb31-4735-b30c-258dd4367ee6",
   "metadata": {},
   "outputs": [
    {
     "name": "stdout",
     "output_type": "stream",
     "text": [
      "TORCH VERSION : 2.2.2\n",
      "GPU  :  cuda\n"
     ]
    }
   ],
   "source": [
    "from importlib.metadata import version\n",
    "\n",
    "import torch\n",
    "\n",
    "torch.manual_seed(123)\n",
    "print(\"TORCH VERSION :\", version(\"torch\"))\n",
    "device = (\n",
    "    \"cuda\" if torch.cuda.is_available() else \"mps\" if torch.backend.mps.is_available() else \"cpu\"\n",
    ")\n",
    "print(\"GPU  : \", device)"
   ]
  },
  {
   "cell_type": "code",
   "execution_count": 25,
   "id": "2dd47250-1b26-41c3-b0a4-0ede3068a0ad",
   "metadata": {},
   "outputs": [],
   "source": [
    "import torch.nn as nn\n",
    "import torch.nn.functional as F"
   ]
  },
  {
   "cell_type": "code",
   "execution_count": 26,
   "id": "adefcfde-da80-432c-b128-0ebb9c88b32e",
   "metadata": {},
   "outputs": [],
   "source": [
    "class FeedForward(nn.Module):\n",
    "    def __init__(self, d_model: int, d_ff: int, dropout: float = 0.1):\n",
    "        super().__init__()\n",
    "        self.linear1 = nn.Linear(d_model, d_ff)\n",
    "        self.linear2 = nn.Linear(d_ff, d_model)\n",
    "        self.dropout = nn.Dropout(dropout)\n",
    "\n",
    "    def forward(self, x):\n",
    "        return self.linear2(self.dropout(F.silu(self.linear1(x))))"
   ]
  },
  {
   "cell_type": "code",
   "execution_count": 30,
   "id": "f527df18-a5ec-4894-b69e-c8c943cfc4f9",
   "metadata": {},
   "outputs": [
    {
     "data": {
      "text/plain": [
       "tensor([[[-0.0792,  0.0271,  0.0226,  ...,  0.0330, -0.0051, -0.0044],\n",
       "         [-0.0335,  0.1217,  0.0813,  ...,  0.1023,  0.0483, -0.0759],\n",
       "         [ 0.1324, -0.0446,  0.1546,  ..., -0.0160, -0.0483, -0.0909],\n",
       "         ...,\n",
       "         [-0.1125,  0.1226,  0.0938,  ...,  0.0350, -0.0002, -0.0460],\n",
       "         [-0.0381,  0.0560,  0.0777,  ...,  0.1497, -0.0812, -0.1802],\n",
       "         [-0.0590,  0.1472,  0.0442,  ...,  0.0376, -0.1157, -0.0384]]],\n",
       "       grad_fn=<ViewBackward0>)"
      ]
     },
     "execution_count": 30,
     "metadata": {},
     "output_type": "execute_result"
    }
   ],
   "source": [
    "x = torch.rand(1, 1024, 512)\n",
    "FeedForward(512, 512)(x)"
   ]
  },
  {
   "cell_type": "code",
   "execution_count": null,
   "id": "81ac2e56-a88e-4701-8569-87192dbfd5a7",
   "metadata": {},
   "outputs": [],
   "source": []
  }
 ],
 "metadata": {
  "kernelspec": {
   "display_name": "Python 3 (ipykernel)",
   "language": "python",
   "name": "python3"
  },
  "language_info": {
   "codemirror_mode": {
    "name": "ipython",
    "version": 3
   },
   "file_extension": ".py",
   "mimetype": "text/x-python",
   "name": "python",
   "nbconvert_exporter": "python",
   "pygments_lexer": "ipython3",
   "version": "3.11.6"
  }
 },
 "nbformat": 4,
 "nbformat_minor": 5
}
