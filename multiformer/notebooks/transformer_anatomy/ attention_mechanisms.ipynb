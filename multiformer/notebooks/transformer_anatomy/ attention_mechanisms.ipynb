{
 "cells": [
  {
   "cell_type": "code",
   "execution_count": 25,
   "id": "3eaab60b-ca3e-4bcc-950f-ddab0abe8d2b",
   "metadata": {},
   "outputs": [
    {
     "name": "stdout",
     "output_type": "stream",
     "text": [
      "TORCH VERSION : 2.2.1\n",
      "GPU  :  cuda\n"
     ]
    }
   ],
   "source": [
    "from importlib.metadata import version\n",
    "import torch\n",
    "torch.manual_seed(123)\n",
    "print(\"TORCH VERSION :\", version(\"torch\"))\n",
    "device = \"cuda\" if torch.cuda.is_available() else 'mps' if torch.backend.mps.is_available() else 'cpu'\n",
    "print('GPU  : ', device)"
   ]
  },
  {
   "cell_type": "code",
   "execution_count": 26,
   "id": "9b042382-d341-48c3-b6ef-576b8bd076af",
   "metadata": {},
   "outputs": [],
   "source": [
    "import torch.nn as nn\n",
    "import torch.nn.functional as F"
   ]
  },
  {
   "cell_type": "code",
   "execution_count": 27,
   "id": "abdc3b65-9f33-430c-9f2b-3d9fb0175266",
   "metadata": {},
   "outputs": [
    {
     "name": "stdout",
     "output_type": "stream",
     "text": [
      "tensor([[0.2961, 0.5166, 0.2517, 0.6886, 0.0740],\n",
      "        [0.8665, 0.1366, 0.1025, 0.1841, 0.7264],\n",
      "        [0.3153, 0.6871, 0.0756, 0.1966, 0.3164]])\n"
     ]
    },
    {
     "data": {
      "text/plain": [
       "tensor([[0.4070, 0.2828, 0.3103],\n",
       "        [0.2295, 0.5150, 0.2555],\n",
       "        [0.3217, 0.3264, 0.3519]])"
      ]
     },
     "execution_count": 27,
     "metadata": {},
     "output_type": "execute_result"
    }
   ],
   "source": [
    "# Naive Self Attention Implementation\n",
    "inputs = torch.rand(3,5)\n",
    "print(inputs)\n",
    "attention_scores = inputs @ inputs.T\n",
    "attention_weights = F.softmax(attention_scores,dim=-1)\n",
    "attention_weights"
   ]
  },
  {
   "cell_type": "markdown",
   "id": "bc084034-c890-4fdb-bba6-90f3d4616cc8",
   "metadata": {},
   "source": [
    "This self-attention mechanism is also called \"scaled dot-product attention\"."
   ]
  },
  {
   "cell_type": "code",
   "execution_count": 100,
   "id": "b63b7cb5-c4bb-488b-8251-ddfb3594be96",
   "metadata": {},
   "outputs": [],
   "source": [
    "class SingleHeadAttention(nn.Module):\n",
    "    def __init__(self,query,key,value,blocksize,dropout, mask=False,qkv_bias=False):\n",
    "        super().__init__()\n",
    "        d_model = query.shape[-1]\n",
    "        \n",
    "\n",
    "        self.w_query = nn.Linear(d_model,d_model,bias=qkv_bias)\n",
    "        self.w_key = nn.Linear(d_model,d_model,bias=qkv_bias)\n",
    "        self.w_value = nn.Linear(d_model,d_model,bias=qkv_bias)\n",
    "\n",
    "        self.dropout = nn.Dropout(dropout)\n",
    "\n",
    "        self.register_buffer(\"mask\",torch.triu(torch.ones(blocksize,blocksize),diagonal=1))\n",
    "\n",
    "    def forward(self,x):\n",
    "        batch, token_count, embeddings = x.shape\n",
    "        queries = self.w_query(x)\n",
    "        keys = self.w_key(x)\n",
    "        values = self.w_value(x)\n",
    "        attention_scores = queries @ keys.transpose(1,2)\n",
    "        attention_scores.masked_fill_(self.mask.bool()[:token_count, :token_count],-torch.inf)\n",
    "\n",
    "        attention_weights = F.softmax(attention_scores/ keys.shape[-1]**0.5,dim=-1)\n",
    "        context_vector = attention_weights @ values\n",
    "        return context_vector"
   ]
  },
  {
   "cell_type": "code",
   "execution_count": 101,
   "id": "94328c42-af8d-4214-b092-43c59cd4fafa",
   "metadata": {},
   "outputs": [],
   "source": [
    "inp = torch.rand(1,3,5)"
   ]
  },
  {
   "cell_type": "code",
   "execution_count": 102,
   "id": "2de67899-bf1a-46fe-a5d5-1a2cdec946af",
   "metadata": {},
   "outputs": [],
   "source": [
    "sha = SingleHeadAttention(inp,inp,inp,3,0.1)"
   ]
  },
  {
   "cell_type": "code",
   "execution_count": 104,
   "id": "74599f33-6d8b-48cd-9e93-a1c08bb7893e",
   "metadata": {},
   "outputs": [
    {
     "data": {
      "text/plain": [
       "torch.Size([1, 3, 5])"
      ]
     },
     "execution_count": 104,
     "metadata": {},
     "output_type": "execute_result"
    }
   ],
   "source": [
    "sha(inp).shape"
   ]
  },
  {
   "cell_type": "code",
   "execution_count": null,
   "id": "f57ddc68-7c4b-4e50-a3bf-9b81e0c1c1bd",
   "metadata": {},
   "outputs": [],
   "source": []
  }
 ],
 "metadata": {
  "kernelspec": {
   "display_name": "Python 3 (ipykernel)",
   "language": "python",
   "name": "python3"
  },
  "language_info": {
   "codemirror_mode": {
    "name": "ipython",
    "version": 3
   },
   "file_extension": ".py",
   "mimetype": "text/x-python",
   "name": "python",
   "nbconvert_exporter": "python",
   "pygments_lexer": "ipython3",
   "version": "3.11.6"
  }
 },
 "nbformat": 4,
 "nbformat_minor": 5
}
