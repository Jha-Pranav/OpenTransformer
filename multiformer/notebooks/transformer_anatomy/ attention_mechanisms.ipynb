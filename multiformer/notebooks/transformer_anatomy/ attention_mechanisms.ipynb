{
 "cells": [
  {
   "cell_type": "code",
   "execution_count": 1,
   "id": "3eaab60b-ca3e-4bcc-950f-ddab0abe8d2b",
   "metadata": {},
   "outputs": [
    {
     "name": "stdout",
     "output_type": "stream",
     "text": [
      "TORCH VERSION : 2.2.2\n",
      "GPU  :  cuda\n"
     ]
    }
   ],
   "source": [
    "from importlib.metadata import version\n",
    "\n",
    "import torch\n",
    "\n",
    "torch.manual_seed(123)\n",
    "print(\"TORCH VERSION :\", version(\"torch\"))\n",
    "device = (\n",
    "    \"cuda\" if torch.cuda.is_available() else \"mps\" if torch.backend.mps.is_available() else \"cpu\"\n",
    ")\n",
    "print(\"GPU  : \", device)"
   ]
  },
  {
   "cell_type": "code",
   "execution_count": 2,
   "id": "9b042382-d341-48c3-b6ef-576b8bd076af",
   "metadata": {},
   "outputs": [],
   "source": [
    "import torch.nn as nn\n",
    "import torch.nn.functional as F"
   ]
  },
  {
   "cell_type": "code",
   "execution_count": 3,
   "id": "abdc3b65-9f33-430c-9f2b-3d9fb0175266",
   "metadata": {},
   "outputs": [
    {
     "name": "stdout",
     "output_type": "stream",
     "text": [
      "tensor([[0.2961, 0.5166, 0.2517, 0.6886, 0.0740],\n",
      "        [0.8665, 0.1366, 0.1025, 0.1841, 0.7264],\n",
      "        [0.3153, 0.6871, 0.0756, 0.1966, 0.3164]])\n"
     ]
    },
    {
     "data": {
      "text/plain": [
       "tensor([[0.4070, 0.2828, 0.3103],\n",
       "        [0.2295, 0.5150, 0.2555],\n",
       "        [0.3217, 0.3264, 0.3519]])"
      ]
     },
     "execution_count": 3,
     "metadata": {},
     "output_type": "execute_result"
    }
   ],
   "source": [
    "# Naive Self Attention Implementation\n",
    "inputs = torch.rand(3, 5)\n",
    "print(inputs)\n",
    "attention_scores = inputs @ inputs.T\n",
    "attention_weights = F.softmax(attention_scores, dim=-1)\n",
    "attention_weights"
   ]
  },
  {
   "cell_type": "markdown",
   "id": "bc084034-c890-4fdb-bba6-90f3d4616cc8",
   "metadata": {},
   "source": [
    "This self-attention mechanism is also called \"scaled dot-product attention\"."
   ]
  },
  {
   "cell_type": "code",
   "execution_count": 4,
   "id": "b63b7cb5-c4bb-488b-8251-ddfb3594be96",
   "metadata": {},
   "outputs": [],
   "source": [
    "# Self attention implementationw ith trainable weights\n",
    "class SingleHeadAttention(nn.Module):\n",
    "    def __init__(self, d_in, d_out, blocksize, dropout=0.0, mask=False, qkv_bias=False):\n",
    "        super().__init__()\n",
    "\n",
    "        self.w_query = nn.Linear(d_in, d_out, bias=qkv_bias)\n",
    "        self.w_key = nn.Linear(d_in, d_out, bias=qkv_bias)\n",
    "        self.w_value = nn.Linear(d_in, d_out, bias=qkv_bias)\n",
    "\n",
    "        self.dropout = nn.Dropout(dropout)\n",
    "        if mask:\n",
    "            self.register_buffer(\"mask\", torch.triu(torch.ones(blocksize, blocksize), diagonal=1))\n",
    "\n",
    "    def forward(self, x):\n",
    "        batch, token_count, _ = x.shape\n",
    "\n",
    "        queries = self.w_query(x)\n",
    "        keys = self.w_key(x)\n",
    "        values = self.w_value(x)\n",
    "\n",
    "        attention_scores = queries @ keys.transpose(1, 2)\n",
    "\n",
    "        if hasattr(self, \"mask\"):\n",
    "            attention_scores.masked_fill_(self.mask.bool()[:token_count, :token_count], -torch.inf)\n",
    "\n",
    "        attention_weights = F.softmax(attention_scores / keys.shape[-1] ** 0.5, dim=-1)\n",
    "        attention_weights = self.dropout(attention_weights)\n",
    "        context_vector = attention_weights @ values\n",
    "        return context_vector"
   ]
  },
  {
   "cell_type": "code",
   "execution_count": 5,
   "id": "94328c42-af8d-4214-b092-43c59cd4fafa",
   "metadata": {},
   "outputs": [
    {
     "data": {
      "text/plain": [
       "torch.Size([1, 10, 12])"
      ]
     },
     "execution_count": 5,
     "metadata": {},
     "output_type": "execute_result"
    }
   ],
   "source": [
    "inp = torch.rand(1, 10, 12)\n",
    "d_in = d_out = inp.shape[-1]\n",
    "sha = SingleHeadAttention(d_in, d_out, inp.shape[1], mask=True)\n",
    "result = sha(inp)\n",
    "result.shape"
   ]
  },
  {
   "cell_type": "code",
   "execution_count": 6,
   "id": "f57ddc68-7c4b-4e50-a3bf-9b81e0c1c1bd",
   "metadata": {},
   "outputs": [
    {
     "data": {
      "image/png": "[encoded data removed]",
      "text/plain": [
       "<Figure size 1000x500 with 4 Axes>"
      ]
     },
     "metadata": {},
     "output_type": "display_data"
    }
   ],
   "source": [
    "def plot(inp, result):\n",
    "    import matplotlib.pyplot as plt\n",
    "\n",
    "    # Create a figure with two subplots side by side\n",
    "    fig, axs = plt.subplots(1, 2, figsize=(10, 5))\n",
    "\n",
    "    # Plot the same plot on both subplots\n",
    "    cax1 = axs[0].matshow(inp.squeeze(0))\n",
    "    fig.colorbar(cax1, ax=axs[0])\n",
    "    cax2 = axs[1].matshow(result.detach().numpy().squeeze(0))\n",
    "    fig.colorbar(cax2, ax=axs[1])\n",
    "\n",
    "    axs[0].set_title(\"Input tensor\")\n",
    "    axs[1].set_title(\"After applying self attention\")\n",
    "\n",
    "    # Show the plot\n",
    "    plt.show()\n",
    "\n",
    "\n",
    "plot(inp, result)"
   ]
  },
  {
   "cell_type": "code",
   "execution_count": 7,
   "id": "46023db3-3382-4bef-ace5-4727f908a042",
   "metadata": {},
   "outputs": [],
   "source": [
    "# Multi Head Self Attention\n",
    "class MultiHeadAttention_v1(nn.Module):\n",
    "    def __init__(self, heads, d_in, d_out, blocksize, dropout=0.0, mask=False, qkv_bias=False):\n",
    "        super().__init__()\n",
    "        self.heads = nn.ModuleList(\n",
    "            [\n",
    "                SingleHeadAttention(d_in, d_out, blocksize, dropout, mask, qkv_bias)\n",
    "                for _ in range(heads)\n",
    "            ]\n",
    "        )\n",
    "\n",
    "        self.linear = nn.Linear(d_out * heads, d_out * heads)\n",
    "\n",
    "    def forward(self, x):\n",
    "        context_vec = torch.cat([head(x) for head in self.heads], dim=-1)\n",
    "        return self.linear(context_vec)"
   ]
  },
  {
   "cell_type": "code",
   "execution_count": 8,
   "id": "d5f7c17e-091a-4af4-9df9-843f639ccf8c",
   "metadata": {},
   "outputs": [
    {
     "data": {
      "text/plain": [
       "torch.Size([1, 10, 12])"
      ]
     },
     "execution_count": 8,
     "metadata": {},
     "output_type": "execute_result"
    }
   ],
   "source": [
    "# for embedding_dim = 512 , head = 8\n",
    "# d_in = 512/8 = 64\n",
    "\n",
    "mha = MultiHeadAttention_v1(2, 12, 6, 10)\n",
    "result = mha(inp)\n",
    "result.shape"
   ]
  },
  {
   "cell_type": "code",
   "execution_count": 9,
   "id": "28f14f11-06df-4d4b-9804-e942d0190f15",
   "metadata": {},
   "outputs": [],
   "source": [
    "# plot(inp,result)"
   ]
  },
  {
   "cell_type": "code",
   "execution_count": 10,
   "id": "2578c5a7-38ab-4d62-8480-48c835665ba7",
   "metadata": {},
   "outputs": [],
   "source": [
    "class MultiHeadAttention(SingleHeadAttention):\n",
    "    def __init__(self, num_heads, d_model, blocksize, dropout=0.0, mask=False, qkv_bias=False):\n",
    "        super().__init__(d_model, d_model, blocksize, dropout, mask, qkv_bias)\n",
    "        assert d_model % num_heads == 0, \"d_model must be divisible by num_heads\"\n",
    "        self.num_heads = num_heads\n",
    "        self.head_dim = d_model // num_heads\n",
    "\n",
    "        self.linear = nn.Linear(d_model, d_model)\n",
    "\n",
    "    def forward(self, x):\n",
    "        batch, num_token, embedding_dim = x.shape\n",
    "\n",
    "        queries = self.w_query(x)\n",
    "        keys = self.w_key(x)\n",
    "        values = self.w_value(x)\n",
    "\n",
    "        # We implicitly split the matrix by adding a `num_heads` dimension\n",
    "        queries = queries.view(batch, num_token, self.num_heads, self.head_dim).transpose(1, 2)\n",
    "        keys = keys.view(batch, num_token, self.num_heads, self.head_dim).transpose(1, 2)\n",
    "        values = values.view(batch, num_token, self.num_heads, self.head_dim).transpose(1, 2)\n",
    "\n",
    "        # Compute scaled dot-product attention (aka self-attention) with a causal mask\n",
    "        attention_scores = torch.matmul(queries, keys.transpose(-2, -1))\n",
    "        if hasattr(self, \"mask\"):\n",
    "            attention_scores.masked_fill_(self.mask.bool()[:num_token, :num_token], -float(\"inf\"))\n",
    "\n",
    "        attention_weights = F.softmax(attention_scores / keys.shape[-1] ** 0.5, dim=-1)\n",
    "        attention_weights = self.dropout(attention_weights)\n",
    "\n",
    "        # Combine heads, where self.d_out = self.num_heads * self.head_dim\n",
    "        context_vector = torch.matmul(attention_weights, values)\n",
    "        context_vector = (\n",
    "            context_vector.transpose(1, 2).contiguous().view(batch, num_token, embedding_dim)\n",
    "        )\n",
    "        return self.linear(context_vector)"
   ]
  },
  {
   "cell_type": "code",
   "execution_count": 11,
   "id": "1becd4a7-cd47-4ee1-9d1a-125a07eeacfc",
   "metadata": {},
   "outputs": [
    {
     "data": {
      "text/plain": [
       "torch.Size([1, 10, 12])"
      ]
     },
     "execution_count": 11,
     "metadata": {},
     "output_type": "execute_result"
    }
   ],
   "source": [
    "mha = MultiHeadAttention(2, 12, 10)\n",
    "result = mha(inp)\n",
    "result.shape"
   ]
  },
  {
   "cell_type": "code",
   "execution_count": 12,
   "id": "f16c10bb-2f15-4716-9502-bae6d2b14a04",
   "metadata": {},
   "outputs": [],
   "source": [
    "# plot(inp,result)"
   ]
  },
  {
   "cell_type": "code",
   "execution_count": 13,
   "id": "77343001-dba5-41b6-b76f-270ba079cc92",
   "metadata": {},
   "outputs": [],
   "source": [
    "class MultiHeadAttentionPyTorchSDP(nn.Module):\n",
    "    def __init__(self, num_heads, d_model, block_size, mask=False, dropout=0.0, qkv_bias=False):\n",
    "        super().__init__()\n",
    "\n",
    "        assert d_model % num_heads == 0, \"embed_dim is indivisible by num_heads\"\n",
    "\n",
    "        self.num_heads = num_heads\n",
    "        self.block_size = block_size\n",
    "        self.head_dim = d_model // num_heads\n",
    "        self.d_model = d_model\n",
    "\n",
    "        self.qkv = nn.Linear(d_model, 3 * d_model, bias=qkv_bias)\n",
    "        self.proj = nn.Linear(d_model, d_model)\n",
    "        self.dropout = dropout\n",
    "\n",
    "        self.register_buffer(\"mask\", torch.triu(torch.ones(block_size, block_size), diagonal=1))\n",
    "\n",
    "    def forward(self, x):\n",
    "        batch_size, num_tokens, embed_dim = x.shape\n",
    "\n",
    "        # (b, num_tokens, embed_dim) --> (b, num_tokens, 3 * embed_dim)\n",
    "        qkv = self.qkv(x)\n",
    "\n",
    "        # (b, num_tokens, 3 * embed_dim) --> (b, num_tokens, 3, num_heads, head_dim)\n",
    "        qkv = qkv.reshape(batch_size, num_tokens, 3, self.num_heads, self.head_dim)\n",
    "\n",
    "        # (b, num_tokens, 3, num_heads, head_dim) --> (3, b, num_heads, num_tokens, head_dim)\n",
    "        qkv = qkv.permute(2, 0, 3, 1, 4)\n",
    "\n",
    "        # (3, b, num_heads, num_tokens, head_dim) -> 3 times (b, num_heads, num_tokens, head_dim)\n",
    "        queries, keys, values = qkv.unbind(0)\n",
    "\n",
    "        use_dropout = 0.0 if not self.training else self.dropout\n",
    "        context_vec = nn.functional.scaled_dot_product_attention(\n",
    "            queries, keys, values, attn_mask=None, dropout_p=use_dropout, is_causal=True\n",
    "        )\n",
    "\n",
    "        # Combine heads, where self.d_model = self.num_heads * self.head_dim\n",
    "        context_vec = (\n",
    "            context_vec.transpose(1, 2).contiguous().view(batch_size, num_tokens, embed_dim)\n",
    "        )\n",
    "\n",
    "        return context_vec"
   ]
  },
  {
   "cell_type": "code",
   "execution_count": 14,
   "id": "2cb98e6a-f9c2-4831-8a74-1ca411d96226",
   "metadata": {},
   "outputs": [
    {
     "data": {
      "text/plain": [
       "torch.Size([1, 10, 12])"
      ]
     },
     "execution_count": 14,
     "metadata": {},
     "output_type": "execute_result"
    }
   ],
   "source": [
    "mhap = MultiHeadAttentionPyTorchSDP(2, 12, 10)\n",
    "result = mhap(inp)\n",
    "result.shape"
   ]
  },
  {
   "cell_type": "code",
   "execution_count": null,
   "id": "fbd41a72-5f3a-41a3-a7d9-81efaacbc122",
   "metadata": {},
   "outputs": [],
   "source": []
  },
  {
   "cell_type": "code",
   "execution_count": null,
   "id": "e9823268-7006-447c-ac5e-02cb88c4b4e0",
   "metadata": {},
   "outputs": [],
   "source": []
  },
  {
   "cell_type": "code",
   "execution_count": null,
   "id": "75ecd36e-83ae-4f26-ad58-c675e32cd43b",
   "metadata": {},
   "outputs": [],
   "source": []
  },
  {
   "cell_type": "code",
   "execution_count": null,
   "id": "ec89c1a3-16c1-442c-ba31-a04b35a9a888",
   "metadata": {},
   "outputs": [],
   "source": []
  },
  {
   "cell_type": "code",
   "execution_count": null,
   "id": "aad47e99-5b26-4817-8fd3-daaac995cce9",
   "metadata": {},
   "outputs": [],
   "source": []
  },
  {
   "cell_type": "code",
   "execution_count": null,
   "id": "b1031dd8-090c-46a6-9964-f4d5c952316a",
   "metadata": {},
   "outputs": [],
   "source": []
  },
  {
   "cell_type": "code",
   "execution_count": null,
   "id": "58b0cb8e-a281-4f66-9116-6fc684296aa6",
   "metadata": {},
   "outputs": [],
   "source": []
  },
  {
   "cell_type": "code",
   "execution_count": null,
   "id": "8c64ba69-1b53-4dea-9d48-5d6a5e097cc8",
   "metadata": {},
   "outputs": [],
   "source": []
  },
  {
   "cell_type": "code",
   "execution_count": null,
   "id": "d31b1090-ff72-4e5b-a310-555f4462c3c2",
   "metadata": {},
   "outputs": [],
   "source": []
  },
  {
   "cell_type": "code",
   "execution_count": null,
   "id": "9163af4f-f064-45eb-8ef3-fefa4debc5f5",
   "metadata": {},
   "outputs": [],
   "source": []
  },
  {
   "cell_type": "code",
   "execution_count": null,
   "id": "2792440c-ec74-49bf-b956-cef271571fa6",
   "metadata": {},
   "outputs": [],
   "source": []
  },
  {
   "cell_type": "code",
   "execution_count": null,
   "id": "ba4ec599-2f94-434e-b123-e3327b1200ff",
   "metadata": {},
   "outputs": [],
   "source": []
  },
  {
   "cell_type": "code",
   "execution_count": null,
   "id": "903f9555-a9ab-41dc-a7c6-c77c9fd71f9f",
   "metadata": {},
   "outputs": [],
   "source": []
  },
  {
   "cell_type": "code",
   "execution_count": null,
   "id": "6868149a-d8c2-4c03-b92a-ab83ca7340b7",
   "metadata": {},
   "outputs": [],
   "source": []
  },
  {
   "cell_type": "code",
   "execution_count": null,
   "id": "b5d6fea2-b848-4160-a16a-32c41fe4b9e7",
   "metadata": {},
   "outputs": [],
   "source": []
  },
  {
   "cell_type": "code",
   "execution_count": null,
   "id": "66684ac3-8b84-4c80-a560-3ee848dd4100",
   "metadata": {},
   "outputs": [],
   "source": []
  },
  {
   "cell_type": "code",
   "execution_count": null,
   "id": "5133ac5e-20e5-4154-87f5-4e97718dd448",
   "metadata": {},
   "outputs": [],
   "source": []
  },
  {
   "cell_type": "code",
   "execution_count": null,
   "id": "7d9aceba-8a3c-4501-9e63-d6185a1d86e5",
   "metadata": {},
   "outputs": [],
   "source": []
  },
  {
   "cell_type": "code",
   "execution_count": null,
   "id": "3bb5cb48-9af0-4ca5-9184-7664edd6ffd5",
   "metadata": {},
   "outputs": [],
   "source": []
  },
  {
   "cell_type": "code",
   "execution_count": 15,
   "id": "8a4e9506-9211-49d9-aab0-34d68c64e2aa",
   "metadata": {},
   "outputs": [],
   "source": [
    "# plot(inp,result)"
   ]
  },
  {
   "cell_type": "code",
   "execution_count": 16,
   "id": "3ac37548-ab3b-48bf-ac4b-87a551716e8f",
   "metadata": {},
   "outputs": [],
   "source": [
    "## Benchmark Test - CPU"
   ]
  },
  {
   "cell_type": "code",
   "execution_count": 16,
   "id": "56dcffa6-250a-40f2-8706-c55f371396e6",
   "metadata": {},
   "outputs": [],
   "source": [
    "torch.manual_seed(12345)\n",
    "batch = 64\n",
    "max_len = 1024\n",
    "embedding_dim = 768\n",
    "num_heads = 16\n",
    "\n",
    "x = torch.rand(batch, max_len, embedding_dim)"
   ]
  },
  {
   "cell_type": "code",
   "execution_count": 26,
   "id": "1d757f2a-ecdf-4678-a0e1-991f4bb0805b",
   "metadata": {},
   "outputs": [
    {
     "name": "stdout",
     "output_type": "stream",
     "text": [
      "534 ms ± 29.9 ms per loop (mean ± std. dev. of 7 runs, 1 loop each)\n"
     ]
    }
   ],
   "source": [
    "%timeit SingleHeadAttention(embedding_dim,embedding_dim,x.shape[1],mask=True)(x)"
   ]
  },
  {
   "cell_type": "code",
   "execution_count": 20,
   "id": "9163ae78-6f13-49be-8711-7c2401b2acb5",
   "metadata": {},
   "outputs": [
    {
     "name": "stdout",
     "output_type": "stream",
     "text": [
      "6.62 s ± 119 ms per loop (mean ± std. dev. of 7 runs, 1 loop each)\n"
     ]
    }
   ],
   "source": [
    "%timeit MultiHeadAttention_v1(num_heads,embedding_dim,embedding_dim//num_heads,max_len)(x)"
   ]
  },
  {
   "cell_type": "code",
   "execution_count": null,
   "id": "2061fe7f-f40c-4b65-a452-4027354464f2",
   "metadata": {},
   "outputs": [],
   "source": [
    "%timeit MultiHeadAttention(num_heads,embedding_dim,max_len)(x)"
   ]
  },
  {
   "cell_type": "code",
   "execution_count": 18,
   "id": "a7114c39-42c9-4f59-86c1-e21a629d09d9",
   "metadata": {},
   "outputs": [
    {
     "name": "stdout",
     "output_type": "stream",
     "text": [
      "2.11 s ± 65.4 ms per loop (mean ± std. dev. of 7 runs, 1 loop each)\n"
     ]
    }
   ],
   "source": [
    "%timeit MultiHeadAttentionPyTorchSDP(num_heads,embedding_dim,max_len)(x)"
   ]
  },
  {
   "cell_type": "code",
   "execution_count": 1,
   "id": "22f184e7-aa5a-4dd9-81ea-4d6100607792",
   "metadata": {},
   "outputs": [],
   "source": [
    "## GPU Benchmark Test"
   ]
  },
  {
   "cell_type": "code",
   "execution_count": 19,
   "id": "a6bc7c93-6008-4efb-a77e-aac1803172bc",
   "metadata": {},
   "outputs": [],
   "source": [
    "x = x.to(device)"
   ]
  },
  {
   "cell_type": "code",
   "execution_count": 22,
   "id": "e0f77f0b-9e74-4a9d-9740-8bc9d1f3ec72",
   "metadata": {},
   "outputs": [
    {
     "name": "stdout",
     "output_type": "stream",
     "text": [
      "1.47 s ± 69.3 ms per loop (mean ± std. dev. of 7 runs, 10 loops each)\n"
     ]
    }
   ],
   "source": [
    "%timeit SingleHeadAttention(embedding_dim,embedding_dim,x.shape[1],mask=True).to(device)(x)"
   ]
  },
  {
   "cell_type": "code",
   "execution_count": 21,
   "id": "483ed669-8caa-42c5-9ad4-d8d0bed714df",
   "metadata": {},
   "outputs": [
    {
     "name": "stdout",
     "output_type": "stream",
     "text": [
      "The slowest run took 48.06 times longer than the fastest. This could mean that an intermediate result is being cached.\n",
      "2.71 s ± 1.09 s per loop (mean ± std. dev. of 7 runs, 1 loop each)\n"
     ]
    }
   ],
   "source": [
    "x = x.to(device)\n",
    "%timeit MultiHeadAttention_v1(num_heads,embedding_dim,embedding_dim//num_heads,max_len).to(device)(x)"
   ]
  },
  {
   "cell_type": "code",
   "execution_count": 20,
   "id": "d6e94d5d-e242-4e46-9f32-a931f57212a7",
   "metadata": {},
   "outputs": [
    {
     "ename": "OutOfMemoryError",
     "evalue": "CUDA out of memory. Tried to allocate 4.00 GiB. GPU 0 has a total capacity of 11.72 GiB of which 2.06 GiB is free. Including non-PyTorch memory, this process has 9.39 GiB memory in use. Of the allocated memory 9.15 GiB is allocated by PyTorch, and 15.87 MiB is reserved by PyTorch but unallocated. If reserved but unallocated memory is large try setting PYTORCH_CUDA_ALLOC_CONF=expandable_segments:True to avoid fragmentation.  See documentation for Memory Management  (https://pytorch.org/docs/stable/notes/cuda.html#environment-variables)",
     "output_type": "error",
     "traceback": [
      "\u001b[0;31m---------------------------------------------------------------------------\u001b[0m",
      "\u001b[0;31mOutOfMemoryError\u001b[0m                          Traceback (most recent call last)",
      "Cell \u001b[0;32mIn[20], line 1\u001b[0m\n\u001b[0;32m----> 1\u001b[0m \u001b[43mget_ipython\u001b[49m\u001b[43m(\u001b[49m\u001b[43m)\u001b[49m\u001b[38;5;241;43m.\u001b[39;49m\u001b[43mrun_line_magic\u001b[49m\u001b[43m(\u001b[49m\u001b[38;5;124;43m'\u001b[39;49m\u001b[38;5;124;43mtimeit\u001b[39;49m\u001b[38;5;124;43m'\u001b[39;49m\u001b[43m,\u001b[49m\u001b[43m \u001b[49m\u001b[38;5;124;43m'\u001b[39;49m\u001b[38;5;124;43mMultiHeadAttention(num_heads,embedding_dim,max_len).to(device)(x)\u001b[39;49m\u001b[38;5;124;43m'\u001b[39;49m\u001b[43m)\u001b[49m\n",
      "File \u001b[0;32m~/.env/lib/python3.11/site-packages/IPython/core/interactiveshell.py:2480\u001b[0m, in \u001b[0;36mInteractiveShell.run_line_magic\u001b[0;34m(self, magic_name, line, _stack_depth)\u001b[0m\n\u001b[1;32m   2478\u001b[0m     kwargs[\u001b[38;5;124m'\u001b[39m\u001b[38;5;124mlocal_ns\u001b[39m\u001b[38;5;124m'\u001b[39m] \u001b[38;5;241m=\u001b[39m \u001b[38;5;28mself\u001b[39m\u001b[38;5;241m.\u001b[39mget_local_scope(stack_depth)\n\u001b[1;32m   2479\u001b[0m \u001b[38;5;28;01mwith\u001b[39;00m \u001b[38;5;28mself\u001b[39m\u001b[38;5;241m.\u001b[39mbuiltin_trap:\n\u001b[0;32m-> 2480\u001b[0m     result \u001b[38;5;241m=\u001b[39m \u001b[43mfn\u001b[49m\u001b[43m(\u001b[49m\u001b[38;5;241;43m*\u001b[39;49m\u001b[43margs\u001b[49m\u001b[43m,\u001b[49m\u001b[43m \u001b[49m\u001b[38;5;241;43m*\u001b[39;49m\u001b[38;5;241;43m*\u001b[39;49m\u001b[43mkwargs\u001b[49m\u001b[43m)\u001b[49m\n\u001b[1;32m   2482\u001b[0m \u001b[38;5;66;03m# The code below prevents the output from being displayed\u001b[39;00m\n\u001b[1;32m   2483\u001b[0m \u001b[38;5;66;03m# when using magics with decorator @output_can_be_silenced\u001b[39;00m\n\u001b[1;32m   2484\u001b[0m \u001b[38;5;66;03m# when the last Python token in the expression is a ';'.\u001b[39;00m\n\u001b[1;32m   2485\u001b[0m \u001b[38;5;28;01mif\u001b[39;00m \u001b[38;5;28mgetattr\u001b[39m(fn, magic\u001b[38;5;241m.\u001b[39mMAGIC_OUTPUT_CAN_BE_SILENCED, \u001b[38;5;28;01mFalse\u001b[39;00m):\n",
      "File \u001b[0;32m~/.env/lib/python3.11/site-packages/IPython/core/magics/execution.py:1185\u001b[0m, in \u001b[0;36mExecutionMagics.timeit\u001b[0;34m(self, line, cell, local_ns)\u001b[0m\n\u001b[1;32m   1183\u001b[0m \u001b[38;5;28;01mfor\u001b[39;00m index \u001b[38;5;129;01min\u001b[39;00m \u001b[38;5;28mrange\u001b[39m(\u001b[38;5;241m0\u001b[39m, \u001b[38;5;241m10\u001b[39m):\n\u001b[1;32m   1184\u001b[0m     number \u001b[38;5;241m=\u001b[39m \u001b[38;5;241m10\u001b[39m \u001b[38;5;241m*\u001b[39m\u001b[38;5;241m*\u001b[39m index\n\u001b[0;32m-> 1185\u001b[0m     time_number \u001b[38;5;241m=\u001b[39m \u001b[43mtimer\u001b[49m\u001b[38;5;241;43m.\u001b[39;49m\u001b[43mtimeit\u001b[49m\u001b[43m(\u001b[49m\u001b[43mnumber\u001b[49m\u001b[43m)\u001b[49m\n\u001b[1;32m   1186\u001b[0m     \u001b[38;5;28;01mif\u001b[39;00m time_number \u001b[38;5;241m>\u001b[39m\u001b[38;5;241m=\u001b[39m \u001b[38;5;241m0.2\u001b[39m:\n\u001b[1;32m   1187\u001b[0m         \u001b[38;5;28;01mbreak\u001b[39;00m\n",
      "File \u001b[0;32m~/.env/lib/python3.11/site-packages/IPython/core/magics/execution.py:173\u001b[0m, in \u001b[0;36mTimer.timeit\u001b[0;34m(self, number)\u001b[0m\n\u001b[1;32m    171\u001b[0m gc\u001b[38;5;241m.\u001b[39mdisable()\n\u001b[1;32m    172\u001b[0m \u001b[38;5;28;01mtry\u001b[39;00m:\n\u001b[0;32m--> 173\u001b[0m     timing \u001b[38;5;241m=\u001b[39m \u001b[38;5;28;43mself\u001b[39;49m\u001b[38;5;241;43m.\u001b[39;49m\u001b[43minner\u001b[49m\u001b[43m(\u001b[49m\u001b[43mit\u001b[49m\u001b[43m,\u001b[49m\u001b[43m \u001b[49m\u001b[38;5;28;43mself\u001b[39;49m\u001b[38;5;241;43m.\u001b[39;49m\u001b[43mtimer\u001b[49m\u001b[43m)\u001b[49m\n\u001b[1;32m    174\u001b[0m \u001b[38;5;28;01mfinally\u001b[39;00m:\n\u001b[1;32m    175\u001b[0m     \u001b[38;5;28;01mif\u001b[39;00m gcold:\n",
      "File \u001b[0;32m<magic-timeit>:1\u001b[0m, in \u001b[0;36minner\u001b[0;34m(_it, _timer)\u001b[0m\n",
      "File \u001b[0;32m~/.env/lib/python3.11/site-packages/torch/nn/modules/module.py:1511\u001b[0m, in \u001b[0;36mModule._wrapped_call_impl\u001b[0;34m(self, *args, **kwargs)\u001b[0m\n\u001b[1;32m   1509\u001b[0m     \u001b[38;5;28;01mreturn\u001b[39;00m \u001b[38;5;28mself\u001b[39m\u001b[38;5;241m.\u001b[39m_compiled_call_impl(\u001b[38;5;241m*\u001b[39margs, \u001b[38;5;241m*\u001b[39m\u001b[38;5;241m*\u001b[39mkwargs)  \u001b[38;5;66;03m# type: ignore[misc]\u001b[39;00m\n\u001b[1;32m   1510\u001b[0m \u001b[38;5;28;01melse\u001b[39;00m:\n\u001b[0;32m-> 1511\u001b[0m     \u001b[38;5;28;01mreturn\u001b[39;00m \u001b[38;5;28;43mself\u001b[39;49m\u001b[38;5;241;43m.\u001b[39;49m\u001b[43m_call_impl\u001b[49m\u001b[43m(\u001b[49m\u001b[38;5;241;43m*\u001b[39;49m\u001b[43margs\u001b[49m\u001b[43m,\u001b[49m\u001b[43m \u001b[49m\u001b[38;5;241;43m*\u001b[39;49m\u001b[38;5;241;43m*\u001b[39;49m\u001b[43mkwargs\u001b[49m\u001b[43m)\u001b[49m\n",
      "File \u001b[0;32m~/.env/lib/python3.11/site-packages/torch/nn/modules/module.py:1520\u001b[0m, in \u001b[0;36mModule._call_impl\u001b[0;34m(self, *args, **kwargs)\u001b[0m\n\u001b[1;32m   1515\u001b[0m \u001b[38;5;66;03m# If we don't have any hooks, we want to skip the rest of the logic in\u001b[39;00m\n\u001b[1;32m   1516\u001b[0m \u001b[38;5;66;03m# this function, and just call forward.\u001b[39;00m\n\u001b[1;32m   1517\u001b[0m \u001b[38;5;28;01mif\u001b[39;00m \u001b[38;5;129;01mnot\u001b[39;00m (\u001b[38;5;28mself\u001b[39m\u001b[38;5;241m.\u001b[39m_backward_hooks \u001b[38;5;129;01mor\u001b[39;00m \u001b[38;5;28mself\u001b[39m\u001b[38;5;241m.\u001b[39m_backward_pre_hooks \u001b[38;5;129;01mor\u001b[39;00m \u001b[38;5;28mself\u001b[39m\u001b[38;5;241m.\u001b[39m_forward_hooks \u001b[38;5;129;01mor\u001b[39;00m \u001b[38;5;28mself\u001b[39m\u001b[38;5;241m.\u001b[39m_forward_pre_hooks\n\u001b[1;32m   1518\u001b[0m         \u001b[38;5;129;01mor\u001b[39;00m _global_backward_pre_hooks \u001b[38;5;129;01mor\u001b[39;00m _global_backward_hooks\n\u001b[1;32m   1519\u001b[0m         \u001b[38;5;129;01mor\u001b[39;00m _global_forward_hooks \u001b[38;5;129;01mor\u001b[39;00m _global_forward_pre_hooks):\n\u001b[0;32m-> 1520\u001b[0m     \u001b[38;5;28;01mreturn\u001b[39;00m \u001b[43mforward_call\u001b[49m\u001b[43m(\u001b[49m\u001b[38;5;241;43m*\u001b[39;49m\u001b[43margs\u001b[49m\u001b[43m,\u001b[49m\u001b[43m \u001b[49m\u001b[38;5;241;43m*\u001b[39;49m\u001b[38;5;241;43m*\u001b[39;49m\u001b[43mkwargs\u001b[49m\u001b[43m)\u001b[49m\n\u001b[1;32m   1522\u001b[0m \u001b[38;5;28;01mtry\u001b[39;00m:\n\u001b[1;32m   1523\u001b[0m     result \u001b[38;5;241m=\u001b[39m \u001b[38;5;28;01mNone\u001b[39;00m\n",
      "Cell \u001b[0;32mIn[10], line 27\u001b[0m, in \u001b[0;36mMultiHeadAttention.forward\u001b[0;34m(self, x)\u001b[0m\n\u001b[1;32m     24\u001b[0m \u001b[38;5;28;01mif\u001b[39;00m \u001b[38;5;28mhasattr\u001b[39m(\u001b[38;5;28mself\u001b[39m, \u001b[38;5;124m\"\u001b[39m\u001b[38;5;124mmask\u001b[39m\u001b[38;5;124m\"\u001b[39m):\n\u001b[1;32m     25\u001b[0m     attention_scores\u001b[38;5;241m.\u001b[39mmasked_fill_(\u001b[38;5;28mself\u001b[39m\u001b[38;5;241m.\u001b[39mmask\u001b[38;5;241m.\u001b[39mbool()[:num_token, :num_token], \u001b[38;5;241m-\u001b[39m\u001b[38;5;28mfloat\u001b[39m(\u001b[38;5;124m'\u001b[39m\u001b[38;5;124minf\u001b[39m\u001b[38;5;124m'\u001b[39m))\n\u001b[0;32m---> 27\u001b[0m attention_weights \u001b[38;5;241m=\u001b[39m \u001b[43mF\u001b[49m\u001b[38;5;241;43m.\u001b[39;49m\u001b[43msoftmax\u001b[49m\u001b[43m(\u001b[49m\u001b[43mattention_scores\u001b[49m\u001b[43m \u001b[49m\u001b[38;5;241;43m/\u001b[39;49m\u001b[43m \u001b[49m\u001b[43mkeys\u001b[49m\u001b[38;5;241;43m.\u001b[39;49m\u001b[43mshape\u001b[49m\u001b[43m[\u001b[49m\u001b[38;5;241;43m-\u001b[39;49m\u001b[38;5;241;43m1\u001b[39;49m\u001b[43m]\u001b[49m\u001b[43m \u001b[49m\u001b[38;5;241;43m*\u001b[39;49m\u001b[38;5;241;43m*\u001b[39;49m\u001b[43m \u001b[49m\u001b[38;5;241;43m0.5\u001b[39;49m\u001b[43m,\u001b[49m\u001b[43m \u001b[49m\u001b[43mdim\u001b[49m\u001b[38;5;241;43m=\u001b[39;49m\u001b[38;5;241;43m-\u001b[39;49m\u001b[38;5;241;43m1\u001b[39;49m\u001b[43m)\u001b[49m\n\u001b[1;32m     28\u001b[0m attention_weights \u001b[38;5;241m=\u001b[39m \u001b[38;5;28mself\u001b[39m\u001b[38;5;241m.\u001b[39mdropout(attention_weights)\n\u001b[1;32m     30\u001b[0m \u001b[38;5;66;03m# Combine heads, where self.d_out = self.num_heads * self.head_dim\u001b[39;00m\n",
      "File \u001b[0;32m~/.env/lib/python3.11/site-packages/torch/nn/functional.py:1858\u001b[0m, in \u001b[0;36msoftmax\u001b[0;34m(input, dim, _stacklevel, dtype)\u001b[0m\n\u001b[1;32m   1856\u001b[0m     dim \u001b[38;5;241m=\u001b[39m _get_softmax_dim(\u001b[38;5;124m\"\u001b[39m\u001b[38;5;124msoftmax\u001b[39m\u001b[38;5;124m\"\u001b[39m, \u001b[38;5;28minput\u001b[39m\u001b[38;5;241m.\u001b[39mdim(), _stacklevel)\n\u001b[1;32m   1857\u001b[0m \u001b[38;5;28;01mif\u001b[39;00m dtype \u001b[38;5;129;01mis\u001b[39;00m \u001b[38;5;28;01mNone\u001b[39;00m:\n\u001b[0;32m-> 1858\u001b[0m     ret \u001b[38;5;241m=\u001b[39m \u001b[38;5;28;43minput\u001b[39;49m\u001b[38;5;241;43m.\u001b[39;49m\u001b[43msoftmax\u001b[49m\u001b[43m(\u001b[49m\u001b[43mdim\u001b[49m\u001b[43m)\u001b[49m\n\u001b[1;32m   1859\u001b[0m \u001b[38;5;28;01melse\u001b[39;00m:\n\u001b[1;32m   1860\u001b[0m     ret \u001b[38;5;241m=\u001b[39m \u001b[38;5;28minput\u001b[39m\u001b[38;5;241m.\u001b[39msoftmax(dim, dtype\u001b[38;5;241m=\u001b[39mdtype)\n",
      "\u001b[0;31mOutOfMemoryError\u001b[0m: CUDA out of memory. Tried to allocate 4.00 GiB. GPU 0 has a total capacity of 11.72 GiB of which 2.06 GiB is free. Including non-PyTorch memory, this process has 9.39 GiB memory in use. Of the allocated memory 9.15 GiB is allocated by PyTorch, and 15.87 MiB is reserved by PyTorch but unallocated. If reserved but unallocated memory is large try setting PYTORCH_CUDA_ALLOC_CONF=expandable_segments:True to avoid fragmentation.  See documentation for Memory Management  (https://pytorch.org/docs/stable/notes/cuda.html#environment-variables)"
     ]
    }
   ],
   "source": [
    "%timeit MultiHeadAttention(num_heads,embedding_dim,max_len).to(device)(x)"
   ]
  },
  {
   "cell_type": "code",
   "execution_count": 29,
   "id": "276428f0-da33-4992-b295-ac91b750e7ff",
   "metadata": {},
   "outputs": [
    {
     "name": "stdout",
     "output_type": "stream",
     "text": [
      "152 ms ± 11.8 ms per loop (mean ± std. dev. of 7 runs, 10 loops each)\n"
     ]
    }
   ],
   "source": [
    "%timeit MultiHeadAttentionPyTorchSDP(num_heads,embedding_dim,max_len).to(device)(x)"
   ]
  },
  {
   "cell_type": "code",
   "execution_count": 28,
   "id": "9346f6d3-05a6-43d8-be4b-42854cca0395",
   "metadata": {},
   "outputs": [
    {
     "name": "stdout",
     "output_type": "stream",
     "text": [
      "505 ms ± 17.5 ms per loop (mean ± std. dev. of 7 runs, 10 loops each)\n"
     ]
    }
   ],
   "source": [
    "%timeit nn.Linear(embedding_dim,embedding_dim).to(device)(nn.MultiheadAttention(embedding_dim, num_heads).to(device)(x,x,x)[0])"
   ]
  },
  {
   "cell_type": "code",
   "execution_count": 46,
   "id": "51bb8600-1a85-4297-bd48-c09a40c8b9a9",
   "metadata": {},
   "outputs": [],
   "source": [
    "torch.cuda.empty_cache()"
   ]
  },
  {
   "cell_type": "code",
   "execution_count": 28,
   "id": "e854ae0c-0a6c-40a9-bd5e-884721d03123",
   "metadata": {},
   "outputs": [
    {
     "name": "stderr",
     "output_type": "stream",
     "text": [
      "Warming up with batch_size=1: 100%|██████████████| 1/1 [00:00<00:00, 464.02it/s]\n"
     ]
    },
    {
     "name": "stdout",
     "output_type": "stream",
     "text": [
      "Warning: module MultiHeadAttentionPyTorchSDP is treated as a zero-op.\n",
      "Warning! No positional inputs found for a module, assuming batch size is 1.\n",
      "MultiHeadAttentionPyTorchSDP(\n",
      "  2.36 M, 100.000% Params, 1.81 GMac, 100.000% MACs, \n",
      "  (qkv): Linear(1.77 M, 74.976% Params, 1.81 GMac, 100.000% MACs, in_features=768, out_features=2304, bias=False)\n",
      "  (proj): Linear(590.59 k, 25.024% Params, 0.0 Mac, 0.000% MACs, in_features=768, out_features=768, bias=True)\n",
      ")\n"
     ]
    },
    {
     "name": "stderr",
     "output_type": "stream",
     "text": [
      "Warming up with batch_size=1: 100%|██████████████| 1/1 [00:00<00:00, 454.17it/s]\n",
      "STAGE:2024-03-15 23:24:22 102445:102445 ActivityProfilerController.cpp:314] Completed Stage: Warm Up\n",
      "STAGE:2024-03-15 23:24:22 102445:102445 ActivityProfilerController.cpp:320] Completed Stage: Collection\n",
      "STAGE:2024-03-15 23:24:22 102445:102445 ActivityProfilerController.cpp:324] Completed Stage: Post Processing\n",
      "Measuring inference for batch_size=1: 100%|████| 10/10 [00:00<00:00, 492.12it/s]\n",
      "Unable to measure energy consumption. Device must be a NVIDIA Jetson.\n",
      "Warming up with batch_size=32: 100%|██████████████| 1/1 [00:00<00:00,  8.42it/s]\n",
      "STAGE:2024-03-15 23:24:22 102445:102445 ActivityProfilerController.cpp:314] Completed Stage: Warm Up\n",
      "STAGE:2024-03-15 23:24:22 102445:102445 ActivityProfilerController.cpp:320] Completed Stage: Collection\n",
      "STAGE:2024-03-15 23:24:22 102445:102445 ActivityProfilerController.cpp:324] Completed Stage: Post Processing\n",
      "Measuring inference for batch_size=32: 100%|████| 10/10 [00:01<00:00,  7.85it/s]\n",
      "Unable to measure energy consumption. Device must be a NVIDIA Jetson.\n"
     ]
    }
   ],
   "source": [
    "import pytorch_benchmark\n",
    "\n",
    "model = MultiHeadAttentionPyTorchSDP(num_heads, embedding_dim, max_len).to(\"cuda\")\n",
    "\n",
    "# Create a benchmark object\n",
    "results = pytorch_benchmark.benchmark(\n",
    "    model, sample=x.to(\"cuda\"), num_runs=10, batch_size=32, print_details=True\n",
    ")"
   ]
  },
  {
   "cell_type": "code",
   "execution_count": 29,
   "id": "cf7017b1-26e2-4aab-9269-596887e92525",
   "metadata": {},
   "outputs": [
    {
     "name": "stdout",
     "output_type": "stream",
     "text": [
      "device: cuda\n",
      "flops: 1811939328\n",
      "machine_info:\n",
      "  cpu:\n",
      "    architecture: x86_64\n",
      "    cores:\n",
      "      physical: 24\n",
      "      total: 32\n",
      "    frequency: 4.79 GHz\n",
      "    model: 13th Gen Intel(R) Core(TM) i9-13900F\n",
      "  gpus:\n",
      "  - memory: 12282.0 MB\n",
      "    name: NVIDIA GeForce RTX 4070 Ti\n",
      "  memory:\n",
      "    available: 25.11 GB\n",
      "    total: 31.06 GB\n",
      "    used: 5.38 GB\n",
      "  system:\n",
      "    node: pranav-pc-Legion-T5-26IRB8\n",
      "    release: 6.5.0-25-generic\n",
      "    system: Linux\n",
      "memory:\n",
      "  batch_size_1:\n",
      "    max_inference: 49.38 MB\n",
      "    max_inference_bytes: 51779584\n",
      "    post_inference: 34.38 MB\n",
      "    post_inference_bytes: 36050944\n",
      "    pre_inference: 34.38 MB\n",
      "    pre_inference_bytes: 36050944\n",
      "  batch_size_32:\n",
      "    max_inference: 994.38 MB\n",
      "    max_inference_bytes: 1042683904\n",
      "    post_inference: 34.38 MB\n",
      "    post_inference_bytes: 36050944\n",
      "    pre_inference: 34.38 MB\n",
      "    pre_inference_bytes: 36050944\n",
      "params: 2360064\n",
      "timing:\n",
      "  batch_size_1:\n",
      "    cpu_to_gpu:\n",
      "      human_readable:\n",
      "        batch_latency: 623.298 us +/- 106.085 us [542.641 us, 880.718 us]\n",
      "        batches_per_second: 1.64 K +/- 229.01 [1.14 K, 1.84 K]\n",
      "      metrics:\n",
      "        batches_per_second_max: 1842.8400702987697\n",
      "        batches_per_second_mean: 1643.079403483561\n",
      "        batches_per_second_min: 1135.4369247428262\n",
      "        batches_per_second_std: 229.00873133118674\n",
      "        seconds_per_batch_max: 0.0008807182312011719\n",
      "        seconds_per_batch_mean: 0.0006232976913452149\n",
      "        seconds_per_batch_min: 0.0005426406860351562\n",
      "        seconds_per_batch_std: 0.00010608523290019507\n",
      "    gpu_to_cpu:\n",
      "      human_readable:\n",
      "        batch_latency: 691.938 us +/- 41.661 us [640.154 us, 767.708 us]\n",
      "        batches_per_second: 1.45 K +/- 83.89 [1.30 K, 1.56 K]\n",
      "      metrics:\n",
      "        batches_per_second_max: 1562.1243947858472\n",
      "        batches_per_second_mean: 1450.2592898005842\n",
      "        batches_per_second_min: 1302.5788819875777\n",
      "        batches_per_second_std: 83.88966641463904\n",
      "        seconds_per_batch_max: 0.0007677078247070312\n",
      "        seconds_per_batch_mean: 0.0006919384002685546\n",
      "        seconds_per_batch_min: 0.0006401538848876953\n",
      "        seconds_per_batch_std: 4.166091622122122e-05\n",
      "    on_device_inference:\n",
      "      human_readable:\n",
      "        batch_latency: -679747.206 us +/- 94.170 ms [-834240.019 us, -574400.008 us]\n",
      "        batches_per_second: -1.50 +/- 0.19 [-1.74, -1.20]\n",
      "      metrics:\n",
      "        batches_per_second_max: -1.1986957911865521\n",
      "        batches_per_second_mean: -1.4979818880241247\n",
      "        batches_per_second_min: -1.7409470517959582\n",
      "        batches_per_second_std: 0.1945018023958574\n",
      "        seconds_per_batch_max: -0.574400007724762\n",
      "        seconds_per_batch_mean: -0.6797472059726715\n",
      "        seconds_per_batch_min: -0.8342400193214417\n",
      "        seconds_per_batch_std: 0.09416983425259735\n",
      "    total:\n",
      "      human_readable:\n",
      "        batch_latency: 2.006 ms +/- 177.374 us [1.791 ms, 2.370 ms]\n",
      "        batches_per_second: 502.32 +/- 43.12 [421.92, 558.42]\n",
      "      metrics:\n",
      "        batches_per_second_max: 558.4215151111703\n",
      "        batches_per_second_mean: 502.318754436454\n",
      "        batches_per_second_min: 421.91972638567546\n",
      "        batches_per_second_std: 43.12089009946145\n",
      "        seconds_per_batch_max: 0.002370119094848633\n",
      "        seconds_per_batch_mean: 0.002005934715270996\n",
      "        seconds_per_batch_min: 0.001790761947631836\n",
      "        seconds_per_batch_std: 0.00017737394513938796\n",
      "  batch_size_32:\n",
      "    cpu_to_gpu:\n",
      "      human_readable:\n",
      "        batch_latency: 26.433 ms +/- 904.881 us [25.772 ms, 28.963 ms]\n",
      "        batches_per_second: 37.87 +/- 1.21 [34.53, 38.80]\n",
      "      metrics:\n",
      "        batches_per_second_max: 38.801298833455135\n",
      "        batches_per_second_mean: 37.87343554447156\n",
      "        batches_per_second_min: 34.52727242792934\n",
      "        batches_per_second_std: 1.2101772074973869\n",
      "        seconds_per_batch_max: 0.02896261215209961\n",
      "        seconds_per_batch_mean: 0.02643263339996338\n",
      "        seconds_per_batch_min: 0.0257723331451416\n",
      "        seconds_per_batch_std: 0.0009048814901991011\n",
      "    gpu_to_cpu:\n",
      "      human_readable:\n",
      "        batch_latency: 77.319 ms +/- 26.624 ms [67.314 ms, 157.151 ms]\n",
      "        batches_per_second: 13.79 +/- 2.48 [6.36, 14.86]\n",
      "      metrics:\n",
      "        batches_per_second_max: 14.8556653927753\n",
      "        batches_per_second_mean: 13.787064567459769\n",
      "        batches_per_second_min: 6.363307284199539\n",
      "        batches_per_second_std: 2.480769869415175\n",
      "        seconds_per_batch_max: 0.1571509838104248\n",
      "        seconds_per_batch_mean: 0.07731852531433106\n",
      "        seconds_per_batch_min: 0.06731438636779785\n",
      "        seconds_per_batch_std: 0.02662366488925396\n",
      "    on_device_inference:\n",
      "      human_readable:\n",
      "        batch_latency: -23011670.685 us +/- 1.200 s [-26606496.811 us, -22573375.702\n",
      "          us]\n",
      "        batches_per_second: -0.04 +/- 0.00 [-0.04, -0.04]\n",
      "      metrics:\n",
      "        batches_per_second_max: -0.03758480521155396\n",
      "        batches_per_second_mean: -0.043560281593493295\n",
      "        batches_per_second_min: -0.04429997591878293\n",
      "        batches_per_second_std: 0.0019957737048530407\n",
      "        seconds_per_batch_max: -22.573375701904297\n",
      "        seconds_per_batch_mean: -23.011670684814455\n",
      "        seconds_per_batch_min: -26.606496810913086\n",
      "        seconds_per_batch_std: 1.2000128103333603\n",
      "    total:\n",
      "      human_readable:\n",
      "        batch_latency: 126.772 ms +/- 27.449 ms [116.013 ms, 208.924 ms]\n",
      "        batches_per_second: 8.13 +/- 1.12 [4.79, 8.62]\n",
      "      metrics:\n",
      "        batches_per_second_max: 8.6197376452189\n",
      "        batches_per_second_mean: 8.130978728490113\n",
      "        batches_per_second_min: 4.786433714866083\n",
      "        batches_per_second_std: 1.1226491655024387\n",
      "        seconds_per_batch_max: 0.2089238166809082\n",
      "        seconds_per_batch_mean: 0.12677175998687745\n",
      "        seconds_per_batch_min: 0.1160128116607666\n",
      "        seconds_per_batch_std: 0.02744905416686344\n",
      "\n"
     ]
    }
   ],
   "source": [
    "# print(yaml.dump(results))"
   ]
  },
  {
   "cell_type": "code",
   "execution_count": 34,
   "id": "e7d397c2-dad3-431f-ba7e-283596711b14",
   "metadata": {},
   "outputs": [
    {
     "data": {
      "text/html": [
       "<div>\n",
       "<style scoped>\n",
       "    .dataframe tbody tr th:only-of-type {\n",
       "        vertical-align: middle;\n",
       "    }\n",
       "\n",
       "    .dataframe tbody tr th {\n",
       "        vertical-align: top;\n",
       "    }\n",
       "\n",
       "    .dataframe thead th {\n",
       "        text-align: right;\n",
       "    }\n",
       "</style>\n",
       "<table border=\"1\" class=\"dataframe\">\n",
       "  <thead>\n",
       "    <tr style=\"text-align: right;\">\n",
       "      <th></th>\n",
       "      <th>system</th>\n",
       "      <th>cpu</th>\n",
       "      <th>memory</th>\n",
       "      <th>gpus</th>\n",
       "      <th>batch_size_1</th>\n",
       "      <th>batch_size_32</th>\n",
       "    </tr>\n",
       "  </thead>\n",
       "  <tbody>\n",
       "    <tr>\n",
       "      <th>machine_info</th>\n",
       "      <td>{'system': 'Linux', 'node': 'pranav-pc-Legion-...</td>\n",
       "      <td>{'model': '13th Gen Intel(R) Core(TM) i9-13900...</td>\n",
       "      <td>{'total': '31.06 GB', 'used': '5.38 GB', 'avai...</td>\n",
       "      <td>[{'name': 'NVIDIA GeForce RTX 4070 Ti', 'memor...</td>\n",
       "      <td>NaN</td>\n",
       "      <td>NaN</td>\n",
       "    </tr>\n",
       "    <tr>\n",
       "      <th>device</th>\n",
       "      <td>cuda</td>\n",
       "      <td>cuda</td>\n",
       "      <td>cuda</td>\n",
       "      <td>cuda</td>\n",
       "      <td>cuda</td>\n",
       "      <td>cuda</td>\n",
       "    </tr>\n",
       "    <tr>\n",
       "      <th>params</th>\n",
       "      <td>2360064</td>\n",
       "      <td>2360064</td>\n",
       "      <td>2360064</td>\n",
       "      <td>2360064</td>\n",
       "      <td>2360064</td>\n",
       "      <td>2360064</td>\n",
       "    </tr>\n",
       "    <tr>\n",
       "      <th>flops</th>\n",
       "      <td>1811939328</td>\n",
       "      <td>1811939328</td>\n",
       "      <td>1811939328</td>\n",
       "      <td>1811939328</td>\n",
       "      <td>1811939328</td>\n",
       "      <td>1811939328</td>\n",
       "    </tr>\n",
       "    <tr>\n",
       "      <th>timing</th>\n",
       "      <td>NaN</td>\n",
       "      <td>NaN</td>\n",
       "      <td>NaN</td>\n",
       "      <td>NaN</td>\n",
       "      <td>{'on_device_inference': {'metrics': {'batches_...</td>\n",
       "      <td>{'on_device_inference': {'metrics': {'batches_...</td>\n",
       "    </tr>\n",
       "    <tr>\n",
       "      <th>memory</th>\n",
       "      <td>NaN</td>\n",
       "      <td>NaN</td>\n",
       "      <td>NaN</td>\n",
       "      <td>NaN</td>\n",
       "      <td>{'pre_inference_bytes': 36050944, 'max_inferen...</td>\n",
       "      <td>{'pre_inference_bytes': 36050944, 'max_inferen...</td>\n",
       "    </tr>\n",
       "  </tbody>\n",
       "</table>\n",
       "</div>"
      ],
      "text/plain": [
       "                                                         system  \\\n",
       "machine_info  {'system': 'Linux', 'node': 'pranav-pc-Legion-...   \n",
       "device                                                     cuda   \n",
       "params                                                  2360064   \n",
       "flops                                                1811939328   \n",
       "timing                                                      NaN   \n",
       "memory                                                      NaN   \n",
       "\n",
       "                                                            cpu  \\\n",
       "machine_info  {'model': '13th Gen Intel(R) Core(TM) i9-13900...   \n",
       "device                                                     cuda   \n",
       "params                                                  2360064   \n",
       "flops                                                1811939328   \n",
       "timing                                                      NaN   \n",
       "memory                                                      NaN   \n",
       "\n",
       "                                                         memory  \\\n",
       "machine_info  {'total': '31.06 GB', 'used': '5.38 GB', 'avai...   \n",
       "device                                                     cuda   \n",
       "params                                                  2360064   \n",
       "flops                                                1811939328   \n",
       "timing                                                      NaN   \n",
       "memory                                                      NaN   \n",
       "\n",
       "                                                           gpus  \\\n",
       "machine_info  [{'name': 'NVIDIA GeForce RTX 4070 Ti', 'memor...   \n",
       "device                                                     cuda   \n",
       "params                                                  2360064   \n",
       "flops                                                1811939328   \n",
       "timing                                                      NaN   \n",
       "memory                                                      NaN   \n",
       "\n",
       "                                                   batch_size_1  \\\n",
       "machine_info                                                NaN   \n",
       "device                                                     cuda   \n",
       "params                                                  2360064   \n",
       "flops                                                1811939328   \n",
       "timing        {'on_device_inference': {'metrics': {'batches_...   \n",
       "memory        {'pre_inference_bytes': 36050944, 'max_inferen...   \n",
       "\n",
       "                                                  batch_size_32  \n",
       "machine_info                                                NaN  \n",
       "device                                                     cuda  \n",
       "params                                                  2360064  \n",
       "flops                                                1811939328  \n",
       "timing        {'on_device_inference': {'metrics': {'batches_...  \n",
       "memory        {'pre_inference_bytes': 36050944, 'max_inferen...  "
      ]
     },
     "execution_count": 34,
     "metadata": {},
     "output_type": "execute_result"
    }
   ],
   "source": [
    "import pandas as pd\n",
    "\n",
    "pd.DataFrame.from_dict(results).T"
   ]
  }
 ],
 "metadata": {
  "kernelspec": {
   "display_name": "Python 3 (ipykernel)",
   "language": "python",
   "name": "python3"
  },
  "language_info": {
   "codemirror_mode": {
    "name": "ipython",
    "version": 3
   },
   "file_extension": ".py",
   "mimetype": "text/x-python",
   "name": "python",
   "nbconvert_exporter": "python",
   "pygments_lexer": "ipython3",
   "version": "3.11.6"
  }
 },
 "nbformat": 4,
 "nbformat_minor": 5
}
