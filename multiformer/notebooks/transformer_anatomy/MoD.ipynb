{
 "cells": [
  {
   "cell_type": "code",
   "execution_count": 2,
   "id": "973b1623-e178-484e-9adf-77735ae57974",
   "metadata": {},
   "outputs": [],
   "source": [
    "# REF : https://huggingface.co/blog/joey00072/mixture-of-depth-is-vibe"
   ]
  },
  {
   "cell_type": "code",
   "execution_count": null,
   "id": "9b194382-c8fb-472f-8d8a-84d3b6d5aa03",
   "metadata": {},
   "outputs": [],
   "source": []
  }
 ],
 "metadata": {
  "kernelspec": {
   "display_name": "Python 3 (ipykernel)",
   "language": "python",
   "name": "python3"
  },
  "language_info": {
   "codemirror_mode": {
    "name": "ipython",
    "version": 3
   },
   "file_extension": ".py",
   "mimetype": "text/x-python",
   "name": "python",
   "nbconvert_exporter": "python",
   "pygments_lexer": "ipython3",
   "version": "3.11.6"
  }
 },
 "nbformat": 4,
 "nbformat_minor": 5
}
