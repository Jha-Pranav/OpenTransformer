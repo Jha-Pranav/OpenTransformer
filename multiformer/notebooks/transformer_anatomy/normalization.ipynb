{
 "cells": [
  {
   "cell_type": "code",
   "execution_count": 2,
   "id": "b16ed059-f58e-48ac-b714-052041c13543",
   "metadata": {},
   "outputs": [
    {
     "name": "stdout",
     "output_type": "stream",
     "text": [
      "TORCH VERSION : 2.2.1\n",
      "GPU  :  cuda\n"
     ]
    }
   ],
   "source": [
    "from importlib.metadata import version\n",
    "import torch\n",
    "torch.manual_seed(123)\n",
    "print(\"TORCH VERSION :\", version(\"torch\"))\n",
    "device = \"cuda\" if torch.cuda.is_available() else 'mps' if torch.backend.mps.is_available() else 'cpu'\n",
    "print('GPU  : ', device)"
   ]
  },
  {
   "cell_type": "code",
   "execution_count": 3,
   "id": "ab2583e2-91f3-4629-bcd8-480877752aeb",
   "metadata": {},
   "outputs": [],
   "source": [
    "# Layer Normalization"
   ]
  },
  {
   "cell_type": "code",
   "execution_count": 4,
   "id": "a8cbdc55-9308-4bb4-93ed-4c7ad492edd3",
   "metadata": {},
   "outputs": [],
   "source": [
    "import torch.nn as nn\n"
   ]
  },
  {
   "cell_type": "code",
   "execution_count": 8,
   "id": "9b0ed8c7-d21c-434a-af7a-c229a7fc1f62",
   "metadata": {},
   "outputs": [
    {
     "data": {
      "text/plain": [
       "tensor([[[-0.6328,  0.3139,  0.9945, -0.8403, -2.0018,  0.1533,  0.1850,\n",
       "           0.1904, -0.2676,  1.9053],\n",
       "         [-0.6455, -0.1373,  1.2791, -1.6225,  0.8792, -0.4840,  1.4701,\n",
       "          -1.3800,  0.2356,  0.4054],\n",
       "         [-0.9539, -0.8136,  1.1986, -0.0235,  1.5797, -1.2859, -0.3918,\n",
       "          -0.9884,  1.2275,  0.4513],\n",
       "         [-0.0570, -0.0154, -1.2859,  0.9137,  0.3796, -1.0969,  1.1051,\n",
       "           0.2866, -1.6689,  1.4389],\n",
       "         [ 0.6516, -0.5501, -1.3842, -0.1704,  1.0166,  1.2837, -1.4911,\n",
       "          -0.9875,  1.0565,  0.5750]]], grad_fn=<NativeLayerNormBackward0>)"
      ]
     },
     "execution_count": 8,
     "metadata": {},
     "output_type": "execute_result"
    }
   ],
   "source": [
    "batch, seq_len, embedding_dim = 1,5,10\n",
    "x = torch.rand(1,5,10)\n",
    "ln = nn.LayerNorm(embedding_dim)\n",
    "ln(x)"
   ]
  },
  {
   "cell_type": "code",
   "execution_count": 5,
   "id": "eefa3b57-8d1c-4b41-b24e-36c7f8b794c6",
   "metadata": {},
   "outputs": [],
   "source": [
    "class LayerNormalization(nn.Module):\n",
    "    \n",
    "    def __init__(self, eps: float = 10**-6) -> None:\n",
    "        super().__init__()\n",
    "        self.eps = eps\n",
    "        self.alpha = nn.Parameter(torch.ones(1)) # multiplicative parameter\n",
    "        self.bias = nn.Parameter(torch.zeros(1)) # additive parameter\n",
    "    \n",
    "    def forward(self, x):\n",
    "        mean = x.mean(dim=-1, keepdim=True)\n",
    "        std = x.std(dim=-1, keepdim=True)\n",
    "        return self.alpha * (x - mean) / (std + self.eps) + self.bias"
   ]
  },
  {
   "cell_type": "code",
   "execution_count": 8,
   "id": "4b59523d-9330-4053-bfee-9147ae5c920e",
   "metadata": {},
   "outputs": [
    {
     "data": {
      "text/plain": [
       "torch.Size([1, 10, 12])"
      ]
     },
     "execution_count": 8,
     "metadata": {},
     "output_type": "execute_result"
    }
   ],
   "source": [
    "x= torch.rand(1,10,12)\n",
    "LayerNormalization()(x).shape"
   ]
  },
  {
   "cell_type": "code",
   "execution_count": null,
   "id": "cae0fa94-0154-416d-bd93-35f3902c293c",
   "metadata": {},
   "outputs": [],
   "source": []
  }
 ],
 "metadata": {
  "kernelspec": {
   "display_name": "Python 3 (ipykernel)",
   "language": "python",
   "name": "python3"
  },
  "language_info": {
   "codemirror_mode": {
    "name": "ipython",
    "version": 3
   },
   "file_extension": ".py",
   "mimetype": "text/x-python",
   "name": "python",
   "nbconvert_exporter": "python",
   "pygments_lexer": "ipython3",
   "version": "3.11.6"
  }
 },
 "nbformat": 4,
 "nbformat_minor": 5
}
