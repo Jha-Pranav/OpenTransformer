{
 "cells": [
  {
   "cell_type": "code",
   "execution_count": 1,
   "id": "9d47792f-0fb6-45aa-88a8-60a7a51b3306",
   "metadata": {},
   "outputs": [],
   "source": [
    "# BLM BASE MODEL"
   ]
  },
  {
   "cell_type": "code",
   "execution_count": 1,
   "id": "ab7ea146-ff0f-49b0-b84c-9adfb139d204",
   "metadata": {},
   "outputs": [
    {
     "name": "stderr",
     "output_type": "stream",
     "text": [
      "Seed set to 123\n",
      "Seed set to 123\n"
     ]
    },
    {
     "data": {
      "text/plain": [
       "18.638592 Million Params Model"
      ]
     },
     "execution_count": 1,
     "metadata": {},
     "output_type": "execute_result"
    }
   ],
   "source": [
    "import torch\n",
    "from src.models.blm.pl_training import Transformer\n",
    "from src.tokenize.tokenizer import Tokenizer\n",
    "\n",
    "MODEL_CHECKPOINT_PATH = \"/home/pranav-pc/projects/model-registry/blm-medium/last.ckpt\"\n",
    "TOKENIZER_CHECKPOINT = (\n",
    "    \"/home/pranav-pc/projects/OpenTransformer/multiformer/tokenizer_checkpoints/\"\n",
    ")\n",
    "tokenizer = Tokenizer(TOKENIZER_CHECKPOINT)\n",
    "model = Transformer.load_from_checkpoint(MODEL_CHECKPOINT_PATH)\n",
    "model.eval()"
   ]
  },
  {
   "cell_type": "code",
   "execution_count": 7,
   "id": "b7b23c6c-4c13-4d6a-bae9-f8281e86976e",
   "metadata": {},
   "outputs": [],
   "source": [
    "def predict(text, max_new_tokens=1024, temperature=0.8, top_k=3, conditional_break=[13, 13, 1]):\n",
    "    tokens = torch.LongTensor(tokenizer.encode_as_ids(text))[:-1].to(\"cuda:0\").view(1, -1)\n",
    "    # print('tokens',ds.tokenizer.encode(text,out_type=str)[:-1])\n",
    "\n",
    "    return tokenizer.decode_ids(\n",
    "        model.predict_step(\n",
    "            tokens,\n",
    "            None,\n",
    "            max_new_tokens=max_new_tokens,\n",
    "            temperature=temperature,\n",
    "            top_k=top_k,\n",
    "            conditional_break=conditional_break,\n",
    "        )[0].tolist()\n",
    "    )"
   ]
  },
  {
   "cell_type": "code",
   "execution_count": 9,
   "id": "7330aa14-6bce-46a7-84cb-b950b207c286",
   "metadata": {},
   "outputs": [],
   "source": [
    "text = \"Alice was so tired when she got back home so she went\""
   ]
  },
  {
   "cell_type": "code",
   "execution_count": 11,
   "id": "a1133592-553c-4f4e-b577-3dd9c0d3dd2f",
   "metadata": {},
   "outputs": [
    {
     "name": "stdout",
     "output_type": "stream",
     "text": [
      "tokens ['<s>', '▁Alice', '▁was', '▁so', '▁tired', '▁when', '▁she', '▁got', '▁back', '▁home', '▁so', '▁she', '▁went', '</s>']\n",
      "============================================================\n",
      "Alice was so tired when she got back home so she went at the park with her mom. She wanted to go home so she asked her mom if they could go home. Her mom said yes and they got in the car. \n",
      "\n",
      "When they arrived, Alice was so excited. She ran around and around the park, playing with her toys. She saw a pond and she wanted to take a picture of it.\n",
      "\n",
      "Her mom said she could take one of the pictures and Alice was so happy. She took the picture and showed it to her mom. It was a picture of the park. She was so happy and she thanked her mom for the picture. \n",
      "\n",
      "Alice and her mom drove home, but Alice was so tired. She was happy that she got to take the picture and show it to her mom. She was happy to have a picture of the park and she couldn't wait to show it to all her friends!\n",
      "\n",
      " Once upon a time there was a girl named Sarah. Sarah loved to explore the world around her. One day, she decided to explore a nearby field full of corn.\n",
      "\n",
      "When she arrived, Sarah noticed something strange. The corn wasn't growing. It was very small, and Sarah had to pick it.\n",
      "\n",
      "\"Oh no, the corn is too small to be picked,\" she said.\n",
      "\n",
      "Just then, a voice came from the corn.\n",
      "\n",
      "\"Don't worry,\" the voice said. \"I can help you. Let me get some water for you to drink.\"\n",
      "\n",
      "Sarah smiled and the corn started to get water and she was so happy. She drank the water and the corn started to grow.\n",
      "\n",
      "Sarah was so grateful to the corn, she gave it a big hug and said goodbye. From then on, Sarah always remembered to be grateful whenever the corn was growing in the same field.\n",
      "\n",
      " Once upon a time, there was a little girl named Lily\n"
     ]
    }
   ],
   "source": [
    "tokens = torch.LongTensor(tokenizer.encode_as_ids(text)).to(\"cuda:0\").view(1, -1)\n",
    "print(\"tokens\", tokenizer.encode(text, out_type=str))\n",
    "print(\"==\" * 30)\n",
    "print(\n",
    "    tokenizer.decode_ids(\n",
    "        model.predict_step(\n",
    "            tokens,\n",
    "            None,\n",
    "            max_new_tokens=400,\n",
    "            temperature=0.9,\n",
    "            top_k=5,\n",
    "            conditional_break=None,\n",
    "        )[0].tolist()\n",
    "    )\n",
    ")"
   ]
  },
  {
   "cell_type": "code",
   "execution_count": 6,
   "id": "c5ce9c24-225a-4006-a13b-96a82861b15b",
   "metadata": {},
   "outputs": [
    {
     "name": "stdout",
     "output_type": "stream",
     "text": [
      "Alice was so tired when she got back home so she went to her room. She saw the big, soft couch. She wanted to sit on it, but it was too high for her. She asked her mom for help. \n",
      "\n",
      "\"Mom, can you help me get the couch?\" Alice said. \n",
      "\n",
      "\"Sure thing, sweetheart,\" Mom said. She got up and helped Alice get the couch. \n",
      "\n",
      "\"Now it's easy,\" Mom said. \"You can sit on the couch and relax.\" \n",
      "\n",
      "Alice was so happy. She climbed onto the couch and relaxed. She felt much better after she rested. \n",
      "\n",
      "\"Thanks, Mom. I feel so much better,\" Alice said. \n",
      "\n",
      "\"You're welcome, sweetheart,\" Mom said. \n",
      "\n",
      "Alice smiled. She was so glad to have the couch. She was happy that it was so soft.\n",
      "\n",
      "\n"
     ]
    }
   ],
   "source": [
    "predict(text, max_new_tokens=1000, temperature=0.8, top_k=3, conditional_break=[13, 13, 1])"
   ]
  },
  {
   "cell_type": "code",
   "execution_count": 58,
   "id": "25fe9a3c-f98c-4fa6-b964-95d82a7e8010",
   "metadata": {},
   "outputs": [
    {
     "name": "stdout",
     "output_type": "stream",
     "text": [
      "============================================================\n",
      "Pranav was so tired when he got back home so he went to bed. He was lying in his bed and he was very sleepy. Suddenly, he heard a loud noise outside and he opened his eyes. He saw a big truck coming down the street. Prangry street was so excited and he wanted to see what it was doing. He got out of bed and ran outside. He saw a lot of people and he was so happy. He wanted to join them and he ran around and around in circles. He was so happy that he had made some new friends. He ran around and around and around until he got so tired that he had to go back home. He was so tired that he fell asleep right there in his bed. The next day, he woke up feeling refreshed and ready to play again. He was so happy that he had made some new friends. Pran bank was happy too. He was no longer so tired after his day.\n",
      "\n",
      "\n",
      "============================================================\n",
      "Pranav was so tired when he got back home so he went straight to his room. He wanted to take a nap. He found the perfect spot in the hallway and lay down. He closed his eyes and fell asleep.\n",
      "\n",
      "When Prangry was asleep, he heard a loud noise. It was coming from his bedroom. He opened his eyes and peeked in. He saw a big, scary monster. It had big teeth and claws and it was coming towards him!\n",
      "\n",
      "Prankin was so scared that he started to cry. But then he remembered that the monster wasn't real. He was only a toy that he had been given. He felt better and he was no longer scared. He quickly got up and ran to his bedroom, where he lay down and fell asleep.\n",
      "\n",
      "Prangry was happy that he was safe and he slept soundly all night long.\n",
      "\n",
      "\n"
     ]
    }
   ],
   "source": [
    "text = \"Pranav was so tired when he got back home so he went\"\n",
    "for _ in range(2):\n",
    "    print(\"==\" * 30)\n",
    "    predict(text, max_new_tokens=1000, temperature=0.8, top_k=3, conditional_break=[13, 13, 1])"
   ]
  },
  {
   "cell_type": "code",
   "execution_count": 42,
   "id": "b6b6d782-3f59-4c4e-bbb4-296e0f120026",
   "metadata": {},
   "outputs": [
    {
     "name": "stdout",
     "output_type": "stream",
     "text": [
      "Thanos was so tired when he got back home so she went to bed. She had been dreaming for a long time and was so tired that she had to go to sleep.\n",
      "\n",
      "When Thagger woke up, she felt so refreshed and ready to play. She looked around and saw her mom and dad. They were smiling at the happy faces she had made and were ready to go outside.\n",
      "\n",
      "Thomas was so excited and asked, \"Can I go outside now?\" His mom and dad said yes and encouraged him to go outside.\n",
      "\n",
      "Thomas ran outside, feeling the sunshine on his face and the grass beneath his feet. He felt so happy and relaxed. He ran around and laughed and had so much fun.\n",
      "\n",
      "When it was time to go home, he felt tired and happy and thanked his mom and dad for the wonderful time. He said, \"I had a great day!\" His mom and dad smiled and said, \"We were so glad you had fun!\"\n",
      "\n",
      "Thomas went to bed feeling happy and content. He had a wonderful day and was so thankful for the sunshine and for his parents.\n",
      "\n",
      "\n"
     ]
    }
   ],
   "source": [
    "text = \"Thanos was so tired when he got back home so she went\"\n",
    "predict(text, max_new_tokens=1000, temperature=0.8, top_k=3, conditional_break=[13, 13, 1])"
   ]
  },
  {
   "cell_type": "code",
   "execution_count": 74,
   "id": "93ddf785-0e4d-499b-9baf-83435ff717c8",
   "metadata": {},
   "outputs": [],
   "source": [
    "DATASET_PATH = \"/home/pranav-pc/projects/OpenTransformer/multiformer/data/downloads/TinyStories\"\n",
    "from datasets import load_dataset\n",
    "\n",
    "ds = load_dataset(DATASET_PATH, split=\"train\")"
   ]
  },
  {
   "cell_type": "code",
   "execution_count": 75,
   "id": "db54afe7-de18-47eb-b3e6-b8642c20c14e",
   "metadata": {},
   "outputs": [],
   "source": [
    "df = ds.filter(lambda example: \"Thomas\" in example[\"text\"], num_proc=30)"
   ]
  },
  {
   "cell_type": "code",
   "execution_count": 76,
   "id": "287fb24c-fb52-472e-a113-c116b6210e09",
   "metadata": {},
   "outputs": [
    {
     "data": {
      "text/plain": [
       "Dataset({\n",
       "    features: ['text'],\n",
       "    num_rows: 1056\n",
       "})"
      ]
     },
     "execution_count": 76,
     "metadata": {},
     "output_type": "execute_result"
    }
   ],
   "source": [
    "df"
   ]
  },
  {
   "cell_type": "code",
   "execution_count": 60,
   "id": "2950ab9a-9639-43e0-83ff-2cf009229ce1",
   "metadata": {},
   "outputs": [
    {
     "name": "stdout",
     "output_type": "stream",
     "text": [
      "============================================================\n",
      "Lily was so tired when he got back home so he went to bed. He was so tired he fell asleep right away. He had a dream about a big and scary monster. \n",
      "\n",
      "In his dream Lily saw the monster and she screamed, \"It's so big!\" She was so scared she started to cry. \n",
      "\n",
      "But then she heard a voice. It was the monster, and he said, \"Don't be scared, little girl. I'm here to help you.\" \n",
      "\n",
      "Lily felt better, and she stopped crying. She smiled and said, \"Thank you for being so brave!\" \n",
      "\n",
      "The monster smiled and said, \"It's my job to help you.\" \n",
      "\n",
      "Lily was so happy and she thanked the monster again before she went to bed. She had the best dream ever and was never scared of the monster again.\n",
      "\n",
      "\n",
      "============================================================\n",
      "Lily was so tired when he got back home so he went to bed. He was so tired from playing all day that he had to close his eyes and go to sleep.\n",
      "\n",
      "Lily's mom came into the room and said, \"Lily, it's time for bed. You need to rest.\"\n",
      "\n",
      "Lily said, \"But I don't want to sleep. I'm not tired. Can I stay up a little bit longer?\"\n",
      "\n",
      "Lily's mom said, \"No, you need to sleep. You will feel better after you rest. Come on, let's go to your bed.\"\n",
      "\n",
      "So Lily and her mom went to Lily's bed and Lily snuggled into her blankets. She said, \"Good night, Mom. I love you.\"\n",
      "\n",
      "Lily's mom kissed her forehead and said, \"Goodnight, Lily. I love you too.\"\n",
      "\n",
      "Lily closed her eyes and soon she was fast asleep. She had sweet dreams of playing with her friends and sleeping in her bed. She had a good night's sleep, dreams and dreams.\n",
      "\n",
      "\n"
     ]
    }
   ],
   "source": [
    "text = \"Lily was so tired when he got back home so he went\"\n",
    "for _ in range(2):\n",
    "    print(\"==\" * 30)\n",
    "    predict(text, max_new_tokens=1000, temperature=0.8, top_k=3, conditional_break=[13, 13, 1])"
   ]
  },
  {
   "cell_type": "code",
   "execution_count": 14,
   "id": "3b6365d2-5761-4e6c-a477-95046e71aea2",
   "metadata": {},
   "outputs": [
    {
     "name": "stdout",
     "output_type": "stream",
     "text": [
      "============================================================\n",
      "A young man named Aditya was walking through a forest. He came across a well. Aditya was thirsty and wanted to drink some water. But he was shocked to see a tiger, a snake and a man trapped him in the well.\n",
      "\n",
      "The man said, \"I'm sorry. I can't help you out.\"\n",
      "\n",
      "Lucitya said, \"Please help me. The tiger is in trouble.\"\n",
      "\n",
      "The man said, \"I'm sorry, but I can't help you out. I'm stuck in the well.\"\n",
      "\n",
      "He tried to get the tiger out, but he couldn't. He was stuck in the well for a very long time.\n",
      "\n",
      "Lucitya was very sad and he was very thirsty. He was so thirsty and he had nowhere to drink. He had to find help to get out of the well.\n",
      "\n",
      "\n",
      "============================================================\n",
      "A young man named Aditya was walking through a forest. He came across a well. Aditya was thirsty and wanted to drink some water. But he was shocked to see a tiger, a snake and a man trapped him inside the well.\n",
      "\n",
      "The man was angry. He shouted at them, \"You must not drink from the well! It is dangerous!\"\n",
      "\n",
      "Mattitya was scared. He didn't know what to do. He wanted to help the man. He asked the man, \"Can you please help me get out of the well? I don't know how to get out.\" \n",
      "\n",
      "The man said, \"I will help you. Just follow me and I'll show you the way.\"\n",
      "\n",
      "So the man and the man went to find a way out of the well. They worked together to pull the man out. The man was so thankful to have saved him. \n",
      "\n",
      "Mattitya was happy that he could help. He was glad that he was able to save the man from the dangerous well. \n",
      "\n",
      "The man and the man went home, feeling safe and happy.\n",
      "\n",
      "\n"
     ]
    }
   ],
   "source": [
    "text = \"A young man named Aditya was walking through a forest. He came across a well. Aditya was thirsty and wanted to drink some water. But he was shocked to see a tiger, a snake and a man trapped\"\n",
    "for _ in range(2):\n",
    "    print(\"==\" * 30)\n",
    "    print(\n",
    "        predict(text, max_new_tokens=1000, temperature=0.8, top_k=3, conditional_break=[13, 13, 1])\n",
    "    )"
   ]
  },
  {
   "cell_type": "markdown",
   "id": "d0b9c01b-fdcb-437f-ab6e-26b5d65642fe",
   "metadata": {},
   "source": [
    "### Is our model truly learning or merely memorizing subsequent tokens?\n",
    "- Exact memorization: This is the simplest and most obvious form of memorization, where the model simply copies an entire story or a large portion of it from the dataset, without changing anything. This can be easily detected by checking the similarity or the hash of the generated story with the stories in the dataset. \n",
    "\n",
    "- Simple template matching: This is a slightly more sophisticated form of memorization, where the model changes some names or entities in a story from the dataset, but keeps the rest of the story the same. For example, the model might change the names of characters, or the location of the story, but keep the plot and the events the same. This can be detected and prevented by measuring the overlap of words and n-grams between the generated story and the stories in the dataset. \n",
    "\n",
    "- Complex template matching: This is the most subtle and difficult form of memorization, where the model follows a more abstract pattern or structure from the dataset, keeping the general plot but changing the details and the specifics of the story. This is almost impossible to quantify, as it requires a deeper understanding and analysis of the content and the meaning of the stories, and how they relate to each other.\n"
   ]
  },
  {
   "cell_type": "code",
   "execution_count": 78,
   "id": "c9fda45b-59f9-4d91-8ad8-b30bd5c45548",
   "metadata": {},
   "outputs": [],
   "source": [
    "from sentence_transformers import SentenceTransformer, util\n",
    "\n",
    "# https://huggingface.co/spaces/mteb/leaderboard\n",
    "st_model = SentenceTransformer(\"mixedbread-ai/mxbai-embed-large-v1\")\n",
    "\n",
    "input_text = \"Jack was hungry, so he went looking for\"\n",
    "\n",
    "output_text = predict(input_text)\n",
    "\n",
    "output_text_embedding = st_model.encode(output_text, convert_to_tensor=True)"
   ]
  },
  {
   "cell_type": "code",
   "execution_count": 114,
   "id": "12aa0751-b0ac-4e1f-92d8-3c7096e7ca18",
   "metadata": {},
   "outputs": [
    {
     "name": "stdout",
     "output_type": "stream",
     "text": [
      "{'rest', 'stove', 'Soon', 'right', 'smiled', 'spoon', 'found', 'cry', 'tasted', 'ate', 'waited', 'grabbed', 'food', 'dark', 'away', 'eat', 'full', 'heard', 'gave', 'else', 'hungry', 'still', 'see', 'sorry', 'happy', 'wanted', 'went', 'kitchen', 'started', 'bad', 'said', 'saw', 'big', 'looking', 'filled', 'put', 'Jack', 'came', 'longer', 'something', 'mom', 'knew', 'hug', 'pot', 'crying'}\n"
     ]
    },
    {
     "name": "stderr",
     "output_type": "stream",
     "text": [
      "[nltk_data] Downloading package stopwords to /home/pranav-\n",
      "[nltk_data]     pc/nltk_data...\n",
      "[nltk_data]   Package stopwords is already up-to-date!\n",
      "[nltk_data] Downloading package punkt to /home/pranav-pc/nltk_data...\n",
      "[nltk_data]   Package punkt is already up-to-date!\n"
     ]
    }
   ],
   "source": [
    "import re\n",
    "\n",
    "import nltk\n",
    "from nltk.corpus import stopwords\n",
    "\n",
    "# Download NLTK resources\n",
    "nltk.download(\"stopwords\")\n",
    "nltk.download(\"punkt\")\n",
    "\n",
    "\n",
    "# Function to remove stop words and characters\n",
    "def remove_stopwords_and_characters(text, characters_to_remove):\n",
    "    stop_words = set(stopwords.words(\"english\"))\n",
    "    word_tokens = nltk.word_tokenize(text)\n",
    "    # Remove stop words\n",
    "    filtered_words = [word for word in word_tokens if word.lower() not in stop_words]\n",
    "    # Remove specified characters\n",
    "    cleaned_text = [re.sub(characters_to_remove, \"\", word) for word in filtered_words]\n",
    "    # Remove empty strings\n",
    "    cleaned_text = [word for word in cleaned_text if word]\n",
    "    return cleaned_text\n",
    "\n",
    "\n",
    "cleaned_text = remove_stopwords_and_characters(output_text, characters_to_remove=r\"[^\\w\\s]\")\n",
    "\n",
    "print(set([i for i in cleaned_text if len(i) > 2]))"
   ]
  },
  {
   "cell_type": "code",
   "execution_count": 118,
   "id": "22971bf7-bb3e-4a2e-9942-3c3182dd870f",
   "metadata": {},
   "outputs": [
    {
     "data": {
      "application/vnd.jupyter.widget-view+json": {
       "model_id": "16cc2b775b294bde893326d7cc31da3e",
       "version_major": 2,
       "version_minor": 0
      },
      "text/plain": [
       "Filter (num_proc=30):   0%|          | 0/22477 [00:00<?, ? examples/s]"
      ]
     },
     "metadata": {},
     "output_type": "display_data"
    },
    {
     "data": {
      "text/plain": [
       "Dataset({\n",
       "    features: ['text'],\n",
       "    num_rows: 22477\n",
       "})"
      ]
     },
     "execution_count": 118,
     "metadata": {},
     "output_type": "execute_result"
    }
   ],
   "source": [
    "ds = ds.filter(\n",
    "    lambda example: len(\n",
    "        [en for en in set(i for i in cleaned_text if len(i) > 2) if en in example[\"text\"]]\n",
    "    )\n",
    "    > 5,\n",
    "    num_proc=30,\n",
    ")\n",
    "ds"
   ]
  },
  {
   "cell_type": "code",
   "execution_count": 119,
   "id": "f0758dd7-568d-4ce9-b972-cb1a630b0834",
   "metadata": {},
   "outputs": [
    {
     "data": {
      "application/vnd.jupyter.widget-view+json": {
       "model_id": "c8292c39ff7d487b8fa43dd339eedc19",
       "version_major": 2,
       "version_minor": 0
      },
      "text/plain": [
       "Map:   0%|          | 0/22477 [00:00<?, ? examples/s]"
      ]
     },
     "metadata": {},
     "output_type": "display_data"
    }
   ],
   "source": [
    "ds = ds.map(lambda example: {\"embedding\": st_model.encode(example[\"text\"])}, batched=True)\n",
    "ds.set_format(\"pt\")"
   ]
  },
  {
   "cell_type": "code",
   "execution_count": 123,
   "id": "62cba5bd-7973-4a74-97b2-943ed8ee711c",
   "metadata": {},
   "outputs": [],
   "source": [
    "# Calculate similarity scores\n",
    "cosine_scores = util.pytorch_cos_sim(output_text_embedding.tolist(), ds[\"embedding\"])\n",
    "# Find the most similar sentence\n",
    "most_similar_sentence_idx = cosine_scores.argmax().item()\n",
    "most_similar_sentence = ds[most_similar_sentence_idx]\n",
    "similarity_score = cosine_scores[0][most_similar_sentence_idx].item()\n",
    "similarity_score"
   ]
  },
  {
   "cell_type": "code",
   "execution_count": 133,
   "id": "74235043-e56f-41ee-8259-74afdc927261",
   "metadata": {},
   "outputs": [
    {
     "name": "stdout",
     "output_type": "stream",
     "text": [
      "Genrated Text >>  Jack was hungry, so he went looking for food. He went to the kitchen, but it was too dark to see. He saw a big pot and he knew what to do. He grabbed the pot and filled it with food. He put it on the stove and waited.\n",
      "\n",
      "Soon, the pot was full. Jack was so happy that he had found food. He wanted to eat it right away, so he grabbed a spoon. He started to eat the food, but it tasted so bad that he started to cry.\n",
      "\n",
      "Jack's mom heard him crying and came to the kitchen. She said, \"Jack, why don't you eat something else? I'm sorry you're hungry.\" Jack said he was still hungry, so his mom gave him a big hug. Jack smiled and ate the rest of the food. After that, he was no longer hungry. He was full.\n",
      "\n",
      "\n",
      "============================================================\n",
      "Most Similar Text >>  Jack was hungry. He wanted some food. He went to the kitchen, but he did not know what to do. He looked in the cupboard and saw a spoon. He picked it up and wandered around the kitchen, looking for something to eat.\n",
      "\n",
      "Suddenly he saw a big bowl of cereal. It looked healthy and yummy. But Jack couldn't eat it by himself. He needed help. He thought and thought, until he had an idea.\n",
      "\n",
      "He used the spoon to scoop the cereal into a bowl. Then, he placed the spoon in the bowl and looked around. He saw his Mom! He asked her to help him eat. His Mom smiled and said she would help him.\n",
      "\n",
      "Together, Jack and his Mom shared the bowl full of healthy cereal. He ate it with the spoon and smiled with satisfaction. Jack was very happy. He was glad he could use the spoon to get help.\n"
     ]
    }
   ],
   "source": [
    "print(\"Genrated Text >> \", output_text)\n",
    "print(\"==\" * 30)\n",
    "print(\"Most Similar Text >> \", most_similar_sentence[\"text\"])"
   ]
  },
  {
   "cell_type": "markdown",
   "id": "4f80a808-2b5e-4be7-88ed-34bda95e4fe1",
   "metadata": {},
   "source": [
    "###  Hallucination"
   ]
  },
  {
   "cell_type": "code",
   "execution_count": 6,
   "id": "ad0530f9-40ad-4a06-bb8e-af543297d9ac",
   "metadata": {},
   "outputs": [
    {
     "name": "stdout",
     "output_type": "stream",
     "text": [
      "Who is the president of india? She has a big smile on her face. She wants to be a lawyer, but she does not know what to do. She looks around and sees a little girl. The little girl is wearing a white coat and holding a big bag of tools. The little girl is wearing a suit and a shirt.\n",
      "\n",
      "The little girl and the little girl start to play together. They make a house with the wood and the stairs. They use the tools to make a plan. They make a law that says they are allowed to be a lawyer.\n",
      "\n",
      "The little girl and the little girl have lots of fun. They pretend to be lawyers, teachers and students. They also pretend to be lawyers, teachers and students. The little girl and the little girl are very happy.\n",
      "\n",
      "The little girl and the little girl have become the lawyer. They both love their job and they love each other very much.\n",
      "\n",
      "\n"
     ]
    }
   ],
   "source": [
    "text = \"\"\"Who is the president of india?\"\"\"\n",
    "print(predict(text))"
   ]
  },
  {
   "cell_type": "code",
   "execution_count": null,
   "id": "e3b08e7b-5b91-4839-bfb6-62015df0b55c",
   "metadata": {},
   "outputs": [],
   "source": []
  }
 ],
 "metadata": {
  "kernelspec": {
   "display_name": "Python 3 (ipykernel)",
   "language": "python",
   "name": "python3"
  },
  "language_info": {
   "codemirror_mode": {
    "name": "ipython",
    "version": 3
   },
   "file_extension": ".py",
   "mimetype": "text/x-python",
   "name": "python",
   "nbconvert_exporter": "python",
   "pygments_lexer": "ipython3",
   "version": "3.11.6"
  }
 },
 "nbformat": 4,
 "nbformat_minor": 5
}
