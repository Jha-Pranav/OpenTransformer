{
 "cells": [
  {
   "cell_type": "markdown",
   "id": "bff1c148-7e4d-40ef-a196-bf52827fe194",
   "metadata": {},
   "source": [
    "# Learn & Share\n",
    "### Language Model from Ground Up in Pytorch"
   ]
  },
  {
   "cell_type": "markdown",
   "id": "1f0fc94b-bd4c-44eb-be20-16b4ccb6ed34",
   "metadata": {},
   "source": [
    "## Agenda\n",
    "\n",
    "- Brief about baby language model.\n",
    "- Transformer - 101\n",
    "- Building Blocks of different LLM's (Code Walkthrough/Benchmarking)\n",
    "- Implementation details of BLM\n",
    "- Setup for experimentation\n",
    "- Experiments wit finetuned BLM"
   ]
  },
  {
   "cell_type": "code",
   "execution_count": null,
   "id": "e6f5a6a3-a70a-4ff4-b9fd-b838c1c7becd",
   "metadata": {},
   "outputs": [],
   "source": []
  }
 ],
 "metadata": {
  "kernelspec": {
   "display_name": "Python 3 (ipykernel)",
   "language": "python",
   "name": "python3"
  },
  "language_info": {
   "codemirror_mode": {
    "name": "ipython",
    "version": 3
   },
   "file_extension": ".py",
   "mimetype": "text/x-python",
   "name": "python",
   "nbconvert_exporter": "python",
   "pygments_lexer": "ipython3",
   "version": "3.11.6"
  }
 },
 "nbformat": 4,
 "nbformat_minor": 5
}
