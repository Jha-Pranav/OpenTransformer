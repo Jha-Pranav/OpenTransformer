{
 "cells": [
  {
   "cell_type": "markdown",
   "id": "91284628-e55b-4de2-80af-8cf5d6b92b56",
   "metadata": {},
   "source": [
    "## Finetuned Version 1 "
   ]
  },
  {
   "cell_type": "code",
   "execution_count": 68,
   "id": "31132334-f818-4635-8c6e-31a8e965cfe9",
   "metadata": {},
   "outputs": [],
   "source": [
    "import torch\n",
    "from omegaconf import OmegaConf\n",
    "from src.models.blm.config import ModelArgs\n",
    "from src.models.blm.finetune.full_finetune_causal import FineTuneBLM\n",
    "from src.models.blm.pl_dataloader import TinyStoriesDataloader\n",
    "from src.models.blm.pl_training import Transformer\n",
    "from src.tokenize.tokenizer import Tokenizer"
   ]
  },
  {
   "cell_type": "code",
   "execution_count": 69,
   "id": "17aa4e6f-b374-4675-87b4-30f3e90f5a2b",
   "metadata": {},
   "outputs": [],
   "source": [
    "from datasets import load_from_disk\n",
    "\n",
    "ds = load_from_disk(\n",
    "    \"/home/pranav-pc/projects/OpenTransformer/multiformer/data/processed/TinyStories-Instruct-hf\"\n",
    ")"
   ]
  },
  {
   "cell_type": "code",
   "execution_count": 70,
   "id": "24a74641-8c3b-4501-9507-8a1dbfae940a",
   "metadata": {},
   "outputs": [],
   "source": [
    "BASE_URL = \"/home/pranav-pc/projects/OpenTransformer/multiformer\"\n",
    "tokenizer_path = BASE_URL + \"/tokenizer_checkpoints\"\n",
    "tokenizer = Tokenizer(tokenizer_path)"
   ]
  },
  {
   "cell_type": "code",
   "execution_count": 71,
   "id": "a894c96d-dfae-47c8-8e2c-8fceedbc116b",
   "metadata": {},
   "outputs": [],
   "source": [
    "MODEL_CONFIG_PATH = (\n",
    "    \"/home/pranav-pc/projects/OpenTransformer/multiformer/src/models/blm/conf/config.yaml\"\n",
    ")\n",
    "MODEL_CHECKPOINT_PATH = (\n",
    "    \"/home/pranav-pc/projects/model-registry/blm-medium-instruct-tinnystories/last.ckpt\"\n",
    ")\n",
    "\n",
    "conf = OmegaConf.load(MODEL_CONFIG_PATH)"
   ]
  },
  {
   "cell_type": "code",
   "execution_count": 72,
   "id": "a0acd577-ca45-4910-a9ac-6148c358f3dd",
   "metadata": {},
   "outputs": [],
   "source": [
    "state_dict = torch.load(MODEL_CHECKPOINT_PATH)[\"state_dict\"]\n",
    "# Pytorch by default add _orig_mod in the checkpoint keys.#TODO: Take care of this while model checkpointing\n",
    "state_dict = {k.replace(\"._orig_mod\", \"\"): v for k, v in state_dict.items()}\n",
    "config = ModelArgs(**conf[\"model\"])\n",
    "model = FineTuneBLM(Transformer(config))\n",
    "model.load_state_dict(state_dict)\n",
    "\n",
    "model.eval()\n",
    "model = model.cuda()"
   ]
  },
  {
   "cell_type": "code",
   "execution_count": 73,
   "id": "1e7c60b4-2016-4d77-8c49-3d5fc084584a",
   "metadata": {},
   "outputs": [],
   "source": [
    "def predict(text, max_new_tokens=1000, temperature=0.9, top_k=5, conditional_break=[2]):\n",
    "    tokens = torch.LongTensor(tokenizer.encode(text)).to(\"cuda:0\").view(1, -1)[:, :-1]\n",
    "\n",
    "    for _ in range(3):\n",
    "        predicted_tokens = model.predict_step(\n",
    "            tokens,\n",
    "            None,\n",
    "            max_new_tokens=max_new_tokens,\n",
    "            temperature=temperature,\n",
    "            top_k=top_k,\n",
    "            conditional_break=conditional_break,\n",
    "        )[0].tolist()\n",
    "        print(\"==\" * 30)\n",
    "        print(tokenizer.decode_ids(predicted_tokens))"
   ]
  },
  {
   "cell_type": "code",
   "execution_count": 74,
   "id": "93997ed5-a6de-406a-a173-e65c524ed01d",
   "metadata": {},
   "outputs": [
    {
     "name": "stdout",
     "output_type": "stream",
     "text": [
      "User:\n",
      "Random sentence: Timmy loved to play outside in the sunshine.\n",
      "Summary: A little boy named Timmy finds an empty box, but later discovers a scary spirit inside that takes him away.\n",
      "Assistant: Once upon a time, there was a little boy named Timmy. Timmy loved to play outside in the sunshine. One day, Timmy went on a walk and found an empty box. He thought it was a treasure box, but when he opened it, there was nothing inside.\n",
      "\n",
      "Timmy was sad because he wanted to find treasure. He asked his mommy how to solve the problem of the empty box. His mommy told him that sometimes things are just empty and there's nothing we can do about it.\n",
      "\n",
      "Timmy felt better and decided to keep the box anyway. But, later that day, he saw a scary spirit coming out of the box. The spirit was angry and started chasing Timmy. Timmy tried to run away, but the spirit caught him and took him away to a dark place. Timmy never came back home again.\n"
     ]
    }
   ],
   "source": [
    "print(ds[\"validation\"][100][\"text\"])"
   ]
  },
  {
   "cell_type": "code",
   "execution_count": 75,
   "id": "d1942ea5-a1fd-4ddc-9207-f94795d99d14",
   "metadata": {},
   "outputs": [
    {
     "name": "stdout",
     "output_type": "stream",
     "text": [
      "============================================================\n",
      "\n",
      "\n",
      "Once upon a time, there was a little boy named Timmy. He loved to play outside in the sunshine. But one day, he noticed something strange. He looked around and he noticed an empty box sitting in the grass. Timmy went to pick it up and he saw there was an empty box. He opened it and he saw something scary inside. Timmy was so scared he ran away. But then he heard a voice. It was the scary voice of a spirit. The voice said \"Don't be scared, little boy. I am not going to take you away.\" Timmy smiled and said goodbye to the spirit. He had never seen a scary spirit before!\n",
      "============================================================\n",
      "\n",
      "\n",
      "Once upon a time there was a little boy called Timmy. Timmy loved to play outside in the sunshine. One day he saw an empty box. He thought he could use it as a house, so he put it in his garden. Timmy was very excited!\n",
      "\n",
      "But then something strange happened. Timmy heard a loud noise coming from inside the box. He was scared! He didn't know what it was. He slowly opened the box. Inside he found something scary! It was a spirit!\n",
      "\n",
      "The spirit was angry! It wanted Timmy to leave the house and go away. Timmy was very sorry and he never did anything bad again.\n",
      "============================================================\n",
      "\n",
      "\n",
      "Once upon a time, there was an empty box. It was sitting in a field all by itself.\n",
      "\n",
      "One day, a little boy named Timmy walked up to the box. He wanted to open it, but he couldn't. He started to squeeze the lid, and he was surprised by what was inside!\n",
      "\n",
      "The box was empty. Timmy was disappointed. But then he saw something strange. A tiny little spirit was inside the box! It was so tiny and scary that Timmy couldn't believe it.\n",
      "\n",
      "The spirit flew out of the box and flew away with Timmy. He never saw the spirit again and was never seen again.\n"
     ]
    }
   ],
   "source": [
    "text = \"\"\"User:\n",
    "Random sentence: Timmy loved to play outside in the sunshine.\n",
    "Summary: A little boy named Timmy finds an empty box, but later discovers a scary spirit inside that takes him away.\n",
    "Assistant: \"\"\"\n",
    "predict(text)"
   ]
  },
  {
   "cell_type": "code",
   "execution_count": 76,
   "id": "832a39ee-618d-43d5-8c53-9ec5af614490",
   "metadata": {},
   "outputs": [
    {
     "name": "stdout",
     "output_type": "stream",
     "text": [
      "============================================================\n",
      "\n",
      "\n",
      "Once upon a time, there was a little boy called Timmy. He was only three years old. \n",
      "\n",
      "One day, Timmy saw something very strange in the garden. It was an empty box. He wondered what would happen. \n",
      "\n",
      "He opened the box and out came a spirit. The spirit was very scary. Timmy was so scared he ran away.\n",
      "\n",
      "Later, Timmy told his mum about the spirit. She said that the spirit was a very scary thing and that she had to be very careful. \n",
      "\n",
      "She said that Timmy must never go near the spirit again. She also said that the empty box had to stay inside. \n",
      "\n",
      "Timmy was never able to see the spirit again.\n",
      "============================================================\n",
      "\n",
      "\n",
      "Once upon a time, there was a little boy named Timmy. He loved playing outside, but one day he found something very special. It was an empty box with something inside it.\n",
      "\n",
      "Timmy was so excited! He picked up the empty box and started to play with it. Suddenly, he heard a noise. It was coming from the box.\n",
      "\n",
      "Timmy slowly opened the box. Inside, he found a tiny spirit. It scared Timmy and he screamed.\n",
      "\n",
      "The spirit was angry. It grabbed Timmy and took him away! Timmy never got to play with the spirit again.\n",
      "\n",
      "The spirit took Timmy away from the empty box and never saw his friends again. Timmy never got to play again.\n",
      "============================================================\n",
      "\n",
      "Once upon a time, there was a little boy named Timmy. He was three years old and loved to play outside.\n",
      "\n",
      "One day, he found an empty box. He was very excited and wanted to play with it. He opened it up and inside he found a scary spirit!\n",
      "\n",
      "The spirit was angry and wanted to destroy things. It flew around the room and made a loud noise. Timmy was so scared!\n",
      "\n",
      "He tried to run away, but the spirit followed him. It was too late! The spirit grabbed Timmy in its hands and took him away.\n",
      "\n",
      "Timmy never came back to that empty box. He was never seen again. He was very sad and never forgot his scary spirit that he had found.\n"
     ]
    }
   ],
   "source": [
    "text = \"\"\"User:\n",
    "Summary: A little boy named Timmy finds an empty box, but later discovers a scary spirit inside that takes him away.\n",
    "Assistant: \"\"\"\n",
    "predict(text)"
   ]
  },
  {
   "cell_type": "code",
   "execution_count": 77,
   "id": "8afa0f94-ed9c-4cef-bd44-104a1124418b",
   "metadata": {},
   "outputs": [
    {
     "name": "stdout",
     "output_type": "stream",
     "text": [
      "============================================================\n",
      "\n",
      "\n",
      "Timmy was a 3 year old who loved to explore. One day, he was out walking in the woods and he found an empty box. He was curious so he opened the box. Inside, he saw a big, scary spirit. The spirit was coming closer and closer, and Timmy was scared. He tried to run away, but the spirit followed. He screamed, \"Let me go or else!\" Suddenly, the spirit disappeared. Timmy was so happy that it had brought him back. He hugged the empty box and ran home to tell his mum about the scary spirit he had met.\n",
      "Summary: Timmy finds an empty box, finds a scary spirit inside, and it takes him away, leaving him scared and unable to return.\n",
      "============================================================\n",
      "\n",
      "The empty box was empty. One day, Timmy was outside, playing with his friends. Then he saw something in the corner of the yard. It was a spirit! The spirit was so small that Timmy couldn't believe it. \n",
      "\n",
      "Timmy asked the spirit, \"What are you doing?\" \n",
      "\n",
      "The spirit replied, \"I am here to help you. I am here to protect you.\" \n",
      "\n",
      "Timmy was very scared and ran away quickly. But then he realized something strange. He saw a big creature coming out of the empty box! He screamed and quickly ran away, but the creature followed. The spirit caught up to Timmy and the spirit took him away, never to be seen again. \n",
      "\n",
      "The end.\n",
      "============================================================\n",
      "\n",
      "\n",
      "Once upon a time there was a boy named Timmy. He was three years old.\n",
      "\n",
      "On a sunny day Timmy wanted to go outside to play, but it was too hot.\n",
      "\n",
      "Timmy looked all around for something to cool him down. He saw an empty box and ran to it. Inside the box was a spirit. The spirit was scary and it made Timmy jump back.\n",
      "\n",
      "The spirit was angry and it chased Timmy around the garden. It made Timmy scared.\n",
      "\n",
      "But Timmy was brave and he didn't run away. He kept the spirit away.\n",
      "\n",
      "The spirit eventually flew away and the sun went down. Timmy was safe! He had found a spirit that was scary and he was brave.\n"
     ]
    }
   ],
   "source": [
    "text = \"\"\"User:\n",
    "A little boy named Timmy finds an empty box, but later discovers a scary spirit inside that takes him away.\n",
    "Assistant: \"\"\"\n",
    "predict(text)"
   ]
  },
  {
   "cell_type": "code",
   "execution_count": 78,
   "id": "eb8cbc50-d022-445e-9b4b-9769bfd41921",
   "metadata": {},
   "outputs": [
    {
     "name": "stdout",
     "output_type": "stream",
     "text": [
      "============================================================\n",
      "\n",
      "Summary: A little boy named Timmy finds a scary spirit inside an empty box and runs away, but later finds out it was just a toy spirit who took him away and he never returns.\n",
      "============================================================\n",
      "Timmy never goes near that box again.\n",
      "Summary: Timmy finds an empty box and discovers a spirit inside, but it scares him and takes him away, teaching him to be more careful in the future.\n",
      "============================================================\n",
      "The spirit flies away with the box, and Timmy is never seen again.\n",
      "Features: BadEnding\n",
      "Summary: A little boy named Timmy finds an empty box, but it turns out to be a spirit who takes him away, leaving Timmy sad and never seen again.\n"
     ]
    }
   ],
   "source": [
    "text = \"\"\"A little boy named Timmy finds an empty box, but later discovers a scary spirit inside that takes him away.\"\"\"\n",
    "predict(text)"
   ]
  },
  {
   "cell_type": "code",
   "execution_count": 79,
   "id": "90445842-198b-432b-b41a-8e6d8c045ef9",
   "metadata": {},
   "outputs": [
    {
     "name": "stdout",
     "output_type": "stream",
     "text": [
      "============================================================\n",
      "\n",
      "Once there was a little girl who loved to dance. She was so excited everyday when she woke up and danced around the living room.\n",
      "\n",
      "One day her mommy said she had to go outside to catch some birds. The little girl was so excited that she ran outside to see them.\n",
      "\n",
      "The birds were singing and the little girl was so happy. She started to dance and twirl around the living room. She moved her arms and legs to the beat of the music and danced around.\n",
      "\n",
      "Suddenly, the sky lit up and the little girl felt so dizzy. But it was okay, because she just had to stay still and dance. The little girl smiled as she kept moving, happy and free.\n",
      "============================================================\n",
      "\n",
      "Once upon a time there was a little girl who loved to dance. She was only 3 years old, so it was easy for her to move her body in funny ways.\n",
      "\n",
      "One day she was dancing with her friends when a spirit came along. It was a big, strong spirit and it wanted to dance with the little girl.\n",
      "\n",
      "The little girl was so excited! She started to dance and move around with the spirit. Everyone was having so much fun!\n",
      "\n",
      "The little girl kept dancing and dancing and the spirit kept dancing. Everyone was having so much fun. They kept dancing until the sun went down.\n",
      "\n",
      "When the sun went down the little girl went home and smiled. She loved dancing with her spirit!\n",
      "============================================================\n",
      "\n",
      "Once upon a time, there was a little girl who loved to dance. She would twirl and spin around and around in her room. \n",
      "\n",
      "One day, she was feeling very bored and decided to do something exciting. She started to dance around in a circle, twirling and hopping and singing. She was so happy.\n",
      "\n",
      "Suddenly, something magical happened. The little girl felt something special and it was like a spirit dancing with her. The spirit kept on dancing and twirling until the little girl was too tired to keep going. \n",
      "\n",
      "So she said goodbye to the spirit and went to bed. The little girl was so happy that she could hardly wait for the next day to dance.\n"
     ]
    }
   ],
   "source": [
    "text = \"\"\"User:\n",
    "Words: spirit,cry,dance\n",
    "Summary: A little girl loves to dance and one a spirit started dancing with her.\n",
    "Assistant: \n",
    "\"\"\"\n",
    "predict(text)"
   ]
  },
  {
   "cell_type": "code",
   "execution_count": 80,
   "id": "159713a3-2f86-4634-81c3-a449a5d1d4e9",
   "metadata": {},
   "outputs": [
    {
     "name": "stdout",
     "output_type": "stream",
     "text": [
      "============================================================\n",
      "Words: talk, lake, deep\n",
      "Assistant: \n",
      "\n",
      "Once upon a time there was a lake. It was deep inside the lake, and it was filled with lots of animals.\n",
      "\n",
      "One day, a talking turtle called rustles came to the lake. He wanted to talk to the birds and fishes. He wanted to talk to the rabbits and the birds and the frogs.\n",
      "\n",
      "But he was too far away to talk. So he stayed there, watching the animals and the fishes, until he was too tired to talk.\n",
      "\n",
      "The animals and the birds and the fishes all said goodbye, and left the lake forever.\n",
      "============================================================\n",
      "Assistant: \n",
      "\n",
      "Once upon a time, there was a big forest. Inside a lake there was a big forest and there were lots of tiny animals living together.\n",
      "\n",
      "One day, a big bear and an elephant named Pirate were walking together. They had been walking around the forest, and the big bear was very hungry. He wanted to get some food.\n",
      "\n",
      "The bear saw a tree with lots of berries on it. He started to eat them, but then he noticed that he wasn't there anymore. He looked around and saw the elephant was gone.\n",
      "\n",
      "The bear was very sad. He had no food and he was very hungry. The forest was a mess. The end.\n",
      "Summary: A big bear and his forest friend encounter each other while walking around a forest. The bear is eaten. The end.\n",
      "============================================================\n",
      "Words: talk, lake, thick\n",
      "Assistant: \n",
      "Once upon a time, there was a lake deep in the forest. One day, a talking fish calledruffles swam into the lake. He had lots of friends who wanted to play together. \n",
      "\n",
      "One day, a giant turtle calledruffles came to the lake. His name was Tilly and she was very thick. She was so big that she could not move her body. \n",
      "\n",
      "At first, the turtle was scared of the water. But then something terrible happened. The turtle was very angry and he started to swim away. He had to be very careful. \n",
      "\n",
      "The end.\n"
     ]
    }
   ],
   "source": [
    "text = \"\"\"User:\n",
    "Features: BadEnding\n",
    "Random sentence: A talkative turtle called Tuktuk lived in a lake deep inside a forest. He would talk all day long with anyone- from tiny ants to giant elephants. \n",
    "Summary:\n",
    "\"\"\"\n",
    "predict(text)"
   ]
  },
  {
   "cell_type": "markdown",
   "id": "d095c25c-4dd4-426d-bac6-4f4fd7f0bae2",
   "metadata": {},
   "source": [
    "## Finetuned on Mathematics"
   ]
  },
  {
   "cell_type": "code",
   "execution_count": 84,
   "id": "09157dc0-bc69-41ee-b23a-2b1eb13dccdd",
   "metadata": {},
   "outputs": [],
   "source": [
    "MODEL_CHECKPOINT_PATH = (\n",
    "    \"/home/pranav-pc/projects/model-registry/blm-instruct-maths-problem/last.ckpt\"\n",
    ")\n",
    "conf = OmegaConf.load(MODEL_CONFIG_PATH)\n",
    "state_dict = torch.load(MODEL_CHECKPOINT_PATH)[\"state_dict\"]\n",
    "# Pytorch by default add _orig_mod in the checkpoint keys.#TODO: Take care of this while model checkpointing\n",
    "state_dict = {k.replace(\"._orig_mod\", \"\"): v for k, v in state_dict.items()}\n",
    "config = ModelArgs(**conf[\"model\"])\n",
    "model = FineTuneBLM(Transformer(config))\n",
    "model.load_state_dict(state_dict)\n",
    "\n",
    "model.eval()\n",
    "model = model.cuda()"
   ]
  },
  {
   "cell_type": "code",
   "execution_count": 103,
   "id": "40f93872-0cff-4299-98a1-72cedda1380a",
   "metadata": {},
   "outputs": [],
   "source": [
    "text = text = (\n",
    "    \"\"\"There are 200 more red apples than green apples in a grocery store. A truck arrives and delivers another 340 green apples. If there were originally 32 green apples, how many more green apples than red apples are there in the store now? \"\"\"\n",
    ")"
   ]
  },
  {
   "cell_type": "code",
   "execution_count": 104,
   "id": "9b8befa2-6f2e-4908-937e-b55c2c4abd19",
   "metadata": {},
   "outputs": [
    {
     "name": "stdout",
     "output_type": "stream",
     "text": [
      "============================================================\n",
      "1200. What is the value of unknown variable x?/nTo solve this problem, we need to determine the value of x, which represents the number of red apples in the grocery store.\n",
      "Let's break down the information given:\n",
      "Number of green apples: 1200\n",
      "Number of green apples: 32\n",
      "Number of green apples: 340\n",
      "Number of red apples in the store: 2\n",
      "============================================================\n",
      "30% of the red apples were green. What is the value of unknown variable x?/nTo solve this problem, we need to determine the value of x, which represents the percentage of green apples that were not red.\n",
      "Let's break down the information given:\n",
      "Number of green apples originally in the grocery store: 32\n",
      "Number of green apples originally in the grocery store: 200\n",
      "Number of green apples\n",
      "============================================================\n",
      "50% as many green apples as green apples, how many apples are there in the store now?/nLet's represent the number of green apples as C.\n",
      "The number of green apples as P, the number of red apples as C, the number of green apples as C, and the number of red apples as C, the number of green apples as C, and the number of red apples as C, which is A+\n"
     ]
    }
   ],
   "source": [
    "predict(text, max_new_tokens=100)"
   ]
  },
  {
   "cell_type": "code",
   "execution_count": 100,
   "id": "6e4fa411-87b0-433f-9f74-f336364a13e0",
   "metadata": {},
   "outputs": [
    {
     "name": "stdout",
     "output_type": "stream",
     "text": [
      "['<s>', '▁', '6', '8', '7', '▁+', '▁', '1', '0', '</s>']\n",
      "[1, 29871, 29953, 29947, 29955, 718, 29871, 29896, 29900, 2]\n"
     ]
    }
   ],
   "source": [
    "text = \"687 + 10\"\n",
    "print(tokenizer.encode(text, out_type=str))\n",
    "print(tokenizer.encode(text))\n",
    "# predict(text)"
   ]
  },
  {
   "cell_type": "markdown",
   "id": "5b922864-54d8-4073-a8ab-116fafac428b",
   "metadata": {},
   "source": [
    "### Catastrophic Forgetting\n"
   ]
  },
  {
   "cell_type": "code",
   "execution_count": 114,
   "id": "507726ee-7069-4f94-866a-1bc9c459a63d",
   "metadata": {},
   "outputs": [
    {
     "name": "stdout",
     "output_type": "stream",
     "text": [
      "============================================================\n",
      "3/5 of a bottle of milk every day. On a particular day, she bought x more bottles than she had the previous day. On the second day, she bought two times as many bottles as she had the previous day. On the third day, she bought four times as many bottles as she did the previous day. If the lady Anna ate 6 bottles of milk every day, how many bottles of milk does she have left over?\n",
      "If we know the answer to the above question is 36, what is the value of unknown variable x?/nOn the first day, the lady Anna bought 3/5 bottles of milk.\n",
      "On the second day, she bought x more bottles than she had the previous day.\n",
      "On the third day, she bought four times as many bottles as she did the previous day. So she bought 4 * (3/5) = 1.5 bottles\n",
      "============================================================\n",
      "1/2 of a can of soda every day. On a particular week, she bought a can of soda for x% of her money. However, when she later returned, she discovered that she was only able to take as many cans of soda as she bought when she returned. She now has 40 cans of soda. What is the value of unknown variable x?/nTo solve this problem, we need to determine the value of x, which represents the percentage of the original soda that the lady bought.\n",
      "Let's break down the information given:\n",
      "Number of cans of soda bought on a week: 1/2x\n",
      "Number of cans of soda bought on a particular week: 1/2x\n",
      "Amount of soda bought on the second week: 1/2x * (1/2x)\n",
      "Amount of soda bought on the third week: 1/2x *\n",
      "============================================================\n",
      "3 glasses of water every day. On the first day she drank 5 glasses of water. On the second day, she drank 8 glasses of water. On the third day, she drank x glasses of water. On the fourth day, she drank half as much water as she did on the first day. On the fifth day, she drank three glasses of water. The eldest child drank 20 glasses of water. What is the value of unknown variable x?/nTo solve this problem, we need to determine the value of x, which represents the number of glasses of water the second day.\n",
      "Let's break down the information given:\n",
      "Number of glasses of water on the first day: 5\n",
      "Number of glasses of water on the first day: 5 * 3 = 15\n",
      "Number of glasses of water on the second day: 8\n",
      "Number of\n"
     ]
    }
   ],
   "source": [
    "text = \"Once upon a time there was a generous lady. She loved to drink\"\n",
    "predict(text, max_new_tokens=200)"
   ]
  },
  {
   "cell_type": "markdown",
   "id": "223503dc-b296-4ed8-a961-5222e3d3ee9b",
   "metadata": {},
   "source": [
    "## Finetuned on mixed set of instruction dataset"
   ]
  },
  {
   "cell_type": "code",
   "execution_count": 115,
   "id": "a290ea35-b516-4f3f-84eb-df05a9f71754",
   "metadata": {},
   "outputs": [],
   "source": [
    "from src.models.blm.finetune.selected_layers_finetune_causal import FineTuneBLM\n",
    "\n",
    "MODEL_CHECKPOINT_PATH = \"/home/pranav-pc/projects/model-registry/blm-instruct-v2/last.bin\"\n",
    "conf = OmegaConf.load(MODEL_CONFIG_PATH)\n",
    "state_dict = torch.load(MODEL_CHECKPOINT_PATH)[\"state_dict\"]\n",
    "# Pytorch by default add _orig_mod in the checkpoint keys.#TODO: Take care of this while model checkpointing\n",
    "state_dict = {k.replace(\"._orig_mod\", \"\"): v for k, v in state_dict.items()}\n",
    "config = ModelArgs(**conf[\"model\"])\n",
    "model = FineTuneBLM(Transformer(config))\n",
    "model.load_state_dict(state_dict)\n",
    "\n",
    "model.eval()\n",
    "model = model.cuda()"
   ]
  },
  {
   "cell_type": "code",
   "execution_count": 117,
   "id": "995f8781-6d6d-4364-9a42-0441caf95316",
   "metadata": {},
   "outputs": [],
   "source": [
    "from datasets import load_from_disk\n",
    "\n",
    "ds = load_from_disk(\n",
    "    \"/home/pranav-pc/projects/OpenTransformer/multiformer/data/finetune/instruct-dataset-v3\"\n",
    ")"
   ]
  },
  {
   "cell_type": "code",
   "execution_count": 120,
   "id": "4df964e4-5102-400f-a941-b09c90875068",
   "metadata": {},
   "outputs": [
    {
     "data": {
      "text/plain": [
       "{'alpaca', 'grammar', 'imdb', 'lamini', 'samsum', 'tinny-stories'}"
      ]
     },
     "execution_count": 120,
     "metadata": {},
     "output_type": "execute_result"
    }
   ],
   "source": [
    "set(ds[\"validation\"][\"source\"])"
   ]
  },
  {
   "cell_type": "markdown",
   "id": "53e1d2a4-037f-436b-b863-c1302cb60dcf",
   "metadata": {},
   "source": [
    "####  alpaca"
   ]
  },
  {
   "cell_type": "code",
   "execution_count": 138,
   "id": "adb103c9-2a4e-431f-be82-302fdc2e0066",
   "metadata": {},
   "outputs": [
    {
     "name": "stdout",
     "output_type": "stream",
     "text": [
      "Below is an instruction that describes a task. Write a response that appropriately completes the request.\n",
      "\n",
      "### Instruction:\n",
      "Give three tips for staying healthy.\n",
      "\n",
      "### Response:\n",
      "\n"
     ]
    }
   ],
   "source": [
    "prompt = \"Below is an instruction that describes a task. Write a response that appropriately completes the request.\\n\\n### Instruction:\\nGive three tips for staying healthy.\\n\\n### Response:\\n\"\n",
    "print(prompt)"
   ]
  },
  {
   "cell_type": "code",
   "execution_count": 136,
   "id": "ae52a10e-68dc-40e9-8e7a-77cc16449234",
   "metadata": {},
   "outputs": [
    {
     "name": "stdout",
     "output_type": "stream",
     "text": [
      "============================================================\n",
      "1. Eat more fruits and vegetables.\n",
      "2. Exercise regularly to stay healthy.\n",
      "3. Eat more fruits and vegetables.\n",
      "============================================================\n",
      "Two tips for staying healthy is:\n",
      "\n",
      "1. Exercise regularly\n",
      "2. Exercise regularly\n",
      "3. Get enough sleep\n",
      "4. Get enough sleep\n",
      "============================================================\n",
      "1. Eat a balanced diet\n",
      "2. A balanced diet\n",
      "3. A balanced diet\n",
      "4. A balanced diet\n"
     ]
    }
   ],
   "source": [
    "predict(prompt)"
   ]
  },
  {
   "cell_type": "code",
   "execution_count": 164,
   "id": "7786616f-f42d-498a-9bf8-805e899b6678",
   "metadata": {},
   "outputs": [
    {
     "name": "stdout",
     "output_type": "stream",
     "text": [
      "Below is an instruction that describes a task. Write a response that appropriately completes the request.\n",
      "\n",
      "### Instruction:\n",
      "What is the force on a 1 kg mass due to the gravitational force?\n",
      "\n",
      "### Response:\n",
      "\n"
     ]
    }
   ],
   "source": [
    "prompt = \"Below is an instruction that describes a task. Write a response that appropriately completes the request.\\n\\n### Instruction:\\nWhat is the force on a 1 kg mass due to the gravitational force?\\n\\n### Response:\\n\"\n",
    "print(prompt)"
   ]
  },
  {
   "cell_type": "code",
   "execution_count": 165,
   "id": "df86b975-e057-4ec5-93c5-0167191bb7d1",
   "metadata": {},
   "outputs": [
    {
     "name": "stdout",
     "output_type": "stream",
     "text": [
      "============================================================\n",
      "The force on a 1 friend is a force for a 1-2 friend to reach the same level of the same level.\n",
      "============================================================\n",
      "The force on a 1 friend is the force on the mass that takes place, where the force is in motion and is used to create text.\n",
      "============================================================\n",
      "The force on a 1-2-shaped mass is in motion, while the force on the 15-year-old.\n"
     ]
    }
   ],
   "source": [
    "predict(prompt)"
   ]
  },
  {
   "cell_type": "code",
   "execution_count": 202,
   "id": "8a4ef562-cd5d-4088-8d13-4d3cd51a780f",
   "metadata": {},
   "outputs": [
    {
     "name": "stdout",
     "output_type": "stream",
     "text": [
      "Below is an instruction that describes a task, paired with an input that provides further context. Write a response that appropriately completes the request.\n",
      "\n",
      "### Instruction:\n",
      "Classify this text as Fiction or Non-fiction.\n",
      "\n",
      "### Input:\n",
      "The universe is estimated to be around 13.8 billion years old.\n",
      "\n",
      "### Response:\n",
      "\n"
     ]
    }
   ],
   "source": [
    "prompt = \"Below is an instruction that describes a task, paired with an input that provides further context. Write a response that appropriately completes the request.\\n\\n### Instruction:\\nClassify this text as Fiction or Non-fiction.\\n\\n### Input:\\nThe universe is estimated to be around 13.8 billion years old.\\n\\n### Response:\\n\"\n",
    "print(prompt)"
   ]
  },
  {
   "cell_type": "code",
   "execution_count": 203,
   "id": "a6a9ef46-737e-4d97-b578-cfd5eec24029",
   "metadata": {},
   "outputs": [
    {
     "name": "stdout",
     "output_type": "stream",
     "text": [
      "============================================================\n",
      "F crashes.\n",
      "============================================================\n",
      "F gentlemen is a 2000s\n",
      "============================================================\n",
      "Different years.\n"
     ]
    }
   ],
   "source": [
    "predict(prompt)"
   ]
  },
  {
   "cell_type": "code",
   "execution_count": 204,
   "id": "936c0206-383b-4662-8bee-734c8587f0a8",
   "metadata": {},
   "outputs": [],
   "source": [
    "prompt = \"\"\"Below is an instruction that describes a task, paired with an input that provides further context. Write a response that appropriately completes the request.\n",
    "\n",
    "### Instruction:\n",
    "Classify this text as True or False.\n",
    "\n",
    "### Input:\n",
    "The universe is estimated to be around 13.8 billion years old.\n",
    "### Output: True\n",
    "\n",
    "### Input:\n",
    "New Delhi is not the capital of India.\n",
    "### Output: False\n",
    "\n",
    "### Input:\n",
    "Sun moves around the Earth.\n",
    "### Output:\n",
    "\n",
    "### Response:\\n\"\"\""
   ]
  },
  {
   "cell_type": "code",
   "execution_count": 205,
   "id": "2065c576-e4d5-4e8e-bc36-325ad77cafc8",
   "metadata": {},
   "outputs": [
    {
     "name": "stdout",
     "output_type": "stream",
     "text": [
      "============================================================\n",
      "True.\n",
      "============================================================\n",
      "True.\n",
      "============================================================\n",
      "True.\n"
     ]
    }
   ],
   "source": [
    "predict(prompt)"
   ]
  },
  {
   "cell_type": "markdown",
   "id": "c2079634-299b-4808-aba9-343e9b4d19d9",
   "metadata": {},
   "source": [
    "### grammar"
   ]
  },
  {
   "cell_type": "code",
   "execution_count": 215,
   "id": "7b01340a-f917-4fbf-9c89-7f426d513ac6",
   "metadata": {},
   "outputs": [
    {
     "name": "stdout",
     "output_type": "stream",
     "text": [
      "Review the following text and rectify any grammatical errors.### Instruction:\n",
      "Check out a few fo our cease studies to learn more about the part we played in helping our clients achieve their unique visions\n",
      "\n",
      "### Response:\n",
      "\n"
     ]
    }
   ],
   "source": [
    "prompt = \"Review the following text and rectify any grammatical errors.### Instruction:\\nCheck out a few fo our cease studies to learn more about the part we played in helping our clients achieve their unique visions\\n\\n### Response:\\n\"\n",
    "print(prompt)"
   ]
  },
  {
   "cell_type": "code",
   "execution_count": 216,
   "id": "975ea279-a396-4bfd-8272-91c0f551fcaa",
   "metadata": {},
   "outputs": [
    {
     "name": "stdout",
     "output_type": "stream",
     "text": [
      "============================================================\n",
      "Check out of a few of the cease studied and learned more about the part we played in helping our Month achieve their unique visits.\n",
      "============================================================\n",
      "Check out a few more foxes to learn more about the part we played our part to help our Jun achieve our unique visits.\n",
      "============================================================\n",
      "Check out a few of the two patterns to learn more about the part we played in helping our represent unique visits to help their clients.\n"
     ]
    }
   ],
   "source": [
    "predict(prompt)"
   ]
  },
  {
   "cell_type": "code",
   "execution_count": 217,
   "id": "8faa0955-336e-401f-88c4-0bfb75816866",
   "metadata": {},
   "outputs": [
    {
     "name": "stdout",
     "output_type": "stream",
     "text": [
      "Correct### Instruction:\n",
      "Click ‘Add to Cart’ now and ptoect your iphone 7 PLUS with a custom, high-quality TPU phone cover that add a little style and flare to your best iPhone 7 PLUS!\n",
      "\n",
      "### Response:\n",
      "\n"
     ]
    }
   ],
   "source": [
    "prompt = \"Correct### Instruction:\\nClick ‘Add to Cart’ now and ptoect your iphone 7 PLUS with a custom, high-quality TPU phone cover that add a little style and flare to your best iPhone 7 PLUS!\\n\\n### Response:\\n\"\n",
    "print(prompt)"
   ]
  },
  {
   "cell_type": "code",
   "execution_count": 218,
   "id": "73de1741-5f97-484a-852f-c2c93d24954a",
   "metadata": {},
   "outputs": [
    {
     "name": "stdout",
     "output_type": "stream",
     "text": [
      "============================================================\n",
      "Clicking to Television, high- Electric TMG N phone cover that add a little style and flare.\n",
      "============================================================\n",
      "Click your doesn't need to fill out the room with a little style and flare to your best company.\n",
      "============================================================\n",
      "odes the 7-12 T educated phone cover that add a little style and flare.\n"
     ]
    }
   ],
   "source": [
    "predict(prompt)"
   ]
  },
  {
   "cell_type": "markdown",
   "id": "f3c8b5c8-ea71-4b8d-8205-991427bb6700",
   "metadata": {},
   "source": [
    "### imdb"
   ]
  },
  {
   "cell_type": "code",
   "execution_count": 240,
   "id": "864525d9-bab2-4a3a-9a9e-0b41c8bb1397",
   "metadata": {},
   "outputs": [
    {
     "name": "stdout",
     "output_type": "stream",
     "text": [
      "Provide your sentiment analysis for the following text.### Instruction:\n",
      "Stupid, mindless drivel about a jet assembled within hours by mechanics who have never worked on airplanes (piloted by Burgess Meredith) chasing a Porsche race car which runs on decades-old gasoline sludge, driven by Lee Majors, with Chris Makepeace as the runaway techno-wiz who can McGyver spare parts into a radio receiver which can pick up all frequencies simultaneously, and who somehow learned how to acquire and use chemicals to make high explosives in a perfectly peaceful society. As moronic as it sounds. Terrible waste of Burgess Meredith, but Chris Makepeace may at least be forgiven on the grounds that this was only his second film.\n",
      "\n",
      "### Response:\n",
      "\n"
     ]
    }
   ],
   "source": [
    "prompt = \"Provide your sentiment analysis for the following text.### Instruction:\\nStupid, mindless drivel about a jet assembled within hours by mechanics who have never worked on airplanes (piloted by Burgess Meredith) chasing a Porsche race car which runs on decades-old gasoline sludge, driven by Lee Majors, with Chris Makepeace as the runaway techno-wiz who can McGyver spare parts into a radio receiver which can pick up all frequencies simultaneously, and who somehow learned how to acquire and use chemicals to make high explosives in a perfectly peaceful society. As moronic as it sounds. Terrible waste of Burgess Meredith, but Chris Makepeace may at least be forgiven on the grounds that this was only his second film.\\n\\n### Response:\\n\"\n",
    "print(prompt)"
   ]
  },
  {
   "cell_type": "code",
   "execution_count": 241,
   "id": "a0898750-c66d-4c6c-b3b9-09c33af983d5",
   "metadata": {},
   "outputs": [
    {
     "name": "stdout",
     "output_type": "stream",
     "text": [
      "============================================================\n",
      "Negative\n",
      "============================================================\n",
      "Gordonive\n",
      "============================================================\n",
      "completionitive\n"
     ]
    }
   ],
   "source": [
    "predict(prompt)"
   ]
  },
  {
   "cell_type": "code",
   "execution_count": 242,
   "id": "aa8c5e40-5a6c-42ba-bc99-c10a26f363ed",
   "metadata": {},
   "outputs": [
    {
     "name": "stdout",
     "output_type": "stream",
     "text": [
      "Provide your sentiment analysis for the following text.### Instruction:\n",
      "Excellent Movie, After so long I have watched a movie with zero obscenity and full of Hope and Peace keeping the interest same till the end. It's a spectacular story and we all should encourage such stories. Bollywood should make unique and authentic movies like this one. Fabulous acting, Remarkable location and authentic cultural description of India, a hidden and unpopular side of Village area. \n",
      "\n",
      "### Response:\n",
      "\n"
     ]
    }
   ],
   "source": [
    "prompt = \"Provide your sentiment analysis for the following text.### Instruction:\\nExcellent Movie, After so long I have watched a movie with zero obscenity and full of Hope and Peace keeping the interest same till the end. It's a spectacular story and we all should encourage such stories. Bollywood should make unique and authentic movies like this one. Fabulous acting, Remarkable location and authentic cultural description of India, a hidden and unpopular side of Village area. \\n\\n### Response:\\n\"\n",
    "print(prompt)"
   ]
  },
  {
   "cell_type": "code",
   "execution_count": 243,
   "id": "2cbe2082-c658-4066-99ec-4cfb8e060d0d",
   "metadata": {},
   "outputs": [
    {
     "name": "stdout",
     "output_type": "stream",
     "text": [
      "============================================================\n",
      "Negative\n",
      "============================================================\n",
      "Negative\n",
      "============================================================\n",
      "Negative\n"
     ]
    }
   ],
   "source": [
    "predict(prompt)"
   ]
  },
  {
   "cell_type": "code",
   "execution_count": 244,
   "id": "ce56bc61-6b96-4d91-a100-a556a7a3e440",
   "metadata": {},
   "outputs": [],
   "source": [
    "### samsum"
   ]
  },
  {
   "cell_type": "code",
   "execution_count": 261,
   "id": "ab9009f3-75e6-4cad-b853-777e536325fb",
   "metadata": {},
   "outputs": [
    {
     "name": "stdout",
     "output_type": "stream",
     "text": [
      "Provide an alternative version of the following passage with improved language.### Instruction:\n",
      "Sam: I just got my 1st credit card!\n",
      "Tom: Well, congrats and sorry!\n",
      "Sam: Y sry?\n",
      "Tom: Aren't u afraid of getting into debts?\n",
      "Sam: No, not really. Should I be?\n",
      "Tom: I think u should.\n",
      "\n",
      "### Response:\n",
      "\n"
     ]
    }
   ],
   "source": [
    "prompt = \"Provide an alternative version of the following passage with improved language.### Instruction:\\nSam: I just got my 1st credit card!\\r\\nTom: Well, congrats and sorry!\\r\\nSam: Y sry?\\r\\nTom: Aren't u afraid of getting into debts?\\r\\nSam: No, not really. Should I be?\\r\\nTom: I think u should.\\n\\n### Response:\\n\"\n",
    "print(prompt)"
   ]
  },
  {
   "cell_type": "code",
   "execution_count": 262,
   "id": "ebad6627-bf67-4b18-93e1-e6cf729b7b0e",
   "metadata": {},
   "outputs": [
    {
     "name": "stdout",
     "output_type": "stream",
     "text": [
      "============================================================\n",
      "Sam and Mike should be able to communicate with each other.\n",
      "============================================================\n",
      "Tom is confident and reluctance to get into debts.\n",
      "============================================================\n",
      "Sam agreed to wait for the next day.\n"
     ]
    }
   ],
   "source": [
    "predict(prompt)"
   ]
  },
  {
   "cell_type": "code",
   "execution_count": 253,
   "id": "83bda002-4be2-4072-9aa7-c70de46228ea",
   "metadata": {},
   "outputs": [
    {
     "name": "stdout",
     "output_type": "stream",
     "text": [
      "Paraphrase the provided passage to convey the same meaning in different words.### Instruction:\n",
      "Laura: ok , I'm done for today-)\n",
      "Laura: let me know once u're free and we come back home together\n",
      "Kim: hmm.. 7?\n",
      "Laura: ok\n",
      "Kim: cool, wait for me at work, I'll call once I get here\n",
      "\n",
      "### Response:\n",
      "\n"
     ]
    }
   ],
   "source": [
    "prompt = \"Paraphrase the provided passage to convey the same meaning in different words.### Instruction:\\nLaura: ok , I'm done for today-)\\r\\nLaura: let me know once u're free and we come back home together\\r\\nKim: hmm.. 7?\\r\\nLaura: ok\\r\\nKim: cool, wait for me at work, I'll call once I get here\\n\\n### Response:\\n\"\n",
    "print(prompt)"
   ]
  },
  {
   "cell_type": "code",
   "execution_count": 255,
   "id": "3764aa2c-a47b-4996-81d5-d17aea6ef125",
   "metadata": {},
   "outputs": [
    {
     "name": "stdout",
     "output_type": "stream",
     "text": [
      "============================================================\n",
      "Laura is going to be a quick call.\n",
      "============================================================\n",
      "Laura is free and can call 7.\n",
      "============================================================\n",
      "Laura and Katie are going to meet me.\n"
     ]
    }
   ],
   "source": [
    "predict(prompt)"
   ]
  },
  {
   "cell_type": "markdown",
   "id": "684c5d58-92e7-4f6c-9ed3-ebfec9778f29",
   "metadata": {},
   "source": [
    "### tinny-stories"
   ]
  },
  {
   "cell_type": "code",
   "execution_count": 263,
   "id": "06694a0d-9550-4e07-a342-b448639ac59f",
   "metadata": {},
   "outputs": [
    {
     "data": {
      "application/vnd.jupyter.widget-view+json": {
       "model_id": "1a0f091e05544c76a38bc39498e5549e",
       "version_major": 2,
       "version_minor": 0
      },
      "text/plain": [
       "Filter (num_proc=30):   0%|          | 0/4311905 [00:00<?, ? examples/s]"
      ]
     },
     "metadata": {},
     "output_type": "display_data"
    },
    {
     "data": {
      "application/vnd.jupyter.widget-view+json": {
       "model_id": "8296075d4a9b49a89ced69e8f5f44b04",
       "version_major": 2,
       "version_minor": 0
      },
      "text/plain": [
       "Filter (num_proc=30):   0%|          | 0/1077977 [00:00<?, ? examples/s]"
      ]
     },
     "metadata": {},
     "output_type": "display_data"
    }
   ],
   "source": [
    "ds = ds.filter(lambda example: example[\"source\"] == \"tinny-stories\", num_proc=30)"
   ]
  },
  {
   "cell_type": "code",
   "execution_count": 270,
   "id": "4277f434-026e-4f3b-925d-991eb4afdd0a",
   "metadata": {},
   "outputs": [
    {
     "data": {
      "text/plain": [
       "{'prompt': 'Let your imagination run wild and create a story inspired by the following prompt.### Instruction:\\nBob, a slow beetle, went for a walk to find someone who needed help. He tried to move a big rock but it turned out to be a talking turtle. They became friends and helped each other in the woods. \\n\\n### Response: Once upon a time, there was a slow beetle named Bob. Bob liked to provide help to his friends in the woods. One day, he went for a walk to find someone who needed help.  On his walk, Bob saw a big rock. He wanted to help the rock move. He pushed and pushed, but the rock did not move. Bob was sad, but he did not give up. He tried to think of a new way to help.  Then, something unexpected happened. The rock started to talk! The rock said, \"Thank you, Bob, for trying to help me. But I am not a rock. I am a turtle!\" The turtle was happy because Bob had helped him find his voice. Bob and the turtle became good friends and helped each other in the woods.',\n",
       " 'source': 'tinny-stories'}"
      ]
     },
     "execution_count": 270,
     "metadata": {},
     "output_type": "execute_result"
    }
   ],
   "source": [
    "ds[\"validation\"][110]"
   ]
  },
  {
   "cell_type": "code",
   "execution_count": 283,
   "id": "8a9124fd-50ee-4af4-b4e7-a3166bc64b38",
   "metadata": {},
   "outputs": [
    {
     "name": "stdout",
     "output_type": "stream",
     "text": [
      "'Use the following prompt as inspiration to create an original story.### Instruction:\n",
      "Lila and Tom climb a hill in the park and discover a big lake, a small house, and a lot of snow. They decide to go down and tell their parents about it, excited to come back and play in the snow. \n",
      "\n",
      "### Response: \n"
     ]
    }
   ],
   "source": [
    "prompt = \"'Use the following prompt as inspiration to create an original story.### Instruction:\\nLila and Tom climb a hill in the park and discover a big lake, a small house, and a lot of snow. They decide to go down and tell their parents about it, excited to come back and play in the snow. \\n\\n### Response: \"\n",
    "print(prompt)"
   ]
  },
  {
   "cell_type": "code",
   "execution_count": 284,
   "id": "f8d5f85f-8e94-4d79-94b2-8fcc424619b6",
   "metadata": {},
   "outputs": [
    {
     "name": "stdout",
     "output_type": "stream",
     "text": [
      "============================================================\n",
      "3 years ago.\n",
      "============================================================\n",
      "3.\n",
      "============================================================\n",
      "3 years ago.\n"
     ]
    }
   ],
   "source": [
    "predict(prompt)"
   ]
  },
  {
   "cell_type": "code",
   "execution_count": 291,
   "id": "24591e85-6d60-4f2c-a9ed-2c66e8e27ab1",
   "metadata": {},
   "outputs": [
    {
     "name": "stdout",
     "output_type": "stream",
     "text": [
      "============================================================\n",
      "\n",
      "\n",
      "But when they get home, their mom tells them to be careful and to listen to her. She gives them warm clothes and a hat, and tells them to play in the snow. She gives them hot chocolate and cookies. \n",
      "\n",
      "Lila and Tom are happy. They play in the snow all day. They make snowmen, snow angels, and snow angels. They also play in the sun and the snow. They have fun. \n",
      "\n",
      "But then, they hear a loud noise. It is the ice crack in the ground. The sun makes it hot and heavy. They see a hole in the ground. They are scared.  \"Mom, mom, help us!\" they call for help.  Mom comes and sees the ice crack in the ground. She picks up the ice and puts it in her pocket. She tells them to stay in the house and not to play. \n",
      "\n",
      "They go to the park and have hot chocolate and cookies. They see a big lake. They see a small house with a chimney. They see a bird.  \"Look, Tom, a bird!\" Lila says.  \"Can we go see it?\" Tom says.  \"Yes, please!\" they say.  They run to the small house and open the door. They see a window. They see a snowman and a tree.  They also see a snow mountain. They want to climb it. They go to the snowman and climb up.  They see a lake. The lake has ice, snow, and snow. They also see a snowman.  They hear a loud noise. They are shocked.  They hear a roar. They are surprised. They are scared.  They run back to the small house. They tell their parents what happened.  The parents come to the park and look for them. They are also surprised.  They see a lot of snow and snow. They are also shocked and sad.  They wonder why Lila and Tom did not listen to them. They tell them they were curious about the lake and the ice. They tell them they should not have played in such a dangerous place.  They tell them their home and their home. They tell them to be more careful and respectful next time.  They tell them to be happy with what they have. They tell them to go to bed.  They tell them to be good. They tell them to be kind and smart. They tell them to be quiet and sleep.\n",
      "============================================================\n",
      "They pack their backpacks, drinks, and snacks and say goodbye to the house. They hope it stays warm and safe. \n",
      "\n",
      "But when they get back home, they see that the house is gone! Someone had taken it. They are sad and worried. They look for the house with their backpacks and their snacks. They want to go back to their garden and play in the snow. They hope it will stay warm and safe.  They hear a strange noise and see a big bird flying in the sky. It is a snowman with a hat and a scarf. It lands on a tree branch next to the house. They run to it and touch its feathers. They are happy and relieved. They hug the snowman and thank God for their adventure. They tell their parents about it and go to bed happy and warm.  They say goodnight to the tree and the snowman and their parents. They say they love the snowman. They say goodnight to the house and go back to sleep.  Lila and Tom dream of the snowman and the bird. They are excited and hope to come back again soon. They hope to see the lake again. They hope to see the snowman and the bird. They hope to see the snowman again.\n",
      "============================================================\n",
      "They pack their boots and coats, drinks, and snacks and go on a boat ride. They have a lot of fun in the lake. \n",
      "\n",
      "But when they return home, they see a sign. The sign says \"Dream for free\". They want to go to the lake. They run to the house and ask their parents if they can go there. Mom and Dad are worried, but they say yes. They take them to the lake.  They see a lot of snow and ice. They also see a lot of animals. Lila and Tom are amazed. They see a lot of snow. Lila wants to touch it. Tom wants to see the animals too. They start to run to the lake.  But a big wave comes and takes them away. Tom gets scared and starts to cry. They are sad and scared. They wish they listened to their mom and dad. They wish they stayed at home. They wish they had never gone to the lake.  Mom and Dad are angry and worried, but they love them. They tell them to go back home and be safe. They tell them to close their eyes and not to play with snow. They tell them to go home and sleep.  Lila and Tom are sorry but they do not listen to them. They think they are foolish and silly. They run back home and close their eyes. They dream of ice and snow. They dream of ice and snow.  The next day, they go to the lake and have breakfast. They are hungry and happy. They see the sun and snow and hear the birds and the wind. They think it will melt and they will be back home. But they don't know what it is. Their parents are shocked and angry. They tell them it is not a toy. They tell them they should not touch it or go on it without permission. They tell them they should be safe and respectful.  Lila and Tom are confused and ashamed. They apologize to their parents and their dad. They promise to be safe and respectful. They go back home and eat breakfast and tell their dad the good news. They are happy and relieved. They have a lot of ice and ice. They have a lot of fun in the lake.  They go back home and tell their parents the good news. They tell them about their adventure. They say they will never go near the lake again. They say they will only dream of ice and snow. They say they will sleep well and dream of ice.\n"
     ]
    }
   ],
   "source": [
    "prompt = \"Lila and Tom climb a hill in the park and discover a big lake, a small house, and a lot of snow. They decide to go down and tell their parents about it, excited to come back and play in the snow.\"\n",
    "predict(prompt)"
   ]
  },
  {
   "cell_type": "code",
   "execution_count": 292,
   "id": "8e53bee6-e9ac-47b3-a59f-4783f53a3f8d",
   "metadata": {},
   "outputs": [
    {
     "name": "stdout",
     "output_type": "stream",
     "text": [
      "Let your imagination run wild and create a story inspired by the following prompt.### Instruction:\n",
      "Bob, a slow beetle, went for a walk to find someone who needed help. He tried to move a big rock but it turned out to be a talking turtle. They became friends and helped each other in the woods. \n",
      "\n",
      "### Response:\n"
     ]
    }
   ],
   "source": [
    "prompt = \"Let your imagination run wild and create a story inspired by the following prompt.### Instruction:\\nBob, a slow beetle, went for a walk to find someone who needed help. He tried to move a big rock but it turned out to be a talking turtle. They became friends and helped each other in the woods. \\n\\n### Response:\"\n",
    "print(prompt)"
   ]
  },
  {
   "cell_type": "code",
   "execution_count": 293,
   "id": "c424b107-ce04-4ae1-a86d-5222b95f8d3c",
   "metadata": {},
   "outputs": [
    {
     "name": "stdout",
     "output_type": "stream",
     "text": [
      "============================================================\n",
      "Once upon a time, there was a little beetle named Bob. Bob lived in a big forest with many animals. He liked to play with his friends, but one day he saw a big rock and wanted to move it. Bob tried to move the rock, but it was too hard. He asked his friends for help, and they worked together to move it. Bob was grateful and happy to have such good friends.  One day, Bob found a magic stone that turned the rock into a beautiful butterfly, and he could move it easily. He learned that sometimes things can change, but with a little help, we can make a beautiful thing happen. Bob and his friends worked together to move the rock, and when they did, the butterfly turned into a butterfly too. It was amazing and Bob was happy to have helped the bird become a butterfly.\n",
      "============================================================\n",
      "  Once upon a time, there was a big beetle who lived in a garden. He liked to eat leaves and flowers, but he was always tired and needed a break. He decided to go for a walk and find a quiet place to rest.  As he walked, he saw a little girl who needed help moving something. She was carrying a big rock, but she couldn't move it. Bob decided to help and went to talk to the girl. He asked her if she needed help moving the rock, and she said yes.  Bob asked the girl to move the rock so she could take care of it. The girl was grateful and thanked Bob for his help. She moved the rock with ease, and soon they were both feeling happy and safe.  Bob felt proud of himself for helping someone in need. He decided to leave the rock in a place where it would always feel safe and happy.  The next day, he found the girl and thanked her for being a good friend. She asked him to move the rock, but he was too busy and couldn't do it. He felt sad and ashamed and wished he had helped her.  The girl was surprised and upset, but Bob apologized and promised not to do it again. She accepted his apology and helped him move the rock.  Bob was happy that she was there to help him. He learned that even when things get tough, it is okay to ask for help. And she also learned that even a lazy beetle could not help someone in need. Bob was glad to find a solution that would help her feel better in the future.  The end. \n",
      "\n",
      "Bob and the girl became good friends and went on many adventures together. They always helped each other and were always happy when they were together. When Bob was feeling lazy, the girl was always there to help him. They were happy to have each other and the girl was happy to have a friend like Bob.  The end. Bob was grateful for her help and promised to always be kind. The moral of the story is: always help someone in need, and if you are a good person will be there to help someone who needs you. Bob was happy to have a good friend and to be kind to his friend for helping him when needed. The end.\n",
      "============================================================\n",
      "\n",
      "Based.\n"
     ]
    }
   ],
   "source": [
    "predict(prompt)"
   ]
  },
  {
   "cell_type": "code",
   "execution_count": null,
   "id": "fcdfeee8-43cc-419b-bac9-15bf555e9200",
   "metadata": {},
   "outputs": [],
   "source": []
  }
 ],
 "metadata": {
  "kernelspec": {
   "display_name": "Python 3 (ipykernel)",
   "language": "python",
   "name": "python3"
  },
  "language_info": {
   "codemirror_mode": {
    "name": "ipython",
    "version": 3
   },
   "file_extension": ".py",
   "mimetype": "text/x-python",
   "name": "python",
   "nbconvert_exporter": "python",
   "pygments_lexer": "ipython3",
   "version": "3.11.6"
  }
 },
 "nbformat": 4,
 "nbformat_minor": 5
}
