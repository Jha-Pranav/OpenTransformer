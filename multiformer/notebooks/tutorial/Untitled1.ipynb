{
 "cells": [
  {
   "cell_type": "code",
   "execution_count": 1,
   "id": "88d886ba-18f6-4db8-bf7d-fecd2a184068",
   "metadata": {},
   "outputs": [],
   "source": [
    "# (1) languagefiltering, (2)qualityfiltering, (3)contentfiltering, (4)deduplication, (5)multi-source mixing,and(6)tokenization."
   ]
  },
  {
   "cell_type": "markdown",
   "id": "641938d4-8e95-4baa-bf51-d2512ac34511",
   "metadata": {},
   "source": [
    "# CHALLENGES AND FUTURE DIRECTIONS\n",
    "1. Computational Cost:\n",
    "2. Bias and Fairness:\n",
    "3. Overfitting\n",
    "4. Reasoning and Planning:\n",
    "5. Hallucinations\n",
    "6. Prompt Engineering\n",
    "7. Limited Knowledge\n",
    "8. Safety and Controllability\n",
    "9. Catastrophic Forgetting\n",
    "10. Interpretability and Explainability\n",
    "11. Privacy Concerns\n"
   ]
  },
  {
   "cell_type": "code",
   "execution_count": 10,
   "id": "830db97b-cd25-4c95-849d-c7e038b5e829",
   "metadata": {},
   "outputs": [],
   "source": [
    "import torch\n",
    "from src.models.blm.pl_training import Transformer\n",
    "from src.tokenize.tokenizer import Tokenizer\n",
    "\n",
    "MODEL_CHECKPOINT_PATH = \"/home/pranav-pc/projects/model-registry/blm-medium/last.ckpt\"\n",
    "TOKENIZER_CHECKPOINT = (\n",
    "    \"/home/pranav-pc/projects/OpenTransformer/multiformer/tokenizer_checkpoints/\"\n",
    ")\n",
    "tokenizer = Tokenizer(TOKENIZER_CHECKPOINT)\n",
    "model = Transformer.load_from_checkpoint(MODEL_CHECKPOINT_PATH)\n",
    "model = torch.compile(model, dynamic=True)\n",
    "\n",
    "#### Inference\n",
    "model.eval()\n",
    "model = model.cuda()\n",
    "\n",
    "\n",
    "def predict(text, max_new_tokens=500, temperature=0.8, top_k=3, conditional_break=[13, 13, 1]):\n",
    "    tokens = torch.LongTensor(tokenizer.encode_as_ids(text))[:-1].to(\"cuda:0\").view(1, -1)\n",
    "    # print('tokens',ds.tokenizer.encode(text,out_type=str)[:-1])\n",
    "    print(\n",
    "        tokenizer.decode_ids(\n",
    "            model.predict_step(\n",
    "                tokens,\n",
    "                None,\n",
    "                max_new_tokens=max_new_tokens,\n",
    "                temperature=temperature,\n",
    "                top_k=top_k,\n",
    "                conditional_break=conditional_break,\n",
    "            )[0].tolist()\n",
    "        )\n",
    "    )"
   ]
  },
  {
   "cell_type": "code",
   "execution_count": 14,
   "id": "f1ee6e70-3a42-463e-b65c-00e37f7cdd63",
   "metadata": {},
   "outputs": [
    {
     "name": "stdout",
     "output_type": "stream",
     "text": [
      "I am hungry and I want something to eat. So I went to the kitchen and opened the refrigerator. I saw some yummy food. I was so excited. I wanted to eat the food right away, so I opened the refrigerator again. But this time it was closed. I was so disappointed.\n",
      "\n",
      "Then I heard a noise. It was coming from the refrigerator. I opened it again and saw a big box. I was so excited! I opened the box and saw a big sandwich. I was so hungry, I couldn't wait to eat it.\n",
      "\n",
      "I was so happy and I ran to the kitchen to eat the sandwich. I ate it all up and it was so yummy. I was so full and happy. I had a big, delicious sandwich. I was so happy that I had food and I didn't even think I was hungry anymore. Now I am full and happy.\n",
      "\n",
      "\n"
     ]
    }
   ],
   "source": [
    "text = \"I am hungry\"\n",
    "predict(text)"
   ]
  },
  {
   "cell_type": "code",
   "execution_count": null,
   "id": "d9838e22-e250-4889-b52a-235cd167af89",
   "metadata": {},
   "outputs": [],
   "source": []
  }
 ],
 "metadata": {
  "kernelspec": {
   "display_name": "Python 3 (ipykernel)",
   "language": "python",
   "name": "python3"
  },
  "language_info": {
   "codemirror_mode": {
    "name": "ipython",
    "version": 3
   },
   "file_extension": ".py",
   "mimetype": "text/x-python",
   "name": "python",
   "nbconvert_exporter": "python",
   "pygments_lexer": "ipython3",
   "version": "3.11.6"
  }
 },
 "nbformat": 4,
 "nbformat_minor": 5
}
