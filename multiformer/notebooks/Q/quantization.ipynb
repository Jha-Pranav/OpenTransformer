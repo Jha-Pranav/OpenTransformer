{
 "cells": [
  {
   "cell_type": "code",
   "execution_count": 73,
   "id": "cfae3b6e-1c42-4f5c-8973-e8b2114c2e86",
   "metadata": {},
   "outputs": [
    {
     "name": "stdout",
     "output_type": "stream",
     "text": [
      "TORCH VERSION : 2.2.1\n",
      "GPU  :  cuda\n"
     ]
    }
   ],
   "source": [
    "from importlib.metadata import version\n",
    "\n",
    "import torch\n",
    "\n",
    "torch.manual_seed(123)\n",
    "print(\"TORCH VERSION :\", version(\"torch\"))\n",
    "device = (\n",
    "    \"cuda\" if torch.cuda.is_available() else \"mps\" if torch.backend.mps.is_available() else \"cpu\"\n",
    ")\n",
    "print(\"GPU  : \", device)"
   ]
  },
  {
   "cell_type": "code",
   "execution_count": 74,
   "id": "99c90a4d-d8bb-423f-b7c4-8e19a2cf9897",
   "metadata": {},
   "outputs": [],
   "source": [
    "import sys"
   ]
  },
  {
   "cell_type": "code",
   "execution_count": 75,
   "id": "1f77207c-c9e7-4e0c-8864-5dc9618b770b",
   "metadata": {},
   "outputs": [
    {
     "name": "stdout",
     "output_type": "stream",
     "text": [
      "shape :  torch.Size([1000, 100, 100]) size :  88 bytes\n"
     ]
    }
   ],
   "source": [
    "# Integer multiplication is faster than floating point operation\n",
    "x_int = torch.randint(0, 128, (1000, 100, 100), dtype=torch.int16)\n",
    "print(\"shape : \", x_int.shape, \"size : \", sys.getsizeof(x_int), \"bytes\")"
   ]
  },
  {
   "cell_type": "code",
   "execution_count": 76,
   "id": "56c9a0a0-d49a-450b-ba08-31d273556893",
   "metadata": {},
   "outputs": [
    {
     "name": "stdout",
     "output_type": "stream",
     "text": [
      "shape :  torch.Size([1000, 100, 100]) size :  88 bytes\n"
     ]
    }
   ],
   "source": [
    "x_float = torch.rand((1000, 100, 100), dtype=torch.float16)\n",
    "print(\"shape : \", x_float.shape, \"size : \", sys.getsizeof(x_float), \"bytes\")"
   ]
  },
  {
   "cell_type": "code",
   "execution_count": 77,
   "id": "26f28614-e832-47d3-a21e-f3c2237ccd0f",
   "metadata": {},
   "outputs": [
    {
     "name": "stdout",
     "output_type": "stream",
     "text": [
      "160 µs ± 9.18 µs per loop (mean ± std. dev. of 7 runs, 10,000 loops each)\n",
      "157 µs ± 5 µs per loop (mean ± std. dev. of 7 runs, 10,000 loops each)\n"
     ]
    }
   ],
   "source": [
    "# Comparision on CPU\n",
    "%timeit x_int * x_int\n",
    "%timeit x_float * x_float"
   ]
  },
  {
   "cell_type": "code",
   "execution_count": 78,
   "id": "50b60440-db68-4469-9786-f3749acedd02",
   "metadata": {},
   "outputs": [],
   "source": [
    "x_int = x_int.to(device)\n",
    "x_float = x_float.to(device)"
   ]
  },
  {
   "cell_type": "code",
   "execution_count": 81,
   "id": "388017db-b00a-4fd4-956e-ef8cb7357421",
   "metadata": {},
   "outputs": [
    {
     "name": "stdout",
     "output_type": "stream",
     "text": [
      "16.4 µs ± 508 ns per loop (mean ± std. dev. of 7 runs, 100,000 loops each)\n",
      "16.6 µs ± 331 ns per loop (mean ± std. dev. of 7 runs, 100,000 loops each)\n"
     ]
    }
   ],
   "source": [
    "# Comparision on GPU\n",
    "%timeit x_int * x_int\n",
    "%timeit x_float * x_float"
   ]
  },
  {
   "cell_type": "markdown",
   "id": "8fa0a255-1bc3-42b0-b97f-35a374b0793a",
   "metadata": {},
   "source": [
    "The statement **\"Integer multiplication is faster than floating-point operation\"** is generally true, but it can depend on various factors such as the hardware architecture, the specific operations being performed, and the optimization capabilities of the compiler or interpreter.\n",
    "\n",
    "However, it's essential to note that modern processors often have specialized floating-point units (FPUs) that can perform floating-point operations efficiently. "
   ]
  },
  {
   "cell_type": "markdown",
   "id": "81d3df01-77dc-4195-9ca3-f2e3c3e28d1f",
   "metadata": {},
   "source": [
    "<b>Here are some reasons why integer multiplication might be faster than floating-point multiplication in certain scenarios:</b>\n",
    "\n",
    "Hardware Optimization: Some processors have dedicated integer arithmetic units that can perform integer operations more efficiently than floating-point operations. Additionally, integer multiplication can be performed using simpler circuits compared to floating-point multiplication, leading to potentially faster execution.\n",
    "\n",
    "Data Representation: Floating-point numbers typically require more storage and processing overhead due to their representation (e.g., mantissa, exponent) compared to integers, which can be represented more straightforwardly.\n",
    "\n",
    "Instruction-Level Parallelism: Integer multiplication operations may be more amenable to parallelization and pipelining in the processor, allowing for greater throughput compared to floating-point operations.\n",
    "\n",
    "Compiler Optimization: Compilers may apply more aggressive optimizations to integer operations, such as loop unrolling and constant folding, leading to faster execution.\n",
    "\n"
   ]
  },
  {
   "cell_type": "code",
   "execution_count": 82,
   "id": "e0dda10a-66f9-425b-bce9-5d428f3f5b0f",
   "metadata": {},
   "outputs": [],
   "source": [
    "## TODO : EXplore and understand quantization better."
   ]
  },
  {
   "cell_type": "code",
   "execution_count": null,
   "id": "bbdb643e-cccf-43be-b08f-e723514744b4",
   "metadata": {},
   "outputs": [],
   "source": []
  }
 ],
 "metadata": {
  "kernelspec": {
   "display_name": "Python 3 (ipykernel)",
   "language": "python",
   "name": "python3"
  },
  "language_info": {
   "codemirror_mode": {
    "name": "ipython",
    "version": 3
   },
   "file_extension": ".py",
   "mimetype": "text/x-python",
   "name": "python",
   "nbconvert_exporter": "python",
   "pygments_lexer": "ipython3",
   "version": "3.11.6"
  }
 },
 "nbformat": 4,
 "nbformat_minor": 5
}
